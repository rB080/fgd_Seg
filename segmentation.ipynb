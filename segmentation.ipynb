{
  "nbformat": 4,
  "nbformat_minor": 0,
  "metadata": {
    "colab": {
      "provenance": [],
      "collapsed_sections": [
        "kSGcNZz9BIDz",
        "oEpd2Uo13mbq",
        "leGWwYoMx4YI",
        "9JaCD98V06Dr",
        "cvSBBcl7CvAd",
        "SiTPYajGJ54k",
        "rsUwe4GZO2Cs",
        "Pf4yqHlujiYd",
        "I7qxs1A_q21N",
        "fF07jTr1v_M8",
        "-xQl7fbv2OsD",
        "XXCZNz-1Yo9n",
        "TEOSu4fYUFdC",
        "Sj7TjvusUDGL"
      ]
    },
    "kernelspec": {
      "name": "python3",
      "display_name": "Python 3"
    },
    "language_info": {
      "name": "python"
    },
    "accelerator": "GPU",
    "gpuClass": "standard",
    "widgets": {
      "application/vnd.jupyter.widget-state+json": {
        "40b725432aba4b35a7f69d1b709af059": {
          "model_module": "@jupyter-widgets/controls",
          "model_name": "HBoxModel",
          "model_module_version": "1.5.0",
          "state": {
            "_dom_classes": [],
            "_model_module": "@jupyter-widgets/controls",
            "_model_module_version": "1.5.0",
            "_model_name": "HBoxModel",
            "_view_count": null,
            "_view_module": "@jupyter-widgets/controls",
            "_view_module_version": "1.5.0",
            "_view_name": "HBoxView",
            "box_style": "",
            "children": [
              "IPY_MODEL_14ffed5a054d42f3b0f8e60958fd50f6",
              "IPY_MODEL_7d5efbc7abdd48f694ba934ee090783c",
              "IPY_MODEL_675caf821cce40e2a1b5c5a9322d1aef"
            ],
            "layout": "IPY_MODEL_624bb2438a324deaac0ed03a3efca896"
          }
        },
        "14ffed5a054d42f3b0f8e60958fd50f6": {
          "model_module": "@jupyter-widgets/controls",
          "model_name": "HTMLModel",
          "model_module_version": "1.5.0",
          "state": {
            "_dom_classes": [],
            "_model_module": "@jupyter-widgets/controls",
            "_model_module_version": "1.5.0",
            "_model_name": "HTMLModel",
            "_view_count": null,
            "_view_module": "@jupyter-widgets/controls",
            "_view_module_version": "1.5.0",
            "_view_name": "HTMLView",
            "description": "",
            "description_tooltip": null,
            "layout": "IPY_MODEL_016322f414d5476abfb3f89d7a4b5e86",
            "placeholder": "​",
            "style": "IPY_MODEL_93d381bc9418440fac16bfa018e31a85",
            "value": "100%"
          }
        },
        "7d5efbc7abdd48f694ba934ee090783c": {
          "model_module": "@jupyter-widgets/controls",
          "model_name": "FloatProgressModel",
          "model_module_version": "1.5.0",
          "state": {
            "_dom_classes": [],
            "_model_module": "@jupyter-widgets/controls",
            "_model_module_version": "1.5.0",
            "_model_name": "FloatProgressModel",
            "_view_count": null,
            "_view_module": "@jupyter-widgets/controls",
            "_view_module_version": "1.5.0",
            "_view_name": "ProgressView",
            "bar_style": "success",
            "description": "",
            "description_tooltip": null,
            "layout": "IPY_MODEL_117bf38bee504e8687967667a5911123",
            "max": 87306240,
            "min": 0,
            "orientation": "horizontal",
            "style": "IPY_MODEL_c337c5c1ca474507990f1ce77d26921f",
            "value": 87306240
          }
        },
        "675caf821cce40e2a1b5c5a9322d1aef": {
          "model_module": "@jupyter-widgets/controls",
          "model_name": "HTMLModel",
          "model_module_version": "1.5.0",
          "state": {
            "_dom_classes": [],
            "_model_module": "@jupyter-widgets/controls",
            "_model_module_version": "1.5.0",
            "_model_name": "HTMLModel",
            "_view_count": null,
            "_view_module": "@jupyter-widgets/controls",
            "_view_module_version": "1.5.0",
            "_view_name": "HTMLView",
            "description": "",
            "description_tooltip": null,
            "layout": "IPY_MODEL_76af7a9321ae4c678214ea42d45c82b2",
            "placeholder": "​",
            "style": "IPY_MODEL_1ba964fdbff24ca0b275948afe4b285a",
            "value": " 83.3M/83.3M [00:00&lt;00:00, 263MB/s]"
          }
        },
        "624bb2438a324deaac0ed03a3efca896": {
          "model_module": "@jupyter-widgets/base",
          "model_name": "LayoutModel",
          "model_module_version": "1.2.0",
          "state": {
            "_model_module": "@jupyter-widgets/base",
            "_model_module_version": "1.2.0",
            "_model_name": "LayoutModel",
            "_view_count": null,
            "_view_module": "@jupyter-widgets/base",
            "_view_module_version": "1.2.0",
            "_view_name": "LayoutView",
            "align_content": null,
            "align_items": null,
            "align_self": null,
            "border": null,
            "bottom": null,
            "display": null,
            "flex": null,
            "flex_flow": null,
            "grid_area": null,
            "grid_auto_columns": null,
            "grid_auto_flow": null,
            "grid_auto_rows": null,
            "grid_column": null,
            "grid_gap": null,
            "grid_row": null,
            "grid_template_areas": null,
            "grid_template_columns": null,
            "grid_template_rows": null,
            "height": null,
            "justify_content": null,
            "justify_items": null,
            "left": null,
            "margin": null,
            "max_height": null,
            "max_width": null,
            "min_height": null,
            "min_width": null,
            "object_fit": null,
            "object_position": null,
            "order": null,
            "overflow": null,
            "overflow_x": null,
            "overflow_y": null,
            "padding": null,
            "right": null,
            "top": null,
            "visibility": null,
            "width": null
          }
        },
        "016322f414d5476abfb3f89d7a4b5e86": {
          "model_module": "@jupyter-widgets/base",
          "model_name": "LayoutModel",
          "model_module_version": "1.2.0",
          "state": {
            "_model_module": "@jupyter-widgets/base",
            "_model_module_version": "1.2.0",
            "_model_name": "LayoutModel",
            "_view_count": null,
            "_view_module": "@jupyter-widgets/base",
            "_view_module_version": "1.2.0",
            "_view_name": "LayoutView",
            "align_content": null,
            "align_items": null,
            "align_self": null,
            "border": null,
            "bottom": null,
            "display": null,
            "flex": null,
            "flex_flow": null,
            "grid_area": null,
            "grid_auto_columns": null,
            "grid_auto_flow": null,
            "grid_auto_rows": null,
            "grid_column": null,
            "grid_gap": null,
            "grid_row": null,
            "grid_template_areas": null,
            "grid_template_columns": null,
            "grid_template_rows": null,
            "height": null,
            "justify_content": null,
            "justify_items": null,
            "left": null,
            "margin": null,
            "max_height": null,
            "max_width": null,
            "min_height": null,
            "min_width": null,
            "object_fit": null,
            "object_position": null,
            "order": null,
            "overflow": null,
            "overflow_x": null,
            "overflow_y": null,
            "padding": null,
            "right": null,
            "top": null,
            "visibility": null,
            "width": null
          }
        },
        "93d381bc9418440fac16bfa018e31a85": {
          "model_module": "@jupyter-widgets/controls",
          "model_name": "DescriptionStyleModel",
          "model_module_version": "1.5.0",
          "state": {
            "_model_module": "@jupyter-widgets/controls",
            "_model_module_version": "1.5.0",
            "_model_name": "DescriptionStyleModel",
            "_view_count": null,
            "_view_module": "@jupyter-widgets/base",
            "_view_module_version": "1.2.0",
            "_view_name": "StyleView",
            "description_width": ""
          }
        },
        "117bf38bee504e8687967667a5911123": {
          "model_module": "@jupyter-widgets/base",
          "model_name": "LayoutModel",
          "model_module_version": "1.2.0",
          "state": {
            "_model_module": "@jupyter-widgets/base",
            "_model_module_version": "1.2.0",
            "_model_name": "LayoutModel",
            "_view_count": null,
            "_view_module": "@jupyter-widgets/base",
            "_view_module_version": "1.2.0",
            "_view_name": "LayoutView",
            "align_content": null,
            "align_items": null,
            "align_self": null,
            "border": null,
            "bottom": null,
            "display": null,
            "flex": null,
            "flex_flow": null,
            "grid_area": null,
            "grid_auto_columns": null,
            "grid_auto_flow": null,
            "grid_auto_rows": null,
            "grid_column": null,
            "grid_gap": null,
            "grid_row": null,
            "grid_template_areas": null,
            "grid_template_columns": null,
            "grid_template_rows": null,
            "height": null,
            "justify_content": null,
            "justify_items": null,
            "left": null,
            "margin": null,
            "max_height": null,
            "max_width": null,
            "min_height": null,
            "min_width": null,
            "object_fit": null,
            "object_position": null,
            "order": null,
            "overflow": null,
            "overflow_x": null,
            "overflow_y": null,
            "padding": null,
            "right": null,
            "top": null,
            "visibility": null,
            "width": null
          }
        },
        "c337c5c1ca474507990f1ce77d26921f": {
          "model_module": "@jupyter-widgets/controls",
          "model_name": "ProgressStyleModel",
          "model_module_version": "1.5.0",
          "state": {
            "_model_module": "@jupyter-widgets/controls",
            "_model_module_version": "1.5.0",
            "_model_name": "ProgressStyleModel",
            "_view_count": null,
            "_view_module": "@jupyter-widgets/base",
            "_view_module_version": "1.2.0",
            "_view_name": "StyleView",
            "bar_color": null,
            "description_width": ""
          }
        },
        "76af7a9321ae4c678214ea42d45c82b2": {
          "model_module": "@jupyter-widgets/base",
          "model_name": "LayoutModel",
          "model_module_version": "1.2.0",
          "state": {
            "_model_module": "@jupyter-widgets/base",
            "_model_module_version": "1.2.0",
            "_model_name": "LayoutModel",
            "_view_count": null,
            "_view_module": "@jupyter-widgets/base",
            "_view_module_version": "1.2.0",
            "_view_name": "LayoutView",
            "align_content": null,
            "align_items": null,
            "align_self": null,
            "border": null,
            "bottom": null,
            "display": null,
            "flex": null,
            "flex_flow": null,
            "grid_area": null,
            "grid_auto_columns": null,
            "grid_auto_flow": null,
            "grid_auto_rows": null,
            "grid_column": null,
            "grid_gap": null,
            "grid_row": null,
            "grid_template_areas": null,
            "grid_template_columns": null,
            "grid_template_rows": null,
            "height": null,
            "justify_content": null,
            "justify_items": null,
            "left": null,
            "margin": null,
            "max_height": null,
            "max_width": null,
            "min_height": null,
            "min_width": null,
            "object_fit": null,
            "object_position": null,
            "order": null,
            "overflow": null,
            "overflow_x": null,
            "overflow_y": null,
            "padding": null,
            "right": null,
            "top": null,
            "visibility": null,
            "width": null
          }
        },
        "1ba964fdbff24ca0b275948afe4b285a": {
          "model_module": "@jupyter-widgets/controls",
          "model_name": "DescriptionStyleModel",
          "model_module_version": "1.5.0",
          "state": {
            "_model_module": "@jupyter-widgets/controls",
            "_model_module_version": "1.5.0",
            "_model_name": "DescriptionStyleModel",
            "_view_count": null,
            "_view_module": "@jupyter-widgets/base",
            "_view_module_version": "1.2.0",
            "_view_name": "StyleView",
            "description_width": ""
          }
        },
        "7b6a52fd370d40a38b478744dbb251b1": {
          "model_module": "@jupyter-widgets/controls",
          "model_name": "HBoxModel",
          "model_module_version": "1.5.0",
          "state": {
            "_dom_classes": [],
            "_model_module": "@jupyter-widgets/controls",
            "_model_module_version": "1.5.0",
            "_model_name": "HBoxModel",
            "_view_count": null,
            "_view_module": "@jupyter-widgets/controls",
            "_view_module_version": "1.5.0",
            "_view_name": "HBoxView",
            "box_style": "",
            "children": [
              "IPY_MODEL_d957fd93fdfb4f4e8d1ac338f6abd105",
              "IPY_MODEL_b30c25094cb841eaaf659d2208d679c0",
              "IPY_MODEL_f1b5b11519244e08b8bb660c56e2b5b3"
            ],
            "layout": "IPY_MODEL_7e0b4b04afc44f8eaeb984b4026c9a6d"
          }
        },
        "d957fd93fdfb4f4e8d1ac338f6abd105": {
          "model_module": "@jupyter-widgets/controls",
          "model_name": "HTMLModel",
          "model_module_version": "1.5.0",
          "state": {
            "_dom_classes": [],
            "_model_module": "@jupyter-widgets/controls",
            "_model_module_version": "1.5.0",
            "_model_name": "HTMLModel",
            "_view_count": null,
            "_view_module": "@jupyter-widgets/controls",
            "_view_module_version": "1.5.0",
            "_view_name": "HTMLView",
            "description": "",
            "description_tooltip": null,
            "layout": "IPY_MODEL_8be91efc96f847b3845ef4d29cdcd440",
            "placeholder": "​",
            "style": "IPY_MODEL_be57127ba74f43a7a2dc9ea6a5e1cac6",
            "value": "100%"
          }
        },
        "b30c25094cb841eaaf659d2208d679c0": {
          "model_module": "@jupyter-widgets/controls",
          "model_name": "FloatProgressModel",
          "model_module_version": "1.5.0",
          "state": {
            "_dom_classes": [],
            "_model_module": "@jupyter-widgets/controls",
            "_model_module_version": "1.5.0",
            "_model_name": "FloatProgressModel",
            "_view_count": null,
            "_view_module": "@jupyter-widgets/controls",
            "_view_module_version": "1.5.0",
            "_view_name": "ProgressView",
            "bar_style": "success",
            "description": "",
            "description_tooltip": null,
            "layout": "IPY_MODEL_c2a7f0798a064d84acb00eb3284b8ac0",
            "max": 87306240,
            "min": 0,
            "orientation": "horizontal",
            "style": "IPY_MODEL_665be7dbf6984b098a927f633ece18e3",
            "value": 87306240
          }
        },
        "f1b5b11519244e08b8bb660c56e2b5b3": {
          "model_module": "@jupyter-widgets/controls",
          "model_name": "HTMLModel",
          "model_module_version": "1.5.0",
          "state": {
            "_dom_classes": [],
            "_model_module": "@jupyter-widgets/controls",
            "_model_module_version": "1.5.0",
            "_model_name": "HTMLModel",
            "_view_count": null,
            "_view_module": "@jupyter-widgets/controls",
            "_view_module_version": "1.5.0",
            "_view_name": "HTMLView",
            "description": "",
            "description_tooltip": null,
            "layout": "IPY_MODEL_c4da64020eb844c99552fc1fde037561",
            "placeholder": "​",
            "style": "IPY_MODEL_54bf7c8769c34ab098cdb46b7f14200f",
            "value": " 83.3M/83.3M [00:01&lt;00:00, 87.4MB/s]"
          }
        },
        "7e0b4b04afc44f8eaeb984b4026c9a6d": {
          "model_module": "@jupyter-widgets/base",
          "model_name": "LayoutModel",
          "model_module_version": "1.2.0",
          "state": {
            "_model_module": "@jupyter-widgets/base",
            "_model_module_version": "1.2.0",
            "_model_name": "LayoutModel",
            "_view_count": null,
            "_view_module": "@jupyter-widgets/base",
            "_view_module_version": "1.2.0",
            "_view_name": "LayoutView",
            "align_content": null,
            "align_items": null,
            "align_self": null,
            "border": null,
            "bottom": null,
            "display": null,
            "flex": null,
            "flex_flow": null,
            "grid_area": null,
            "grid_auto_columns": null,
            "grid_auto_flow": null,
            "grid_auto_rows": null,
            "grid_column": null,
            "grid_gap": null,
            "grid_row": null,
            "grid_template_areas": null,
            "grid_template_columns": null,
            "grid_template_rows": null,
            "height": null,
            "justify_content": null,
            "justify_items": null,
            "left": null,
            "margin": null,
            "max_height": null,
            "max_width": null,
            "min_height": null,
            "min_width": null,
            "object_fit": null,
            "object_position": null,
            "order": null,
            "overflow": null,
            "overflow_x": null,
            "overflow_y": null,
            "padding": null,
            "right": null,
            "top": null,
            "visibility": null,
            "width": null
          }
        },
        "8be91efc96f847b3845ef4d29cdcd440": {
          "model_module": "@jupyter-widgets/base",
          "model_name": "LayoutModel",
          "model_module_version": "1.2.0",
          "state": {
            "_model_module": "@jupyter-widgets/base",
            "_model_module_version": "1.2.0",
            "_model_name": "LayoutModel",
            "_view_count": null,
            "_view_module": "@jupyter-widgets/base",
            "_view_module_version": "1.2.0",
            "_view_name": "LayoutView",
            "align_content": null,
            "align_items": null,
            "align_self": null,
            "border": null,
            "bottom": null,
            "display": null,
            "flex": null,
            "flex_flow": null,
            "grid_area": null,
            "grid_auto_columns": null,
            "grid_auto_flow": null,
            "grid_auto_rows": null,
            "grid_column": null,
            "grid_gap": null,
            "grid_row": null,
            "grid_template_areas": null,
            "grid_template_columns": null,
            "grid_template_rows": null,
            "height": null,
            "justify_content": null,
            "justify_items": null,
            "left": null,
            "margin": null,
            "max_height": null,
            "max_width": null,
            "min_height": null,
            "min_width": null,
            "object_fit": null,
            "object_position": null,
            "order": null,
            "overflow": null,
            "overflow_x": null,
            "overflow_y": null,
            "padding": null,
            "right": null,
            "top": null,
            "visibility": null,
            "width": null
          }
        },
        "be57127ba74f43a7a2dc9ea6a5e1cac6": {
          "model_module": "@jupyter-widgets/controls",
          "model_name": "DescriptionStyleModel",
          "model_module_version": "1.5.0",
          "state": {
            "_model_module": "@jupyter-widgets/controls",
            "_model_module_version": "1.5.0",
            "_model_name": "DescriptionStyleModel",
            "_view_count": null,
            "_view_module": "@jupyter-widgets/base",
            "_view_module_version": "1.2.0",
            "_view_name": "StyleView",
            "description_width": ""
          }
        },
        "c2a7f0798a064d84acb00eb3284b8ac0": {
          "model_module": "@jupyter-widgets/base",
          "model_name": "LayoutModel",
          "model_module_version": "1.2.0",
          "state": {
            "_model_module": "@jupyter-widgets/base",
            "_model_module_version": "1.2.0",
            "_model_name": "LayoutModel",
            "_view_count": null,
            "_view_module": "@jupyter-widgets/base",
            "_view_module_version": "1.2.0",
            "_view_name": "LayoutView",
            "align_content": null,
            "align_items": null,
            "align_self": null,
            "border": null,
            "bottom": null,
            "display": null,
            "flex": null,
            "flex_flow": null,
            "grid_area": null,
            "grid_auto_columns": null,
            "grid_auto_flow": null,
            "grid_auto_rows": null,
            "grid_column": null,
            "grid_gap": null,
            "grid_row": null,
            "grid_template_areas": null,
            "grid_template_columns": null,
            "grid_template_rows": null,
            "height": null,
            "justify_content": null,
            "justify_items": null,
            "left": null,
            "margin": null,
            "max_height": null,
            "max_width": null,
            "min_height": null,
            "min_width": null,
            "object_fit": null,
            "object_position": null,
            "order": null,
            "overflow": null,
            "overflow_x": null,
            "overflow_y": null,
            "padding": null,
            "right": null,
            "top": null,
            "visibility": null,
            "width": null
          }
        },
        "665be7dbf6984b098a927f633ece18e3": {
          "model_module": "@jupyter-widgets/controls",
          "model_name": "ProgressStyleModel",
          "model_module_version": "1.5.0",
          "state": {
            "_model_module": "@jupyter-widgets/controls",
            "_model_module_version": "1.5.0",
            "_model_name": "ProgressStyleModel",
            "_view_count": null,
            "_view_module": "@jupyter-widgets/base",
            "_view_module_version": "1.2.0",
            "_view_name": "StyleView",
            "bar_color": null,
            "description_width": ""
          }
        },
        "c4da64020eb844c99552fc1fde037561": {
          "model_module": "@jupyter-widgets/base",
          "model_name": "LayoutModel",
          "model_module_version": "1.2.0",
          "state": {
            "_model_module": "@jupyter-widgets/base",
            "_model_module_version": "1.2.0",
            "_model_name": "LayoutModel",
            "_view_count": null,
            "_view_module": "@jupyter-widgets/base",
            "_view_module_version": "1.2.0",
            "_view_name": "LayoutView",
            "align_content": null,
            "align_items": null,
            "align_self": null,
            "border": null,
            "bottom": null,
            "display": null,
            "flex": null,
            "flex_flow": null,
            "grid_area": null,
            "grid_auto_columns": null,
            "grid_auto_flow": null,
            "grid_auto_rows": null,
            "grid_column": null,
            "grid_gap": null,
            "grid_row": null,
            "grid_template_areas": null,
            "grid_template_columns": null,
            "grid_template_rows": null,
            "height": null,
            "justify_content": null,
            "justify_items": null,
            "left": null,
            "margin": null,
            "max_height": null,
            "max_width": null,
            "min_height": null,
            "min_width": null,
            "object_fit": null,
            "object_position": null,
            "order": null,
            "overflow": null,
            "overflow_x": null,
            "overflow_y": null,
            "padding": null,
            "right": null,
            "top": null,
            "visibility": null,
            "width": null
          }
        },
        "54bf7c8769c34ab098cdb46b7f14200f": {
          "model_module": "@jupyter-widgets/controls",
          "model_name": "DescriptionStyleModel",
          "model_module_version": "1.5.0",
          "state": {
            "_model_module": "@jupyter-widgets/controls",
            "_model_module_version": "1.5.0",
            "_model_name": "DescriptionStyleModel",
            "_view_count": null,
            "_view_module": "@jupyter-widgets/base",
            "_view_module_version": "1.2.0",
            "_view_name": "StyleView",
            "description_width": ""
          }
        }
      }
    }
  },
  "cells": [
    {
      "cell_type": "markdown",
      "source": [
        "#Archives"
      ],
      "metadata": {
        "id": "kSGcNZz9BIDz"
      }
    },
    {
      "cell_type": "code",
      "source": [
        "L, LM = os.listdir(os.path.join(split_data, \"Images\")), os.listdir(os.path.join(split_data, \"Masks\"))\n",
        "print(len(L), len(LM))"
      ],
      "metadata": {
        "colab": {
          "base_uri": "https://localhost:8080/"
        },
        "id": "T1ZwN-BOA0qL",
        "outputId": "1bb56869-8509-46e7-f432-845bbd997ebb"
      },
      "execution_count": null,
      "outputs": [
        {
          "output_type": "stream",
          "name": "stdout",
          "text": [
            "951 951\n"
          ]
        }
      ]
    },
    {
      "cell_type": "code",
      "source": [
        "data_path = \"/content/drive/MyDrive/PPT/Foreground/Transfer/AC/Real ACDC/training\"\n",
        "split_data = \"/content/drive/MyDrive/PPT/Foreground/Transfer/AC/Real ACDC/data_2d\"\n",
        "#os.makedirs(os.path.join(split_data, \"Images\"))\n",
        "#os.makedirs(os.path.join(split_data, \"Masks\"))\n",
        "data_list = os.listdir(data_path)\n",
        "\n",
        "images = []\n",
        "labels = []\n",
        "names = []\n",
        "\n",
        "for image_name in sorted(os.listdir(data_path)):\n",
        "    image_path = os.path.join(data_path, image_name)\n",
        "    if not os.path.isdir(image_path): continue\n",
        "    if os.path.isfile(image_path+'/'+image_name+'_frame01.nii.gz'):\n",
        "        images.append(image_path+'/'+image_name+'_frame01.nii.gz')\n",
        "        labels.append(image_path+'/'+image_name+'_frame01_gt.nii.gz')\n",
        "    else:\n",
        "        if os.path.isfile(image_path+'/'+image_name+'_frame04.nii.gz'):\n",
        "            images.append(image_path+'/'+image_name+'_frame04.nii.gz')\n",
        "            labels.append(image_path+'/'+image_name+'_frame04_gt.nii.gz')\n",
        "        else: print(image_name)  \n",
        "    names.append(image_name)\n",
        "\n",
        "print(len(images), len(labels), len(names))\n",
        "def load(img_path, mask_path, name):\n",
        "    img = nib.load(img_path).get_data()\n",
        "    mask = nib.load(mask_path).get_data()\n",
        "    img, mask = np.array(img), np.array(mask)\n",
        "    img, mask = 255.0*(img - img.min())/img.max(), 255.0*(mask - mask.min())/mask.max()\n",
        "    img, mask = np.array(img, dtype=np.uint8), np.array(mask, dtype=np.uint8)\n",
        "    \n",
        "    for i in range(img.shape[-1]):\n",
        "        im, ms = img[:,:,i], mask[:,:,i]\n",
        "        save_name = name+\"_\"+str(i+1)+\".png\"\n",
        "        cv2.imwrite(os.path.join(split_data, \"Images\", save_name), im)\n",
        "        cv2.imwrite(os.path.join(split_data, \"Masks\", save_name), ms)\n",
        "    print(\"Num: \", i)\n",
        "\n",
        "for i, l, n in zip(images, labels, names):\n",
        "    load(i, l, n)"
      ],
      "metadata": {
        "colab": {
          "base_uri": "https://localhost:8080/"
        },
        "id": "2iRk2tva6Iww",
        "outputId": "8a83a202-f69c-4b39-94e6-612ee514d5a2"
      },
      "execution_count": null,
      "outputs": [
        {
          "output_type": "stream",
          "name": "stdout",
          "text": [
            "100 100 100\n"
          ]
        },
        {
          "output_type": "stream",
          "name": "stderr",
          "text": [
            "<ipython-input-9-0647d5e2ee6e>:26: DeprecationWarning: get_data() is deprecated in favor of get_fdata(), which has a more predictable return type. To obtain get_data() behavior going forward, use numpy.asanyarray(img.dataobj).\n",
            "\n",
            "* deprecated from version: 3.0\n",
            "* Will raise <class 'nibabel.deprecator.ExpiredDeprecationError'> as of version: 5.0\n",
            "  img = nib.load(img_path).get_data()\n",
            "<ipython-input-9-0647d5e2ee6e>:27: DeprecationWarning: get_data() is deprecated in favor of get_fdata(), which has a more predictable return type. To obtain get_data() behavior going forward, use numpy.asanyarray(img.dataobj).\n",
            "\n",
            "* deprecated from version: 3.0\n",
            "* Will raise <class 'nibabel.deprecator.ExpiredDeprecationError'> as of version: 5.0\n",
            "  mask = nib.load(mask_path).get_data()\n"
          ]
        },
        {
          "output_type": "stream",
          "name": "stdout",
          "text": [
            "Num:  9\n",
            "Num:  9\n",
            "Num:  9\n",
            "Num:  9\n",
            "Num:  9\n",
            "Num:  10\n",
            "Num:  9\n",
            "Num:  9\n",
            "Num:  9\n",
            "Num:  9\n",
            "Num:  8\n",
            "Num:  9\n",
            "Num:  9\n",
            "Num:  9\n",
            "Num:  8\n",
            "Num:  9\n",
            "Num:  8\n",
            "Num:  7\n",
            "Num:  10\n",
            "Num:  7\n",
            "Num:  9\n",
            "Num:  6\n",
            "Num:  8\n",
            "Num:  7\n",
            "Num:  8\n",
            "Num:  9\n",
            "Num:  9\n",
            "Num:  9\n",
            "Num:  10\n",
            "Num:  9\n",
            "Num:  9\n",
            "Num:  9\n",
            "Num:  9\n",
            "Num:  9\n",
            "Num:  12\n",
            "Num:  7\n",
            "Num:  6\n",
            "Num:  7\n",
            "Num:  8\n",
            "Num:  9\n",
            "Num:  5\n",
            "Num:  8\n",
            "Num:  11\n",
            "Num:  8\n",
            "Num:  7\n",
            "Num:  8\n",
            "Num:  8\n",
            "Num:  7\n",
            "Num:  6\n",
            "Num:  9\n",
            "Num:  9\n",
            "Num:  7\n",
            "Num:  6\n",
            "Num:  7\n",
            "Num:  8\n",
            "Num:  8\n",
            "Num:  7\n",
            "Num:  8\n",
            "Num:  8\n",
            "Num:  8\n",
            "Num:  8\n",
            "Num:  9\n",
            "Num:  7\n",
            "Num:  9\n",
            "Num:  7\n",
            "Num:  8\n",
            "Num:  9\n",
            "Num:  6\n",
            "Num:  6\n",
            "Num:  5\n",
            "Num:  9\n",
            "Num:  7\n",
            "Num:  6\n",
            "Num:  7\n",
            "Num:  13\n",
            "Num:  7\n",
            "Num:  7\n",
            "Num:  7\n",
            "Num:  8\n",
            "Num:  5\n",
            "Num:  16\n",
            "Num:  15\n",
            "Num:  5\n",
            "Num:  11\n",
            "Num:  14\n",
            "Num:  6\n",
            "Num:  7\n",
            "Num:  15\n",
            "Num:  5\n",
            "Num:  6\n",
            "Num:  7\n",
            "Num:  14\n",
            "Num:  9\n",
            "Num:  9\n",
            "Num:  13\n",
            "Num:  17\n",
            "Num:  7\n",
            "Num:  6\n",
            "Num:  15\n",
            "Num:  7\n"
          ]
        }
      ]
    },
    {
      "cell_type": "markdown",
      "source": [
        "#Requirements"
      ],
      "metadata": {
        "id": "oEpd2Uo13mbq"
      }
    },
    {
      "cell_type": "code",
      "execution_count": 1,
      "metadata": {
        "colab": {
          "base_uri": "https://localhost:8080/"
        },
        "id": "pI5zY4bPxWwQ",
        "outputId": "99ccc3b3-cb81-4bf7-c00e-9b223d203311"
      },
      "outputs": [
        {
          "output_type": "stream",
          "name": "stdout",
          "text": [
            "Looking in indexes: https://pypi.org/simple, https://us-python.pkg.dev/colab-wheels/public/simple/\n",
            "Collecting monai\n",
            "  Downloading monai-1.1.0-202212191849-py3-none-any.whl (1.2 MB)\n",
            "\u001b[2K     \u001b[90m━━━━━━━━━━━━━━━━━━━━━━━━━━━━━━━━━━━━━━━━\u001b[0m \u001b[32m1.2/1.2 MB\u001b[0m \u001b[31m56.1 MB/s\u001b[0m eta \u001b[36m0:00:00\u001b[0m\n",
            "\u001b[?25hCollecting segmentation_models_pytorch\n",
            "  Downloading segmentation_models_pytorch-0.3.2-py3-none-any.whl (106 kB)\n",
            "\u001b[2K     \u001b[90m━━━━━━━━━━━━━━━━━━━━━━━━━━━━━━━━━━━━━━\u001b[0m \u001b[32m106.7/106.7 KB\u001b[0m \u001b[31m16.4 MB/s\u001b[0m eta \u001b[36m0:00:00\u001b[0m\n",
            "\u001b[?25hRequirement already satisfied: torch>=1.8 in /usr/local/lib/python3.9/dist-packages (from monai) (1.13.1+cu116)\n",
            "Requirement already satisfied: numpy>=1.17 in /usr/local/lib/python3.9/dist-packages (from monai) (1.22.4)\n",
            "Requirement already satisfied: torchvision>=0.5.0 in /usr/local/lib/python3.9/dist-packages (from segmentation_models_pytorch) (0.14.1+cu116)\n",
            "Collecting timm==0.6.12\n",
            "  Downloading timm-0.6.12-py3-none-any.whl (549 kB)\n",
            "\u001b[2K     \u001b[90m━━━━━━━━━━━━━━━━━━━━━━━━━━━━━━━━━━━━━━\u001b[0m \u001b[32m549.1/549.1 KB\u001b[0m \u001b[31m41.3 MB/s\u001b[0m eta \u001b[36m0:00:00\u001b[0m\n",
            "\u001b[?25hCollecting pretrainedmodels==0.7.4\n",
            "  Downloading pretrainedmodels-0.7.4.tar.gz (58 kB)\n",
            "\u001b[2K     \u001b[90m━━━━━━━━━━━━━━━━━━━━━━━━━━━━━━━━━━━━━━━━\u001b[0m \u001b[32m58.8/58.8 KB\u001b[0m \u001b[31m8.1 MB/s\u001b[0m eta \u001b[36m0:00:00\u001b[0m\n",
            "\u001b[?25h  Preparing metadata (setup.py) ... \u001b[?25l\u001b[?25hdone\n",
            "Requirement already satisfied: pillow in /usr/local/lib/python3.9/dist-packages (from segmentation_models_pytorch) (8.4.0)\n",
            "Collecting efficientnet-pytorch==0.7.1\n",
            "  Downloading efficientnet_pytorch-0.7.1.tar.gz (21 kB)\n",
            "  Preparing metadata (setup.py) ... \u001b[?25l\u001b[?25hdone\n",
            "Requirement already satisfied: tqdm in /usr/local/lib/python3.9/dist-packages (from segmentation_models_pytorch) (4.65.0)\n",
            "Collecting munch\n",
            "  Downloading munch-2.5.0-py2.py3-none-any.whl (10 kB)\n",
            "Requirement already satisfied: pyyaml in /usr/local/lib/python3.9/dist-packages (from timm==0.6.12->segmentation_models_pytorch) (6.0)\n",
            "Collecting huggingface-hub\n",
            "  Downloading huggingface_hub-0.13.3-py3-none-any.whl (199 kB)\n",
            "\u001b[2K     \u001b[90m━━━━━━━━━━━━━━━━━━━━━━━━━━━━━━━━━━━━━━\u001b[0m \u001b[32m199.8/199.8 KB\u001b[0m \u001b[31m26.0 MB/s\u001b[0m eta \u001b[36m0:00:00\u001b[0m\n",
            "\u001b[?25hRequirement already satisfied: typing-extensions in /usr/local/lib/python3.9/dist-packages (from torch>=1.8->monai) (4.5.0)\n",
            "Requirement already satisfied: requests in /usr/local/lib/python3.9/dist-packages (from torchvision>=0.5.0->segmentation_models_pytorch) (2.27.1)\n",
            "Requirement already satisfied: filelock in /usr/local/lib/python3.9/dist-packages (from huggingface-hub->timm==0.6.12->segmentation_models_pytorch) (3.10.2)\n",
            "Requirement already satisfied: packaging>=20.9 in /usr/local/lib/python3.9/dist-packages (from huggingface-hub->timm==0.6.12->segmentation_models_pytorch) (23.0)\n",
            "Requirement already satisfied: six in /usr/local/lib/python3.9/dist-packages (from munch->pretrainedmodels==0.7.4->segmentation_models_pytorch) (1.16.0)\n",
            "Requirement already satisfied: certifi>=2017.4.17 in /usr/local/lib/python3.9/dist-packages (from requests->torchvision>=0.5.0->segmentation_models_pytorch) (2022.12.7)\n",
            "Requirement already satisfied: charset-normalizer~=2.0.0 in /usr/local/lib/python3.9/dist-packages (from requests->torchvision>=0.5.0->segmentation_models_pytorch) (2.0.12)\n",
            "Requirement already satisfied: urllib3<1.27,>=1.21.1 in /usr/local/lib/python3.9/dist-packages (from requests->torchvision>=0.5.0->segmentation_models_pytorch) (1.26.15)\n",
            "Requirement already satisfied: idna<4,>=2.5 in /usr/local/lib/python3.9/dist-packages (from requests->torchvision>=0.5.0->segmentation_models_pytorch) (3.4)\n",
            "Building wheels for collected packages: efficientnet-pytorch, pretrainedmodels\n",
            "  Building wheel for efficientnet-pytorch (setup.py) ... \u001b[?25l\u001b[?25hdone\n",
            "  Created wheel for efficientnet-pytorch: filename=efficientnet_pytorch-0.7.1-py3-none-any.whl size=16444 sha256=21ae628b03d23dc7ef003ac5da0b17451ad10dbb6147d2333b0a9605e6cbee9d\n",
            "  Stored in directory: /root/.cache/pip/wheels/29/16/24/752e89d88d333af39a288421e64d613b5f652918e39ef1f8e3\n",
            "  Building wheel for pretrainedmodels (setup.py) ... \u001b[?25l\u001b[?25hdone\n",
            "  Created wheel for pretrainedmodels: filename=pretrainedmodels-0.7.4-py3-none-any.whl size=60962 sha256=de1adabffef335630c019cfaa6cb82fe980d52f7c679fcdb38986506dc04bc28\n",
            "  Stored in directory: /root/.cache/pip/wheels/d1/3b/4e/2f3015f1ab76f34be28e04c4bcee27e8cabfa70d2eadf8bc3b\n",
            "Successfully built efficientnet-pytorch pretrainedmodels\n",
            "Installing collected packages: munch, monai, huggingface-hub, efficientnet-pytorch, timm, pretrainedmodels, segmentation_models_pytorch\n",
            "Successfully installed efficientnet-pytorch-0.7.1 huggingface-hub-0.13.3 monai-1.1.0 munch-2.5.0 pretrainedmodels-0.7.4 segmentation_models_pytorch-0.3.2 timm-0.6.12\n"
          ]
        }
      ],
      "source": [
        "!pip install monai segmentation_models_pytorch"
      ]
    },
    {
      "cell_type": "code",
      "source": [
        "from google.colab import drive\n",
        "drive.mount('/content/drive')"
      ],
      "metadata": {
        "colab": {
          "base_uri": "https://localhost:8080/"
        },
        "id": "PD1oanaGxhiL",
        "outputId": "b5c90d2c-7184-4477-98ca-9e812f8535a4"
      },
      "execution_count": 2,
      "outputs": [
        {
          "output_type": "stream",
          "name": "stdout",
          "text": [
            "Mounted at /content/drive\n"
          ]
        }
      ]
    },
    {
      "cell_type": "code",
      "source": [
        "import torch\n",
        "import torch.nn as nn\n",
        "import torch.nn.functional as F\n",
        "import torch.utils.data as data\n",
        "from torchvision import transforms\n",
        "import numpy as np\n",
        "import random\n",
        "from tqdm import tqdm\n",
        "import cv2\n",
        "from PIL import Image\n",
        "from torch.utils.data import Dataset, DataLoader\n",
        "import matplotlib.pyplot as plt\n",
        "%matplotlib inline\n",
        "import os\n",
        "from google.colab.patches import cv2_imshow\n",
        "import pickle\n",
        "import nibabel as nib\n",
        "import pathlib\n",
        "from skimage import transform\n",
        "from skimage.segmentation import slic\n",
        "from skimage.segmentation import mark_boundaries\n",
        "from skimage.util import img_as_float\n",
        "from skimage import io\n",
        "import skimage\n",
        "from skimage.feature import canny\n",
        "from skimage.filters import sobel\n",
        "from skimage import data, morphology\n",
        "import scipy.ndimage as nd\n",
        "from skimage.color import rgb2gray\n",
        "from skimage import data, img_as_float\n",
        "from skimage.segmentation import chan_vese\n",
        "from skimage.filters import threshold_isodata, threshold_li, threshold_mean, threshold_minimum, threshold_otsu, threshold_triangle, threshold_yen\n",
        "import segmentation_models_pytorch as smp"
      ],
      "metadata": {
        "id": "DJxjissE3kmb"
      },
      "execution_count": 3,
      "outputs": []
    },
    {
      "cell_type": "markdown",
      "source": [
        "#Dataloader"
      ],
      "metadata": {
        "id": "leGWwYoMx4YI"
      }
    },
    {
      "cell_type": "code",
      "source": [
        "def corrupt(image, noise_typ=\"gauss\", level=1):\n",
        "    if noise_typ == \"gauss\":\n",
        "        row,col,ch= image.shape\n",
        "        mean = 0\n",
        "        var = [0.1, 1.0, 5.0][level]\n",
        "        sigma = var**0.5\n",
        "        gauss = np.random.normal(mean,sigma,(row,col,ch))\n",
        "        gauss = gauss.reshape(row,col,ch)\n",
        "        noisy = image + gauss\n",
        "        return noisy\n",
        "    elif noise_typ == \"s&p\":\n",
        "        row,col,ch = image.shape\n",
        "        s_vs_p = 0.5\n",
        "        amount = [0.004, 0.012, 0.030][level]\n",
        "        out = np.copy(image)\n",
        "        # Salt mode\n",
        "        num_salt = np.ceil(amount * image.size * s_vs_p)\n",
        "        coords = [np.random.randint(0, i - 1, int(num_salt))\n",
        "                for i in image.shape]\n",
        "        out[coords] = 1\n",
        "\n",
        "        # Pepper mode\n",
        "        num_pepper = np.ceil(amount* image.size * (1. - s_vs_p))\n",
        "        coords = [np.random.randint(0, i - 1, int(num_pepper))\n",
        "                for i in image.shape]\n",
        "        out[coords] = 0\n",
        "        return out\n",
        "    elif noise_typ == \"poisson\":\n",
        "        vals = len(np.unique(image))\n",
        "        vals = 2 ** np.ceil(np.log2(vals))\n",
        "        noisy = np.random.poisson(image * vals) / float(vals)\n",
        "        return noisy\n",
        "    elif noise_typ ==\"speckle\":\n",
        "        row,col,ch = image.shape\n",
        "        gauss = np.random.randn(row,col,ch)\n",
        "        gauss = gauss.reshape(row,col,ch)        \n",
        "        noisy = image + image * gauss\n",
        "        return noisy\n",
        "\n",
        "def loader(img_path, map_path, mask_threshold=0.5, size=(224, 224), noise=None, level=1):\n",
        "    img = cv2.imread(img_path)\n",
        "    map = cv2.imread(map_path, cv2.IMREAD_GRAYSCALE)\n",
        "\n",
        "    img = cv2.resize(img, size, cv2.INTER_AREA)\n",
        "    map = cv2.resize(map, size, cv2.INTER_AREA)\n",
        "\n",
        "    if noise is not None and noise != \"train\":\n",
        "        img = corrupt(img, noise, level)\n",
        "    if noise == \"train\":\n",
        "        img = corrupt(img, \"gauss\", 1)\n",
        "        img = corrupt(img, \"s&p\", 1)\n",
        "\n",
        "    img = np.array(img, np.float32).transpose(2, 0, 1) / 255.0\n",
        "    map = np.array(map, np.float32) / 255.0\n",
        "    map = map[np.newaxis, :, :]\n",
        "\n",
        "    map[map >= mask_threshold] = 1.0\n",
        "    map[map < mask_threshold] = 0.0\n",
        "    return img, map, img_path.split(\"/\")[-1]\n",
        "\n",
        "\n",
        "def read_dataset(root_path):\n",
        "    images = []\n",
        "    maps = []\n",
        "\n",
        "    img_root = os.path.join(root_path, \"Images\")\n",
        "    map_root = os.path.join(root_path, \"Masks\")\n",
        "\n",
        "    for image_name in sorted(os.listdir(map_root)):\n",
        "        img_path = os.path.join(img_root, image_name)\n",
        "        map_path = os.path.join(map_root, image_name)\n",
        "        if os.path.exists(img_path) and os.path.exists(map_path):\n",
        "            images.append(img_path)\n",
        "            maps.append(map_path)\n",
        "    return images, maps\n",
        "\n",
        "\n",
        "class Segmentation_Dataset(Dataset):\n",
        "\n",
        "    def __init__(self, root_path, split=\"train\", noise=None, level=1):\n",
        "        self.root = root_path\n",
        "        self.noise = noise\n",
        "        self.level = 1\n",
        "\n",
        "        self.images, self.maps = read_dataset(self.root)\n",
        "        \n",
        "        \n",
        "        if split == \"train\": self.images, self.maps = self.images[:900], self.maps[:900]\n",
        "        else: self.images, self.maps = self.images[900:], self.maps[900:]\n",
        "        \n",
        "        print('num img =', len(self.images))\n",
        "        print('num map =', len(self.maps))\n",
        "\n",
        "    def __getitem__(self, index):\n",
        "        img, map, name = loader(self.images[index], self.maps[index], noise=self.noise, level=self.level)\n",
        "        img = torch.tensor(img, dtype=torch.float32)\n",
        "        map = torch.tensor(map, dtype=torch.float32)\n",
        "        pack = {\"img\": img, \"map\": map, \"name\": name}\n",
        "        return pack\n",
        "\n",
        "    def __len__(self):\n",
        "        assert len(self.images) == len(\n",
        "            self.maps), 'The number of img must be equal to map'\n",
        "        return len(self.images)\n"
      ],
      "metadata": {
        "id": "eE5nVhD1x6Qi"
      },
      "execution_count": 26,
      "outputs": []
    },
    {
      "cell_type": "markdown",
      "source": [
        "#Models"
      ],
      "metadata": {
        "id": "9JaCD98V06Dr"
      }
    },
    {
      "cell_type": "code",
      "source": [
        "# model = smp.Unet(\n",
        "#     encoder_name=\"resnet34\",        # choose encoder, e.g. mobilenet_v2 or efficientnet-b7\n",
        "#     encoder_weights=\"imagenet\",     # use `imagenet` pre-trained weights for encoder initialization\n",
        "#     activation='sigmoid',\n",
        "#     in_channels=1,                  # model input channels (1 for gray-scale images, 3 for RGB, etc.)\n",
        "#     classes=1,                      # model output channels (number of classes in your dataset)\n",
        "# )\n",
        "\n",
        "# model = smp.UnetPlusPlus(\n",
        "#     encoder_name=\"resnet34\",        \n",
        "#     encoder_weights=\"imagenet\",     \n",
        "#     activation='sigmoid',\n",
        "#     in_channels=1,                  \n",
        "#     classes=1,                      \n",
        "# )\n",
        "\n",
        "# model = smp.FPN(\n",
        "#     encoder_name=\"resnet34\",        \n",
        "#     encoder_weights=\"imagenet\",     \n",
        "#     activation='sigmoid',\n",
        "#     in_channels=1,                  \n",
        "#     classes=1,                      \n",
        "# )\n",
        "\n",
        "# model = smp.MAnet(\n",
        "#     encoder_name=\"resnet34\",        \n",
        "#     encoder_weights=\"imagenet\",     \n",
        "#     activation='sigmoid',\n",
        "#     in_channels=1,                  \n",
        "#     classes=1,                      \n",
        "# )\n",
        "\n",
        "# model = smp.Linknet(\n",
        "#     encoder_name=\"resnet34\",        \n",
        "#     encoder_weights=\"imagenet\",     \n",
        "#     activation='sigmoid',\n",
        "#     in_channels=1,                  \n",
        "#     classes=1,                      \n",
        "# )\n",
        "\n",
        "# model = smp.PSPNet(\n",
        "#     encoder_name=\"resnet34\",        \n",
        "#     encoder_weights=\"imagenet\",     \n",
        "#     activation='sigmoid',\n",
        "#     in_channels=1,                  \n",
        "#     classes=1,                      \n",
        "# )\n",
        "\n",
        "model_dict = {\n",
        "    \"unet\": {\"model\": smp.Unet, \"weights\": \"/content/drive/MyDrive/PPT/Foreground/Transfer/AC/Models/unet.pth\"},\n",
        "    \"upp\": {\"model\": smp.UnetPlusPlus, \"weights\": \"/content/drive/MyDrive/PPT/Foreground/Transfer/AC/Models/upp.pth\"},\n",
        "    \"fpn\": {\"model\": smp.FPN, \"weights\": \"/content/drive/MyDrive/PPT/Foreground/Transfer/AC/Models/fpn.pth\"},\n",
        "    \"psp\": {\"model\": smp.PSPNet, \"weights\": \"/content/drive/MyDrive/PPT/Foreground/Transfer/AC/Models/psp.pth\"},\n",
        "    \"man\": {\"model\": smp.MAnet, \"weights\": \"/content/drive/MyDrive/PPT/Foreground/Transfer/AC/Models/man.pth\"},\n",
        "    \"link\": {\"model\": smp.Linknet, \"weights\": \"/content/drive/MyDrive/PPT/Foreground/Transfer/AC/Models/link.pth\"}\n",
        "}\n",
        "\n",
        "if torch.cuda.is_available: device = torch.device(\"cuda\")\n",
        "else: device = torch.device(\"cpu\")\n",
        "\n",
        "def get_model(MODEL):\n",
        "    model = MODEL(\n",
        "        encoder_name=\"resnet34\",        \n",
        "        encoder_weights=\"imagenet\",     \n",
        "        activation='sigmoid',\n",
        "        in_channels=1,                  \n",
        "        classes=1,                      \n",
        "    )\n",
        "    return model\n",
        "\n",
        "# pytorch_total_params = sum(p.numel() for p in model.parameters() if p.requires_grad) / 1e6\n",
        "# print(\"Total number of trainable parameters: {:.2f}M\".format(pytorch_total_params))"
      ],
      "metadata": {
        "id": "iJ2JyjD703aj"
      },
      "execution_count": 27,
      "outputs": []
    },
    {
      "cell_type": "markdown",
      "source": [
        "#Training Frame and Settings"
      ],
      "metadata": {
        "id": "99LGIlwM07er"
      }
    },
    {
      "cell_type": "code",
      "source": [
        "root_path = '/content/drive/MyDrive/PPT/Foreground/Transfer/AC/Real ACDC/data_2d'\n",
        "\n",
        "train_dataset = Segmentation_Dataset(root_path)\n",
        "test_dataset = Segmentation_Dataset(root_path, split=\"test\")\n",
        "\n",
        "train_loader = DataLoader(train_dataset, batch_size = 1, shuffle=True)\n",
        "test_loader = DataLoader(test_dataset, batch_size = 1, shuffle=False)"
      ],
      "metadata": {
        "colab": {
          "base_uri": "https://localhost:8080/"
        },
        "id": "FMMPhFLm090L",
        "outputId": "ab44f050-31a9-4785-f2e6-d40e7c5653e1"
      },
      "execution_count": 28,
      "outputs": [
        {
          "output_type": "stream",
          "name": "stdout",
          "text": [
            "num img = 900\n",
            "num map = 900\n",
            "num img = 51\n",
            "num map = 51\n"
          ]
        }
      ]
    },
    {
      "cell_type": "code",
      "source": [
        "def convert(A, Ttnp = True):\n",
        "    if Ttnp == True: return A.detach().cpu().numpy()\n",
        "    else: return torch.tensor(A,device='cuda')\n",
        "\n",
        "def disp_Tensor(map, scale=255.0, path=None):\n",
        "    map = map.detach().cpu().numpy()\n",
        "    if map.shape[1] == 3: \n",
        "        cv2_imshow(map[0,:,:,:].transpose(1,2,0)*scale)\n",
        "        if path is not None:\n",
        "            cv2.imwrite(path, map[0,:,:,:].transpose(1,2,0)*scale)\n",
        "    elif map.shape[1] == 1: \n",
        "        map[map >= 0.5] = 1\n",
        "        map[map < 0.5] = 0\n",
        "        cv2_imshow(map[0,0,:,:]*scale)\n",
        "        if path is not None:\n",
        "            cv2.imwrite(path, map[0,0,:,:]*scale)\n",
        "\n",
        "\n",
        "#Metrics: Batch-scaled\n",
        "def vals(pred, mask):\n",
        "    pred = torch.round(pred)\n",
        "    # print(torch.max(mask))\n",
        "    TP = (mask * pred).sum()\n",
        "    TN = ((1 - mask) * (1 - pred)).sum()\n",
        "    FP = pred.sum() - TP\n",
        "    FN = mask.sum() - TP\n",
        "    return TP,TN,FP,FN\n",
        "\n",
        "def metrics(pred, mask): \n",
        "    pred = torch.sum(pred, dim=1)/torch.max(pred)\n",
        "    mask = mask[:,0,:,:]\n",
        "    TP,TN,FP,FN = vals(pred, mask)\n",
        "    acc = (TP + TN)/ (TP + TN + FP + FN)\n",
        "    acc = convert(torch.sum(acc))\n",
        "    iou = (TP)/(TP + FN + FP)\n",
        "    iou = convert(iou)\n",
        "    # m_iou = monai.metrics.MeanIoU()\n",
        "    # iou = np.mean(m_iou(pred, mask))\n",
        "    sen = TP / (TP + FN)\n",
        "    sen = convert(torch.sum(sen))\n",
        "    prec = (TP)/ (TP + FP)\n",
        "    prec = convert(torch.sum(prec))\n",
        "    recc = TP / (TP + FN)\n",
        "    recc = convert(torch.sum(recc))\n",
        "    dice = (2*TP)/(2*TP+FP+FN)\n",
        "    dice = convert(torch.sum(dice))\n",
        "    metrics = {\"acc\": acc,\n",
        "            \"sen\": sen,\n",
        "            \"pre\": prec,\n",
        "            \"rec\": recc,\n",
        "            \"dsc\": dice,\n",
        "            \"iou\": iou}\n",
        "    return metrics\n",
        "\n",
        "#Loss function: H Loss :)\n",
        "class loss_function(nn.Module):\n",
        "    def __init__(self, batch=True):\n",
        "        super(loss_function, self).__init__()\n",
        "        self.batch = batch\n",
        "        self.mae_loss = torch.nn.L1Loss()\n",
        "        self.bce_loss = torch.nn.BCELoss()\n",
        "\n",
        "    def soft_dice_coeff(self, y_true, y_pred):\n",
        "        smooth = 0.0  # may change\n",
        "        if self.batch:\n",
        "            i = torch.sum(y_true)\n",
        "            j = torch.sum(y_pred)\n",
        "            intersection = torch.sum(y_true * y_pred)\n",
        "        else:\n",
        "            i = y_true.sum(1).sum(1).sum(1)\n",
        "            j = y_pred.sum(1).sum(1).sum(1)\n",
        "            intersection = (y_true * y_pred).sum(1).sum(1).sum(1)\n",
        "        score = (2. * intersection + smooth) / (i + j + smooth)\n",
        "        # score = (intersection + smooth) / (i + j - intersection + smooth)#iou\n",
        "        return score.mean()\n",
        "\n",
        "    def soft_dice_loss(self, y_true, y_pred):\n",
        "        loss = 1 - self.soft_dice_coeff(y_true, y_pred)\n",
        "        return loss\n",
        "\n",
        "    def iou_loss(self, inputs, targets):\n",
        "        smooth = 0.0\n",
        "        #inputs = inputs.view(-1)\n",
        "        #targets = targets.view(-1)\n",
        "        \n",
        "        intersection = (inputs * targets).sum(1).sum(1).sum(1)\n",
        "        total = (inputs + targets).sum(1).sum(1).sum(1)\n",
        "        union = total - intersection \n",
        "        \n",
        "        IoU = (intersection + smooth)/(union + smooth)\n",
        "                \n",
        "        return (1 - IoU.mean())\n",
        "\n",
        "    def forward(self, y_true, y_pred, weights=[0.4, 0.2, 0.4]):\n",
        "        #a = self.mae_loss(y_pred, y_true)\n",
        "        b = self.soft_dice_loss(y_true, y_pred)\n",
        "        c = self.bce_loss(y_pred, y_true)\n",
        "        d = self.iou_loss(y_pred, y_true)\n",
        "        loss = weights[0] * b + weights[2] * d + weights[2] * c\n",
        "        return loss"
      ],
      "metadata": {
        "id": "xdzvFBBc10X9"
      },
      "execution_count": 29,
      "outputs": []
    },
    {
      "cell_type": "code",
      "source": [
        "DATAKEYS = [\"loss\", \"acc\", \"sen\", \"pre\", \"rec\", \"dsc\", \"iou\"]\n",
        "def initiate_dict():\n",
        "    dict = {}\n",
        "    for k in DATAKEYS:\n",
        "        dict[k] = 0.0\n",
        "    return dict\n",
        "\n",
        "class MyFrame():\n",
        "    def __init__(self, net, learning_rate, device, evalmode=False):\n",
        "      self.net = net.to(device)\n",
        "      self.optimizer = torch.optim.Adam(params=self.net.parameters(), lr=learning_rate, weight_decay=0.0001)\n",
        "      self.loss = loss_function().to(device)\n",
        "      self.lr = learning_rate\n",
        "      self.device = device\n",
        "      if evalmode: self.net.eval()\n",
        "    \n",
        "    def set_input(self, img_batch, mask_batch=None):\n",
        "        self.img = img_batch[:, :1, :, :]\n",
        "        self.mask = mask_batch[:, :1, :, :]\n",
        "        \n",
        "    def propagate(self, backprop=True):\n",
        "        p = self.net.forward(self.img)[:,:1,:,:]\n",
        "        torch.backends.cudnn.benchmark = True\n",
        "        loss = self.loss(self.mask, p)\n",
        "        if backprop:\n",
        "            self.optimizer.zero_grad()\n",
        "            loss.backward()\n",
        "            self.optimizer.step()\n",
        "        return convert(loss), p\n",
        "    \n",
        "    def run_epoch(self, loader, train=True):\n",
        "        if train: self.net.train()\n",
        "        else: self.net.eval()\n",
        "        epoch_data = initiate_dict()\n",
        "        L = len(loader)\n",
        "        iterator = tqdm(enumerate(loader), total=L)\n",
        "        for batch_idx, pack in iterator:\n",
        "            img, map = pack[\"img\"].to(self.device), pack[\"map\"].to(self.device)\n",
        "            self.set_input(img, map)\n",
        "            if train: loss, pred = self.propagate()\n",
        "            else: loss, pred = self.propagate(backprop=False)\n",
        "            m = metrics(pred, map)\n",
        "            epoch_data[\"loss\"] += loss / L\n",
        "            for k in list(m.keys()): epoch_data[k] += m[k] / L\n",
        "        return epoch_data\n",
        "        \n",
        "    def save(self, path):\n",
        "        torch.save(self.net.state_dict(), path)\n",
        "        \n",
        "    def load(self, path):\n",
        "        self.net.load_state_dict(torch.load(path, map_location=self.device))\n",
        "\n",
        "    def update_lr(self, new_lr, factor=False):\n",
        "        if factor:\n",
        "            new_lr = self.lr / new_lr\n",
        "        #for param_group in self.net.param_groups:\n",
        "        #    param_group['lr'] = new_lr\n",
        "        self.optimizer = torch.optim.Adam(params=self.net.parameters(), lr=new_lr, weight_decay=0.0001)\n",
        "\n",
        "        print ('update learning rate: %f -> %f' % (self.lr, new_lr))\n",
        "        print ('update learning rate: %f -> %f' % (self.lr, new_lr))\n",
        "        self.lr = new_lr"
      ],
      "metadata": {
        "id": "JM-p3MJnAKgS"
      },
      "execution_count": 30,
      "outputs": []
    },
    {
      "cell_type": "markdown",
      "source": [
        "#Training_UNET (Params: 24.43M, Best: 0.8932 IOU)"
      ],
      "metadata": {
        "id": "cvSBBcl7CvAd"
      }
    },
    {
      "cell_type": "code",
      "source": [
        "LEARNING_RATE = 1e-4\n",
        "NUM_EPOCHS = 20\n",
        "BATCH_SIZE = 1\n",
        "model_path = '/content/drive/MyDrive/PPT/Foreground/Transfer/AC/Models/unet.pth'\n",
        "\n",
        "if torch.cuda.is_available: device = torch.device(\"cuda\")\n",
        "else: device = torch.device(\"cpu\")\n",
        "\n",
        "frame = MyFrame(model, LEARNING_RATE, device)\n",
        "#frame.load(model_path)\n",
        "\n",
        "best_iou = 0.\n",
        "\n",
        "for epoch in range(1, NUM_EPOCHS+1):\n",
        "    print(\"--------------------------------------------------------\")\n",
        "    print(\"--------------------------------------------------------\")\n",
        "    print(\"Epoch \"+str(epoch)+\"/\"+str(NUM_EPOCHS)+\": Training\")\n",
        "    tr_dict = frame.run_epoch(train_loader)\n",
        "    print(\"Loss:\", tr_dict[\"loss\"], \", IOU:\", tr_dict[\"iou\"])\n",
        "    print(\"--------------------------------------------------------\")\n",
        "    print(\"Epoch \"+str(epoch)+\"/\"+str(NUM_EPOCHS)+\": Testing\")\n",
        "    te_dict = frame.run_epoch(test_loader, train=False)\n",
        "    print(\"Loss:\", te_dict[\"loss\"], \", IOU:\", te_dict[\"iou\"])\n",
        "    print(\"--------------------------------------------------------\")\n",
        "    print(\"--------------------------------------------------------\")\n",
        "    \n",
        "    if te_dict[\"iou\"] > best_iou: \n",
        "      frame.save(model_path)\n",
        "      best_iou = te_dict[\"iou\"]\n",
        "\n",
        "print('Best IoU: ', best_iou) "
      ],
      "metadata": {
        "colab": {
          "base_uri": "https://localhost:8080/"
        },
        "id": "JnLtBqURCm2l",
        "outputId": "a34a258b-f3ed-453f-876b-281ad8c776dc"
      },
      "execution_count": null,
      "outputs": [
        {
          "output_type": "stream",
          "name": "stdout",
          "text": [
            "--------------------------------------------------------\n",
            "--------------------------------------------------------\n",
            "Epoch 1/20: Training\n"
          ]
        },
        {
          "output_type": "stream",
          "name": "stderr",
          "text": [
            "100%|██████████| 900/900 [03:54<00:00,  3.84it/s]\n"
          ]
        },
        {
          "output_type": "stream",
          "name": "stdout",
          "text": [
            "Loss: 0.5234663550224576 , IOU: 0.7133343452277279\n",
            "--------------------------------------------------------\n",
            "Epoch 1/20: Testing\n"
          ]
        },
        {
          "output_type": "stream",
          "name": "stderr",
          "text": [
            "100%|██████████| 51/51 [00:11<00:00,  4.63it/s]\n"
          ]
        },
        {
          "output_type": "stream",
          "name": "stdout",
          "text": [
            "Loss: 0.19153271878466882 , IOU: 0.8189085149297528\n",
            "--------------------------------------------------------\n",
            "--------------------------------------------------------\n",
            "--------------------------------------------------------\n",
            "--------------------------------------------------------\n",
            "Epoch 2/20: Training\n"
          ]
        },
        {
          "output_type": "stream",
          "name": "stderr",
          "text": [
            "100%|██████████| 900/900 [00:49<00:00, 18.15it/s]\n"
          ]
        },
        {
          "output_type": "stream",
          "name": "stdout",
          "text": [
            "Loss: 0.11896615513910828 , IOU: 0.8745156412240532\n",
            "--------------------------------------------------------\n",
            "Epoch 2/20: Testing\n"
          ]
        },
        {
          "output_type": "stream",
          "name": "stderr",
          "text": [
            "100%|██████████| 51/51 [00:01<00:00, 39.97it/s]\n"
          ]
        },
        {
          "output_type": "stream",
          "name": "stdout",
          "text": [
            "Loss: 0.08872488312715406 , IOU: 0.8892696926406787\n",
            "--------------------------------------------------------\n",
            "--------------------------------------------------------\n",
            "--------------------------------------------------------\n",
            "--------------------------------------------------------\n",
            "Epoch 3/20: Training\n"
          ]
        },
        {
          "output_type": "stream",
          "name": "stderr",
          "text": [
            "100%|██████████| 900/900 [00:50<00:00, 17.83it/s]\n"
          ]
        },
        {
          "output_type": "stream",
          "name": "stdout",
          "text": [
            "Loss: 0.0861398249429961 , IOU: 0.8927576260972355\n",
            "--------------------------------------------------------\n",
            "Epoch 3/20: Testing\n"
          ]
        },
        {
          "output_type": "stream",
          "name": "stderr",
          "text": [
            "100%|██████████| 51/51 [00:00<00:00, 52.76it/s]\n"
          ]
        },
        {
          "output_type": "stream",
          "name": "stdout",
          "text": [
            "Loss: 0.11806739315244495 , IOU: 0.846056287195168\n",
            "--------------------------------------------------------\n",
            "--------------------------------------------------------\n",
            "--------------------------------------------------------\n",
            "--------------------------------------------------------\n",
            "Epoch 4/20: Training\n"
          ]
        },
        {
          "output_type": "stream",
          "name": "stderr",
          "text": [
            "100%|██████████| 900/900 [00:50<00:00, 17.81it/s]\n"
          ]
        },
        {
          "output_type": "stream",
          "name": "stdout",
          "text": [
            "Loss: 0.07521669919499104 , IOU: 0.9018454623222337\n",
            "--------------------------------------------------------\n",
            "Epoch 4/20: Testing\n"
          ]
        },
        {
          "output_type": "stream",
          "name": "stderr",
          "text": [
            "100%|██████████| 51/51 [00:01<00:00, 49.07it/s]\n"
          ]
        },
        {
          "output_type": "stream",
          "name": "stdout",
          "text": [
            "Loss: 0.08508766720107958 , IOU: 0.8839357214815476\n",
            "--------------------------------------------------------\n",
            "--------------------------------------------------------\n",
            "--------------------------------------------------------\n",
            "--------------------------------------------------------\n",
            "Epoch 5/20: Training\n"
          ]
        },
        {
          "output_type": "stream",
          "name": "stderr",
          "text": [
            "100%|██████████| 900/900 [00:49<00:00, 18.10it/s]\n"
          ]
        },
        {
          "output_type": "stream",
          "name": "stdout",
          "text": [
            "Loss: 0.06570895168723326 , IOU: 0.9126284463206926\n",
            "--------------------------------------------------------\n",
            "Epoch 5/20: Testing\n"
          ]
        },
        {
          "output_type": "stream",
          "name": "stderr",
          "text": [
            "100%|██████████| 51/51 [00:01<00:00, 40.75it/s]\n"
          ]
        },
        {
          "output_type": "stream",
          "name": "stdout",
          "text": [
            "Loss: 0.0880082147743772 , IOU: 0.8806616082495333\n",
            "--------------------------------------------------------\n",
            "--------------------------------------------------------\n",
            "--------------------------------------------------------\n",
            "--------------------------------------------------------\n",
            "Epoch 6/20: Training\n"
          ]
        },
        {
          "output_type": "stream",
          "name": "stderr",
          "text": [
            "100%|██████████| 900/900 [00:50<00:00, 17.96it/s]\n"
          ]
        },
        {
          "output_type": "stream",
          "name": "stdout",
          "text": [
            "Loss: 0.06312707019245453 , IOU: 0.9153237548801637\n",
            "--------------------------------------------------------\n",
            "Epoch 6/20: Testing\n"
          ]
        },
        {
          "output_type": "stream",
          "name": "stderr",
          "text": [
            "100%|██████████| 51/51 [00:00<00:00, 51.55it/s]\n"
          ]
        },
        {
          "output_type": "stream",
          "name": "stdout",
          "text": [
            "Loss: 0.08689549795406706 , IOU: 0.8817876752685101\n",
            "--------------------------------------------------------\n",
            "--------------------------------------------------------\n",
            "--------------------------------------------------------\n",
            "--------------------------------------------------------\n",
            "Epoch 7/20: Training\n"
          ]
        },
        {
          "output_type": "stream",
          "name": "stderr",
          "text": [
            "100%|██████████| 900/900 [00:49<00:00, 18.08it/s]\n"
          ]
        },
        {
          "output_type": "stream",
          "name": "stdout",
          "text": [
            "Loss: 0.06477267800209424 , IOU: 0.9138163150681392\n",
            "--------------------------------------------------------\n",
            "Epoch 7/20: Testing\n"
          ]
        },
        {
          "output_type": "stream",
          "name": "stderr",
          "text": [
            "100%|██████████| 51/51 [00:00<00:00, 51.99it/s]\n"
          ]
        },
        {
          "output_type": "stream",
          "name": "stdout",
          "text": [
            "Loss: 0.09218477720723431 , IOU: 0.8739492998403661\n",
            "--------------------------------------------------------\n",
            "--------------------------------------------------------\n",
            "--------------------------------------------------------\n",
            "--------------------------------------------------------\n",
            "Epoch 8/20: Training\n"
          ]
        },
        {
          "output_type": "stream",
          "name": "stderr",
          "text": [
            "100%|██████████| 900/900 [00:47<00:00, 18.85it/s]\n"
          ]
        },
        {
          "output_type": "stream",
          "name": "stdout",
          "text": [
            "Loss: 0.05894770346374975 , IOU: 0.9207283367051022\n",
            "--------------------------------------------------------\n",
            "Epoch 8/20: Testing\n"
          ]
        },
        {
          "output_type": "stream",
          "name": "stderr",
          "text": [
            "100%|██████████| 51/51 [00:00<00:00, 52.98it/s]\n"
          ]
        },
        {
          "output_type": "stream",
          "name": "stdout",
          "text": [
            "Loss: 0.08586732736405203 , IOU: 0.8830834814146457\n",
            "--------------------------------------------------------\n",
            "--------------------------------------------------------\n",
            "--------------------------------------------------------\n",
            "--------------------------------------------------------\n",
            "Epoch 9/20: Training\n"
          ]
        },
        {
          "output_type": "stream",
          "name": "stderr",
          "text": [
            "100%|██████████| 900/900 [00:49<00:00, 18.33it/s]\n"
          ]
        },
        {
          "output_type": "stream",
          "name": "stdout",
          "text": [
            "Loss: 0.054374087752981325 , IOU: 0.9264520116647089\n",
            "--------------------------------------------------------\n",
            "Epoch 9/20: Testing\n"
          ]
        },
        {
          "output_type": "stream",
          "name": "stderr",
          "text": [
            "100%|██████████| 51/51 [00:00<00:00, 52.29it/s]\n"
          ]
        },
        {
          "output_type": "stream",
          "name": "stdout",
          "text": [
            "Loss: 0.09909962716640211 , IOU: 0.8634991043922946\n",
            "--------------------------------------------------------\n",
            "--------------------------------------------------------\n",
            "--------------------------------------------------------\n",
            "--------------------------------------------------------\n",
            "Epoch 10/20: Training\n"
          ]
        },
        {
          "output_type": "stream",
          "name": "stderr",
          "text": [
            "100%|██████████| 900/900 [00:48<00:00, 18.71it/s]\n"
          ]
        },
        {
          "output_type": "stream",
          "name": "stdout",
          "text": [
            "Loss: 0.07095749820686051 , IOU: 0.9070792123261425\n",
            "--------------------------------------------------------\n",
            "Epoch 10/20: Testing\n"
          ]
        },
        {
          "output_type": "stream",
          "name": "stderr",
          "text": [
            "100%|██████████| 51/51 [00:00<00:00, 54.00it/s]\n"
          ]
        },
        {
          "output_type": "stream",
          "name": "stdout",
          "text": [
            "Loss: 0.10744307168266351 , IOU: 0.8594402931265387\n",
            "--------------------------------------------------------\n",
            "--------------------------------------------------------\n",
            "--------------------------------------------------------\n",
            "--------------------------------------------------------\n",
            "Epoch 11/20: Training\n"
          ]
        },
        {
          "output_type": "stream",
          "name": "stderr",
          "text": [
            "100%|██████████| 900/900 [00:49<00:00, 18.21it/s]\n"
          ]
        },
        {
          "output_type": "stream",
          "name": "stdout",
          "text": [
            "Loss: 0.0564639301277284 , IOU: 0.9233387214607669\n",
            "--------------------------------------------------------\n",
            "Epoch 11/20: Testing\n"
          ]
        },
        {
          "output_type": "stream",
          "name": "stderr",
          "text": [
            "100%|██████████| 51/51 [00:00<00:00, 52.39it/s]\n"
          ]
        },
        {
          "output_type": "stream",
          "name": "stdout",
          "text": [
            "Loss: 0.07741352199923758 , IOU: 0.8932396863021101\n",
            "--------------------------------------------------------\n",
            "--------------------------------------------------------\n",
            "--------------------------------------------------------\n",
            "--------------------------------------------------------\n",
            "Epoch 12/20: Training\n"
          ]
        },
        {
          "output_type": "stream",
          "name": "stderr",
          "text": [
            "100%|██████████| 900/900 [00:48<00:00, 18.45it/s]\n"
          ]
        },
        {
          "output_type": "stream",
          "name": "stdout",
          "text": [
            "Loss: 0.05040008741741383 , IOU: 0.9319405446449917\n",
            "--------------------------------------------------------\n",
            "Epoch 12/20: Testing\n"
          ]
        },
        {
          "output_type": "stream",
          "name": "stderr",
          "text": [
            "100%|██████████| 51/51 [00:01<00:00, 40.96it/s]\n"
          ]
        },
        {
          "output_type": "stream",
          "name": "stdout",
          "text": [
            "Loss: 0.08291261285251263 , IOU: 0.887818580748988\n",
            "--------------------------------------------------------\n",
            "--------------------------------------------------------\n",
            "--------------------------------------------------------\n",
            "--------------------------------------------------------\n",
            "Epoch 13/20: Training\n"
          ]
        },
        {
          "output_type": "stream",
          "name": "stderr",
          "text": [
            "100%|██████████| 900/900 [00:48<00:00, 18.61it/s]\n"
          ]
        },
        {
          "output_type": "stream",
          "name": "stdout",
          "text": [
            "Loss: 0.04876301343759733 , IOU: 0.9337219229671708\n",
            "--------------------------------------------------------\n",
            "Epoch 13/20: Testing\n"
          ]
        },
        {
          "output_type": "stream",
          "name": "stderr",
          "text": [
            "100%|██████████| 51/51 [00:00<00:00, 53.34it/s]\n"
          ]
        },
        {
          "output_type": "stream",
          "name": "stdout",
          "text": [
            "Loss: 0.10316144992761754 , IOU: 0.8622949485730963\n",
            "--------------------------------------------------------\n",
            "--------------------------------------------------------\n",
            "--------------------------------------------------------\n",
            "--------------------------------------------------------\n",
            "Epoch 14/20: Training\n"
          ]
        },
        {
          "output_type": "stream",
          "name": "stderr",
          "text": [
            "100%|██████████| 900/900 [00:48<00:00, 18.51it/s]\n"
          ]
        },
        {
          "output_type": "stream",
          "name": "stdout",
          "text": [
            "Loss: 0.05117001945359835 , IOU: 0.9297882990704642\n",
            "--------------------------------------------------------\n",
            "Epoch 14/20: Testing\n"
          ]
        },
        {
          "output_type": "stream",
          "name": "stderr",
          "text": [
            "100%|██████████| 51/51 [00:01<00:00, 41.40it/s]\n"
          ]
        },
        {
          "output_type": "stream",
          "name": "stdout",
          "text": [
            "Loss: 0.13103968040177635 , IOU: 0.8261456367030158\n",
            "--------------------------------------------------------\n",
            "--------------------------------------------------------\n",
            "--------------------------------------------------------\n",
            "--------------------------------------------------------\n",
            "Epoch 15/20: Training\n"
          ]
        },
        {
          "output_type": "stream",
          "name": "stderr",
          "text": [
            "100%|██████████| 900/900 [00:47<00:00, 18.94it/s]\n"
          ]
        },
        {
          "output_type": "stream",
          "name": "stdout",
          "text": [
            "Loss: 0.05124349448002054 , IOU: 0.9298532654510598\n",
            "--------------------------------------------------------\n",
            "Epoch 15/20: Testing\n"
          ]
        },
        {
          "output_type": "stream",
          "name": "stderr",
          "text": [
            "100%|██████████| 51/51 [00:00<00:00, 52.05it/s]\n"
          ]
        },
        {
          "output_type": "stream",
          "name": "stdout",
          "text": [
            "Loss: 0.3403150046646011 , IOU: 0.6110671538969175\n",
            "--------------------------------------------------------\n",
            "--------------------------------------------------------\n",
            "--------------------------------------------------------\n",
            "--------------------------------------------------------\n",
            "Epoch 16/20: Training\n"
          ]
        },
        {
          "output_type": "stream",
          "name": "stderr",
          "text": [
            "100%|██████████| 900/900 [00:48<00:00, 18.51it/s]\n"
          ]
        },
        {
          "output_type": "stream",
          "name": "stdout",
          "text": [
            "Loss: 0.05513983796454139 , IOU: 0.9254291092024911\n",
            "--------------------------------------------------------\n",
            "Epoch 16/20: Testing\n"
          ]
        },
        {
          "output_type": "stream",
          "name": "stderr",
          "text": [
            "100%|██████████| 51/51 [00:01<00:00, 42.92it/s]\n"
          ]
        },
        {
          "output_type": "stream",
          "name": "stdout",
          "text": [
            "Loss: 0.14290645813532907 , IOU: 0.8052279680382973\n",
            "--------------------------------------------------------\n",
            "--------------------------------------------------------\n",
            "--------------------------------------------------------\n",
            "--------------------------------------------------------\n",
            "Epoch 17/20: Training\n"
          ]
        },
        {
          "output_type": "stream",
          "name": "stderr",
          "text": [
            "100%|██████████| 900/900 [00:48<00:00, 18.66it/s]\n"
          ]
        },
        {
          "output_type": "stream",
          "name": "stdout",
          "text": [
            "Loss: 0.05180643347091975 , IOU: 0.9285855898923344\n",
            "--------------------------------------------------------\n",
            "Epoch 17/20: Testing\n"
          ]
        },
        {
          "output_type": "stream",
          "name": "stderr",
          "text": [
            "100%|██████████| 51/51 [00:00<00:00, 52.62it/s]\n"
          ]
        },
        {
          "output_type": "stream",
          "name": "stdout",
          "text": [
            "Loss: 0.11228249747963515 , IOU: 0.8467201292514802\n",
            "--------------------------------------------------------\n",
            "--------------------------------------------------------\n",
            "--------------------------------------------------------\n",
            "--------------------------------------------------------\n",
            "Epoch 18/20: Training\n"
          ]
        },
        {
          "output_type": "stream",
          "name": "stderr",
          "text": [
            "100%|██████████| 900/900 [00:52<00:00, 17.20it/s]\n"
          ]
        },
        {
          "output_type": "stream",
          "name": "stdout",
          "text": [
            "Loss: 0.05049229320863055 , IOU: 0.9301603118247472\n",
            "--------------------------------------------------------\n",
            "Epoch 18/20: Testing\n"
          ]
        },
        {
          "output_type": "stream",
          "name": "stderr",
          "text": [
            "100%|██████████| 51/51 [00:00<00:00, 53.84it/s]\n"
          ]
        },
        {
          "output_type": "stream",
          "name": "stdout",
          "text": [
            "Loss: 0.0893404109805238 , IOU: 0.8771460915313044\n",
            "--------------------------------------------------------\n",
            "--------------------------------------------------------\n",
            "--------------------------------------------------------\n",
            "--------------------------------------------------------\n",
            "Epoch 19/20: Training\n"
          ]
        },
        {
          "output_type": "stream",
          "name": "stderr",
          "text": [
            "100%|██████████| 900/900 [00:52<00:00, 17.02it/s]\n"
          ]
        },
        {
          "output_type": "stream",
          "name": "stdout",
          "text": [
            "Loss: 0.044286115339232754 , IOU: 0.9383338818285203\n",
            "--------------------------------------------------------\n",
            "Epoch 19/20: Testing\n"
          ]
        },
        {
          "output_type": "stream",
          "name": "stderr",
          "text": [
            "100%|██████████| 51/51 [00:00<00:00, 52.62it/s]\n"
          ]
        },
        {
          "output_type": "stream",
          "name": "stdout",
          "text": [
            "Loss: 0.08405974814120461 , IOU: 0.8851730297593513\n",
            "--------------------------------------------------------\n",
            "--------------------------------------------------------\n",
            "--------------------------------------------------------\n",
            "--------------------------------------------------------\n",
            "Epoch 20/20: Training\n"
          ]
        },
        {
          "output_type": "stream",
          "name": "stderr",
          "text": [
            "100%|██████████| 900/900 [01:02<00:00, 14.38it/s]\n"
          ]
        },
        {
          "output_type": "stream",
          "name": "stdout",
          "text": [
            "Loss: 0.04506396980438799 , IOU: 0.9378003756205247\n",
            "--------------------------------------------------------\n",
            "Epoch 20/20: Testing\n"
          ]
        },
        {
          "output_type": "stream",
          "name": "stderr",
          "text": [
            "100%|██████████| 51/51 [00:00<00:00, 53.63it/s]"
          ]
        },
        {
          "output_type": "stream",
          "name": "stdout",
          "text": [
            "Loss: 0.11882746303636654 , IOU: 0.843050296034883\n",
            "--------------------------------------------------------\n",
            "--------------------------------------------------------\n",
            "Best IoU:  0.8932396863021101\n"
          ]
        },
        {
          "output_type": "stream",
          "name": "stderr",
          "text": [
            "\n"
          ]
        }
      ]
    },
    {
      "cell_type": "markdown",
      "source": [
        "#Training_UPP(Params: 26.07M, Best: 0.9042)"
      ],
      "metadata": {
        "id": "SiTPYajGJ54k"
      }
    },
    {
      "cell_type": "code",
      "source": [
        "LEARNING_RATE = 1e-4\n",
        "NUM_EPOCHS = 20\n",
        "BATCH_SIZE = 1\n",
        "model_path = '/content/drive/MyDrive/PPT/Foreground/Transfer/AC/Models/upp.pth'\n",
        "\n",
        "if torch.cuda.is_available: device = torch.device(\"cuda\")\n",
        "else: device = torch.device(\"cpu\")\n",
        "\n",
        "frame = MyFrame(model, LEARNING_RATE, device)\n",
        "#frame.load(model_path)\n",
        "\n",
        "best_iou = 0.\n",
        "\n",
        "for epoch in range(1, NUM_EPOCHS+1):\n",
        "    print(\"--------------------------------------------------------\")\n",
        "    print(\"--------------------------------------------------------\")\n",
        "    print(\"Epoch \"+str(epoch)+\"/\"+str(NUM_EPOCHS)+\": Training\")\n",
        "    tr_dict = frame.run_epoch(train_loader)\n",
        "    print(\"Loss:\", tr_dict[\"loss\"], \", IOU:\", tr_dict[\"iou\"])\n",
        "    print(\"--------------------------------------------------------\")\n",
        "    print(\"Epoch \"+str(epoch)+\"/\"+str(NUM_EPOCHS)+\": Testing\")\n",
        "    te_dict = frame.run_epoch(test_loader, train=False)\n",
        "    print(\"Loss:\", te_dict[\"loss\"], \", IOU:\", te_dict[\"iou\"])\n",
        "    print(\"--------------------------------------------------------\")\n",
        "    print(\"--------------------------------------------------------\")\n",
        "    \n",
        "    if te_dict[\"iou\"] > best_iou: \n",
        "      frame.save(model_path)\n",
        "      best_iou = te_dict[\"iou\"]\n",
        "\n",
        "print('Best IoU: ', best_iou) "
      ],
      "metadata": {
        "colab": {
          "base_uri": "https://localhost:8080/"
        },
        "id": "Gk9Tvv-ADEjl",
        "outputId": "76c92f7f-a226-4bc1-de7d-1f72007cb0be"
      },
      "execution_count": null,
      "outputs": [
        {
          "output_type": "stream",
          "name": "stdout",
          "text": [
            "--------------------------------------------------------\n",
            "--------------------------------------------------------\n",
            "Epoch 1/20: Training\n"
          ]
        },
        {
          "output_type": "stream",
          "name": "stderr",
          "text": [
            "100%|██████████| 900/900 [00:57<00:00, 15.53it/s]\n"
          ]
        },
        {
          "output_type": "stream",
          "name": "stdout",
          "text": [
            "Loss: 0.36235348872840417 , IOU: 0.774563673502093\n",
            "--------------------------------------------------------\n",
            "Epoch 1/20: Testing\n"
          ]
        },
        {
          "output_type": "stream",
          "name": "stderr",
          "text": [
            "100%|██████████| 51/51 [00:01<00:00, 45.17it/s]\n"
          ]
        },
        {
          "output_type": "stream",
          "name": "stdout",
          "text": [
            "Loss: 0.21680235439071469 , IOU: 0.7566000811901747\n",
            "--------------------------------------------------------\n",
            "--------------------------------------------------------\n",
            "--------------------------------------------------------\n",
            "--------------------------------------------------------\n",
            "Epoch 2/20: Training\n"
          ]
        },
        {
          "output_type": "stream",
          "name": "stderr",
          "text": [
            "100%|██████████| 900/900 [00:58<00:00, 15.41it/s]\n"
          ]
        },
        {
          "output_type": "stream",
          "name": "stdout",
          "text": [
            "Loss: 0.1045680722635652 , IOU: 0.8804214763144652\n",
            "--------------------------------------------------------\n",
            "Epoch 2/20: Testing\n"
          ]
        },
        {
          "output_type": "stream",
          "name": "stderr",
          "text": [
            "100%|██████████| 51/51 [00:01<00:00, 45.13it/s]\n"
          ]
        },
        {
          "output_type": "stream",
          "name": "stdout",
          "text": [
            "Loss: 0.09181703075620475 , IOU: 0.8810470536643383\n",
            "--------------------------------------------------------\n",
            "--------------------------------------------------------\n",
            "--------------------------------------------------------\n",
            "--------------------------------------------------------\n",
            "Epoch 3/20: Training\n"
          ]
        },
        {
          "output_type": "stream",
          "name": "stderr",
          "text": [
            "100%|██████████| 900/900 [00:58<00:00, 15.51it/s]\n"
          ]
        },
        {
          "output_type": "stream",
          "name": "stdout",
          "text": [
            "Loss: 0.07744230987918047 , IOU: 0.9004333291451138\n",
            "--------------------------------------------------------\n",
            "Epoch 3/20: Testing\n"
          ]
        },
        {
          "output_type": "stream",
          "name": "stderr",
          "text": [
            "100%|██████████| 51/51 [00:01<00:00, 35.90it/s]\n"
          ]
        },
        {
          "output_type": "stream",
          "name": "stdout",
          "text": [
            "Loss: 0.09348245775874921 , IOU: 0.8758501276081684\n",
            "--------------------------------------------------------\n",
            "--------------------------------------------------------\n",
            "--------------------------------------------------------\n",
            "--------------------------------------------------------\n",
            "Epoch 4/20: Training\n"
          ]
        },
        {
          "output_type": "stream",
          "name": "stderr",
          "text": [
            "100%|██████████| 900/900 [00:57<00:00, 15.55it/s]\n"
          ]
        },
        {
          "output_type": "stream",
          "name": "stdout",
          "text": [
            "Loss: 0.06856478814449576 , IOU: 0.9080626762244433\n",
            "--------------------------------------------------------\n",
            "Epoch 4/20: Testing\n"
          ]
        },
        {
          "output_type": "stream",
          "name": "stderr",
          "text": [
            "100%|██████████| 51/51 [00:01<00:00, 40.57it/s]\n"
          ]
        },
        {
          "output_type": "stream",
          "name": "stdout",
          "text": [
            "Loss: 0.06977666695328319 , IOU: 0.9042218385958203\n",
            "--------------------------------------------------------\n",
            "--------------------------------------------------------\n",
            "--------------------------------------------------------\n",
            "--------------------------------------------------------\n",
            "Epoch 5/20: Training\n"
          ]
        },
        {
          "output_type": "stream",
          "name": "stderr",
          "text": [
            "100%|██████████| 900/900 [00:58<00:00, 15.38it/s]\n"
          ]
        },
        {
          "output_type": "stream",
          "name": "stdout",
          "text": [
            "Loss: 0.06783383177800309 , IOU: 0.9084837720708715\n",
            "--------------------------------------------------------\n",
            "Epoch 5/20: Testing\n"
          ]
        },
        {
          "output_type": "stream",
          "name": "stderr",
          "text": [
            "100%|██████████| 51/51 [00:01<00:00, 46.52it/s]\n"
          ]
        },
        {
          "output_type": "stream",
          "name": "stdout",
          "text": [
            "Loss: 0.07167929951466767 , IOU: 0.8988003345096812\n",
            "--------------------------------------------------------\n",
            "--------------------------------------------------------\n",
            "--------------------------------------------------------\n",
            "--------------------------------------------------------\n",
            "Epoch 6/20: Training\n"
          ]
        },
        {
          "output_type": "stream",
          "name": "stderr",
          "text": [
            "100%|██████████| 900/900 [00:56<00:00, 16.03it/s]\n"
          ]
        },
        {
          "output_type": "stream",
          "name": "stdout",
          "text": [
            "Loss: 0.06586035581098669 , IOU: 0.9104268692102698\n",
            "--------------------------------------------------------\n",
            "Epoch 6/20: Testing\n"
          ]
        },
        {
          "output_type": "stream",
          "name": "stderr",
          "text": [
            "100%|██████████| 51/51 [00:01<00:00, 46.49it/s]\n"
          ]
        },
        {
          "output_type": "stream",
          "name": "stdout",
          "text": [
            "Loss: 0.11221255785694308 , IOU: 0.8546275781905828\n",
            "--------------------------------------------------------\n",
            "--------------------------------------------------------\n",
            "--------------------------------------------------------\n",
            "--------------------------------------------------------\n",
            "Epoch 7/20: Training\n"
          ]
        },
        {
          "output_type": "stream",
          "name": "stderr",
          "text": [
            "100%|██████████| 900/900 [00:55<00:00, 16.09it/s]\n"
          ]
        },
        {
          "output_type": "stream",
          "name": "stdout",
          "text": [
            "Loss: 0.055715462443315295 , IOU: 0.9241171425498177\n",
            "--------------------------------------------------------\n",
            "Epoch 7/20: Testing\n"
          ]
        },
        {
          "output_type": "stream",
          "name": "stderr",
          "text": [
            "100%|██████████| 51/51 [00:01<00:00, 45.56it/s]\n"
          ]
        },
        {
          "output_type": "stream",
          "name": "stdout",
          "text": [
            "Loss: 0.1075260466439467 , IOU: 0.858510910880332\n",
            "--------------------------------------------------------\n",
            "--------------------------------------------------------\n",
            "--------------------------------------------------------\n",
            "--------------------------------------------------------\n",
            "Epoch 8/20: Training\n"
          ]
        },
        {
          "output_type": "stream",
          "name": "stderr",
          "text": [
            "100%|██████████| 900/900 [00:56<00:00, 16.07it/s]\n"
          ]
        },
        {
          "output_type": "stream",
          "name": "stdout",
          "text": [
            "Loss: 0.05342023318219521 , IOU: 0.9267695972985677\n",
            "--------------------------------------------------------\n",
            "Epoch 8/20: Testing\n"
          ]
        },
        {
          "output_type": "stream",
          "name": "stderr",
          "text": [
            "100%|██████████| 51/51 [00:01<00:00, 45.11it/s]\n"
          ]
        },
        {
          "output_type": "stream",
          "name": "stdout",
          "text": [
            "Loss: 0.07122055517838283 , IOU: 0.8990515657499726\n",
            "--------------------------------------------------------\n",
            "--------------------------------------------------------\n",
            "--------------------------------------------------------\n",
            "--------------------------------------------------------\n",
            "Epoch 9/20: Training\n"
          ]
        },
        {
          "output_type": "stream",
          "name": "stderr",
          "text": [
            "100%|██████████| 900/900 [00:56<00:00, 16.05it/s]\n"
          ]
        },
        {
          "output_type": "stream",
          "name": "stdout",
          "text": [
            "Loss: 0.059642496713333666 , IOU: 0.9180492304099935\n",
            "--------------------------------------------------------\n",
            "Epoch 9/20: Testing\n"
          ]
        },
        {
          "output_type": "stream",
          "name": "stderr",
          "text": [
            "100%|██████████| 51/51 [00:01<00:00, 38.34it/s]\n"
          ]
        },
        {
          "output_type": "stream",
          "name": "stdout",
          "text": [
            "Loss: 0.08279958122647274 , IOU: 0.8864059093243937\n",
            "--------------------------------------------------------\n",
            "--------------------------------------------------------\n",
            "--------------------------------------------------------\n",
            "--------------------------------------------------------\n",
            "Epoch 10/20: Training\n"
          ]
        },
        {
          "output_type": "stream",
          "name": "stderr",
          "text": [
            "100%|██████████| 900/900 [00:56<00:00, 16.03it/s]\n"
          ]
        },
        {
          "output_type": "stream",
          "name": "stdout",
          "text": [
            "Loss: 0.05004001415024204 , IOU: 0.930789439678192\n",
            "--------------------------------------------------------\n",
            "Epoch 10/20: Testing\n"
          ]
        },
        {
          "output_type": "stream",
          "name": "stderr",
          "text": [
            "100%|██████████| 51/51 [00:01<00:00, 39.02it/s]\n"
          ]
        },
        {
          "output_type": "stream",
          "name": "stdout",
          "text": [
            "Loss: 0.09991777670003618 , IOU: 0.8669433365849886\n",
            "--------------------------------------------------------\n",
            "--------------------------------------------------------\n",
            "--------------------------------------------------------\n",
            "--------------------------------------------------------\n",
            "Epoch 11/20: Training\n"
          ]
        },
        {
          "output_type": "stream",
          "name": "stderr",
          "text": [
            "100%|██████████| 900/900 [00:55<00:00, 16.09it/s]\n"
          ]
        },
        {
          "output_type": "stream",
          "name": "stdout",
          "text": [
            "Loss: 0.04740220575800375 , IOU: 0.934784081512028\n",
            "--------------------------------------------------------\n",
            "Epoch 11/20: Testing\n"
          ]
        },
        {
          "output_type": "stream",
          "name": "stderr",
          "text": [
            "100%|██████████| 51/51 [00:01<00:00, 39.15it/s]\n"
          ]
        },
        {
          "output_type": "stream",
          "name": "stdout",
          "text": [
            "Loss: 0.10788963475794183 , IOU: 0.8611098533751916\n",
            "--------------------------------------------------------\n",
            "--------------------------------------------------------\n",
            "--------------------------------------------------------\n",
            "--------------------------------------------------------\n",
            "Epoch 12/20: Training\n"
          ]
        },
        {
          "output_type": "stream",
          "name": "stderr",
          "text": [
            "100%|██████████| 900/900 [00:56<00:00, 16.02it/s]\n"
          ]
        },
        {
          "output_type": "stream",
          "name": "stdout",
          "text": [
            "Loss: 0.05561778056124846 , IOU: 0.9243927757607574\n",
            "--------------------------------------------------------\n",
            "Epoch 12/20: Testing\n"
          ]
        },
        {
          "output_type": "stream",
          "name": "stderr",
          "text": [
            "100%|██████████| 51/51 [00:01<00:00, 45.37it/s]\n"
          ]
        },
        {
          "output_type": "stream",
          "name": "stdout",
          "text": [
            "Loss: 0.07993600654470569 , IOU: 0.8903716557166155\n",
            "--------------------------------------------------------\n",
            "--------------------------------------------------------\n",
            "--------------------------------------------------------\n",
            "--------------------------------------------------------\n",
            "Epoch 13/20: Training\n"
          ]
        },
        {
          "output_type": "stream",
          "name": "stderr",
          "text": [
            "100%|██████████| 900/900 [00:56<00:00, 16.07it/s]\n"
          ]
        },
        {
          "output_type": "stream",
          "name": "stdout",
          "text": [
            "Loss: 0.04895646242114412 , IOU: 0.932714962561925\n",
            "--------------------------------------------------------\n",
            "Epoch 13/20: Testing\n"
          ]
        },
        {
          "output_type": "stream",
          "name": "stderr",
          "text": [
            "100%|██████████| 51/51 [00:01<00:00, 46.68it/s]\n"
          ]
        },
        {
          "output_type": "stream",
          "name": "stdout",
          "text": [
            "Loss: 0.11775645799934864 , IOU: 0.8434232288341531\n",
            "--------------------------------------------------------\n",
            "--------------------------------------------------------\n",
            "--------------------------------------------------------\n",
            "--------------------------------------------------------\n",
            "Epoch 14/20: Training\n"
          ]
        },
        {
          "output_type": "stream",
          "name": "stderr",
          "text": [
            "100%|██████████| 900/900 [00:56<00:00, 16.07it/s]\n"
          ]
        },
        {
          "output_type": "stream",
          "name": "stdout",
          "text": [
            "Loss: 0.05288046060543927 , IOU: 0.9276833399799133\n",
            "--------------------------------------------------------\n",
            "Epoch 14/20: Testing\n"
          ]
        },
        {
          "output_type": "stream",
          "name": "stderr",
          "text": [
            "100%|██████████| 51/51 [00:01<00:00, 46.54it/s]\n"
          ]
        },
        {
          "output_type": "stream",
          "name": "stdout",
          "text": [
            "Loss: 0.15343062933899607 , IOU: 0.8094471686830119\n",
            "--------------------------------------------------------\n",
            "--------------------------------------------------------\n",
            "--------------------------------------------------------\n",
            "--------------------------------------------------------\n",
            "Epoch 15/20: Training\n"
          ]
        },
        {
          "output_type": "stream",
          "name": "stderr",
          "text": [
            "100%|██████████| 900/900 [00:55<00:00, 16.13it/s]\n"
          ]
        },
        {
          "output_type": "stream",
          "name": "stdout",
          "text": [
            "Loss: 0.04345701895654202 , IOU: 0.939707321193483\n",
            "--------------------------------------------------------\n",
            "Epoch 15/20: Testing\n"
          ]
        },
        {
          "output_type": "stream",
          "name": "stderr",
          "text": [
            "100%|██████████| 51/51 [00:01<00:00, 46.84it/s]\n"
          ]
        },
        {
          "output_type": "stream",
          "name": "stdout",
          "text": [
            "Loss: 0.16838385781967175 , IOU: 0.7916896189562976\n",
            "--------------------------------------------------------\n",
            "--------------------------------------------------------\n",
            "--------------------------------------------------------\n",
            "--------------------------------------------------------\n",
            "Epoch 16/20: Training\n"
          ]
        },
        {
          "output_type": "stream",
          "name": "stderr",
          "text": [
            "100%|██████████| 900/900 [00:55<00:00, 16.17it/s]\n"
          ]
        },
        {
          "output_type": "stream",
          "name": "stdout",
          "text": [
            "Loss: 0.05303873286892962 , IOU: 0.927934155323439\n",
            "--------------------------------------------------------\n",
            "Epoch 16/20: Testing\n"
          ]
        },
        {
          "output_type": "stream",
          "name": "stderr",
          "text": [
            "100%|██████████| 51/51 [00:01<00:00, 46.56it/s]\n"
          ]
        },
        {
          "output_type": "stream",
          "name": "stdout",
          "text": [
            "Loss: 0.24920235380676448 , IOU: 0.6974970471963067\n",
            "--------------------------------------------------------\n",
            "--------------------------------------------------------\n",
            "--------------------------------------------------------\n",
            "--------------------------------------------------------\n",
            "Epoch 17/20: Training\n"
          ]
        },
        {
          "output_type": "stream",
          "name": "stderr",
          "text": [
            "100%|██████████| 900/900 [00:55<00:00, 16.18it/s]\n"
          ]
        },
        {
          "output_type": "stream",
          "name": "stdout",
          "text": [
            "Loss: 0.04598133415294189 , IOU: 0.9366699149542382\n",
            "--------------------------------------------------------\n",
            "Epoch 17/20: Testing\n"
          ]
        },
        {
          "output_type": "stream",
          "name": "stderr",
          "text": [
            "100%|██████████| 51/51 [00:01<00:00, 45.85it/s]\n"
          ]
        },
        {
          "output_type": "stream",
          "name": "stdout",
          "text": [
            "Loss: 0.08785554196904685 , IOU: 0.8799780449446508\n",
            "--------------------------------------------------------\n",
            "--------------------------------------------------------\n",
            "--------------------------------------------------------\n",
            "--------------------------------------------------------\n",
            "Epoch 18/20: Training\n"
          ]
        },
        {
          "output_type": "stream",
          "name": "stderr",
          "text": [
            "100%|██████████| 900/900 [00:55<00:00, 16.18it/s]\n"
          ]
        },
        {
          "output_type": "stream",
          "name": "stdout",
          "text": [
            "Loss: 0.04243862676537695 , IOU: 0.9420175761646699\n",
            "--------------------------------------------------------\n",
            "Epoch 18/20: Testing\n"
          ]
        },
        {
          "output_type": "stream",
          "name": "stderr",
          "text": [
            "100%|██████████| 51/51 [00:01<00:00, 46.11it/s]\n"
          ]
        },
        {
          "output_type": "stream",
          "name": "stdout",
          "text": [
            "Loss: 0.159528292514676 , IOU: 0.7984159093295391\n",
            "--------------------------------------------------------\n",
            "--------------------------------------------------------\n",
            "--------------------------------------------------------\n",
            "--------------------------------------------------------\n",
            "Epoch 19/20: Training\n"
          ]
        },
        {
          "output_type": "stream",
          "name": "stderr",
          "text": [
            "100%|██████████| 900/900 [00:55<00:00, 16.12it/s]\n"
          ]
        },
        {
          "output_type": "stream",
          "name": "stdout",
          "text": [
            "Loss: 0.04494111879728735 , IOU: 0.9379788357681699\n",
            "--------------------------------------------------------\n",
            "Epoch 19/20: Testing\n"
          ]
        },
        {
          "output_type": "stream",
          "name": "stderr",
          "text": [
            "100%|██████████| 51/51 [00:01<00:00, 37.69it/s]\n"
          ]
        },
        {
          "output_type": "stream",
          "name": "stdout",
          "text": [
            "Loss: 0.09937958218449472 , IOU: 0.8647267284857878\n",
            "--------------------------------------------------------\n",
            "--------------------------------------------------------\n",
            "--------------------------------------------------------\n",
            "--------------------------------------------------------\n",
            "Epoch 20/20: Training\n"
          ]
        },
        {
          "output_type": "stream",
          "name": "stderr",
          "text": [
            "100%|██████████| 900/900 [00:56<00:00, 15.95it/s]\n"
          ]
        },
        {
          "output_type": "stream",
          "name": "stdout",
          "text": [
            "Loss: 0.04369369980879131 , IOU: 0.939879116945796\n",
            "--------------------------------------------------------\n",
            "Epoch 20/20: Testing\n"
          ]
        },
        {
          "output_type": "stream",
          "name": "stderr",
          "text": [
            "100%|██████████| 51/51 [00:01<00:00, 35.29it/s]"
          ]
        },
        {
          "output_type": "stream",
          "name": "stdout",
          "text": [
            "Loss: 0.14496007766209398 , IOU: 0.8093874861837786\n",
            "--------------------------------------------------------\n",
            "--------------------------------------------------------\n",
            "Best IoU:  0.9042218385958203\n"
          ]
        },
        {
          "output_type": "stream",
          "name": "stderr",
          "text": [
            "\n"
          ]
        }
      ]
    },
    {
      "cell_type": "markdown",
      "source": [
        "#Training_FPN(Params: 23.15M, Best: 0.8937)"
      ],
      "metadata": {
        "id": "rsUwe4GZO2Cs"
      }
    },
    {
      "cell_type": "code",
      "source": [
        "LEARNING_RATE = 1e-4\n",
        "NUM_EPOCHS = 20\n",
        "BATCH_SIZE = 1\n",
        "model_path = '/content/drive/MyDrive/PPT/Foreground/Transfer/AC/Models/fpn.pth'\n",
        "\n",
        "if torch.cuda.is_available: device = torch.device(\"cuda\")\n",
        "else: device = torch.device(\"cpu\")\n",
        "\n",
        "frame = MyFrame(model, LEARNING_RATE, device)\n",
        "#frame.load(model_path)\n",
        "\n",
        "best_iou = 0.\n",
        "\n",
        "for epoch in range(1, NUM_EPOCHS+1):\n",
        "    print(\"--------------------------------------------------------\")\n",
        "    print(\"--------------------------------------------------------\")\n",
        "    print(\"Epoch \"+str(epoch)+\"/\"+str(NUM_EPOCHS)+\": Training\")\n",
        "    tr_dict = frame.run_epoch(train_loader)\n",
        "    print(\"Loss:\", tr_dict[\"loss\"], \", IOU:\", tr_dict[\"iou\"])\n",
        "    print(\"--------------------------------------------------------\")\n",
        "    print(\"Epoch \"+str(epoch)+\"/\"+str(NUM_EPOCHS)+\": Testing\")\n",
        "    te_dict = frame.run_epoch(test_loader, train=False)\n",
        "    print(\"Loss:\", te_dict[\"loss\"], \", IOU:\", te_dict[\"iou\"])\n",
        "    print(\"--------------------------------------------------------\")\n",
        "    print(\"--------------------------------------------------------\")\n",
        "    \n",
        "    if te_dict[\"iou\"] > best_iou: \n",
        "      frame.save(model_path)\n",
        "      best_iou = te_dict[\"iou\"]\n",
        "\n",
        "print('Best IoU: ', best_iou) "
      ],
      "metadata": {
        "colab": {
          "base_uri": "https://localhost:8080/"
        },
        "id": "hqMpp5KMO1BN",
        "outputId": "d7256659-dcf7-40c9-a8f9-76daceeb930e"
      },
      "execution_count": null,
      "outputs": [
        {
          "output_type": "stream",
          "name": "stdout",
          "text": [
            "--------------------------------------------------------\n",
            "--------------------------------------------------------\n",
            "Epoch 1/20: Training\n"
          ]
        },
        {
          "output_type": "stream",
          "name": "stderr",
          "text": [
            "100%|██████████| 900/900 [00:47<00:00, 18.93it/s]\n"
          ]
        },
        {
          "output_type": "stream",
          "name": "stdout",
          "text": [
            "Loss: 0.24635345810403447 , IOU: 0.680156305984291\n",
            "--------------------------------------------------------\n",
            "Epoch 1/20: Testing\n"
          ]
        },
        {
          "output_type": "stream",
          "name": "stderr",
          "text": [
            "100%|██████████| 51/51 [00:01<00:00, 40.25it/s]\n"
          ]
        },
        {
          "output_type": "stream",
          "name": "stdout",
          "text": [
            "Loss: 0.24029409490963988 , IOU: 0.6810493177058651\n",
            "--------------------------------------------------------\n",
            "--------------------------------------------------------\n",
            "--------------------------------------------------------\n",
            "--------------------------------------------------------\n",
            "Epoch 2/20: Training\n"
          ]
        },
        {
          "output_type": "stream",
          "name": "stderr",
          "text": [
            "100%|██████████| 900/900 [00:47<00:00, 18.76it/s]\n"
          ]
        },
        {
          "output_type": "stream",
          "name": "stdout",
          "text": [
            "Loss: 0.12244016134904465 , IOU: 0.8310388219853243\n",
            "--------------------------------------------------------\n",
            "Epoch 2/20: Testing\n"
          ]
        },
        {
          "output_type": "stream",
          "name": "stderr",
          "text": [
            "100%|██████████| 51/51 [00:00<00:00, 54.13it/s]\n"
          ]
        },
        {
          "output_type": "stream",
          "name": "stdout",
          "text": [
            "Loss: 0.10147724344449888 , IOU: 0.858738808070912\n",
            "--------------------------------------------------------\n",
            "--------------------------------------------------------\n",
            "--------------------------------------------------------\n",
            "--------------------------------------------------------\n",
            "Epoch 3/20: Training\n"
          ]
        },
        {
          "output_type": "stream",
          "name": "stderr",
          "text": [
            "100%|██████████| 900/900 [00:46<00:00, 19.39it/s]\n"
          ]
        },
        {
          "output_type": "stream",
          "name": "stdout",
          "text": [
            "Loss: 0.09376497140568156 , IOU: 0.872246659000713\n",
            "--------------------------------------------------------\n",
            "Epoch 3/20: Testing\n"
          ]
        },
        {
          "output_type": "stream",
          "name": "stderr",
          "text": [
            "100%|██████████| 51/51 [00:01<00:00, 44.05it/s]\n"
          ]
        },
        {
          "output_type": "stream",
          "name": "stdout",
          "text": [
            "Loss: 0.09136503752247957 , IOU: 0.8740808215795779\n",
            "--------------------------------------------------------\n",
            "--------------------------------------------------------\n",
            "--------------------------------------------------------\n",
            "--------------------------------------------------------\n",
            "Epoch 4/20: Training\n"
          ]
        },
        {
          "output_type": "stream",
          "name": "stderr",
          "text": [
            "100%|██████████| 900/900 [00:48<00:00, 18.47it/s]\n"
          ]
        },
        {
          "output_type": "stream",
          "name": "stdout",
          "text": [
            "Loss: 0.08328169886229751 , IOU: 0.8849496739688847\n",
            "--------------------------------------------------------\n",
            "Epoch 4/20: Testing\n"
          ]
        },
        {
          "output_type": "stream",
          "name": "stderr",
          "text": [
            "100%|██████████| 51/51 [00:01<00:00, 46.57it/s]\n"
          ]
        },
        {
          "output_type": "stream",
          "name": "stdout",
          "text": [
            "Loss: 0.08557402152641147 , IOU: 0.8807155308770196\n",
            "--------------------------------------------------------\n",
            "--------------------------------------------------------\n",
            "--------------------------------------------------------\n",
            "--------------------------------------------------------\n",
            "Epoch 5/20: Training\n"
          ]
        },
        {
          "output_type": "stream",
          "name": "stderr",
          "text": [
            "100%|██████████| 900/900 [00:52<00:00, 17.26it/s]\n"
          ]
        },
        {
          "output_type": "stream",
          "name": "stdout",
          "text": [
            "Loss: 0.07444709849647355 , IOU: 0.8970383122770316\n",
            "--------------------------------------------------------\n",
            "Epoch 5/20: Testing\n"
          ]
        },
        {
          "output_type": "stream",
          "name": "stderr",
          "text": [
            "100%|██████████| 51/51 [00:01<00:00, 50.64it/s]\n"
          ]
        },
        {
          "output_type": "stream",
          "name": "stdout",
          "text": [
            "Loss: 0.08074814585201881 , IOU: 0.8839811624265185\n",
            "--------------------------------------------------------\n",
            "--------------------------------------------------------\n",
            "--------------------------------------------------------\n",
            "--------------------------------------------------------\n",
            "Epoch 6/20: Training\n"
          ]
        },
        {
          "output_type": "stream",
          "name": "stderr",
          "text": [
            "100%|██████████| 900/900 [00:46<00:00, 19.50it/s]\n"
          ]
        },
        {
          "output_type": "stream",
          "name": "stdout",
          "text": [
            "Loss: 0.07014778227027921 , IOU: 0.9019909432861539\n",
            "--------------------------------------------------------\n",
            "Epoch 6/20: Testing\n"
          ]
        },
        {
          "output_type": "stream",
          "name": "stderr",
          "text": [
            "100%|██████████| 51/51 [00:00<00:00, 52.54it/s]\n"
          ]
        },
        {
          "output_type": "stream",
          "name": "stdout",
          "text": [
            "Loss: 0.07855731924520988 , IOU: 0.8895396631137997\n",
            "--------------------------------------------------------\n",
            "--------------------------------------------------------\n",
            "--------------------------------------------------------\n",
            "--------------------------------------------------------\n",
            "Epoch 7/20: Training\n"
          ]
        },
        {
          "output_type": "stream",
          "name": "stderr",
          "text": [
            "100%|██████████| 900/900 [00:46<00:00, 19.17it/s]\n"
          ]
        },
        {
          "output_type": "stream",
          "name": "stdout",
          "text": [
            "Loss: 0.06710528119156757 , IOU: 0.9061309971163666\n",
            "--------------------------------------------------------\n",
            "Epoch 7/20: Testing\n"
          ]
        },
        {
          "output_type": "stream",
          "name": "stderr",
          "text": [
            "100%|██████████| 51/51 [00:00<00:00, 54.87it/s]\n"
          ]
        },
        {
          "output_type": "stream",
          "name": "stdout",
          "text": [
            "Loss: 0.08153649616767379 , IOU: 0.8894963323631708\n",
            "--------------------------------------------------------\n",
            "--------------------------------------------------------\n",
            "--------------------------------------------------------\n",
            "--------------------------------------------------------\n",
            "Epoch 8/20: Training\n"
          ]
        },
        {
          "output_type": "stream",
          "name": "stderr",
          "text": [
            "100%|██████████| 900/900 [00:45<00:00, 19.98it/s]\n"
          ]
        },
        {
          "output_type": "stream",
          "name": "stdout",
          "text": [
            "Loss: 0.06397164317882718 , IOU: 0.9106978680855684\n",
            "--------------------------------------------------------\n",
            "Epoch 8/20: Testing\n"
          ]
        },
        {
          "output_type": "stream",
          "name": "stderr",
          "text": [
            "100%|██████████| 51/51 [00:00<00:00, 54.93it/s]\n"
          ]
        },
        {
          "output_type": "stream",
          "name": "stdout",
          "text": [
            "Loss: 0.08442260014514129 , IOU: 0.8814167730948504\n",
            "--------------------------------------------------------\n",
            "--------------------------------------------------------\n",
            "--------------------------------------------------------\n",
            "--------------------------------------------------------\n",
            "Epoch 9/20: Training\n"
          ]
        },
        {
          "output_type": "stream",
          "name": "stderr",
          "text": [
            "100%|██████████| 900/900 [00:49<00:00, 18.28it/s]\n"
          ]
        },
        {
          "output_type": "stream",
          "name": "stdout",
          "text": [
            "Loss: 0.06196352295991447 , IOU: 0.9135001307725917\n",
            "--------------------------------------------------------\n",
            "Epoch 9/20: Testing\n"
          ]
        },
        {
          "output_type": "stream",
          "name": "stderr",
          "text": [
            "100%|██████████| 51/51 [00:01<00:00, 36.97it/s]\n"
          ]
        },
        {
          "output_type": "stream",
          "name": "stdout",
          "text": [
            "Loss: 0.08660405556506967 , IOU: 0.8775012732720843\n",
            "--------------------------------------------------------\n",
            "--------------------------------------------------------\n",
            "--------------------------------------------------------\n",
            "--------------------------------------------------------\n",
            "Epoch 10/20: Training\n"
          ]
        },
        {
          "output_type": "stream",
          "name": "stderr",
          "text": [
            "100%|██████████| 900/900 [00:50<00:00, 17.67it/s]\n"
          ]
        },
        {
          "output_type": "stream",
          "name": "stdout",
          "text": [
            "Loss: 0.060231313426047525 , IOU: 0.9158421562115354\n",
            "--------------------------------------------------------\n",
            "Epoch 10/20: Testing\n"
          ]
        },
        {
          "output_type": "stream",
          "name": "stderr",
          "text": [
            "100%|██████████| 51/51 [00:00<00:00, 54.14it/s]\n"
          ]
        },
        {
          "output_type": "stream",
          "name": "stdout",
          "text": [
            "Loss: 0.09302433455983794 , IOU: 0.8732034369718795\n",
            "--------------------------------------------------------\n",
            "--------------------------------------------------------\n",
            "--------------------------------------------------------\n",
            "--------------------------------------------------------\n",
            "Epoch 11/20: Training\n"
          ]
        },
        {
          "output_type": "stream",
          "name": "stderr",
          "text": [
            "100%|██████████| 900/900 [00:48<00:00, 18.55it/s]\n"
          ]
        },
        {
          "output_type": "stream",
          "name": "stdout",
          "text": [
            "Loss: 0.05609818116244341 , IOU: 0.9213477788906963\n",
            "--------------------------------------------------------\n",
            "Epoch 11/20: Testing\n"
          ]
        },
        {
          "output_type": "stream",
          "name": "stderr",
          "text": [
            "100%|██████████| 51/51 [00:00<00:00, 53.14it/s]\n"
          ]
        },
        {
          "output_type": "stream",
          "name": "stdout",
          "text": [
            "Loss: 0.0783430343384252 , IOU: 0.8936637854020972\n",
            "--------------------------------------------------------\n",
            "--------------------------------------------------------\n",
            "--------------------------------------------------------\n",
            "--------------------------------------------------------\n",
            "Epoch 12/20: Training\n"
          ]
        },
        {
          "output_type": "stream",
          "name": "stderr",
          "text": [
            "100%|██████████| 900/900 [00:48<00:00, 18.68it/s]\n"
          ]
        },
        {
          "output_type": "stream",
          "name": "stdout",
          "text": [
            "Loss: 0.05428379243032803 , IOU: 0.9237830310397679\n",
            "--------------------------------------------------------\n",
            "Epoch 12/20: Testing\n"
          ]
        },
        {
          "output_type": "stream",
          "name": "stderr",
          "text": [
            "100%|██████████| 51/51 [00:01<00:00, 45.16it/s]\n"
          ]
        },
        {
          "output_type": "stream",
          "name": "stdout",
          "text": [
            "Loss: 0.10237577060858408 , IOU: 0.8595107680588373\n",
            "--------------------------------------------------------\n",
            "--------------------------------------------------------\n",
            "--------------------------------------------------------\n",
            "--------------------------------------------------------\n",
            "Epoch 13/20: Training\n"
          ]
        },
        {
          "output_type": "stream",
          "name": "stderr",
          "text": [
            "100%|██████████| 900/900 [00:47<00:00, 18.99it/s]\n"
          ]
        },
        {
          "output_type": "stream",
          "name": "stdout",
          "text": [
            "Loss: 0.0529774123202595 , IOU: 0.9255099321073951\n",
            "--------------------------------------------------------\n",
            "Epoch 13/20: Testing\n"
          ]
        },
        {
          "output_type": "stream",
          "name": "stderr",
          "text": [
            "100%|██████████| 51/51 [00:01<00:00, 47.01it/s]\n"
          ]
        },
        {
          "output_type": "stream",
          "name": "stdout",
          "text": [
            "Loss: 0.08025605242480251 , IOU: 0.8886986328106302\n",
            "--------------------------------------------------------\n",
            "--------------------------------------------------------\n",
            "--------------------------------------------------------\n",
            "--------------------------------------------------------\n",
            "Epoch 14/20: Training\n"
          ]
        },
        {
          "output_type": "stream",
          "name": "stderr",
          "text": [
            "100%|██████████| 900/900 [00:50<00:00, 17.70it/s]\n"
          ]
        },
        {
          "output_type": "stream",
          "name": "stdout",
          "text": [
            "Loss: 0.05163181896011035 , IOU: 0.9272442794508401\n",
            "--------------------------------------------------------\n",
            "Epoch 14/20: Testing\n"
          ]
        },
        {
          "output_type": "stream",
          "name": "stderr",
          "text": [
            "100%|██████████| 51/51 [00:01<00:00, 38.77it/s]\n"
          ]
        },
        {
          "output_type": "stream",
          "name": "stdout",
          "text": [
            "Loss: 0.08527591247476785 , IOU: 0.8829075563333783\n",
            "--------------------------------------------------------\n",
            "--------------------------------------------------------\n",
            "--------------------------------------------------------\n",
            "--------------------------------------------------------\n",
            "Epoch 15/20: Training\n"
          ]
        },
        {
          "output_type": "stream",
          "name": "stderr",
          "text": [
            "100%|██████████| 900/900 [00:51<00:00, 17.44it/s]\n"
          ]
        },
        {
          "output_type": "stream",
          "name": "stdout",
          "text": [
            "Loss: 0.05157547948054142 , IOU: 0.9277404886484146\n",
            "--------------------------------------------------------\n",
            "Epoch 15/20: Testing\n"
          ]
        },
        {
          "output_type": "stream",
          "name": "stderr",
          "text": [
            "100%|██████████| 51/51 [00:01<00:00, 41.51it/s]\n"
          ]
        },
        {
          "output_type": "stream",
          "name": "stdout",
          "text": [
            "Loss: 0.1362417263216248 , IOU: 0.8198955101782781\n",
            "--------------------------------------------------------\n",
            "--------------------------------------------------------\n",
            "--------------------------------------------------------\n",
            "--------------------------------------------------------\n",
            "Epoch 16/20: Training\n"
          ]
        },
        {
          "output_type": "stream",
          "name": "stderr",
          "text": [
            "100%|██████████| 900/900 [00:51<00:00, 17.42it/s]\n"
          ]
        },
        {
          "output_type": "stream",
          "name": "stdout",
          "text": [
            "Loss: 0.049112393029241135 , IOU: 0.9310555105739171\n",
            "--------------------------------------------------------\n",
            "Epoch 16/20: Testing\n"
          ]
        },
        {
          "output_type": "stream",
          "name": "stderr",
          "text": [
            "100%|██████████| 51/51 [00:01<00:00, 47.24it/s]\n"
          ]
        },
        {
          "output_type": "stream",
          "name": "stdout",
          "text": [
            "Loss: 0.0851757750645572 , IOU: 0.8816546023841583\n",
            "--------------------------------------------------------\n",
            "--------------------------------------------------------\n",
            "--------------------------------------------------------\n",
            "--------------------------------------------------------\n",
            "Epoch 17/20: Training\n"
          ]
        },
        {
          "output_type": "stream",
          "name": "stderr",
          "text": [
            "100%|██████████| 900/900 [00:49<00:00, 18.01it/s]\n"
          ]
        },
        {
          "output_type": "stream",
          "name": "stdout",
          "text": [
            "Loss: 0.04671208431323374 , IOU: 0.9344620366891224\n",
            "--------------------------------------------------------\n",
            "Epoch 17/20: Testing\n"
          ]
        },
        {
          "output_type": "stream",
          "name": "stderr",
          "text": [
            "100%|██████████| 51/51 [00:00<00:00, 54.60it/s]\n"
          ]
        },
        {
          "output_type": "stream",
          "name": "stdout",
          "text": [
            "Loss: 0.08454312862572719 , IOU: 0.8817108082128506\n",
            "--------------------------------------------------------\n",
            "--------------------------------------------------------\n",
            "--------------------------------------------------------\n",
            "--------------------------------------------------------\n",
            "Epoch 18/20: Training\n"
          ]
        },
        {
          "output_type": "stream",
          "name": "stderr",
          "text": [
            "100%|██████████| 900/900 [00:46<00:00, 19.15it/s]\n"
          ]
        },
        {
          "output_type": "stream",
          "name": "stdout",
          "text": [
            "Loss: 0.053552157397692424 , IOU: 0.9260487597849643\n",
            "--------------------------------------------------------\n",
            "Epoch 18/20: Testing\n"
          ]
        },
        {
          "output_type": "stream",
          "name": "stderr",
          "text": [
            "100%|██████████| 51/51 [00:01<00:00, 47.07it/s]\n"
          ]
        },
        {
          "output_type": "stream",
          "name": "stdout",
          "text": [
            "Loss: 0.12863287910380783 , IOU: 0.8341790945177859\n",
            "--------------------------------------------------------\n",
            "--------------------------------------------------------\n",
            "--------------------------------------------------------\n",
            "--------------------------------------------------------\n",
            "Epoch 19/20: Training\n"
          ]
        },
        {
          "output_type": "stream",
          "name": "stderr",
          "text": [
            "100%|██████████| 900/900 [00:51<00:00, 17.40it/s]\n"
          ]
        },
        {
          "output_type": "stream",
          "name": "stdout",
          "text": [
            "Loss: 0.045866826478805835 , IOU: 0.9364677613311341\n",
            "--------------------------------------------------------\n",
            "Epoch 19/20: Testing\n"
          ]
        },
        {
          "output_type": "stream",
          "name": "stderr",
          "text": [
            "100%|██████████| 51/51 [00:01<00:00, 47.15it/s]\n"
          ]
        },
        {
          "output_type": "stream",
          "name": "stdout",
          "text": [
            "Loss: 0.10247854106858663 , IOU: 0.859425102963167\n",
            "--------------------------------------------------------\n",
            "--------------------------------------------------------\n",
            "--------------------------------------------------------\n",
            "--------------------------------------------------------\n",
            "Epoch 20/20: Training\n"
          ]
        },
        {
          "output_type": "stream",
          "name": "stderr",
          "text": [
            "100%|██████████| 900/900 [00:52<00:00, 17.17it/s]\n"
          ]
        },
        {
          "output_type": "stream",
          "name": "stdout",
          "text": [
            "Loss: 0.043265262952902325 , IOU: 0.9394244820541802\n",
            "--------------------------------------------------------\n",
            "Epoch 20/20: Testing\n"
          ]
        },
        {
          "output_type": "stream",
          "name": "stderr",
          "text": [
            "100%|██████████| 51/51 [00:01<00:00, 46.04it/s]"
          ]
        },
        {
          "output_type": "stream",
          "name": "stdout",
          "text": [
            "Loss: 0.1019601277349626 , IOU: 0.8616259226612017\n",
            "--------------------------------------------------------\n",
            "--------------------------------------------------------\n",
            "Best IoU:  0.8936637854020972\n"
          ]
        },
        {
          "output_type": "stream",
          "name": "stderr",
          "text": [
            "\n"
          ]
        }
      ]
    },
    {
      "cell_type": "markdown",
      "source": [
        "#Training_PSPnet(Params: 21.43M, Best: 0.8931)"
      ],
      "metadata": {
        "id": "Pf4yqHlujiYd"
      }
    },
    {
      "cell_type": "code",
      "source": [
        "LEARNING_RATE = 1e-4\n",
        "NUM_EPOCHS = 20\n",
        "BATCH_SIZE = 1\n",
        "model_path = '/content/drive/MyDrive/PPT/Foreground/Transfer/AC/Models/psp.pth'\n",
        "\n",
        "if torch.cuda.is_available: device = torch.device(\"cuda\")\n",
        "else: device = torch.device(\"cpu\")\n",
        "\n",
        "frame = MyFrame(model, LEARNING_RATE, device)\n",
        "#frame.load(model_path)\n",
        "\n",
        "best_iou = 0.\n",
        "\n",
        "for epoch in range(1, NUM_EPOCHS+1):\n",
        "    print(\"--------------------------------------------------------\")\n",
        "    print(\"--------------------------------------------------------\")\n",
        "    print(\"Epoch \"+str(epoch)+\"/\"+str(NUM_EPOCHS)+\": Training\")\n",
        "    tr_dict = frame.run_epoch(train_loader)\n",
        "    print(\"Loss:\", tr_dict[\"loss\"], \", IOU:\", tr_dict[\"iou\"])\n",
        "    print(\"--------------------------------------------------------\")\n",
        "    print(\"Epoch \"+str(epoch)+\"/\"+str(NUM_EPOCHS)+\": Testing\")\n",
        "    te_dict = frame.run_epoch(test_loader, train=False)\n",
        "    print(\"Loss:\", te_dict[\"loss\"], \", IOU:\", te_dict[\"iou\"])\n",
        "    print(\"--------------------------------------------------------\")\n",
        "    print(\"--------------------------------------------------------\")\n",
        "    \n",
        "    if te_dict[\"iou\"] > best_iou: \n",
        "      frame.save(model_path)\n",
        "      best_iou = te_dict[\"iou\"]\n",
        "\n",
        "print('Best IoU: ', best_iou) "
      ],
      "metadata": {
        "colab": {
          "base_uri": "https://localhost:8080/"
        },
        "id": "7XM6ZkGajfO6",
        "outputId": "a64e89d1-af76-471a-d493-a26e0b7f4f7c"
      },
      "execution_count": null,
      "outputs": [
        {
          "output_type": "stream",
          "name": "stdout",
          "text": [
            "--------------------------------------------------------\n",
            "--------------------------------------------------------\n",
            "Epoch 1/20: Training\n"
          ]
        },
        {
          "output_type": "stream",
          "name": "stderr",
          "text": [
            "100%|██████████| 900/900 [12:55<00:00,  1.16it/s]\n"
          ]
        },
        {
          "output_type": "stream",
          "name": "stdout",
          "text": [
            "Loss: 0.21154191400441882 , IOU: 0.7579693482922285\n",
            "--------------------------------------------------------\n",
            "Epoch 1/20: Testing\n"
          ]
        },
        {
          "output_type": "stream",
          "name": "stderr",
          "text": [
            "100%|██████████| 51/51 [00:41<00:00,  1.23it/s]\n"
          ]
        },
        {
          "output_type": "stream",
          "name": "stdout",
          "text": [
            "Loss: 0.1433098183981344 , IOU: 0.8117507164384803\n",
            "--------------------------------------------------------\n",
            "--------------------------------------------------------\n",
            "--------------------------------------------------------\n",
            "--------------------------------------------------------\n",
            "Epoch 2/20: Training\n"
          ]
        },
        {
          "output_type": "stream",
          "name": "stderr",
          "text": [
            "100%|██████████| 900/900 [00:27<00:00, 32.72it/s]\n"
          ]
        },
        {
          "output_type": "stream",
          "name": "stdout",
          "text": [
            "Loss: 0.10235909390366739 , IOU: 0.8627518022515717\n",
            "--------------------------------------------------------\n",
            "Epoch 2/20: Testing\n"
          ]
        },
        {
          "output_type": "stream",
          "name": "stderr",
          "text": [
            "100%|██████████| 51/51 [00:00<00:00, 73.80it/s]\n"
          ]
        },
        {
          "output_type": "stream",
          "name": "stdout",
          "text": [
            "Loss: 0.12557403286736385 , IOU: 0.8274812582222854\n",
            "--------------------------------------------------------\n",
            "--------------------------------------------------------\n",
            "--------------------------------------------------------\n",
            "--------------------------------------------------------\n",
            "Epoch 3/20: Training\n"
          ]
        },
        {
          "output_type": "stream",
          "name": "stderr",
          "text": [
            "100%|██████████| 900/900 [00:27<00:00, 33.07it/s]\n"
          ]
        },
        {
          "output_type": "stream",
          "name": "stdout",
          "text": [
            "Loss: 0.08728394130865728 , IOU: 0.8812328474058044\n",
            "--------------------------------------------------------\n",
            "Epoch 3/20: Testing\n"
          ]
        },
        {
          "output_type": "stream",
          "name": "stderr",
          "text": [
            "100%|██████████| 51/51 [00:00<00:00, 75.16it/s]\n"
          ]
        },
        {
          "output_type": "stream",
          "name": "stdout",
          "text": [
            "Loss: 0.11574318931967605 , IOU: 0.840749200652627\n",
            "--------------------------------------------------------\n",
            "--------------------------------------------------------\n",
            "--------------------------------------------------------\n",
            "--------------------------------------------------------\n",
            "Epoch 4/20: Training\n"
          ]
        },
        {
          "output_type": "stream",
          "name": "stderr",
          "text": [
            "100%|██████████| 900/900 [00:27<00:00, 32.94it/s]\n"
          ]
        },
        {
          "output_type": "stream",
          "name": "stdout",
          "text": [
            "Loss: 0.08022660888317563 , IOU: 0.8901085332905249\n",
            "--------------------------------------------------------\n",
            "Epoch 4/20: Testing\n"
          ]
        },
        {
          "output_type": "stream",
          "name": "stderr",
          "text": [
            "100%|██████████| 51/51 [00:00<00:00, 75.25it/s]\n"
          ]
        },
        {
          "output_type": "stream",
          "name": "stdout",
          "text": [
            "Loss: 0.08040638633218465 , IOU: 0.8874573801078048\n",
            "--------------------------------------------------------\n",
            "--------------------------------------------------------\n",
            "--------------------------------------------------------\n",
            "--------------------------------------------------------\n",
            "Epoch 5/20: Training\n"
          ]
        },
        {
          "output_type": "stream",
          "name": "stderr",
          "text": [
            "100%|██████████| 900/900 [00:27<00:00, 33.08it/s]\n"
          ]
        },
        {
          "output_type": "stream",
          "name": "stdout",
          "text": [
            "Loss: 0.07514206784880825 , IOU: 0.8967549174527323\n",
            "--------------------------------------------------------\n",
            "Epoch 5/20: Testing\n"
          ]
        },
        {
          "output_type": "stream",
          "name": "stderr",
          "text": [
            "100%|██████████| 51/51 [00:00<00:00, 75.38it/s]\n"
          ]
        },
        {
          "output_type": "stream",
          "name": "stdout",
          "text": [
            "Loss: 0.08515358690683747 , IOU: 0.883809746480456\n",
            "--------------------------------------------------------\n",
            "--------------------------------------------------------\n",
            "--------------------------------------------------------\n",
            "--------------------------------------------------------\n",
            "Epoch 6/20: Training\n"
          ]
        },
        {
          "output_type": "stream",
          "name": "stderr",
          "text": [
            "100%|██████████| 900/900 [00:26<00:00, 33.51it/s]\n"
          ]
        },
        {
          "output_type": "stream",
          "name": "stdout",
          "text": [
            "Loss: 0.0682244197838008 , IOU: 0.9051784213052853\n",
            "--------------------------------------------------------\n",
            "Epoch 6/20: Testing\n"
          ]
        },
        {
          "output_type": "stream",
          "name": "stderr",
          "text": [
            "100%|██████████| 51/51 [00:00<00:00, 72.19it/s]\n"
          ]
        },
        {
          "output_type": "stream",
          "name": "stdout",
          "text": [
            "Loss: 0.12722466301684288 , IOU: 0.8231523790962848\n",
            "--------------------------------------------------------\n",
            "--------------------------------------------------------\n",
            "--------------------------------------------------------\n",
            "--------------------------------------------------------\n",
            "Epoch 7/20: Training\n"
          ]
        },
        {
          "output_type": "stream",
          "name": "stderr",
          "text": [
            "100%|██████████| 900/900 [00:27<00:00, 33.28it/s]\n"
          ]
        },
        {
          "output_type": "stream",
          "name": "stdout",
          "text": [
            "Loss: 0.06446353722156745 , IOU: 0.9100253431664572\n",
            "--------------------------------------------------------\n",
            "Epoch 7/20: Testing\n"
          ]
        },
        {
          "output_type": "stream",
          "name": "stderr",
          "text": [
            "100%|██████████| 51/51 [00:00<00:00, 70.93it/s]\n"
          ]
        },
        {
          "output_type": "stream",
          "name": "stdout",
          "text": [
            "Loss: 0.11388500553427958 , IOU: 0.8444899402412713\n",
            "--------------------------------------------------------\n",
            "--------------------------------------------------------\n",
            "--------------------------------------------------------\n",
            "--------------------------------------------------------\n",
            "Epoch 8/20: Training\n"
          ]
        },
        {
          "output_type": "stream",
          "name": "stderr",
          "text": [
            "100%|██████████| 900/900 [00:26<00:00, 33.69it/s]\n"
          ]
        },
        {
          "output_type": "stream",
          "name": "stdout",
          "text": [
            "Loss: 0.06252300606626604 , IOU: 0.912751294705603\n",
            "--------------------------------------------------------\n",
            "Epoch 8/20: Testing\n"
          ]
        },
        {
          "output_type": "stream",
          "name": "stderr",
          "text": [
            "100%|██████████| 51/51 [00:00<00:00, 72.77it/s]\n"
          ]
        },
        {
          "output_type": "stream",
          "name": "stdout",
          "text": [
            "Loss: 0.08269152658827164 , IOU: 0.8820530550152648\n",
            "--------------------------------------------------------\n",
            "--------------------------------------------------------\n",
            "--------------------------------------------------------\n",
            "--------------------------------------------------------\n",
            "Epoch 9/20: Training\n"
          ]
        },
        {
          "output_type": "stream",
          "name": "stderr",
          "text": [
            "100%|██████████| 900/900 [00:26<00:00, 33.69it/s]\n"
          ]
        },
        {
          "output_type": "stream",
          "name": "stdout",
          "text": [
            "Loss: 0.060376228696356275 , IOU: 0.9156897491547796\n",
            "--------------------------------------------------------\n",
            "Epoch 9/20: Testing\n"
          ]
        },
        {
          "output_type": "stream",
          "name": "stderr",
          "text": [
            "100%|██████████| 51/51 [00:00<00:00, 72.71it/s]\n"
          ]
        },
        {
          "output_type": "stream",
          "name": "stdout",
          "text": [
            "Loss: 0.14323817544123707 , IOU: 0.8069939923052695\n",
            "--------------------------------------------------------\n",
            "--------------------------------------------------------\n",
            "--------------------------------------------------------\n",
            "--------------------------------------------------------\n",
            "Epoch 10/20: Training\n"
          ]
        },
        {
          "output_type": "stream",
          "name": "stderr",
          "text": [
            "100%|██████████| 900/900 [00:27<00:00, 33.33it/s]\n"
          ]
        },
        {
          "output_type": "stream",
          "name": "stdout",
          "text": [
            "Loss: 0.060261630631155444 , IOU: 0.9157475433829763\n",
            "--------------------------------------------------------\n",
            "Epoch 10/20: Testing\n"
          ]
        },
        {
          "output_type": "stream",
          "name": "stderr",
          "text": [
            "100%|██████████| 51/51 [00:00<00:00, 74.14it/s]\n"
          ]
        },
        {
          "output_type": "stream",
          "name": "stdout",
          "text": [
            "Loss: 0.10038678621982824 , IOU: 0.861045783075194\n",
            "--------------------------------------------------------\n",
            "--------------------------------------------------------\n",
            "--------------------------------------------------------\n",
            "--------------------------------------------------------\n",
            "Epoch 11/20: Training\n"
          ]
        },
        {
          "output_type": "stream",
          "name": "stderr",
          "text": [
            "100%|██████████| 900/900 [00:26<00:00, 33.52it/s]\n"
          ]
        },
        {
          "output_type": "stream",
          "name": "stdout",
          "text": [
            "Loss: 0.05717972592968076 , IOU: 0.9194730989800558\n",
            "--------------------------------------------------------\n",
            "Epoch 11/20: Testing\n"
          ]
        },
        {
          "output_type": "stream",
          "name": "stderr",
          "text": [
            "100%|██████████| 51/51 [00:00<00:00, 72.52it/s]\n"
          ]
        },
        {
          "output_type": "stream",
          "name": "stdout",
          "text": [
            "Loss: 0.08260453718842245 , IOU: 0.8838742983107473\n",
            "--------------------------------------------------------\n",
            "--------------------------------------------------------\n",
            "--------------------------------------------------------\n",
            "--------------------------------------------------------\n",
            "Epoch 12/20: Training\n"
          ]
        },
        {
          "output_type": "stream",
          "name": "stderr",
          "text": [
            "100%|██████████| 900/900 [00:26<00:00, 33.50it/s]\n"
          ]
        },
        {
          "output_type": "stream",
          "name": "stdout",
          "text": [
            "Loss: 0.05471119546021031 , IOU: 0.9233111399081022\n",
            "--------------------------------------------------------\n",
            "Epoch 12/20: Testing\n"
          ]
        },
        {
          "output_type": "stream",
          "name": "stderr",
          "text": [
            "100%|██████████| 51/51 [00:00<00:00, 76.08it/s]\n"
          ]
        },
        {
          "output_type": "stream",
          "name": "stdout",
          "text": [
            "Loss: 0.08849092499882569 , IOU: 0.8750808358776804\n",
            "--------------------------------------------------------\n",
            "--------------------------------------------------------\n",
            "--------------------------------------------------------\n",
            "--------------------------------------------------------\n",
            "Epoch 13/20: Training\n"
          ]
        },
        {
          "output_type": "stream",
          "name": "stderr",
          "text": [
            "100%|██████████| 900/900 [00:26<00:00, 33.44it/s]\n"
          ]
        },
        {
          "output_type": "stream",
          "name": "stdout",
          "text": [
            "Loss: 0.053398663469900694 , IOU: 0.92497707300716\n",
            "--------------------------------------------------------\n",
            "Epoch 13/20: Testing\n"
          ]
        },
        {
          "output_type": "stream",
          "name": "stderr",
          "text": [
            "100%|██████████| 51/51 [00:00<00:00, 72.18it/s]\n"
          ]
        },
        {
          "output_type": "stream",
          "name": "stdout",
          "text": [
            "Loss: 0.10261188436518698 , IOU: 0.8542586584009375\n",
            "--------------------------------------------------------\n",
            "--------------------------------------------------------\n",
            "--------------------------------------------------------\n",
            "--------------------------------------------------------\n",
            "Epoch 14/20: Training\n"
          ]
        },
        {
          "output_type": "stream",
          "name": "stderr",
          "text": [
            "100%|██████████| 900/900 [00:26<00:00, 33.34it/s]\n"
          ]
        },
        {
          "output_type": "stream",
          "name": "stdout",
          "text": [
            "Loss: 0.053166707501643234 , IOU: 0.9253496560785509\n",
            "--------------------------------------------------------\n",
            "Epoch 14/20: Testing\n"
          ]
        },
        {
          "output_type": "stream",
          "name": "stderr",
          "text": [
            "100%|██████████| 51/51 [00:00<00:00, 74.32it/s]\n"
          ]
        },
        {
          "output_type": "stream",
          "name": "stdout",
          "text": [
            "Loss: 0.08172077006276916 , IOU: 0.8872434196025863\n",
            "--------------------------------------------------------\n",
            "--------------------------------------------------------\n",
            "--------------------------------------------------------\n",
            "--------------------------------------------------------\n",
            "Epoch 15/20: Training\n"
          ]
        },
        {
          "output_type": "stream",
          "name": "stderr",
          "text": [
            "100%|██████████| 900/900 [00:26<00:00, 33.41it/s]\n"
          ]
        },
        {
          "output_type": "stream",
          "name": "stdout",
          "text": [
            "Loss: 0.051389980864607616 , IOU: 0.9278637420799994\n",
            "--------------------------------------------------------\n",
            "Epoch 15/20: Testing\n"
          ]
        },
        {
          "output_type": "stream",
          "name": "stderr",
          "text": [
            "100%|██████████| 51/51 [00:00<00:00, 73.59it/s]\n"
          ]
        },
        {
          "output_type": "stream",
          "name": "stdout",
          "text": [
            "Loss: 0.08672961103273373 , IOU: 0.8802260090688282\n",
            "--------------------------------------------------------\n",
            "--------------------------------------------------------\n",
            "--------------------------------------------------------\n",
            "--------------------------------------------------------\n",
            "Epoch 16/20: Training\n"
          ]
        },
        {
          "output_type": "stream",
          "name": "stderr",
          "text": [
            "100%|██████████| 900/900 [00:26<00:00, 33.35it/s]\n"
          ]
        },
        {
          "output_type": "stream",
          "name": "stdout",
          "text": [
            "Loss: 0.051283013098355805 , IOU: 0.9279229920440245\n",
            "--------------------------------------------------------\n",
            "Epoch 16/20: Testing\n"
          ]
        },
        {
          "output_type": "stream",
          "name": "stderr",
          "text": [
            "100%|██████████| 51/51 [00:00<00:00, 70.80it/s]\n"
          ]
        },
        {
          "output_type": "stream",
          "name": "stdout",
          "text": [
            "Loss: 0.07617633767864285 , IOU: 0.8928263914935728\n",
            "--------------------------------------------------------\n",
            "--------------------------------------------------------\n",
            "--------------------------------------------------------\n",
            "--------------------------------------------------------\n",
            "Epoch 17/20: Training\n"
          ]
        },
        {
          "output_type": "stream",
          "name": "stderr",
          "text": [
            "100%|██████████| 900/900 [00:27<00:00, 33.05it/s]\n"
          ]
        },
        {
          "output_type": "stream",
          "name": "stdout",
          "text": [
            "Loss: 0.05140555004485786 , IOU: 0.9276889111929476\n",
            "--------------------------------------------------------\n",
            "Epoch 17/20: Testing\n"
          ]
        },
        {
          "output_type": "stream",
          "name": "stderr",
          "text": [
            "100%|██████████| 51/51 [00:00<00:00, 73.67it/s]\n"
          ]
        },
        {
          "output_type": "stream",
          "name": "stdout",
          "text": [
            "Loss: 0.08159259191769011 , IOU: 0.886833932186824\n",
            "--------------------------------------------------------\n",
            "--------------------------------------------------------\n",
            "--------------------------------------------------------\n",
            "--------------------------------------------------------\n",
            "Epoch 18/20: Training\n"
          ]
        },
        {
          "output_type": "stream",
          "name": "stderr",
          "text": [
            "100%|██████████| 900/900 [00:27<00:00, 33.27it/s]\n"
          ]
        },
        {
          "output_type": "stream",
          "name": "stdout",
          "text": [
            "Loss: 0.049498786696543264 , IOU: 0.930292615294456\n",
            "--------------------------------------------------------\n",
            "Epoch 18/20: Testing\n"
          ]
        },
        {
          "output_type": "stream",
          "name": "stderr",
          "text": [
            "100%|██████████| 51/51 [00:00<00:00, 72.69it/s]\n"
          ]
        },
        {
          "output_type": "stream",
          "name": "stdout",
          "text": [
            "Loss: 0.07701593148065548 , IOU: 0.8930976113267974\n",
            "--------------------------------------------------------\n",
            "--------------------------------------------------------\n",
            "--------------------------------------------------------\n",
            "--------------------------------------------------------\n",
            "Epoch 19/20: Training\n"
          ]
        },
        {
          "output_type": "stream",
          "name": "stderr",
          "text": [
            "100%|██████████| 900/900 [00:27<00:00, 32.81it/s]\n"
          ]
        },
        {
          "output_type": "stream",
          "name": "stdout",
          "text": [
            "Loss: 0.05091780167279974 , IOU: 0.9282870876457959\n",
            "--------------------------------------------------------\n",
            "Epoch 19/20: Testing\n"
          ]
        },
        {
          "output_type": "stream",
          "name": "stderr",
          "text": [
            "100%|██████████| 51/51 [00:00<00:00, 73.36it/s]\n"
          ]
        },
        {
          "output_type": "stream",
          "name": "stdout",
          "text": [
            "Loss: 0.08812546277163075 , IOU: 0.8779784704138544\n",
            "--------------------------------------------------------\n",
            "--------------------------------------------------------\n",
            "--------------------------------------------------------\n",
            "--------------------------------------------------------\n",
            "Epoch 20/20: Training\n"
          ]
        },
        {
          "output_type": "stream",
          "name": "stderr",
          "text": [
            "100%|██████████| 900/900 [00:27<00:00, 33.00it/s]\n"
          ]
        },
        {
          "output_type": "stream",
          "name": "stdout",
          "text": [
            "Loss: 0.048151002837758944 , IOU: 0.9324661301241985\n",
            "--------------------------------------------------------\n",
            "Epoch 20/20: Testing\n"
          ]
        },
        {
          "output_type": "stream",
          "name": "stderr",
          "text": [
            "100%|██████████| 51/51 [00:00<00:00, 69.93it/s]"
          ]
        },
        {
          "output_type": "stream",
          "name": "stdout",
          "text": [
            "Loss: 0.10149906875163899 , IOU: 0.864098396389654\n",
            "--------------------------------------------------------\n",
            "--------------------------------------------------------\n",
            "Best IoU:  0.8930976113267974\n"
          ]
        },
        {
          "output_type": "stream",
          "name": "stderr",
          "text": [
            "\n"
          ]
        }
      ]
    },
    {
      "cell_type": "markdown",
      "source": [
        "#Training_MAnet(Params: 31.78M, Best: 0.8972)"
      ],
      "metadata": {
        "id": "I7qxs1A_q21N"
      }
    },
    {
      "cell_type": "code",
      "source": [
        "LEARNING_RATE = 1e-4\n",
        "NUM_EPOCHS = 20\n",
        "BATCH_SIZE = 1\n",
        "model_path = '/content/drive/MyDrive/PPT/Foreground/Transfer/AC/Models/man.pth'\n",
        "\n",
        "if torch.cuda.is_available: device = torch.device(\"cuda\")\n",
        "else: device = torch.device(\"cpu\")\n",
        "\n",
        "frame = MyFrame(model, LEARNING_RATE, device)\n",
        "#frame.load(model_path)\n",
        "\n",
        "best_iou = 0.\n",
        "\n",
        "for epoch in range(1, NUM_EPOCHS+1):\n",
        "    print(\"--------------------------------------------------------\")\n",
        "    print(\"--------------------------------------------------------\")\n",
        "    print(\"Epoch \"+str(epoch)+\"/\"+str(NUM_EPOCHS)+\": Training\")\n",
        "    tr_dict = frame.run_epoch(train_loader)\n",
        "    print(\"Loss:\", tr_dict[\"loss\"], \", IOU:\", tr_dict[\"iou\"])\n",
        "    print(\"--------------------------------------------------------\")\n",
        "    print(\"Epoch \"+str(epoch)+\"/\"+str(NUM_EPOCHS)+\": Testing\")\n",
        "    te_dict = frame.run_epoch(test_loader, train=False)\n",
        "    print(\"Loss:\", te_dict[\"loss\"], \", IOU:\", te_dict[\"iou\"])\n",
        "    print(\"--------------------------------------------------------\")\n",
        "    print(\"--------------------------------------------------------\")\n",
        "    \n",
        "    if te_dict[\"iou\"] > best_iou: \n",
        "      frame.save(model_path)\n",
        "      best_iou = te_dict[\"iou\"]\n",
        "\n",
        "print('Best IoU: ', best_iou) "
      ],
      "metadata": {
        "colab": {
          "base_uri": "https://localhost:8080/"
        },
        "id": "79l2l-cIkqcs",
        "outputId": "9d2a9a47-4b1f-4826-bcc6-c9deb780aa52"
      },
      "execution_count": null,
      "outputs": [
        {
          "output_type": "stream",
          "name": "stdout",
          "text": [
            "--------------------------------------------------------\n",
            "--------------------------------------------------------\n",
            "Epoch 1/20: Training\n"
          ]
        },
        {
          "output_type": "stream",
          "name": "stderr",
          "text": [
            "100%|██████████| 900/900 [01:04<00:00, 14.03it/s]\n"
          ]
        },
        {
          "output_type": "stream",
          "name": "stdout",
          "text": [
            "Loss: 0.6986085033085602 , IOU: 0.619982979879456\n",
            "--------------------------------------------------------\n",
            "Epoch 1/20: Testing\n"
          ]
        },
        {
          "output_type": "stream",
          "name": "stderr",
          "text": [
            "100%|██████████| 51/51 [00:01<00:00, 44.66it/s]\n"
          ]
        },
        {
          "output_type": "stream",
          "name": "stdout",
          "text": [
            "Loss: 0.34925640213723275 , IOU: 0.79282835242795\n",
            "--------------------------------------------------------\n",
            "--------------------------------------------------------\n",
            "--------------------------------------------------------\n",
            "--------------------------------------------------------\n",
            "Epoch 2/20: Training\n"
          ]
        },
        {
          "output_type": "stream",
          "name": "stderr",
          "text": [
            "100%|██████████| 900/900 [01:02<00:00, 14.47it/s]\n"
          ]
        },
        {
          "output_type": "stream",
          "name": "stdout",
          "text": [
            "Loss: 0.1873453662006393 , IOU: 0.8561506111505973\n",
            "--------------------------------------------------------\n",
            "Epoch 2/20: Testing\n"
          ]
        },
        {
          "output_type": "stream",
          "name": "stderr",
          "text": [
            "100%|██████████| 51/51 [00:01<00:00, 35.26it/s]\n"
          ]
        },
        {
          "output_type": "stream",
          "name": "stdout",
          "text": [
            "Loss: 0.1181879468700465 , IOU: 0.8739050217703276\n",
            "--------------------------------------------------------\n",
            "--------------------------------------------------------\n",
            "--------------------------------------------------------\n",
            "--------------------------------------------------------\n",
            "Epoch 3/20: Training\n"
          ]
        },
        {
          "output_type": "stream",
          "name": "stderr",
          "text": [
            "100%|██████████| 900/900 [01:02<00:00, 14.40it/s]\n"
          ]
        },
        {
          "output_type": "stream",
          "name": "stdout",
          "text": [
            "Loss: 0.1015013555954727 , IOU: 0.8850645997458032\n",
            "--------------------------------------------------------\n",
            "Epoch 3/20: Testing\n"
          ]
        },
        {
          "output_type": "stream",
          "name": "stderr",
          "text": [
            "100%|██████████| 51/51 [00:01<00:00, 44.10it/s]\n"
          ]
        },
        {
          "output_type": "stream",
          "name": "stdout",
          "text": [
            "Loss: 0.11294821335696709 , IOU: 0.8538643437273362\n",
            "--------------------------------------------------------\n",
            "--------------------------------------------------------\n",
            "--------------------------------------------------------\n",
            "--------------------------------------------------------\n",
            "Epoch 4/20: Training\n"
          ]
        },
        {
          "output_type": "stream",
          "name": "stderr",
          "text": [
            "100%|██████████| 900/900 [01:01<00:00, 14.55it/s]\n"
          ]
        },
        {
          "output_type": "stream",
          "name": "stdout",
          "text": [
            "Loss: 0.08007664132449353 , IOU: 0.9004993698994324\n",
            "--------------------------------------------------------\n",
            "Epoch 4/20: Testing\n"
          ]
        },
        {
          "output_type": "stream",
          "name": "stderr",
          "text": [
            "100%|██████████| 51/51 [00:01<00:00, 43.50it/s]\n"
          ]
        },
        {
          "output_type": "stream",
          "name": "stdout",
          "text": [
            "Loss: 0.07641957503031283 , IOU: 0.8972187077297885\n",
            "--------------------------------------------------------\n",
            "--------------------------------------------------------\n",
            "--------------------------------------------------------\n",
            "--------------------------------------------------------\n",
            "Epoch 5/20: Training\n"
          ]
        },
        {
          "output_type": "stream",
          "name": "stderr",
          "text": [
            "100%|██████████| 900/900 [00:59<00:00, 15.05it/s]\n"
          ]
        },
        {
          "output_type": "stream",
          "name": "stdout",
          "text": [
            "Loss: 0.07416611040218009 , IOU: 0.9045327773276307\n",
            "--------------------------------------------------------\n",
            "Epoch 5/20: Testing\n"
          ]
        },
        {
          "output_type": "stream",
          "name": "stderr",
          "text": [
            "100%|██████████| 51/51 [00:01<00:00, 46.99it/s]\n"
          ]
        },
        {
          "output_type": "stream",
          "name": "stdout",
          "text": [
            "Loss: 0.09882873636396491 , IOU: 0.8657149488435072\n",
            "--------------------------------------------------------\n",
            "--------------------------------------------------------\n",
            "--------------------------------------------------------\n",
            "--------------------------------------------------------\n",
            "Epoch 6/20: Training\n"
          ]
        },
        {
          "output_type": "stream",
          "name": "stderr",
          "text": [
            "100%|██████████| 900/900 [01:01<00:00, 14.63it/s]\n"
          ]
        },
        {
          "output_type": "stream",
          "name": "stdout",
          "text": [
            "Loss: 0.07301852086351976 , IOU: 0.9048348696178035\n",
            "--------------------------------------------------------\n",
            "Epoch 6/20: Testing\n"
          ]
        },
        {
          "output_type": "stream",
          "name": "stderr",
          "text": [
            "100%|██████████| 51/51 [00:01<00:00, 44.56it/s]\n"
          ]
        },
        {
          "output_type": "stream",
          "name": "stdout",
          "text": [
            "Loss: 0.2670598877411263 , IOU: 0.6644555477279365\n",
            "--------------------------------------------------------\n",
            "--------------------------------------------------------\n",
            "--------------------------------------------------------\n",
            "--------------------------------------------------------\n",
            "Epoch 7/20: Training\n"
          ]
        },
        {
          "output_type": "stream",
          "name": "stderr",
          "text": [
            "100%|██████████| 900/900 [00:58<00:00, 15.34it/s]\n"
          ]
        },
        {
          "output_type": "stream",
          "name": "stdout",
          "text": [
            "Loss: 0.06674800945238936 , IOU: 0.9109503800670302\n",
            "--------------------------------------------------------\n",
            "Epoch 7/20: Testing\n"
          ]
        },
        {
          "output_type": "stream",
          "name": "stderr",
          "text": [
            "100%|██████████| 51/51 [00:01<00:00, 46.47it/s]\n"
          ]
        },
        {
          "output_type": "stream",
          "name": "stdout",
          "text": [
            "Loss: 0.08783722482621668 , IOU: 0.8808026173535518\n",
            "--------------------------------------------------------\n",
            "--------------------------------------------------------\n",
            "--------------------------------------------------------\n",
            "--------------------------------------------------------\n",
            "Epoch 8/20: Training\n"
          ]
        },
        {
          "output_type": "stream",
          "name": "stderr",
          "text": [
            "100%|██████████| 900/900 [00:59<00:00, 15.23it/s]\n"
          ]
        },
        {
          "output_type": "stream",
          "name": "stdout",
          "text": [
            "Loss: 0.06117902812030585 , IOU: 0.9179206949141283\n",
            "--------------------------------------------------------\n",
            "Epoch 8/20: Testing\n"
          ]
        },
        {
          "output_type": "stream",
          "name": "stderr",
          "text": [
            "100%|██████████| 51/51 [00:01<00:00, 38.02it/s]\n"
          ]
        },
        {
          "output_type": "stream",
          "name": "stdout",
          "text": [
            "Loss: 0.09221442401701328 , IOU: 0.8734272484685861\n",
            "--------------------------------------------------------\n",
            "--------------------------------------------------------\n",
            "--------------------------------------------------------\n",
            "--------------------------------------------------------\n",
            "Epoch 9/20: Training\n"
          ]
        },
        {
          "output_type": "stream",
          "name": "stderr",
          "text": [
            "100%|██████████| 900/900 [00:59<00:00, 15.04it/s]\n"
          ]
        },
        {
          "output_type": "stream",
          "name": "stdout",
          "text": [
            "Loss: 0.05934996816640097 , IOU: 0.9207072015603385\n",
            "--------------------------------------------------------\n",
            "Epoch 9/20: Testing\n"
          ]
        },
        {
          "output_type": "stream",
          "name": "stderr",
          "text": [
            "100%|██████████| 51/51 [00:01<00:00, 43.08it/s]\n"
          ]
        },
        {
          "output_type": "stream",
          "name": "stdout",
          "text": [
            "Loss: 0.07935244286907653 , IOU: 0.8913835840044069\n",
            "--------------------------------------------------------\n",
            "--------------------------------------------------------\n",
            "--------------------------------------------------------\n",
            "--------------------------------------------------------\n",
            "Epoch 10/20: Training\n"
          ]
        },
        {
          "output_type": "stream",
          "name": "stderr",
          "text": [
            "100%|██████████| 900/900 [00:58<00:00, 15.35it/s]\n"
          ]
        },
        {
          "output_type": "stream",
          "name": "stdout",
          "text": [
            "Loss: 0.062076363689783545 , IOU: 0.9168073660797551\n",
            "--------------------------------------------------------\n",
            "Epoch 10/20: Testing\n"
          ]
        },
        {
          "output_type": "stream",
          "name": "stderr",
          "text": [
            "100%|██████████| 51/51 [00:01<00:00, 45.61it/s]\n"
          ]
        },
        {
          "output_type": "stream",
          "name": "stdout",
          "text": [
            "Loss: 0.20513277347473544 , IOU: 0.7433454436706564\n",
            "--------------------------------------------------------\n",
            "--------------------------------------------------------\n",
            "--------------------------------------------------------\n",
            "--------------------------------------------------------\n",
            "Epoch 11/20: Training\n"
          ]
        },
        {
          "output_type": "stream",
          "name": "stderr",
          "text": [
            "100%|██████████| 900/900 [00:59<00:00, 15.00it/s]\n"
          ]
        },
        {
          "output_type": "stream",
          "name": "stdout",
          "text": [
            "Loss: 0.06170964567611613 , IOU: 0.9176570323192408\n",
            "--------------------------------------------------------\n",
            "Epoch 11/20: Testing\n"
          ]
        },
        {
          "output_type": "stream",
          "name": "stderr",
          "text": [
            "100%|██████████| 51/51 [00:01<00:00, 45.74it/s]\n"
          ]
        },
        {
          "output_type": "stream",
          "name": "stdout",
          "text": [
            "Loss: 0.22234631775348793 , IOU: 0.7113927005991048\n",
            "--------------------------------------------------------\n",
            "--------------------------------------------------------\n",
            "--------------------------------------------------------\n",
            "--------------------------------------------------------\n",
            "Epoch 12/20: Training\n"
          ]
        },
        {
          "output_type": "stream",
          "name": "stderr",
          "text": [
            "100%|██████████| 900/900 [00:59<00:00, 15.19it/s]\n"
          ]
        },
        {
          "output_type": "stream",
          "name": "stdout",
          "text": [
            "Loss: 0.05726286393900708 , IOU: 0.9227657910188047\n",
            "--------------------------------------------------------\n",
            "Epoch 12/20: Testing\n"
          ]
        },
        {
          "output_type": "stream",
          "name": "stderr",
          "text": [
            "100%|██████████| 51/51 [00:01<00:00, 45.44it/s]\n"
          ]
        },
        {
          "output_type": "stream",
          "name": "stdout",
          "text": [
            "Loss: 0.17283619370530634 , IOU: 0.7748152365104531\n",
            "--------------------------------------------------------\n",
            "--------------------------------------------------------\n",
            "--------------------------------------------------------\n",
            "--------------------------------------------------------\n",
            "Epoch 13/20: Training\n"
          ]
        },
        {
          "output_type": "stream",
          "name": "stderr",
          "text": [
            "100%|██████████| 900/900 [01:00<00:00, 14.89it/s]\n"
          ]
        },
        {
          "output_type": "stream",
          "name": "stdout",
          "text": [
            "Loss: 0.05464293802984892 , IOU: 0.9264309842056698\n",
            "--------------------------------------------------------\n",
            "Epoch 13/20: Testing\n"
          ]
        },
        {
          "output_type": "stream",
          "name": "stderr",
          "text": [
            "100%|██████████| 51/51 [00:01<00:00, 41.62it/s]\n"
          ]
        },
        {
          "output_type": "stream",
          "name": "stdout",
          "text": [
            "Loss: 0.12711269196634198 , IOU: 0.8367113456422207\n",
            "--------------------------------------------------------\n",
            "--------------------------------------------------------\n",
            "--------------------------------------------------------\n",
            "--------------------------------------------------------\n",
            "Epoch 14/20: Training\n"
          ]
        },
        {
          "output_type": "stream",
          "name": "stderr",
          "text": [
            "100%|██████████| 900/900 [01:01<00:00, 14.70it/s]\n"
          ]
        },
        {
          "output_type": "stream",
          "name": "stdout",
          "text": [
            "Loss: 0.05653426166416868 , IOU: 0.9247391473584706\n",
            "--------------------------------------------------------\n",
            "Epoch 14/20: Testing\n"
          ]
        },
        {
          "output_type": "stream",
          "name": "stderr",
          "text": [
            "100%|██████████| 51/51 [00:01<00:00, 44.23it/s]\n"
          ]
        },
        {
          "output_type": "stream",
          "name": "stdout",
          "text": [
            "Loss: 0.17213773570370441 , IOU: 0.7777783058437645\n",
            "--------------------------------------------------------\n",
            "--------------------------------------------------------\n",
            "--------------------------------------------------------\n",
            "--------------------------------------------------------\n",
            "Epoch 15/20: Training\n"
          ]
        },
        {
          "output_type": "stream",
          "name": "stderr",
          "text": [
            "100%|██████████| 900/900 [01:00<00:00, 14.83it/s]\n"
          ]
        },
        {
          "output_type": "stream",
          "name": "stdout",
          "text": [
            "Loss: 0.0612324586603791 , IOU: 0.9191821590479871\n",
            "--------------------------------------------------------\n",
            "Epoch 15/20: Testing\n"
          ]
        },
        {
          "output_type": "stream",
          "name": "stderr",
          "text": [
            "100%|██████████| 51/51 [00:01<00:00, 45.23it/s]\n"
          ]
        },
        {
          "output_type": "stream",
          "name": "stdout",
          "text": [
            "Loss: 0.15189341733268666 , IOU: 0.8030541907338532\n",
            "--------------------------------------------------------\n",
            "--------------------------------------------------------\n",
            "--------------------------------------------------------\n",
            "--------------------------------------------------------\n",
            "Epoch 16/20: Training\n"
          ]
        },
        {
          "output_type": "stream",
          "name": "stderr",
          "text": [
            "100%|██████████| 900/900 [00:58<00:00, 15.38it/s]\n"
          ]
        },
        {
          "output_type": "stream",
          "name": "stdout",
          "text": [
            "Loss: 0.05508549490736594 , IOU: 0.9254775481215777\n",
            "--------------------------------------------------------\n",
            "Epoch 16/20: Testing\n"
          ]
        },
        {
          "output_type": "stream",
          "name": "stderr",
          "text": [
            "100%|██████████| 51/51 [00:01<00:00, 46.14it/s]\n"
          ]
        },
        {
          "output_type": "stream",
          "name": "stdout",
          "text": [
            "Loss: 0.1577196548528531 , IOU: 0.7951200478801541\n",
            "--------------------------------------------------------\n",
            "--------------------------------------------------------\n",
            "--------------------------------------------------------\n",
            "--------------------------------------------------------\n",
            "Epoch 17/20: Training\n"
          ]
        },
        {
          "output_type": "stream",
          "name": "stderr",
          "text": [
            "100%|██████████| 900/900 [00:58<00:00, 15.44it/s]\n"
          ]
        },
        {
          "output_type": "stream",
          "name": "stdout",
          "text": [
            "Loss: 0.05430652605990569 , IOU: 0.9261199237240675\n",
            "--------------------------------------------------------\n",
            "Epoch 17/20: Testing\n"
          ]
        },
        {
          "output_type": "stream",
          "name": "stderr",
          "text": [
            "100%|██████████| 51/51 [00:01<00:00, 36.38it/s]\n"
          ]
        },
        {
          "output_type": "stream",
          "name": "stdout",
          "text": [
            "Loss: 0.13347139487079546 , IOU: 0.8273170231019749\n",
            "--------------------------------------------------------\n",
            "--------------------------------------------------------\n",
            "--------------------------------------------------------\n",
            "--------------------------------------------------------\n",
            "Epoch 18/20: Training\n"
          ]
        },
        {
          "output_type": "stream",
          "name": "stderr",
          "text": [
            "100%|██████████| 900/900 [00:59<00:00, 15.03it/s]\n"
          ]
        },
        {
          "output_type": "stream",
          "name": "stdout",
          "text": [
            "Loss: 0.05066339462271166 , IOU: 0.9311432079474125\n",
            "--------------------------------------------------------\n",
            "Epoch 18/20: Testing\n"
          ]
        },
        {
          "output_type": "stream",
          "name": "stderr",
          "text": [
            "100%|██████████| 51/51 [00:01<00:00, 43.32it/s]\n"
          ]
        },
        {
          "output_type": "stream",
          "name": "stdout",
          "text": [
            "Loss: 0.09404930012191041 , IOU: 0.8718946356983744\n",
            "--------------------------------------------------------\n",
            "--------------------------------------------------------\n",
            "--------------------------------------------------------\n",
            "--------------------------------------------------------\n",
            "Epoch 19/20: Training\n"
          ]
        },
        {
          "output_type": "stream",
          "name": "stderr",
          "text": [
            "100%|██████████| 900/900 [00:58<00:00, 15.31it/s]\n"
          ]
        },
        {
          "output_type": "stream",
          "name": "stdout",
          "text": [
            "Loss: 0.04839436218866872 , IOU: 0.9343671236435573\n",
            "--------------------------------------------------------\n",
            "Epoch 19/20: Testing\n"
          ]
        },
        {
          "output_type": "stream",
          "name": "stderr",
          "text": [
            "100%|██████████| 51/51 [00:01<00:00, 46.44it/s]\n"
          ]
        },
        {
          "output_type": "stream",
          "name": "stdout",
          "text": [
            "Loss: 0.12398548884426845 , IOU: 0.8370450741666204\n",
            "--------------------------------------------------------\n",
            "--------------------------------------------------------\n",
            "--------------------------------------------------------\n",
            "--------------------------------------------------------\n",
            "Epoch 20/20: Training\n"
          ]
        },
        {
          "output_type": "stream",
          "name": "stderr",
          "text": [
            "100%|██████████| 900/900 [00:59<00:00, 15.02it/s]\n"
          ]
        },
        {
          "output_type": "stream",
          "name": "stdout",
          "text": [
            "Loss: 0.049894227323432794 , IOU: 0.9328263184097085\n",
            "--------------------------------------------------------\n",
            "Epoch 20/20: Testing\n"
          ]
        },
        {
          "output_type": "stream",
          "name": "stderr",
          "text": [
            "100%|██████████| 51/51 [00:01<00:00, 41.61it/s]"
          ]
        },
        {
          "output_type": "stream",
          "name": "stdout",
          "text": [
            "Loss: 0.11496634697358982 , IOU: 0.8482313985918083\n",
            "--------------------------------------------------------\n",
            "--------------------------------------------------------\n",
            "Best IoU:  0.8972187077297885\n"
          ]
        },
        {
          "output_type": "stream",
          "name": "stderr",
          "text": [
            "\n"
          ]
        }
      ]
    },
    {
      "cell_type": "markdown",
      "source": [
        "#Training_LinkNet(Params: 21.77M, Best: 0.8979)"
      ],
      "metadata": {
        "id": "fF07jTr1v_M8"
      }
    },
    {
      "cell_type": "code",
      "source": [
        "LEARNING_RATE = 1e-4\n",
        "NUM_EPOCHS = 20\n",
        "BATCH_SIZE = 1\n",
        "model_path = '/content/drive/MyDrive/PPT/Foreground/Transfer/AC/Models/link.pth'\n",
        "\n",
        "if torch.cuda.is_available: device = torch.device(\"cuda\")\n",
        "else: device = torch.device(\"cpu\")\n",
        "\n",
        "frame = MyFrame(model, LEARNING_RATE, device)\n",
        "#frame.load(model_path)\n",
        "\n",
        "best_iou = 0.\n",
        "\n",
        "for epoch in range(1, NUM_EPOCHS+1):\n",
        "    print(\"--------------------------------------------------------\")\n",
        "    print(\"--------------------------------------------------------\")\n",
        "    print(\"Epoch \"+str(epoch)+\"/\"+str(NUM_EPOCHS)+\": Training\")\n",
        "    tr_dict = frame.run_epoch(train_loader)\n",
        "    print(\"Loss:\", tr_dict[\"loss\"], \", IOU:\", tr_dict[\"iou\"])\n",
        "    print(\"--------------------------------------------------------\")\n",
        "    print(\"Epoch \"+str(epoch)+\"/\"+str(NUM_EPOCHS)+\": Testing\")\n",
        "    te_dict = frame.run_epoch(test_loader, train=False)\n",
        "    print(\"Loss:\", te_dict[\"loss\"], \", IOU:\", te_dict[\"iou\"])\n",
        "    print(\"--------------------------------------------------------\")\n",
        "    print(\"--------------------------------------------------------\")\n",
        "    \n",
        "    if te_dict[\"iou\"] > best_iou: \n",
        "      frame.save(model_path)\n",
        "      best_iou = te_dict[\"iou\"]\n",
        "\n",
        "print('Best IoU: ', best_iou) "
      ],
      "metadata": {
        "colab": {
          "base_uri": "https://localhost:8080/"
        },
        "id": "mcFm4SAHrSeg",
        "outputId": "5285fc03-b11b-4808-8bb8-740864d0a79f"
      },
      "execution_count": null,
      "outputs": [
        {
          "output_type": "stream",
          "name": "stdout",
          "text": [
            "--------------------------------------------------------\n",
            "--------------------------------------------------------\n",
            "Epoch 1/20: Training\n"
          ]
        },
        {
          "output_type": "stream",
          "name": "stderr",
          "text": [
            "100%|██████████| 900/900 [00:46<00:00, 19.52it/s]\n"
          ]
        },
        {
          "output_type": "stream",
          "name": "stdout",
          "text": [
            "Loss: 0.7835657970772862 , IOU: 0.5957808943697213\n",
            "--------------------------------------------------------\n",
            "Epoch 1/20: Testing\n"
          ]
        },
        {
          "output_type": "stream",
          "name": "stderr",
          "text": [
            "100%|██████████| 51/51 [00:00<00:00, 55.42it/s]\n"
          ]
        },
        {
          "output_type": "stream",
          "name": "stdout",
          "text": [
            "Loss: 0.625284595816743 , IOU: 0.7439629423852059\n",
            "--------------------------------------------------------\n",
            "--------------------------------------------------------\n",
            "--------------------------------------------------------\n",
            "--------------------------------------------------------\n",
            "Epoch 2/20: Training\n"
          ]
        },
        {
          "output_type": "stream",
          "name": "stderr",
          "text": [
            "100%|██████████| 900/900 [00:47<00:00, 19.04it/s]\n"
          ]
        },
        {
          "output_type": "stream",
          "name": "stdout",
          "text": [
            "Loss: 0.43799087401893405 , IOU: 0.820262916968721\n",
            "--------------------------------------------------------\n",
            "Epoch 2/20: Testing\n"
          ]
        },
        {
          "output_type": "stream",
          "name": "stderr",
          "text": [
            "100%|██████████| 51/51 [00:01<00:00, 41.12it/s]\n"
          ]
        },
        {
          "output_type": "stream",
          "name": "stdout",
          "text": [
            "Loss: 0.29361322814343027 , IOU: 0.8417847834381403\n",
            "--------------------------------------------------------\n",
            "--------------------------------------------------------\n",
            "--------------------------------------------------------\n",
            "--------------------------------------------------------\n",
            "Epoch 3/20: Training\n"
          ]
        },
        {
          "output_type": "stream",
          "name": "stderr",
          "text": [
            "100%|██████████| 900/900 [00:46<00:00, 19.44it/s]\n"
          ]
        },
        {
          "output_type": "stream",
          "name": "stdout",
          "text": [
            "Loss: 0.20301871408604893 , IOU: 0.8661257368822901\n",
            "--------------------------------------------------------\n",
            "Epoch 3/20: Testing\n"
          ]
        },
        {
          "output_type": "stream",
          "name": "stderr",
          "text": [
            "100%|██████████| 51/51 [00:00<00:00, 54.39it/s]\n"
          ]
        },
        {
          "output_type": "stream",
          "name": "stdout",
          "text": [
            "Loss: 0.15513787214078156 , IOU: 0.8693902632769418\n",
            "--------------------------------------------------------\n",
            "--------------------------------------------------------\n",
            "--------------------------------------------------------\n",
            "--------------------------------------------------------\n",
            "Epoch 4/20: Training\n"
          ]
        },
        {
          "output_type": "stream",
          "name": "stderr",
          "text": [
            "100%|██████████| 900/900 [00:46<00:00, 19.50it/s]\n"
          ]
        },
        {
          "output_type": "stream",
          "name": "stdout",
          "text": [
            "Loss: 0.12076433337810961 , IOU: 0.8893125825954814\n",
            "--------------------------------------------------------\n",
            "Epoch 4/20: Testing\n"
          ]
        },
        {
          "output_type": "stream",
          "name": "stderr",
          "text": [
            "100%|██████████| 51/51 [00:01<00:00, 45.93it/s]\n"
          ]
        },
        {
          "output_type": "stream",
          "name": "stdout",
          "text": [
            "Loss: 0.11119888883595372 , IOU: 0.8768965269018915\n",
            "--------------------------------------------------------\n",
            "--------------------------------------------------------\n",
            "--------------------------------------------------------\n",
            "--------------------------------------------------------\n",
            "Epoch 5/20: Training\n"
          ]
        },
        {
          "output_type": "stream",
          "name": "stderr",
          "text": [
            "100%|██████████| 900/900 [00:46<00:00, 19.29it/s]\n"
          ]
        },
        {
          "output_type": "stream",
          "name": "stdout",
          "text": [
            "Loss: 0.09062933785013011 , IOU: 0.9012725172522988\n",
            "--------------------------------------------------------\n",
            "Epoch 5/20: Testing\n"
          ]
        },
        {
          "output_type": "stream",
          "name": "stderr",
          "text": [
            "100%|██████████| 51/51 [00:00<00:00, 51.39it/s]\n"
          ]
        },
        {
          "output_type": "stream",
          "name": "stdout",
          "text": [
            "Loss: 0.11352038105913237 , IOU: 0.8557470020125894\n",
            "--------------------------------------------------------\n",
            "--------------------------------------------------------\n",
            "--------------------------------------------------------\n",
            "--------------------------------------------------------\n",
            "Epoch 6/20: Training\n"
          ]
        },
        {
          "output_type": "stream",
          "name": "stderr",
          "text": [
            "100%|██████████| 900/900 [00:48<00:00, 18.64it/s]\n"
          ]
        },
        {
          "output_type": "stream",
          "name": "stdout",
          "text": [
            "Loss: 0.076884893152035 , IOU: 0.9084762956036467\n",
            "--------------------------------------------------------\n",
            "Epoch 6/20: Testing\n"
          ]
        },
        {
          "output_type": "stream",
          "name": "stderr",
          "text": [
            "100%|██████████| 51/51 [00:01<00:00, 41.40it/s]\n"
          ]
        },
        {
          "output_type": "stream",
          "name": "stdout",
          "text": [
            "Loss: 0.1190758407408116 , IOU: 0.8459407181351207\n",
            "--------------------------------------------------------\n",
            "--------------------------------------------------------\n",
            "--------------------------------------------------------\n",
            "--------------------------------------------------------\n",
            "Epoch 7/20: Training\n"
          ]
        },
        {
          "output_type": "stream",
          "name": "stderr",
          "text": [
            "100%|██████████| 900/900 [00:46<00:00, 19.41it/s]\n"
          ]
        },
        {
          "output_type": "stream",
          "name": "stdout",
          "text": [
            "Loss: 0.07121528381274812 , IOU: 0.9108027203381052\n",
            "--------------------------------------------------------\n",
            "Epoch 7/20: Testing\n"
          ]
        },
        {
          "output_type": "stream",
          "name": "stderr",
          "text": [
            "100%|██████████| 51/51 [00:00<00:00, 56.23it/s]\n"
          ]
        },
        {
          "output_type": "stream",
          "name": "stdout",
          "text": [
            "Loss: 0.11819908599935325 , IOU: 0.8428860037934548\n",
            "--------------------------------------------------------\n",
            "--------------------------------------------------------\n",
            "--------------------------------------------------------\n",
            "--------------------------------------------------------\n",
            "Epoch 8/20: Training\n"
          ]
        },
        {
          "output_type": "stream",
          "name": "stderr",
          "text": [
            "100%|██████████| 900/900 [00:46<00:00, 19.39it/s]\n"
          ]
        },
        {
          "output_type": "stream",
          "name": "stdout",
          "text": [
            "Loss: 0.06973714292049413 , IOU: 0.9108364619149112\n",
            "--------------------------------------------------------\n",
            "Epoch 8/20: Testing\n"
          ]
        },
        {
          "output_type": "stream",
          "name": "stderr",
          "text": [
            "100%|██████████| 51/51 [00:01<00:00, 43.64it/s]\n"
          ]
        },
        {
          "output_type": "stream",
          "name": "stdout",
          "text": [
            "Loss: 0.08569439226651894 , IOU: 0.883582680833106\n",
            "--------------------------------------------------------\n",
            "--------------------------------------------------------\n",
            "--------------------------------------------------------\n",
            "--------------------------------------------------------\n",
            "Epoch 9/20: Training\n"
          ]
        },
        {
          "output_type": "stream",
          "name": "stderr",
          "text": [
            "100%|██████████| 900/900 [00:46<00:00, 19.28it/s]\n"
          ]
        },
        {
          "output_type": "stream",
          "name": "stdout",
          "text": [
            "Loss: 0.05979661204852166 , IOU: 0.9224698290228845\n",
            "--------------------------------------------------------\n",
            "Epoch 9/20: Testing\n"
          ]
        },
        {
          "output_type": "stream",
          "name": "stderr",
          "text": [
            "100%|██████████| 51/51 [00:00<00:00, 54.02it/s]\n"
          ]
        },
        {
          "output_type": "stream",
          "name": "stdout",
          "text": [
            "Loss: 0.08349293123419378 , IOU: 0.8853734135627744\n",
            "--------------------------------------------------------\n",
            "--------------------------------------------------------\n",
            "--------------------------------------------------------\n",
            "--------------------------------------------------------\n",
            "Epoch 10/20: Training\n"
          ]
        },
        {
          "output_type": "stream",
          "name": "stderr",
          "text": [
            "100%|██████████| 900/900 [00:47<00:00, 18.82it/s]\n"
          ]
        },
        {
          "output_type": "stream",
          "name": "stdout",
          "text": [
            "Loss: 0.057306444251702934 , IOU: 0.9252093132668079\n",
            "--------------------------------------------------------\n",
            "Epoch 10/20: Testing\n"
          ]
        },
        {
          "output_type": "stream",
          "name": "stderr",
          "text": [
            "100%|██████████| 51/51 [00:01<00:00, 43.25it/s]\n"
          ]
        },
        {
          "output_type": "stream",
          "name": "stdout",
          "text": [
            "Loss: 0.07499790750443935 , IOU: 0.8979122463394613\n",
            "--------------------------------------------------------\n",
            "--------------------------------------------------------\n",
            "--------------------------------------------------------\n",
            "--------------------------------------------------------\n",
            "Epoch 11/20: Training\n"
          ]
        },
        {
          "output_type": "stream",
          "name": "stderr",
          "text": [
            "100%|██████████| 900/900 [00:47<00:00, 18.92it/s]\n"
          ]
        },
        {
          "output_type": "stream",
          "name": "stdout",
          "text": [
            "Loss: 0.05565694444398914 , IOU: 0.9267861407664107\n",
            "--------------------------------------------------------\n",
            "Epoch 11/20: Testing\n"
          ]
        },
        {
          "output_type": "stream",
          "name": "stderr",
          "text": [
            "100%|██████████| 51/51 [00:00<00:00, 54.11it/s]\n"
          ]
        },
        {
          "output_type": "stream",
          "name": "stdout",
          "text": [
            "Loss: 0.07799093505623293 , IOU: 0.8934839496425554\n",
            "--------------------------------------------------------\n",
            "--------------------------------------------------------\n",
            "--------------------------------------------------------\n",
            "--------------------------------------------------------\n",
            "Epoch 12/20: Training\n"
          ]
        },
        {
          "output_type": "stream",
          "name": "stderr",
          "text": [
            "100%|██████████| 900/900 [00:46<00:00, 19.26it/s]\n"
          ]
        },
        {
          "output_type": "stream",
          "name": "stdout",
          "text": [
            "Loss: 0.055875835734316 , IOU: 0.9261785100566022\n",
            "--------------------------------------------------------\n",
            "Epoch 12/20: Testing\n"
          ]
        },
        {
          "output_type": "stream",
          "name": "stderr",
          "text": [
            "100%|██████████| 51/51 [00:01<00:00, 43.24it/s]\n"
          ]
        },
        {
          "output_type": "stream",
          "name": "stdout",
          "text": [
            "Loss: 0.07740728663024948 , IOU: 0.8932552372708038\n",
            "--------------------------------------------------------\n",
            "--------------------------------------------------------\n",
            "--------------------------------------------------------\n",
            "--------------------------------------------------------\n",
            "Epoch 13/20: Training\n"
          ]
        },
        {
          "output_type": "stream",
          "name": "stderr",
          "text": [
            "100%|██████████| 900/900 [00:46<00:00, 19.30it/s]\n"
          ]
        },
        {
          "output_type": "stream",
          "name": "stdout",
          "text": [
            "Loss: 0.05625297144883209 , IOU: 0.9251727883352172\n",
            "--------------------------------------------------------\n",
            "Epoch 13/20: Testing\n"
          ]
        },
        {
          "output_type": "stream",
          "name": "stderr",
          "text": [
            "100%|██████████| 51/51 [00:00<00:00, 54.49it/s]\n"
          ]
        },
        {
          "output_type": "stream",
          "name": "stdout",
          "text": [
            "Loss: 0.08934708019974183 , IOU: 0.8773068838259757\n",
            "--------------------------------------------------------\n",
            "--------------------------------------------------------\n",
            "--------------------------------------------------------\n",
            "--------------------------------------------------------\n",
            "Epoch 14/20: Training\n"
          ]
        },
        {
          "output_type": "stream",
          "name": "stderr",
          "text": [
            "100%|██████████| 900/900 [00:46<00:00, 19.52it/s]\n"
          ]
        },
        {
          "output_type": "stream",
          "name": "stdout",
          "text": [
            "Loss: 0.05300916679617436 , IOU: 0.9297582335604571\n",
            "--------------------------------------------------------\n",
            "Epoch 14/20: Testing\n"
          ]
        },
        {
          "output_type": "stream",
          "name": "stderr",
          "text": [
            "100%|██████████| 51/51 [00:01<00:00, 43.83it/s]\n"
          ]
        },
        {
          "output_type": "stream",
          "name": "stdout",
          "text": [
            "Loss: 0.10802749807343762 , IOU: 0.855027422016742\n",
            "--------------------------------------------------------\n",
            "--------------------------------------------------------\n",
            "--------------------------------------------------------\n",
            "--------------------------------------------------------\n",
            "Epoch 15/20: Training\n"
          ]
        },
        {
          "output_type": "stream",
          "name": "stderr",
          "text": [
            "100%|██████████| 900/900 [00:46<00:00, 19.35it/s]\n"
          ]
        },
        {
          "output_type": "stream",
          "name": "stdout",
          "text": [
            "Loss: 0.05499048173220625 , IOU: 0.9267086812522678\n",
            "--------------------------------------------------------\n",
            "Epoch 15/20: Testing\n"
          ]
        },
        {
          "output_type": "stream",
          "name": "stderr",
          "text": [
            "100%|██████████| 51/51 [00:00<00:00, 54.55it/s]\n"
          ]
        },
        {
          "output_type": "stream",
          "name": "stdout",
          "text": [
            "Loss: 0.11468567721107423 , IOU: 0.8452894252304938\n",
            "--------------------------------------------------------\n",
            "--------------------------------------------------------\n",
            "--------------------------------------------------------\n",
            "--------------------------------------------------------\n",
            "Epoch 16/20: Training\n"
          ]
        },
        {
          "output_type": "stream",
          "name": "stderr",
          "text": [
            "100%|██████████| 900/900 [00:45<00:00, 19.63it/s]\n"
          ]
        },
        {
          "output_type": "stream",
          "name": "stdout",
          "text": [
            "Loss: 0.048417398993753726 , IOU: 0.9363400955994916\n",
            "--------------------------------------------------------\n",
            "Epoch 16/20: Testing\n"
          ]
        },
        {
          "output_type": "stream",
          "name": "stderr",
          "text": [
            "100%|██████████| 51/51 [00:00<00:00, 52.30it/s]\n"
          ]
        },
        {
          "output_type": "stream",
          "name": "stdout",
          "text": [
            "Loss: 0.11456307392640441 , IOU: 0.844998678155974\n",
            "--------------------------------------------------------\n",
            "--------------------------------------------------------\n",
            "--------------------------------------------------------\n",
            "--------------------------------------------------------\n",
            "Epoch 17/20: Training\n"
          ]
        },
        {
          "output_type": "stream",
          "name": "stderr",
          "text": [
            "100%|██████████| 900/900 [00:47<00:00, 18.94it/s]\n"
          ]
        },
        {
          "output_type": "stream",
          "name": "stdout",
          "text": [
            "Loss: 0.04711958472616975 , IOU: 0.9375591467486493\n",
            "--------------------------------------------------------\n",
            "Epoch 17/20: Testing\n"
          ]
        },
        {
          "output_type": "stream",
          "name": "stderr",
          "text": [
            "100%|██████████| 51/51 [00:00<00:00, 54.18it/s]\n"
          ]
        },
        {
          "output_type": "stream",
          "name": "stdout",
          "text": [
            "Loss: 0.08648920643563364 , IOU: 0.8813692278721753\n",
            "--------------------------------------------------------\n",
            "--------------------------------------------------------\n",
            "--------------------------------------------------------\n",
            "--------------------------------------------------------\n",
            "Epoch 18/20: Training\n"
          ]
        },
        {
          "output_type": "stream",
          "name": "stderr",
          "text": [
            "100%|██████████| 900/900 [00:46<00:00, 19.56it/s]\n"
          ]
        },
        {
          "output_type": "stream",
          "name": "stdout",
          "text": [
            "Loss: 0.04729615916911932 , IOU: 0.9369829462634205\n",
            "--------------------------------------------------------\n",
            "Epoch 18/20: Testing\n"
          ]
        },
        {
          "output_type": "stream",
          "name": "stderr",
          "text": [
            "100%|██████████| 51/51 [00:00<00:00, 55.91it/s]\n"
          ]
        },
        {
          "output_type": "stream",
          "name": "stdout",
          "text": [
            "Loss: 0.10241658397603269 , IOU: 0.8611996588753719\n",
            "--------------------------------------------------------\n",
            "--------------------------------------------------------\n",
            "--------------------------------------------------------\n",
            "--------------------------------------------------------\n",
            "Epoch 19/20: Training\n"
          ]
        },
        {
          "output_type": "stream",
          "name": "stderr",
          "text": [
            "100%|██████████| 900/900 [00:46<00:00, 19.31it/s]\n"
          ]
        },
        {
          "output_type": "stream",
          "name": "stdout",
          "text": [
            "Loss: 0.047852964298799656 , IOU: 0.9358733091751739\n",
            "--------------------------------------------------------\n",
            "Epoch 19/20: Testing\n"
          ]
        },
        {
          "output_type": "stream",
          "name": "stderr",
          "text": [
            "100%|██████████| 51/51 [00:00<00:00, 56.42it/s]\n"
          ]
        },
        {
          "output_type": "stream",
          "name": "stdout",
          "text": [
            "Loss: 0.09129229885544261 , IOU: 0.8742171303898681\n",
            "--------------------------------------------------------\n",
            "--------------------------------------------------------\n",
            "--------------------------------------------------------\n",
            "--------------------------------------------------------\n",
            "Epoch 20/20: Training\n"
          ]
        },
        {
          "output_type": "stream",
          "name": "stderr",
          "text": [
            "100%|██████████| 900/900 [00:45<00:00, 19.84it/s]\n"
          ]
        },
        {
          "output_type": "stream",
          "name": "stdout",
          "text": [
            "Loss: 0.04709821178784803 , IOU: 0.936873289810287\n",
            "--------------------------------------------------------\n",
            "Epoch 20/20: Testing\n"
          ]
        },
        {
          "output_type": "stream",
          "name": "stderr",
          "text": [
            "100%|██████████| 51/51 [00:00<00:00, 56.22it/s]"
          ]
        },
        {
          "output_type": "stream",
          "name": "stdout",
          "text": [
            "Loss: 0.0886315303105934 , IOU: 0.8776181638240812\n",
            "--------------------------------------------------------\n",
            "--------------------------------------------------------\n",
            "Best IoU:  0.8979122463394613\n"
          ]
        },
        {
          "output_type": "stream",
          "name": "stderr",
          "text": [
            "\n"
          ]
        }
      ]
    },
    {
      "cell_type": "markdown",
      "source": [
        "#Visualizations"
      ],
      "metadata": {
        "id": "-xQl7fbv2OsD"
      }
    },
    {
      "cell_type": "code",
      "source": [
        "model_dict = {\n",
        "    \"unet\": {\"model\": smp.Unet, \"weights\": \"/content/drive/MyDrive/PPT/Foreground/Transfer/AC/Models/unet.pth\", \"noise\": \"/content/drive/MyDrive/PPT/Foreground/Transfer/AC/Models/unet_noise.pth\"},\n",
        "    \"upp\": {\"model\": smp.UnetPlusPlus, \"weights\": \"/content/drive/MyDrive/PPT/Foreground/Transfer/AC/Models/upp.pth\", \"noise\": \"/content/drive/MyDrive/PPT/Foreground/Transfer/AC/Models/upp_noise.pth\"},\n",
        "    \"fpn\": {\"model\": smp.FPN, \"weights\": \"/content/drive/MyDrive/PPT/Foreground/Transfer/AC/Models/fpn.pth\", \"noise\": \"/content/drive/MyDrive/PPT/Foreground/Transfer/AC/Models/fpn_noise.pth\"},\n",
        "    \"psp\": {\"model\": smp.PSPNet, \"weights\": \"/content/drive/MyDrive/PPT/Foreground/Transfer/AC/Models/psp.pth\", \"noise\": \"/content/drive/MyDrive/PPT/Foreground/Transfer/AC/Models/psp_noise.pth\"},\n",
        "    \"man\": {\"model\": smp.MAnet, \"weights\": \"/content/drive/MyDrive/PPT/Foreground/Transfer/AC/Models/man.pth\", \"noise\": \"/content/drive/MyDrive/PPT/Foreground/Transfer/AC/Models/man_noise.pth\"},\n",
        "    \"link\": {\"model\": smp.Linknet, \"weights\": \"/content/drive/MyDrive/PPT/Foreground/Transfer/AC/Models/link.pth\", \"noise\": \"/content/drive/MyDrive/PPT/Foreground/Transfer/AC/Models/link_noise.pth\"}\n",
        "}\n",
        "\n",
        "if torch.cuda.is_available: device = torch.device(\"cuda\")\n",
        "else: device = torch.device(\"cpu\")\n",
        "\n",
        "def get_model(MODEL):\n",
        "    model = MODEL(\n",
        "        encoder_name=\"resnet34\",        \n",
        "        encoder_weights=\"imagenet\",     \n",
        "        activation='sigmoid',\n",
        "        in_channels=1,                  \n",
        "        classes=1,                      \n",
        "    )\n",
        "    return model"
      ],
      "metadata": {
        "id": "duAQl4o_wwTK"
      },
      "execution_count": 37,
      "outputs": []
    },
    {
      "cell_type": "code",
      "source": [
        "img_name = \"patient001_3.png\"\n",
        "name = img_name.split(\".\")[0]\n",
        "img_path = os.path.join(root_path, \"Images\", img_name)\n",
        "map_path = os.path.join(root_path, \"Masks\", img_name)\n",
        "img, map, _ = loader(img_path, map_path)\n",
        "img, map = torch.tensor(img, dtype=torch.float32).to(device).unsqueeze(0), torch.tensor(map, dtype=torch.float32).to(device).unsqueeze(0)\n",
        "\n",
        "\n",
        "print(\"Input Image: \")\n",
        "#disp_Tensor(img, path=os.path.join(\"/content/drive/MyDrive/PPT/Foreground/Transfer/AC/vis2\", name+\"_img.png\"))\n",
        "print(\"Groundtruth: \")\n",
        "#disp_Tensor(map, path=os.path.join(\"/content/drive/MyDrive/PPT/Foreground/Transfer/AC/vis2\", name+\"_gt.png\"))\n",
        "\n",
        "img = img[:, :1, :, :]\n",
        "\n",
        "for k in list(model_dict.keys()):\n",
        "    model = get_model(model_dict[k][\"model\"])\n",
        "    frame = MyFrame(model, 1, device, evalmode=True)\n",
        "    frame.load(model_dict[k][\"noise\"])\n",
        "    pred = frame.net(img)\n",
        "    mets = metrics(pred, map)\n",
        "    print(\"Model:\", k)\n",
        "    disp_Tensor(pred, path=os.path.join(\"/content/drive/MyDrive/PPT/Foreground/Transfer/AC/vis\", name+\"_NS_\"+k+\".png\"))\n",
        "    print(\"Evaluation Metrics: \", mets)"
      ],
      "metadata": {
        "id": "lU2PZnaW2N8M",
        "colab": {
          "base_uri": "https://localhost:8080/",
          "height": 1000
        },
        "outputId": "84506ce1-8be8-4f13-f295-387228618fd4"
      },
      "execution_count": 40,
      "outputs": [
        {
          "output_type": "stream",
          "name": "stdout",
          "text": [
            "Input Image: \n",
            "Groundtruth: \n",
            "Model: unet\n"
          ]
        },
        {
          "output_type": "display_data",
          "data": {
            "text/plain": [
              "<PIL.Image.Image image mode=L size=224x224 at 0x7F4728A95CD0>"
            ],
            "image/png": "[encoded data removed]"
          },
          "metadata": {}
        },
        {
          "output_type": "stream",
          "name": "stdout",
          "text": [
            "Evaluation Metrics:  {'acc': array(0.9968112, dtype=float32), 'sen': array(0.98235554, dtype=float32), 'pre': array(0.9488709, dtype=float32), 'rec': array(0.98235554, dtype=float32), 'dsc': array(0.9653229, dtype=float32), 'iou': array(0.9329702, dtype=float32)}\n",
            "Model: upp\n"
          ]
        },
        {
          "output_type": "display_data",
          "data": {
            "text/plain": [
              "<PIL.Image.Image image mode=L size=224x224 at 0x7F4730A286A0>"
            ],
            "image/png": "[encoded data removed]"
          },
          "metadata": {}
        },
        {
          "output_type": "stream",
          "name": "stdout",
          "text": [
            "Evaluation Metrics:  {'acc': array(0.9973294, dtype=float32), 'sen': array(0.98235554, dtype=float32), 'pre': array(0.9595002, dtype=float32), 'rec': array(0.98235554, dtype=float32), 'dsc': array(0.97079337, dtype=float32), 'iou': array(0.9432444, dtype=float32)}\n",
            "Model: fpn\n"
          ]
        },
        {
          "output_type": "display_data",
          "data": {
            "text/plain": [
              "<PIL.Image.Image image mode=L size=224x224 at 0x7F4730A28A90>"
            ],
            "image/png": "[encoded data removed]"
          },
          "metadata": {}
        },
        {
          "output_type": "stream",
          "name": "stdout",
          "text": [
            "Evaluation Metrics:  {'acc': array(0.99762833, dtype=float32), 'sen': array(0.98632556, dtype=float32), 'pre': array(0.96213424, dtype=float32), 'rec': array(0.98632556, dtype=float32), 'dsc': array(0.9740797, dtype=float32), 'iou': array(0.9494692, dtype=float32)}\n",
            "Model: psp\n"
          ]
        },
        {
          "output_type": "display_data",
          "data": {
            "text/plain": [
              "<PIL.Image.Image image mode=L size=224x224 at 0x7F46E038B2E0>"
            ],
            "image/png": "[encoded data removed]"
          },
          "metadata": {}
        },
        {
          "output_type": "stream",
          "name": "stdout",
          "text": [
            "Evaluation Metrics:  {'acc': array(0.9969906, dtype=float32), 'sen': array(0.9819144, dtype=float32), 'pre': array(0.95291096, dtype=float32), 'rec': array(0.9819144, dtype=float32), 'dsc': array(0.96719533, dtype=float32), 'iou': array(0.93647456, dtype=float32)}\n",
            "Model: man\n"
          ]
        },
        {
          "output_type": "display_data",
          "data": {
            "text/plain": [
              "<PIL.Image.Image image mode=L size=224x224 at 0x7F46E03D2760>"
            ],
            "image/png": "[encoded data removed]"
          },
          "metadata": {}
        },
        {
          "output_type": "stream",
          "name": "stdout",
          "text": [
            "Evaluation Metrics:  {'acc': array(0.99703044, dtype=float32), 'sen': array(0.9616233, dtype=float32), 'pre': array(0.9723461, dtype=float32), 'rec': array(0.9616233, dtype=float32), 'dsc': array(0.966955, dtype=float32), 'iou': array(0.93602407, dtype=float32)}\n",
            "Model: link\n"
          ]
        },
        {
          "output_type": "display_data",
          "data": {
            "text/plain": [
              "<PIL.Image.Image image mode=L size=224x224 at 0x7F47DEE928E0>"
            ],
            "image/png": "[encoded data removed]"
          },
          "metadata": {}
        },
        {
          "output_type": "stream",
          "name": "stdout",
          "text": [
            "Evaluation Metrics:  {'acc': array(0.9976881, dtype=float32), 'sen': array(0.98985445, dtype=float32), 'pre': array(0.9602054, dtype=float32), 'rec': array(0.98985445, dtype=float32), 'dsc': array(0.9748045, dtype=float32), 'iou': array(0.95084745, dtype=float32)}\n"
          ]
        }
      ]
    },
    {
      "cell_type": "code",
      "source": [
        "img_name = \"patient001_3.png\"\n",
        "name = img_name.split(\".\")[0]\n",
        "img_path = os.path.join(root_path, \"Images\", img_name)\n",
        "map_path = os.path.join(root_path, \"Masks\", img_name)\n",
        "\n",
        "settings = [\n",
        "    {\"noise\": \"gauss\", \"level\": 0, \"k\": \"g0\"},\n",
        "    {\"noise\": \"gauss\", \"level\": 1, \"k\": \"g1\"},\n",
        "    {\"noise\": \"gauss\", \"level\": 2, \"k\": \"g2\"},\n",
        "    {\"noise\": \"s&p\", \"level\": 0, \"k\": \"sp0\"},\n",
        "    {\"noise\": \"s&p\", \"level\": 1, \"k\": \"sp1\"},\n",
        "    {\"noise\": \"s&p\", \"level\": 2, \"k\": \"sp2\"},\n",
        "    {\"noise\": \"speckle\", \"level\": 1, \"k\": \"S\"},\n",
        "    {\"noise\": \"poisson\", \"level\": 1, \"k\": \"P\"}\n",
        "]\n",
        "\n",
        "for pack in settings:\n",
        "    img, map, _ = loader(img_path, map_path, noise=pack[\"noise\"], level=pack[\"level\"])\n",
        "    nk = pack[\"k\"]\n",
        "    img, map = torch.tensor(img, dtype=torch.float32).to(device).unsqueeze(0), torch.tensor(map, dtype=torch.float32).to(device).unsqueeze(0)\n",
        "\n",
        "\n",
        "    print(\"Input Image: \")\n",
        "    #disp_Tensor(img, path=os.path.join(\"/content/drive/MyDrive/PPT/Foreground/Transfer/AC/vis2\", name+\"_img_\"+nk+\".png\"))\n",
        "    print(\"Groundtruth: \")\n",
        "    disp_Tensor(map)\n",
        "\n",
        "    img = img[:, :1, :, :]\n",
        "\n",
        "    for k in list(model_dict.keys()):\n",
        "        model = get_model(model_dict[k][\"model\"])\n",
        "        frame = MyFrame(model, 1, device, evalmode=True)\n",
        "        frame.load(model_dict[k][\"noise\"])\n",
        "        pred = frame.net(img)\n",
        "        mets = metrics(pred, map)\n",
        "        print(\"Model:\", k)\n",
        "        disp_Tensor(pred, path=os.path.join(\"/content/drive/MyDrive/PPT/Foreground/Transfer/AC/vis\", name+\"_NS_\"+k+\"_\"+nk+\".png\"))\n",
        "        print(\"Evaluation Metrics: \", mets)"
      ],
      "metadata": {
        "colab": {
          "base_uri": "https://localhost:8080/",
          "height": 1000
        },
        "id": "8SxTfjjyjL0O",
        "outputId": "d2e38a4b-e470-4be6-e980-981d6e9243f5"
      },
      "execution_count": 41,
      "outputs": [
        {
          "output_type": "stream",
          "name": "stdout",
          "text": [
            "Input Image: \n",
            "Groundtruth: \n"
          ]
        },
        {
          "output_type": "display_data",
          "data": {
            "text/plain": [
              "<PIL.Image.Image image mode=L size=224x224 at 0x7F46E02F96A0>"
            ],
            "image/png": "[encoded data removed]"
          },
          "metadata": {}
        },
        {
          "output_type": "stream",
          "name": "stdout",
          "text": [
            "Model: unet\n"
          ]
        },
        {
          "output_type": "display_data",
          "data": {
            "text/plain": [
              "<PIL.Image.Image image mode=L size=224x224 at 0x7F46E027DA60>"
            ],
            "image/png": "[encoded data removed]"
          },
          "metadata": {}
        },
        {
          "output_type": "stream",
          "name": "stdout",
          "text": [
            "Evaluation Metrics:  {'acc': array(0.9968112, dtype=float32), 'sen': array(0.98235554, dtype=float32), 'pre': array(0.9488709, dtype=float32), 'rec': array(0.98235554, dtype=float32), 'dsc': array(0.9653229, dtype=float32), 'iou': array(0.9329702, dtype=float32)}\n",
            "Model: upp\n"
          ]
        },
        {
          "output_type": "display_data",
          "data": {
            "text/plain": [
              "<PIL.Image.Image image mode=L size=224x224 at 0x7F48042C63A0>"
            ],
            "image/png": "[encoded data removed]"
          },
          "metadata": {}
        },
        {
          "output_type": "stream",
          "name": "stdout",
          "text": [
            "Evaluation Metrics:  {'acc': array(0.99730945, dtype=float32), 'sen': array(0.98235554, dtype=float32), 'pre': array(0.959087, dtype=float32), 'rec': array(0.98235554, dtype=float32), 'dsc': array(0.9705818, dtype=float32), 'iou': array(0.94284505, dtype=float32)}\n",
            "Model: fpn\n"
          ]
        },
        {
          "output_type": "display_data",
          "data": {
            "text/plain": [
              "<PIL.Image.Image image mode=L size=224x224 at 0x7F472811C3D0>"
            ],
            "image/png": "[encoded data removed]"
          },
          "metadata": {}
        },
        {
          "output_type": "stream",
          "name": "stdout",
          "text": [
            "Evaluation Metrics:  {'acc': array(0.99762833, dtype=float32), 'sen': array(0.98632556, dtype=float32), 'pre': array(0.96213424, dtype=float32), 'rec': array(0.98632556, dtype=float32), 'dsc': array(0.9740797, dtype=float32), 'iou': array(0.9494692, dtype=float32)}\n",
            "Model: psp\n"
          ]
        },
        {
          "output_type": "display_data",
          "data": {
            "text/plain": [
              "<PIL.Image.Image image mode=L size=224x224 at 0x7F46E0384E80>"
            ],
            "image/png": "[encoded data removed]"
          },
          "metadata": {}
        },
        {
          "output_type": "stream",
          "name": "stdout",
          "text": [
            "Evaluation Metrics:  {'acc': array(0.9970504, dtype=float32), 'sen': array(0.98235554, dtype=float32), 'pre': array(0.95374733, dtype=float32), 'rec': array(0.98235554, dtype=float32), 'dsc': array(0.9678401, dtype=float32), 'iou': array(0.93768424, dtype=float32)}\n",
            "Model: man\n"
          ]
        },
        {
          "output_type": "display_data",
          "data": {
            "text/plain": [
              "<PIL.Image.Image image mode=L size=224x224 at 0x7F46E03BB1C0>"
            ],
            "image/png": "[encoded data removed]"
          },
          "metadata": {}
        },
        {
          "output_type": "stream",
          "name": "stdout",
          "text": [
            "Evaluation Metrics:  {'acc': array(0.9970504, dtype=float32), 'sen': array(0.9625055, dtype=float32), 'pre': array(0.97193766, dtype=float32), 'rec': array(0.9625055, dtype=float32), 'dsc': array(0.9671986, dtype=float32), 'iou': array(0.9364807, dtype=float32)}\n",
            "Model: link\n"
          ]
        },
        {
          "output_type": "display_data",
          "data": {
            "text/plain": [
              "<PIL.Image.Image image mode=L size=224x224 at 0x7F47DEE92D60>"
            ],
            "image/png": "[encoded data removed]"
          },
          "metadata": {}
        },
        {
          "output_type": "stream",
          "name": "stdout",
          "text": [
            "Evaluation Metrics:  {'acc': array(0.9976881, dtype=float32), 'sen': array(0.98985445, dtype=float32), 'pre': array(0.9602054, dtype=float32), 'rec': array(0.98985445, dtype=float32), 'dsc': array(0.9748045, dtype=float32), 'iou': array(0.95084745, dtype=float32)}\n",
            "Input Image: \n",
            "Groundtruth: \n"
          ]
        },
        {
          "output_type": "display_data",
          "data": {
            "text/plain": [
              "<PIL.Image.Image image mode=L size=224x224 at 0x7F46E0384D90>"
            ],
            "image/png": "[encoded data removed]"
          },
          "metadata": {}
        },
        {
          "output_type": "stream",
          "name": "stdout",
          "text": [
            "Model: unet\n"
          ]
        },
        {
          "output_type": "display_data",
          "data": {
            "text/plain": [
              "<PIL.Image.Image image mode=L size=224x224 at 0x7F4750678970>"
            ],
            "image/png": "[encoded data removed]"
          },
          "metadata": {}
        },
        {
          "output_type": "stream",
          "name": "stdout",
          "text": [
            "Evaluation Metrics:  {'acc': array(0.9968511, dtype=float32), 'sen': array(0.98235554, dtype=float32), 'pre': array(0.94968015, dtype=float32), 'rec': array(0.98235554, dtype=float32), 'dsc': array(0.9657415, dtype=float32), 'iou': array(0.9337526, dtype=float32)}\n",
            "Model: upp\n"
          ]
        },
        {
          "output_type": "display_data",
          "data": {
            "text/plain": [
              "<PIL.Image.Image image mode=L size=224x224 at 0x7F46E0384E80>"
            ],
            "image/png": "[encoded data removed]"
          },
          "metadata": {}
        },
        {
          "output_type": "stream",
          "name": "stdout",
          "text": [
            "Evaluation Metrics:  {'acc': array(0.9974291, dtype=float32), 'sen': array(0.98323774, dtype=float32), 'pre': array(0.96077585, dtype=float32), 'rec': array(0.98323774, dtype=float32), 'dsc': array(0.97187704, dtype=float32), 'iou': array(0.9452926, dtype=float32)}\n",
            "Model: fpn\n"
          ]
        },
        {
          "output_type": "display_data",
          "data": {
            "text/plain": [
              "<PIL.Image.Image image mode=L size=224x224 at 0x7F47DEE8CB80>"
            ],
            "image/png": "[encoded data removed]"
          },
          "metadata": {}
        },
        {
          "output_type": "stream",
          "name": "stdout",
          "text": [
            "Evaluation Metrics:  {'acc': array(0.9976483, dtype=float32), 'sen': array(0.98632556, dtype=float32), 'pre': array(0.96254843, dtype=float32), 'rec': array(0.98632556, dtype=float32), 'dsc': array(0.9742919, dtype=float32), 'iou': array(0.94987255, dtype=float32)}\n",
            "Model: psp\n"
          ]
        },
        {
          "output_type": "display_data",
          "data": {
            "text/plain": [
              "<PIL.Image.Image image mode=L size=224x224 at 0x7F46E02456A0>"
            ],
            "image/png": "[encoded data removed]"
          },
          "metadata": {}
        },
        {
          "output_type": "stream",
          "name": "stdout",
          "text": [
            "Evaluation Metrics:  {'acc': array(0.99703044, dtype=float32), 'sen': array(0.98235554, dtype=float32), 'pre': array(0.95333904, dtype=float32), 'rec': array(0.98235554, dtype=float32), 'dsc': array(0.9676298, dtype=float32), 'iou': array(0.93728954, dtype=float32)}\n",
            "Model: man\n"
          ]
        },
        {
          "output_type": "display_data",
          "data": {
            "text/plain": [
              "<PIL.Image.Image image mode=L size=224x224 at 0x7F46E02F9CD0>"
            ],
            "image/png": "[encoded data removed]"
          },
          "metadata": {}
        },
        {
          "output_type": "stream",
          "name": "stdout",
          "text": [
            "Evaluation Metrics:  {'acc': array(0.9971102, dtype=float32), 'sen': array(0.9633877, dtype=float32), 'pre': array(0.97239536, dtype=float32), 'rec': array(0.9633877, dtype=float32), 'dsc': array(0.9678706, dtype=float32), 'iou': array(0.9377415, dtype=float32)}\n",
            "Model: link\n"
          ]
        },
        {
          "output_type": "display_data",
          "data": {
            "text/plain": [
              "<PIL.Image.Image image mode=L size=224x224 at 0x7F46E013EE50>"
            ],
            "image/png": "[encoded data removed]"
          },
          "metadata": {}
        },
        {
          "output_type": "stream",
          "name": "stdout",
          "text": [
            "Evaluation Metrics:  {'acc': array(0.9977479, dtype=float32), 'sen': array(0.99073666, dtype=float32), 'pre': array(0.96065015, dtype=float32), 'rec': array(0.99073666, dtype=float32), 'dsc': array(0.9754615, dtype=float32), 'iou': array(0.95209837, dtype=float32)}\n",
            "Input Image: \n",
            "Groundtruth: \n"
          ]
        },
        {
          "output_type": "display_data",
          "data": {
            "text/plain": [
              "<PIL.Image.Image image mode=L size=224x224 at 0x7F47309EC670>"
            ],
            "image/png": "[encoded data removed]"
          },
          "metadata": {}
        },
        {
          "output_type": "stream",
          "name": "stdout",
          "text": [
            "Model: unet\n"
          ]
        },
        {
          "output_type": "display_data",
          "data": {
            "text/plain": [
              "<PIL.Image.Image image mode=L size=224x224 at 0x7F46E03A8820>"
            ],
            "image/png": "[encoded data removed]"
          },
          "metadata": {}
        },
        {
          "output_type": "stream",
          "name": "stdout",
          "text": [
            "Evaluation Metrics:  {'acc': array(0.9969308, dtype=float32), 'sen': array(0.9836789, dtype=float32), 'pre': array(0.9501491, dtype=float32), 'rec': array(0.9836789, dtype=float32), 'dsc': array(0.9666233, dtype=float32), 'iou': array(0.9354027, dtype=float32)}\n",
            "Model: upp\n"
          ]
        },
        {
          "output_type": "display_data",
          "data": {
            "text/plain": [
              "<PIL.Image.Image image mode=L size=224x224 at 0x7F46E0245550>"
            ],
            "image/png": "[encoded data removed]"
          },
          "metadata": {}
        },
        {
          "output_type": "stream",
          "name": "stdout",
          "text": [
            "Evaluation Metrics:  {'acc': array(0.9973493, dtype=float32), 'sen': array(0.9819144, dtype=float32), 'pre': array(0.96031064, dtype=float32), 'rec': array(0.9819144, dtype=float32), 'dsc': array(0.9709924, dtype=float32), 'iou': array(0.9436202, dtype=float32)}\n",
            "Model: fpn\n"
          ]
        },
        {
          "output_type": "display_data",
          "data": {
            "text/plain": [
              "<PIL.Image.Image image mode=L size=224x224 at 0x7F46E0245AC0>"
            ],
            "image/png": "[encoded data removed]"
          },
          "metadata": {}
        },
        {
          "output_type": "stream",
          "name": "stdout",
          "text": [
            "Evaluation Metrics:  {'acc': array(0.9977081, dtype=float32), 'sen': array(0.9872078, dtype=float32), 'pre': array(0.9629948, dtype=float32), 'rec': array(0.9872078, dtype=float32), 'dsc': array(0.97495097, dtype=float32), 'iou': array(0.9511262, dtype=float32)}\n",
            "Model: psp\n"
          ]
        },
        {
          "output_type": "display_data",
          "data": {
            "text/plain": [
              "<PIL.Image.Image image mode=L size=224x224 at 0x7F47DEE92940>"
            ],
            "image/png": "[encoded data removed]"
          },
          "metadata": {}
        },
        {
          "output_type": "stream",
          "name": "stdout",
          "text": [
            "Evaluation Metrics:  {'acc': array(0.99703044, dtype=float32), 'sen': array(0.98323774, dtype=float32), 'pre': array(0.9525641, dtype=float32), 'rec': array(0.98323774, dtype=float32), 'dsc': array(0.9676579, dtype=float32), 'iou': array(0.9373423, dtype=float32)}\n",
            "Model: man\n"
          ]
        },
        {
          "output_type": "display_data",
          "data": {
            "text/plain": [
              "<PIL.Image.Image image mode=L size=224x224 at 0x7F47FF3EDFD0>"
            ],
            "image/png": "[encoded data removed]"
          },
          "metadata": {}
        },
        {
          "output_type": "stream",
          "name": "stdout",
          "text": [
            "Evaluation Metrics:  {'acc': array(0.9970703, dtype=float32), 'sen': array(0.9633877, dtype=float32), 'pre': array(0.97153026, dtype=float32), 'rec': array(0.9633877, dtype=float32), 'dsc': array(0.96744186, dtype=float32), 'iou': array(0.9369369, dtype=float32)}\n",
            "Model: link\n"
          ]
        },
        {
          "output_type": "display_data",
          "data": {
            "text/plain": [
              "<PIL.Image.Image image mode=L size=224x224 at 0x7F46E92CA100>"
            ],
            "image/png": "[encoded data removed]"
          },
          "metadata": {}
        },
        {
          "output_type": "stream",
          "name": "stdout",
          "text": [
            "Evaluation Metrics:  {'acc': array(0.9977081, dtype=float32), 'sen': array(0.9902955, dtype=float32), 'pre': array(0.9602224, dtype=float32), 'rec': array(0.9902955, dtype=float32), 'dsc': array(0.97502714, dtype=float32), 'iou': array(0.9512712, dtype=float32)}\n",
            "Input Image: \n",
            "Groundtruth: \n"
          ]
        },
        {
          "output_type": "stream",
          "name": "stderr",
          "text": [
            "<ipython-input-26-6bc88fc8f996>:20: FutureWarning: Using a non-tuple sequence for multidimensional indexing is deprecated; use `arr[tuple(seq)]` instead of `arr[seq]`. In the future this will be interpreted as an array index, `arr[np.array(seq)]`, which will result either in an error or a different result.\n",
            "  out[coords] = 1\n",
            "<ipython-input-26-6bc88fc8f996>:26: FutureWarning: Using a non-tuple sequence for multidimensional indexing is deprecated; use `arr[tuple(seq)]` instead of `arr[seq]`. In the future this will be interpreted as an array index, `arr[np.array(seq)]`, which will result either in an error or a different result.\n",
            "  out[coords] = 0\n"
          ]
        },
        {
          "output_type": "display_data",
          "data": {
            "text/plain": [
              "<PIL.Image.Image image mode=L size=224x224 at 0x7F47309DE400>"
            ],
            "image/png": "[encoded data removed]"
          },
          "metadata": {}
        },
        {
          "output_type": "stream",
          "name": "stdout",
          "text": [
            "Model: unet\n"
          ]
        },
        {
          "output_type": "display_data",
          "data": {
            "text/plain": [
              "<PIL.Image.Image image mode=L size=224x224 at 0x7F46E0481850>"
            ],
            "image/png": "[encoded data removed]"
          },
          "metadata": {}
        },
        {
          "output_type": "stream",
          "name": "stdout",
          "text": [
            "Evaluation Metrics:  {'acc': array(0.99695075, dtype=float32), 'sen': array(0.98015, dtype=float32), 'pre': array(0.9536481, dtype=float32), 'rec': array(0.98015, dtype=float32), 'dsc': array(0.9667174, dtype=float32), 'iou': array(0.93557894, dtype=float32)}\n",
            "Model: upp\n"
          ]
        },
        {
          "output_type": "display_data",
          "data": {
            "text/plain": [
              "<PIL.Image.Image image mode=L size=224x224 at 0x7F46E02C9E50>"
            ],
            "image/png": "[encoded data removed]"
          },
          "metadata": {}
        },
        {
          "output_type": "stream",
          "name": "stdout",
          "text": [
            "Evaluation Metrics:  {'acc': array(0.9971102, dtype=float32), 'sen': array(0.9792678, dtype=float32), 'pre': array(0.9577222, dtype=float32), 'rec': array(0.9792678, dtype=float32), 'dsc': array(0.96837515, dtype=float32), 'iou': array(0.93868923, dtype=float32)}\n",
            "Model: fpn\n"
          ]
        },
        {
          "output_type": "display_data",
          "data": {
            "text/plain": [
              "<PIL.Image.Image image mode=L size=224x224 at 0x7F47309DB640>"
            ],
            "image/png": "[encoded data removed]"
          },
          "metadata": {}
        },
        {
          "output_type": "stream",
          "name": "stdout",
          "text": [
            "Evaluation Metrics:  {'acc': array(0.99762833, dtype=float32), 'sen': array(0.98632556, dtype=float32), 'pre': array(0.96213424, dtype=float32), 'rec': array(0.98632556, dtype=float32), 'dsc': array(0.9740797, dtype=float32), 'iou': array(0.9494692, dtype=float32)}\n",
            "Model: psp\n"
          ]
        },
        {
          "output_type": "display_data",
          "data": {
            "text/plain": [
              "<PIL.Image.Image image mode=L size=224x224 at 0x7F473F4CF0A0>"
            ],
            "image/png": "[encoded data removed]"
          },
          "metadata": {}
        },
        {
          "output_type": "stream",
          "name": "stdout",
          "text": [
            "Evaluation Metrics:  {'acc': array(0.99728954, dtype=float32), 'sen': array(0.9858844, dtype=float32), 'pre': array(0.95553654, dtype=float32), 'rec': array(0.9858844, dtype=float32), 'dsc': array(0.9704733, dtype=float32), 'iou': array(0.94264024, dtype=float32)}\n",
            "Model: man\n"
          ]
        },
        {
          "output_type": "display_data",
          "data": {
            "text/plain": [
              "<PIL.Image.Image image mode=L size=224x224 at 0x7F46E025D970>"
            ],
            "image/png": "[encoded data removed]"
          },
          "metadata": {}
        },
        {
          "output_type": "stream",
          "name": "stdout",
          "text": [
            "Evaluation Metrics:  {'acc': array(0.99697065, dtype=float32), 'sen': array(0.9567711, dtype=float32), 'pre': array(0.9757085, dtype=float32), 'rec': array(0.9567711, dtype=float32), 'dsc': array(0.966147, dtype=float32), 'iou': array(0.934511, dtype=float32)}\n",
            "Model: link\n"
          ]
        },
        {
          "output_type": "display_data",
          "data": {
            "text/plain": [
              "<PIL.Image.Image image mode=L size=224x224 at 0x7F46E027DBE0>"
            ],
            "image/png": "[encoded data removed]"
          },
          "metadata": {}
        },
        {
          "output_type": "stream",
          "name": "stdout",
          "text": [
            "Evaluation Metrics:  {'acc': array(0.99780774, dtype=float32), 'sen': array(0.9894133, dtype=float32), 'pre': array(0.96307427, dtype=float32), 'rec': array(0.9894133, dtype=float32), 'dsc': array(0.9760662, dtype=float32), 'iou': array(0.9532512, dtype=float32)}\n",
            "Input Image: \n",
            "Groundtruth: \n"
          ]
        },
        {
          "output_type": "display_data",
          "data": {
            "text/plain": [
              "<PIL.Image.Image image mode=L size=224x224 at 0x7F47FF452FD0>"
            ],
            "image/png": "[encoded data removed]"
          },
          "metadata": {}
        },
        {
          "output_type": "stream",
          "name": "stdout",
          "text": [
            "Model: unet\n"
          ]
        },
        {
          "output_type": "display_data",
          "data": {
            "text/plain": [
              "<PIL.Image.Image image mode=L size=224x224 at 0x7F4730A289A0>"
            ],
            "image/png": "[encoded data removed]"
          },
          "metadata": {}
        },
        {
          "output_type": "stream",
          "name": "stdout",
          "text": [
            "Evaluation Metrics:  {'acc': array(0.99697065, dtype=float32), 'sen': array(0.9819144, dtype=float32), 'pre': array(0.9525032, dtype=float32), 'rec': array(0.9819144, dtype=float32), 'dsc': array(0.9669852, dtype=float32), 'iou': array(0.93608075, dtype=float32)}\n",
            "Model: upp\n"
          ]
        },
        {
          "output_type": "display_data",
          "data": {
            "text/plain": [
              "<PIL.Image.Image image mode=L size=224x224 at 0x7F46E02C9D60>"
            ],
            "image/png": "[encoded data removed]"
          },
          "metadata": {}
        },
        {
          "output_type": "stream",
          "name": "stdout",
          "text": [
            "Evaluation Metrics:  {'acc': array(0.99722975, dtype=float32), 'sen': array(0.9814733, dtype=float32), 'pre': array(0.95822567, dtype=float32), 'rec': array(0.9814733, dtype=float32), 'dsc': array(0.9697102, dtype=float32), 'iou': array(0.9412013, dtype=float32)}\n",
            "Model: fpn\n"
          ]
        },
        {
          "output_type": "display_data",
          "data": {
            "text/plain": [
              "<PIL.Image.Image image mode=L size=224x224 at 0x7F46E03217C0>"
            ],
            "image/png": "[encoded data removed]"
          },
          "metadata": {}
        },
        {
          "output_type": "stream",
          "name": "stdout",
          "text": [
            "Evaluation Metrics:  {'acc': array(0.9976084, dtype=float32), 'sen': array(0.98809, dtype=float32), 'pre': array(0.9601372, dtype=float32), 'rec': array(0.98809, dtype=float32), 'dsc': array(0.973913, dtype=float32), 'iou': array(0.9491525, dtype=float32)}\n",
            "Model: psp\n"
          ]
        },
        {
          "output_type": "display_data",
          "data": {
            "text/plain": [
              "<PIL.Image.Image image mode=L size=224x224 at 0x7F46E02D9940>"
            ],
            "image/png": "[encoded data removed]"
          },
          "metadata": {}
        },
        {
          "output_type": "stream",
          "name": "stdout",
          "text": [
            "Evaluation Metrics:  {'acc': array(0.9968112, dtype=float32), 'sen': array(0.98809, dtype=float32), 'pre': array(0.9439528, dtype=float32), 'rec': array(0.98809, dtype=float32), 'dsc': array(0.9655172, dtype=float32), 'iou': array(0.93333334, dtype=float32)}\n",
            "Model: man\n"
          ]
        },
        {
          "output_type": "display_data",
          "data": {
            "text/plain": [
              "<PIL.Image.Image image mode=L size=224x224 at 0x7F46E02C9CA0>"
            ],
            "image/png": "[encoded data removed]"
          },
          "metadata": {}
        },
        {
          "output_type": "stream",
          "name": "stdout",
          "text": [
            "Evaluation Metrics:  {'acc': array(0.99697065, dtype=float32), 'sen': array(0.9660344, dtype=float32), 'pre': array(0.9668874, dtype=float32), 'rec': array(0.9660344, dtype=float32), 'dsc': array(0.9664607, dtype=float32), 'iou': array(0.93509823, dtype=float32)}\n",
            "Model: link\n"
          ]
        },
        {
          "output_type": "display_data",
          "data": {
            "text/plain": [
              "<PIL.Image.Image image mode=L size=224x224 at 0x7F4728A0CCD0>"
            ],
            "image/png": "[encoded data removed]"
          },
          "metadata": {}
        },
        {
          "output_type": "stream",
          "name": "stdout",
          "text": [
            "Evaluation Metrics:  {'acc': array(0.9979672, dtype=float32), 'sen': array(0.9858844, dtype=float32), 'pre': array(0.96963125, dtype=float32), 'rec': array(0.9858844, dtype=float32), 'dsc': array(0.9776903, dtype=float32), 'iou': array(0.9563543, dtype=float32)}\n",
            "Input Image: \n",
            "Groundtruth: \n"
          ]
        },
        {
          "output_type": "display_data",
          "data": {
            "text/plain": [
              "<PIL.Image.Image image mode=L size=224x224 at 0x7F47FF400DC0>"
            ],
            "image/png": "[encoded data removed]"
          },
          "metadata": {}
        },
        {
          "output_type": "stream",
          "name": "stdout",
          "text": [
            "Model: unet\n"
          ]
        },
        {
          "output_type": "display_data",
          "data": {
            "text/plain": [
              "<PIL.Image.Image image mode=L size=224x224 at 0x7F473097FF70>"
            ],
            "image/png": "[encoded data removed]"
          },
          "metadata": {}
        },
        {
          "output_type": "stream",
          "name": "stdout",
          "text": [
            "Evaluation Metrics:  {'acc': array(0.9970703, dtype=float32), 'sen': array(0.9854433, dtype=float32), 'pre': array(0.951448, dtype=float32), 'rec': array(0.9854433, dtype=float32), 'dsc': array(0.96814734, dtype=float32), 'iou': array(0.9382612, dtype=float32)}\n",
            "Model: upp\n"
          ]
        },
        {
          "output_type": "display_data",
          "data": {
            "text/plain": [
              "<PIL.Image.Image image mode=L size=224x224 at 0x7F47DEE8CB80>"
            ],
            "image/png": "[encoded data removed]"
          },
          "metadata": {}
        },
        {
          "output_type": "stream",
          "name": "stdout",
          "text": [
            "Evaluation Metrics:  {'acc': array(0.9975885, dtype=float32), 'sen': array(0.9810322, dtype=float32), 'pre': array(0.9661164, dtype=float32), 'rec': array(0.9810322, dtype=float32), 'dsc': array(0.9735172, dtype=float32), 'iou': array(0.94840086, dtype=float32)}\n",
            "Model: fpn\n"
          ]
        },
        {
          "output_type": "display_data",
          "data": {
            "text/plain": [
              "<PIL.Image.Image image mode=L size=224x224 at 0x7F4728119DC0>"
            ],
            "image/png": "[encoded data removed]"
          },
          "metadata": {}
        },
        {
          "output_type": "stream",
          "name": "stdout",
          "text": [
            "Evaluation Metrics:  {'acc': array(0.99776787, dtype=float32), 'sen': array(0.9876489, dtype=float32), 'pre': array(0.9638399, dtype=float32), 'rec': array(0.9876489, dtype=float32), 'dsc': array(0.9755991, dtype=float32), 'iou': array(0.9523607, dtype=float32)}\n",
            "Model: psp\n"
          ]
        },
        {
          "output_type": "display_data",
          "data": {
            "text/plain": [
              "<PIL.Image.Image image mode=L size=224x224 at 0x7F46E0321BB0>"
            ],
            "image/png": "[encoded data removed]"
          },
          "metadata": {}
        },
        {
          "output_type": "stream",
          "name": "stdout",
          "text": [
            "Evaluation Metrics:  {'acc': array(0.9967913, dtype=float32), 'sen': array(0.9925011, dtype=float32), 'pre': array(0.9398496, dtype=float32), 'rec': array(0.9925011, dtype=float32), 'dsc': array(0.96545804, dtype=float32), 'iou': array(0.9332227, dtype=float32)}\n",
            "Model: man\n"
          ]
        },
        {
          "output_type": "display_data",
          "data": {
            "text/plain": [
              "<PIL.Image.Image image mode=L size=224x224 at 0x7F4728050A90>"
            ],
            "image/png": "[encoded data removed]"
          },
          "metadata": {}
        },
        {
          "output_type": "stream",
          "name": "stdout",
          "text": [
            "Evaluation Metrics:  {'acc': array(0.99748886, dtype=float32), 'sen': array(0.9792678, dtype=float32), 'pre': array(0.9656372, dtype=float32), 'rec': array(0.9792678, dtype=float32), 'dsc': array(0.9724047, dtype=float32), 'iou': array(0.94629157, dtype=float32)}\n",
            "Model: link\n"
          ]
        },
        {
          "output_type": "display_data",
          "data": {
            "text/plain": [
              "<PIL.Image.Image image mode=L size=224x224 at 0x7F4728119DC0>"
            ],
            "image/png": "[encoded data removed]"
          },
          "metadata": {}
        },
        {
          "output_type": "stream",
          "name": "stdout",
          "text": [
            "Evaluation Metrics:  {'acc': array(0.9977081, dtype=float32), 'sen': array(0.9836789, dtype=float32), 'pre': array(0.9662045, dtype=float32), 'rec': array(0.9836789, dtype=float32), 'dsc': array(0.9748634, dtype=float32), 'iou': array(0.9509595, dtype=float32)}\n",
            "Input Image: \n",
            "Groundtruth: \n"
          ]
        },
        {
          "output_type": "display_data",
          "data": {
            "text/plain": [
              "<PIL.Image.Image image mode=L size=224x224 at 0x7F47FF400550>"
            ],
            "image/png": "[encoded data removed]"
          },
          "metadata": {}
        },
        {
          "output_type": "stream",
          "name": "stdout",
          "text": [
            "Model: unet\n"
          ]
        },
        {
          "output_type": "display_data",
          "data": {
            "text/plain": [
              "<PIL.Image.Image image mode=L size=224x224 at 0x7F47309DB640>"
            ],
            "image/png": "[encoded data removed]"
          },
          "metadata": {}
        },
        {
          "output_type": "stream",
          "name": "stdout",
          "text": [
            "Evaluation Metrics:  {'acc': array(0.9549386, dtype=float32), 'sen': array(0.00264667, dtype=float32), 'pre': array(1., dtype=float32), 'rec': array(0.00264667, dtype=float32), 'dsc': array(0.00527937, dtype=float32), 'iou': array(0.00264667, dtype=float32)}\n",
            "Model: upp\n"
          ]
        },
        {
          "output_type": "display_data",
          "data": {
            "text/plain": [
              "<PIL.Image.Image image mode=L size=224x224 at 0x7F46E02D9130>"
            ],
            "image/png": "[encoded data removed]"
          },
          "metadata": {}
        },
        {
          "output_type": "stream",
          "name": "stdout",
          "text": [
            "Evaluation Metrics:  {'acc': array(0.9547991, dtype=float32), 'sen': array(0., dtype=float32), 'pre': array(0., dtype=float32), 'rec': array(0., dtype=float32), 'dsc': array(0., dtype=float32), 'iou': array(0., dtype=float32)}\n",
            "Model: fpn\n"
          ]
        },
        {
          "output_type": "display_data",
          "data": {
            "text/plain": [
              "<PIL.Image.Image image mode=L size=224x224 at 0x7F46E0245C40>"
            ],
            "image/png": "[encoded data removed]"
          },
          "metadata": {}
        },
        {
          "output_type": "stream",
          "name": "stdout",
          "text": [
            "Evaluation Metrics:  {'acc': array(0.95475924, dtype=float32), 'sen': array(0., dtype=float32), 'pre': array(0., dtype=float32), 'rec': array(0., dtype=float32), 'dsc': array(0., dtype=float32), 'iou': array(0., dtype=float32)}\n",
            "Model: psp\n"
          ]
        },
        {
          "output_type": "display_data",
          "data": {
            "text/plain": [
              "<PIL.Image.Image image mode=L size=224x224 at 0x7F4730992CD0>"
            ],
            "image/png": "[encoded data removed]"
          },
          "metadata": {}
        },
        {
          "output_type": "stream",
          "name": "stdout",
          "text": [
            "Evaluation Metrics:  {'acc': array(0.95473933, dtype=float32), 'sen': array(0., dtype=float32), 'pre': array(0., dtype=float32), 'rec': array(0., dtype=float32), 'dsc': array(0., dtype=float32), 'iou': array(0., dtype=float32)}\n",
            "Model: man\n"
          ]
        },
        {
          "output_type": "display_data",
          "data": {
            "text/plain": [
              "<PIL.Image.Image image mode=L size=224x224 at 0x7F46E03A89D0>"
            ],
            "image/png": "[encoded data removed]"
          },
          "metadata": {}
        },
        {
          "output_type": "stream",
          "name": "stdout",
          "text": [
            "Evaluation Metrics:  {'acc': array(0.95475924, dtype=float32), 'sen': array(0., dtype=float32), 'pre': array(0., dtype=float32), 'rec': array(0., dtype=float32), 'dsc': array(0., dtype=float32), 'iou': array(0., dtype=float32)}\n",
            "Model: link\n"
          ]
        },
        {
          "output_type": "display_data",
          "data": {
            "text/plain": [
              "<PIL.Image.Image image mode=L size=224x224 at 0x7F47309E4E80>"
            ],
            "image/png": "[encoded data removed]"
          },
          "metadata": {}
        },
        {
          "output_type": "stream",
          "name": "stdout",
          "text": [
            "Evaluation Metrics:  {'acc': array(0.954839, dtype=float32), 'sen': array(0.00044111, dtype=float32), 'pre': array(1., dtype=float32), 'rec': array(0.00044111, dtype=float32), 'dsc': array(0.00088183, dtype=float32), 'iou': array(0.00044111, dtype=float32)}\n",
            "Input Image: \n",
            "Groundtruth: \n"
          ]
        },
        {
          "output_type": "display_data",
          "data": {
            "text/plain": [
              "<PIL.Image.Image image mode=L size=224x224 at 0x7F47309E4220>"
            ],
            "image/png": "[encoded data removed]"
          },
          "metadata": {}
        },
        {
          "output_type": "stream",
          "name": "stdout",
          "text": [
            "Model: unet\n"
          ]
        },
        {
          "output_type": "display_data",
          "data": {
            "text/plain": [
              "<PIL.Image.Image image mode=L size=224x224 at 0x7F47280B0700>"
            ],
            "image/png": "[encoded data removed]"
          },
          "metadata": {}
        },
        {
          "output_type": "stream",
          "name": "stdout",
          "text": [
            "Evaluation Metrics:  {'acc': array(0.9968511, dtype=float32), 'sen': array(0.98235554, dtype=float32), 'pre': array(0.94968015, dtype=float32), 'rec': array(0.98235554, dtype=float32), 'dsc': array(0.9657415, dtype=float32), 'iou': array(0.9337526, dtype=float32)}\n",
            "Model: upp\n"
          ]
        },
        {
          "output_type": "display_data",
          "data": {
            "text/plain": [
              "<PIL.Image.Image image mode=L size=224x224 at 0x7F46E03993A0>"
            ],
            "image/png": "[encoded data removed]"
          },
          "metadata": {}
        },
        {
          "output_type": "stream",
          "name": "stdout",
          "text": [
            "Evaluation Metrics:  {'acc': array(0.9973892, dtype=float32), 'sen': array(0.98235554, dtype=float32), 'pre': array(0.960742, dtype=float32), 'rec': array(0.98235554, dtype=float32), 'dsc': array(0.9714286, dtype=float32), 'iou': array(0.9444444, dtype=float32)}\n",
            "Model: fpn\n"
          ]
        },
        {
          "output_type": "display_data",
          "data": {
            "text/plain": [
              "<PIL.Image.Image image mode=L size=224x224 at 0x7F46E027D550>"
            ],
            "image/png": "[encoded data removed]"
          },
          "metadata": {}
        },
        {
          "output_type": "stream",
          "name": "stdout",
          "text": [
            "Evaluation Metrics:  {'acc': array(0.9976483, dtype=float32), 'sen': array(0.98632556, dtype=float32), 'pre': array(0.96254843, dtype=float32), 'rec': array(0.98632556, dtype=float32), 'dsc': array(0.9742919, dtype=float32), 'iou': array(0.94987255, dtype=float32)}\n",
            "Model: psp\n"
          ]
        },
        {
          "output_type": "display_data",
          "data": {
            "text/plain": [
              "<PIL.Image.Image image mode=L size=224x224 at 0x7F48042C63A0>"
            ],
            "image/png": "[encoded data removed]"
          },
          "metadata": {}
        },
        {
          "output_type": "stream",
          "name": "stdout",
          "text": [
            "Evaluation Metrics:  {'acc': array(0.9970105, dtype=float32), 'sen': array(0.9819144, dtype=float32), 'pre': array(0.9533191, dtype=float32), 'rec': array(0.9819144, dtype=float32), 'dsc': array(0.9674055, dtype=float32), 'iou': array(0.93686867, dtype=float32)}\n",
            "Model: man\n"
          ]
        },
        {
          "output_type": "display_data",
          "data": {
            "text/plain": [
              "<PIL.Image.Image image mode=L size=224x224 at 0x7F4722588A00>"
            ],
            "image/png": "[encoded data removed]"
          },
          "metadata": {}
        },
        {
          "output_type": "stream",
          "name": "stdout",
          "text": [
            "Evaluation Metrics:  {'acc': array(0.9970105, dtype=float32), 'sen': array(0.9611822, dtype=float32), 'pre': array(0.9723338, dtype=float32), 'rec': array(0.9611822, dtype=float32), 'dsc': array(0.9667258, dtype=float32), 'iou': array(0.9355947, dtype=float32)}\n",
            "Model: link\n"
          ]
        },
        {
          "output_type": "display_data",
          "data": {
            "text/plain": [
              "<PIL.Image.Image image mode=L size=224x224 at 0x7F46E02D9AF0>"
            ],
            "image/png": "[encoded data removed]"
          },
          "metadata": {}
        },
        {
          "output_type": "stream",
          "name": "stdout",
          "text": [
            "Evaluation Metrics:  {'acc': array(0.9976682, dtype=float32), 'sen': array(0.9894133, dtype=float32), 'pre': array(0.9601883, dtype=float32), 'rec': array(0.9894133, dtype=float32), 'dsc': array(0.9745818, dtype=float32), 'iou': array(0.9504237, dtype=float32)}\n"
          ]
        }
      ]
    },
    {
      "cell_type": "code",
      "source": [
        "img_name = \"patient005_3.png\"\n",
        "img_path = os.path.join(root_path, \"Images\", img_name)\n",
        "map_path = os.path.join(root_path, \"Masks\", img_name)\n",
        "img, map, _ = loader(img_path, map_path)\n",
        "img, map = torch.tensor(img, dtype=torch.float32).to(device).unsqueeze(0), torch.tensor(map, dtype=torch.float32).to(device).unsqueeze(0)\n",
        "\n",
        "\n",
        "print(\"Input Image: \")\n",
        "disp_Tensor(img)\n",
        "print(\"Groundtruth: \")\n",
        "disp_Tensor(map)\n",
        "\n",
        "img = img[:, :1, :, :]\n",
        "\n",
        "for k in list(model_dict.keys()):\n",
        "    model = get_model(model_dict[k][\"model\"])\n",
        "    frame = MyFrame(model, 1, device, evalmode=True)\n",
        "    frame.load(model_dict[k][\"weights\"])\n",
        "    pred = frame.net(img)\n",
        "    mets = metrics(pred, map)\n",
        "    print(\"Model:\", k)\n",
        "    disp_Tensor(pred)\n",
        "    print(\"Evaluation Metrics: \", mets)"
      ],
      "metadata": {
        "colab": {
          "base_uri": "https://localhost:8080/",
          "height": 1000
        },
        "id": "Fs2TFrV8dhoB",
        "outputId": "370d4664-f579-46b2-c90a-186ae6a4d4ca"
      },
      "execution_count": null,
      "outputs": [
        {
          "output_type": "stream",
          "name": "stdout",
          "text": [
            "Input Image: \n"
          ]
        },
        {
          "output_type": "display_data",
          "data": {
            "text/plain": [
              "<PIL.Image.Image image mode=RGB size=224x224 at 0x7FDCAD818F70>"
            ],
            "image/png": "[encoded data removed]"
          },
          "metadata": {}
        },
        {
          "output_type": "stream",
          "name": "stdout",
          "text": [
            "Groundtruth: \n"
          ]
        },
        {
          "output_type": "display_data",
          "data": {
            "text/plain": [
              "<PIL.Image.Image image mode=L size=224x224 at 0x7FDCAD818F70>"
            ],
            "image/png": "[encoded data removed]"
          },
          "metadata": {}
        },
        {
          "output_type": "stream",
          "name": "stdout",
          "text": [
            "Model: unet\n"
          ]
        },
        {
          "output_type": "display_data",
          "data": {
            "text/plain": [
              "<PIL.Image.Image image mode=L size=224x224 at 0x7FDCAD845E50>"
            ],
            "image/png": "[encoded data removed]"
          },
          "metadata": {}
        },
        {
          "output_type": "stream",
          "name": "stdout",
          "text": [
            "Evaluation Metrics:  {'acc': array(0.93967235, dtype=float32), 'sen': array(0., dtype=float32), 'pre': array(0., dtype=float32), 'rec': array(0., dtype=float32), 'dsc': array(0., dtype=float32), 'iou': array(0., dtype=float32)}\n",
            "Model: upp\n"
          ]
        },
        {
          "output_type": "display_data",
          "data": {
            "text/plain": [
              "<PIL.Image.Image image mode=L size=224x224 at 0x7FDCC45159A0>"
            ],
            "image/png": "[encoded data removed]"
          },
          "metadata": {}
        },
        {
          "output_type": "stream",
          "name": "stdout",
          "text": [
            "Evaluation Metrics:  {'acc': array(0.9958745, dtype=float32), 'sen': array(0.9857804, dtype=float32), 'pre': array(0.94785374, dtype=float32), 'rec': array(0.9857804, dtype=float32), 'dsc': array(0.96644515, dtype=float32), 'iou': array(0.935069, dtype=float32)}\n",
            "Model: fpn\n"
          ]
        },
        {
          "output_type": "display_data",
          "data": {
            "text/plain": [
              "<PIL.Image.Image image mode=L size=224x224 at 0x7FDD26981B80>"
            ],
            "image/png": "[encoded data removed]"
          },
          "metadata": {}
        },
        {
          "output_type": "stream",
          "name": "stdout",
          "text": [
            "Evaluation Metrics:  {'acc': array(0.9978675, dtype=float32), 'sen': array(0.97751325, dtype=float32), 'pre': array(0.9869783, dtype=float32), 'rec': array(0.97751325, dtype=float32), 'dsc': array(0.982223, dtype=float32), 'iou': array(0.9650669, dtype=float32)}\n",
            "Model: psp\n"
          ]
        },
        {
          "output_type": "display_data",
          "data": {
            "text/plain": [
              "<PIL.Image.Image image mode=L size=224x224 at 0x7FDCAD6FE850>"
            ],
            "image/png": "[encoded data removed]"
          },
          "metadata": {}
        },
        {
          "output_type": "stream",
          "name": "stdout",
          "text": [
            "Evaluation Metrics:  {'acc': array(0.99703044, dtype=float32), 'sen': array(0.958664, dtype=float32), 'pre': array(0.9917893, dtype=float32), 'rec': array(0.958664, dtype=float32), 'dsc': array(0.97494537, dtype=float32), 'iou': array(0.9511155, dtype=float32)}\n",
            "Model: man\n"
          ]
        },
        {
          "output_type": "display_data",
          "data": {
            "text/plain": [
              "<PIL.Image.Image image mode=L size=224x224 at 0x7FDCAD8560A0>"
            ],
            "image/png": "[encoded data removed]"
          },
          "metadata": {}
        },
        {
          "output_type": "stream",
          "name": "stdout",
          "text": [
            "Evaluation Metrics:  {'acc': array(0.9921277, dtype=float32), 'sen': array(0.88723546, dtype=float32), 'pre': array(0.9802704, dtype=float32), 'rec': array(0.88723546, dtype=float32), 'dsc': array(0.9314355, dtype=float32), 'iou': array(0.8716699, dtype=float32)}\n",
            "Model: link\n"
          ]
        },
        {
          "output_type": "display_data",
          "data": {
            "text/plain": [
              "<PIL.Image.Image image mode=L size=224x224 at 0x7FDCAD85F250>"
            ],
            "image/png": "[encoded data removed]"
          },
          "metadata": {}
        },
        {
          "output_type": "stream",
          "name": "stdout",
          "text": [
            "Evaluation Metrics:  {'acc': array(0.9970105, dtype=float32), 'sen': array(0.97089946, dtype=float32), 'pre': array(0.9793196, dtype=float32), 'rec': array(0.97089946, dtype=float32), 'dsc': array(0.97509134, dtype=float32), 'iou': array(0.95139337, dtype=float32)}\n"
          ]
        }
      ]
    },
    {
      "cell_type": "code",
      "source": [
        "%cd /content/drive/MyDrive/PPT/Foreground/Transfer/AC/Real ACDC\n",
        "!du -sh"
      ],
      "metadata": {
        "colab": {
          "base_uri": "https://localhost:8080/"
        },
        "id": "cCy4q6-niViE",
        "outputId": "60a84aa6-3ea6-416b-f408-5cfb674ffa67"
      },
      "execution_count": null,
      "outputs": [
        {
          "output_type": "stream",
          "name": "stdout",
          "text": [
            "/content/drive/.shortcut-targets-by-id/1MmEp8tMQH9Td_kR5hM7jmGgNceD6mVyX/Real ACDC\n",
            "3.1G\t.\n"
          ]
        }
      ]
    },
    {
      "cell_type": "markdown",
      "source": [
        "#Noise Training"
      ],
      "metadata": {
        "id": "XXCZNz-1Yo9n"
      }
    },
    {
      "cell_type": "markdown",
      "source": [
        "##Train UNet"
      ],
      "metadata": {
        "id": "kqzXSlyva0AO"
      }
    },
    {
      "cell_type": "code",
      "source": [
        "LEARNING_RATE = 1e-4\n",
        "NUM_EPOCHS = 20\n",
        "BATCH_SIZE = 1\n",
        "model_path = '/content/drive/MyDrive/PPT/Foreground/Transfer/AC/Models/unet_noise.pth'\n",
        "root_path = '/content/drive/MyDrive/PPT/Foreground/Transfer/AC/Real ACDC/data_2d'\n",
        "\n",
        "train_dataset = Segmentation_Dataset(root_path, split=\"train\", noise=\"train\")\n",
        "test_dataset = Segmentation_Dataset(root_path, split=\"test\")\n",
        "\n",
        "train_loader = DataLoader(train_dataset, batch_size = 1, shuffle=True)\n",
        "test_loader = DataLoader(test_dataset, batch_size = 1, shuffle=False)\n",
        "\n",
        "if torch.cuda.is_available: device = torch.device(\"cuda\")\n",
        "else: device = torch.device(\"cpu\")\n",
        "\n",
        "\n",
        "model = get_model(model_dict[\"unet\"][\"model\"])\n",
        "frame = MyFrame(model, LEARNING_RATE, device)\n",
        "#frame.load(model_path)\n",
        "\n",
        "best_iou = 0.\n",
        "\n",
        "for epoch in range(1, NUM_EPOCHS+1):\n",
        "    print(\"--------------------------------------------------------\")\n",
        "    print(\"--------------------------------------------------------\")\n",
        "    print(\"Epoch \"+str(epoch)+\"/\"+str(NUM_EPOCHS)+\": Training\")\n",
        "    tr_dict = frame.run_epoch(train_loader)\n",
        "    print(\"Loss:\", tr_dict[\"loss\"], \", IOU:\", tr_dict[\"iou\"])\n",
        "    print(\"--------------------------------------------------------\")\n",
        "    print(\"Epoch \"+str(epoch)+\"/\"+str(NUM_EPOCHS)+\": Testing\")\n",
        "    te_dict = frame.run_epoch(test_loader, train=False)\n",
        "    print(\"Loss:\", te_dict[\"loss\"], \", IOU:\", te_dict[\"iou\"])\n",
        "    print(\"--------------------------------------------------------\")\n",
        "    print(\"--------------------------------------------------------\")\n",
        "    \n",
        "    if te_dict[\"iou\"] > best_iou: \n",
        "      frame.save(model_path)\n",
        "      best_iou = te_dict[\"iou\"]\n",
        "\n",
        "print('Best IoU: ', best_iou) "
      ],
      "metadata": {
        "id": "MkAPeusEPEyq",
        "colab": {
          "base_uri": "https://localhost:8080/",
          "height": 1000,
          "referenced_widgets": [
            "40b725432aba4b35a7f69d1b709af059",
            "14ffed5a054d42f3b0f8e60958fd50f6",
            "7d5efbc7abdd48f694ba934ee090783c",
            "675caf821cce40e2a1b5c5a9322d1aef",
            "624bb2438a324deaac0ed03a3efca896",
            "016322f414d5476abfb3f89d7a4b5e86",
            "93d381bc9418440fac16bfa018e31a85",
            "117bf38bee504e8687967667a5911123",
            "c337c5c1ca474507990f1ce77d26921f",
            "76af7a9321ae4c678214ea42d45c82b2",
            "1ba964fdbff24ca0b275948afe4b285a"
          ]
        },
        "outputId": "23b8c124-6738-454c-c547-0fabffa038c5"
      },
      "execution_count": null,
      "outputs": [
        {
          "output_type": "stream",
          "name": "stdout",
          "text": [
            "num img = 900\n",
            "num map = 900\n",
            "num img = 51\n",
            "num map = 51\n"
          ]
        },
        {
          "output_type": "stream",
          "name": "stderr",
          "text": [
            "Downloading: \"https://download.pytorch.org/models/resnet34-333f7ec4.pth\" to /root/.cache/torch/hub/checkpoints/resnet34-333f7ec4.pth\n"
          ]
        },
        {
          "output_type": "display_data",
          "data": {
            "text/plain": [
              "  0%|          | 0.00/83.3M [00:00<?, ?B/s]"
            ],
            "application/vnd.jupyter.widget-view+json": {
              "version_major": 2,
              "version_minor": 0,
              "model_id": "40b725432aba4b35a7f69d1b709af059"
            }
          },
          "metadata": {}
        },
        {
          "output_type": "stream",
          "name": "stdout",
          "text": [
            "--------------------------------------------------------\n",
            "--------------------------------------------------------\n",
            "Epoch 1/20: Training\n"
          ]
        },
        {
          "output_type": "stream",
          "name": "stderr",
          "text": [
            "\r  0%|          | 0/900 [00:00<?, ?it/s]<ipython-input-4-0a8257117a2c>:20: FutureWarning: Using a non-tuple sequence for multidimensional indexing is deprecated; use `arr[tuple(seq)]` instead of `arr[seq]`. In the future this will be interpreted as an array index, `arr[np.array(seq)]`, which will result either in an error or a different result.\n",
            "  out[coords] = 1\n",
            "<ipython-input-4-0a8257117a2c>:26: FutureWarning: Using a non-tuple sequence for multidimensional indexing is deprecated; use `arr[tuple(seq)]` instead of `arr[seq]`. In the future this will be interpreted as an array index, `arr[np.array(seq)]`, which will result either in an error or a different result.\n",
            "  out[coords] = 0\n",
            "100%|██████████| 900/900 [13:56<00:00,  1.08it/s]\n"
          ]
        },
        {
          "output_type": "stream",
          "name": "stdout",
          "text": [
            "Loss: 0.44031773318847095 , IOU: 0.6994255299069068\n",
            "--------------------------------------------------------\n",
            "Epoch 1/20: Testing\n"
          ]
        },
        {
          "output_type": "stream",
          "name": "stderr",
          "text": [
            "100%|██████████| 51/51 [00:41<00:00,  1.23it/s]\n"
          ]
        },
        {
          "output_type": "stream",
          "name": "stdout",
          "text": [
            "Loss: 0.14833172980476833 , IOU: 0.8493481810186424\n",
            "--------------------------------------------------------\n",
            "--------------------------------------------------------\n",
            "--------------------------------------------------------\n",
            "--------------------------------------------------------\n",
            "Epoch 2/20: Training\n"
          ]
        },
        {
          "output_type": "stream",
          "name": "stderr",
          "text": [
            "100%|██████████| 900/900 [00:53<00:00, 16.85it/s]\n"
          ]
        },
        {
          "output_type": "stream",
          "name": "stdout",
          "text": [
            "Loss: 0.1172920863330365 , IOU: 0.8633773595218858\n",
            "--------------------------------------------------------\n",
            "Epoch 2/20: Testing\n"
          ]
        },
        {
          "output_type": "stream",
          "name": "stderr",
          "text": [
            "100%|██████████| 51/51 [00:00<00:00, 51.01it/s]\n"
          ]
        },
        {
          "output_type": "stream",
          "name": "stdout",
          "text": [
            "Loss: 0.08468915113047057 , IOU: 0.8915944835718943\n",
            "--------------------------------------------------------\n",
            "--------------------------------------------------------\n",
            "--------------------------------------------------------\n",
            "--------------------------------------------------------\n",
            "Epoch 3/20: Training\n"
          ]
        },
        {
          "output_type": "stream",
          "name": "stderr",
          "text": [
            "100%|██████████| 900/900 [00:53<00:00, 16.88it/s]\n"
          ]
        },
        {
          "output_type": "stream",
          "name": "stdout",
          "text": [
            "Loss: 0.09224095931276675 , IOU: 0.880058708323373\n",
            "--------------------------------------------------------\n",
            "Epoch 3/20: Testing\n"
          ]
        },
        {
          "output_type": "stream",
          "name": "stderr",
          "text": [
            "100%|██████████| 51/51 [00:00<00:00, 52.21it/s]\n"
          ]
        },
        {
          "output_type": "stream",
          "name": "stdout",
          "text": [
            "Loss: 0.09865558739094175 , IOU: 0.8667152336999481\n",
            "--------------------------------------------------------\n",
            "--------------------------------------------------------\n",
            "--------------------------------------------------------\n",
            "--------------------------------------------------------\n",
            "Epoch 4/20: Training\n"
          ]
        },
        {
          "output_type": "stream",
          "name": "stderr",
          "text": [
            "100%|██████████| 900/900 [00:53<00:00, 16.82it/s]\n"
          ]
        },
        {
          "output_type": "stream",
          "name": "stdout",
          "text": [
            "Loss: 0.08913181210557633 , IOU: 0.8809610850115621\n",
            "--------------------------------------------------------\n",
            "Epoch 4/20: Testing\n"
          ]
        },
        {
          "output_type": "stream",
          "name": "stderr",
          "text": [
            "100%|██████████| 51/51 [00:01<00:00, 47.22it/s]\n"
          ]
        },
        {
          "output_type": "stream",
          "name": "stdout",
          "text": [
            "Loss: 0.07024503988670366 , IOU: 0.9014979133418964\n",
            "--------------------------------------------------------\n",
            "--------------------------------------------------------\n",
            "--------------------------------------------------------\n",
            "--------------------------------------------------------\n",
            "Epoch 5/20: Training\n"
          ]
        },
        {
          "output_type": "stream",
          "name": "stderr",
          "text": [
            "100%|██████████| 900/900 [00:52<00:00, 17.03it/s]\n"
          ]
        },
        {
          "output_type": "stream",
          "name": "stdout",
          "text": [
            "Loss: 0.07838201277992783 , IOU: 0.8938153994414534\n",
            "--------------------------------------------------------\n",
            "Epoch 5/20: Testing\n"
          ]
        },
        {
          "output_type": "stream",
          "name": "stderr",
          "text": [
            "100%|██████████| 51/51 [00:01<00:00, 41.90it/s]\n"
          ]
        },
        {
          "output_type": "stream",
          "name": "stdout",
          "text": [
            "Loss: 0.07227134598674727 , IOU: 0.8984001921672446\n",
            "--------------------------------------------------------\n",
            "--------------------------------------------------------\n",
            "--------------------------------------------------------\n",
            "--------------------------------------------------------\n",
            "Epoch 6/20: Training\n"
          ]
        },
        {
          "output_type": "stream",
          "name": "stderr",
          "text": [
            "100%|██████████| 900/900 [00:52<00:00, 17.23it/s]\n"
          ]
        },
        {
          "output_type": "stream",
          "name": "stdout",
          "text": [
            "Loss: 0.07130218376302064 , IOU: 0.9018727060821328\n",
            "--------------------------------------------------------\n",
            "Epoch 6/20: Testing\n"
          ]
        },
        {
          "output_type": "stream",
          "name": "stderr",
          "text": [
            "100%|██████████| 51/51 [00:01<00:00, 48.95it/s]\n"
          ]
        },
        {
          "output_type": "stream",
          "name": "stdout",
          "text": [
            "Loss: 0.07566643192195426 , IOU: 0.8930782395250658\n",
            "--------------------------------------------------------\n",
            "--------------------------------------------------------\n",
            "--------------------------------------------------------\n",
            "--------------------------------------------------------\n",
            "Epoch 7/20: Training\n"
          ]
        },
        {
          "output_type": "stream",
          "name": "stderr",
          "text": [
            "100%|██████████| 900/900 [00:53<00:00, 16.87it/s]\n"
          ]
        },
        {
          "output_type": "stream",
          "name": "stdout",
          "text": [
            "Loss: 0.06523535912442535 , IOU: 0.909621978071001\n",
            "--------------------------------------------------------\n",
            "Epoch 7/20: Testing\n"
          ]
        },
        {
          "output_type": "stream",
          "name": "stderr",
          "text": [
            "100%|██████████| 51/51 [00:01<00:00, 50.85it/s]\n"
          ]
        },
        {
          "output_type": "stream",
          "name": "stdout",
          "text": [
            "Loss: 0.06628849178406539 , IOU: 0.9053977225341047\n",
            "--------------------------------------------------------\n",
            "--------------------------------------------------------\n",
            "--------------------------------------------------------\n",
            "--------------------------------------------------------\n",
            "Epoch 8/20: Training\n"
          ]
        },
        {
          "output_type": "stream",
          "name": "stderr",
          "text": [
            "100%|██████████| 900/900 [00:53<00:00, 16.75it/s]\n"
          ]
        },
        {
          "output_type": "stream",
          "name": "stdout",
          "text": [
            "Loss: 0.06952037322438419 , IOU: 0.9048258321111402\n",
            "--------------------------------------------------------\n",
            "Epoch 8/20: Testing\n"
          ]
        },
        {
          "output_type": "stream",
          "name": "stderr",
          "text": [
            "100%|██████████| 51/51 [00:00<00:00, 52.65it/s]\n"
          ]
        },
        {
          "output_type": "stream",
          "name": "stdout",
          "text": [
            "Loss: 0.2664779367692329 , IOU: 0.6862258357452411\n",
            "--------------------------------------------------------\n",
            "--------------------------------------------------------\n",
            "--------------------------------------------------------\n",
            "--------------------------------------------------------\n",
            "Epoch 9/20: Training\n"
          ]
        },
        {
          "output_type": "stream",
          "name": "stderr",
          "text": [
            "100%|██████████| 900/900 [00:53<00:00, 16.92it/s]\n"
          ]
        },
        {
          "output_type": "stream",
          "name": "stdout",
          "text": [
            "Loss: 0.06376076632903678 , IOU: 0.9114818628794618\n",
            "--------------------------------------------------------\n",
            "Epoch 9/20: Testing\n"
          ]
        },
        {
          "output_type": "stream",
          "name": "stderr",
          "text": [
            "100%|██████████| 51/51 [00:01<00:00, 50.33it/s]\n"
          ]
        },
        {
          "output_type": "stream",
          "name": "stdout",
          "text": [
            "Loss: 0.23679644453759296 , IOU: 0.7059313571993626\n",
            "--------------------------------------------------------\n",
            "--------------------------------------------------------\n",
            "--------------------------------------------------------\n",
            "--------------------------------------------------------\n",
            "Epoch 10/20: Training\n"
          ]
        },
        {
          "output_type": "stream",
          "name": "stderr",
          "text": [
            "100%|██████████| 900/900 [00:53<00:00, 16.92it/s]\n"
          ]
        },
        {
          "output_type": "stream",
          "name": "stdout",
          "text": [
            "Loss: 0.06138331111934444 , IOU: 0.9149816164705494\n",
            "--------------------------------------------------------\n",
            "Epoch 10/20: Testing\n"
          ]
        },
        {
          "output_type": "stream",
          "name": "stderr",
          "text": [
            "100%|██████████| 51/51 [00:00<00:00, 51.21it/s]\n"
          ]
        },
        {
          "output_type": "stream",
          "name": "stdout",
          "text": [
            "Loss: 0.16887908257251869 , IOU: 0.7874204914642533\n",
            "--------------------------------------------------------\n",
            "--------------------------------------------------------\n",
            "--------------------------------------------------------\n",
            "--------------------------------------------------------\n",
            "Epoch 11/20: Training\n"
          ]
        },
        {
          "output_type": "stream",
          "name": "stderr",
          "text": [
            "100%|██████████| 900/900 [00:53<00:00, 16.85it/s]\n"
          ]
        },
        {
          "output_type": "stream",
          "name": "stdout",
          "text": [
            "Loss: 0.059602961047656035 , IOU: 0.9167258627216032\n",
            "--------------------------------------------------------\n",
            "Epoch 11/20: Testing\n"
          ]
        },
        {
          "output_type": "stream",
          "name": "stderr",
          "text": [
            "100%|██████████| 51/51 [00:00<00:00, 52.35it/s]\n"
          ]
        },
        {
          "output_type": "stream",
          "name": "stdout",
          "text": [
            "Loss: 0.1622033636724832 , IOU: 0.7918534086852829\n",
            "--------------------------------------------------------\n",
            "--------------------------------------------------------\n",
            "--------------------------------------------------------\n",
            "--------------------------------------------------------\n",
            "Epoch 12/20: Training\n"
          ]
        },
        {
          "output_type": "stream",
          "name": "stderr",
          "text": [
            "100%|██████████| 900/900 [00:51<00:00, 17.41it/s]\n"
          ]
        },
        {
          "output_type": "stream",
          "name": "stdout",
          "text": [
            "Loss: 0.07336953715524741 , IOU: 0.8994175837809826\n",
            "--------------------------------------------------------\n",
            "Epoch 12/20: Testing\n"
          ]
        },
        {
          "output_type": "stream",
          "name": "stderr",
          "text": [
            "100%|██████████| 51/51 [00:01<00:00, 41.77it/s]\n"
          ]
        },
        {
          "output_type": "stream",
          "name": "stdout",
          "text": [
            "Loss: 0.13916691151611943 , IOU: 0.8190794259300637\n",
            "--------------------------------------------------------\n",
            "--------------------------------------------------------\n",
            "--------------------------------------------------------\n",
            "--------------------------------------------------------\n",
            "Epoch 13/20: Training\n"
          ]
        },
        {
          "output_type": "stream",
          "name": "stderr",
          "text": [
            "100%|██████████| 900/900 [00:52<00:00, 17.30it/s]\n"
          ]
        },
        {
          "output_type": "stream",
          "name": "stdout",
          "text": [
            "Loss: 0.05644124147171775 , IOU: 0.9209639839993572\n",
            "--------------------------------------------------------\n",
            "Epoch 13/20: Testing\n"
          ]
        },
        {
          "output_type": "stream",
          "name": "stderr",
          "text": [
            "100%|██████████| 51/51 [00:00<00:00, 52.80it/s]\n"
          ]
        },
        {
          "output_type": "stream",
          "name": "stdout",
          "text": [
            "Loss: 0.13024688795135886 , IOU: 0.8297655766501144\n",
            "--------------------------------------------------------\n",
            "--------------------------------------------------------\n",
            "--------------------------------------------------------\n",
            "--------------------------------------------------------\n",
            "Epoch 14/20: Training\n"
          ]
        },
        {
          "output_type": "stream",
          "name": "stderr",
          "text": [
            "100%|██████████| 900/900 [00:52<00:00, 17.27it/s]\n"
          ]
        },
        {
          "output_type": "stream",
          "name": "stdout",
          "text": [
            "Loss: 0.061347648658686166 , IOU: 0.9147910627060466\n",
            "--------------------------------------------------------\n",
            "Epoch 14/20: Testing\n"
          ]
        },
        {
          "output_type": "stream",
          "name": "stderr",
          "text": [
            "100%|██████████| 51/51 [00:01<00:00, 51.00it/s]\n"
          ]
        },
        {
          "output_type": "stream",
          "name": "stdout",
          "text": [
            "Loss: 0.0683783308475041 , IOU: 0.9024903610640883\n",
            "--------------------------------------------------------\n",
            "--------------------------------------------------------\n",
            "--------------------------------------------------------\n",
            "--------------------------------------------------------\n",
            "Epoch 15/20: Training\n"
          ]
        },
        {
          "output_type": "stream",
          "name": "stderr",
          "text": [
            "100%|██████████| 900/900 [00:51<00:00, 17.37it/s]\n"
          ]
        },
        {
          "output_type": "stream",
          "name": "stdout",
          "text": [
            "Loss: 0.05533954806211923 , IOU: 0.9228827061255773\n",
            "--------------------------------------------------------\n",
            "Epoch 15/20: Testing\n"
          ]
        },
        {
          "output_type": "stream",
          "name": "stderr",
          "text": [
            "100%|██████████| 51/51 [00:00<00:00, 51.13it/s]\n"
          ]
        },
        {
          "output_type": "stream",
          "name": "stdout",
          "text": [
            "Loss: 0.08411192499539431 , IOU: 0.8842561736008991\n",
            "--------------------------------------------------------\n",
            "--------------------------------------------------------\n",
            "--------------------------------------------------------\n",
            "--------------------------------------------------------\n",
            "Epoch 16/20: Training\n"
          ]
        },
        {
          "output_type": "stream",
          "name": "stderr",
          "text": [
            "100%|██████████| 900/900 [00:51<00:00, 17.42it/s]\n"
          ]
        },
        {
          "output_type": "stream",
          "name": "stdout",
          "text": [
            "Loss: 0.0523103432502184 , IOU: 0.927290155688921\n",
            "--------------------------------------------------------\n",
            "Epoch 16/20: Testing\n"
          ]
        },
        {
          "output_type": "stream",
          "name": "stderr",
          "text": [
            "100%|██████████| 51/51 [00:01<00:00, 41.02it/s]\n"
          ]
        },
        {
          "output_type": "stream",
          "name": "stdout",
          "text": [
            "Loss: 0.07053770208913905 , IOU: 0.9000471094075374\n",
            "--------------------------------------------------------\n",
            "--------------------------------------------------------\n",
            "--------------------------------------------------------\n",
            "--------------------------------------------------------\n",
            "Epoch 17/20: Training\n"
          ]
        },
        {
          "output_type": "stream",
          "name": "stderr",
          "text": [
            "100%|██████████| 900/900 [00:51<00:00, 17.56it/s]\n"
          ]
        },
        {
          "output_type": "stream",
          "name": "stdout",
          "text": [
            "Loss: 0.05906876080772944 , IOU: 0.9190650064249832\n",
            "--------------------------------------------------------\n",
            "Epoch 17/20: Testing\n"
          ]
        },
        {
          "output_type": "stream",
          "name": "stderr",
          "text": [
            "100%|██████████| 51/51 [00:01<00:00, 46.97it/s]\n"
          ]
        },
        {
          "output_type": "stream",
          "name": "stdout",
          "text": [
            "Loss: 0.14891132595492346 , IOU: 0.8063753659234328\n",
            "--------------------------------------------------------\n",
            "--------------------------------------------------------\n",
            "--------------------------------------------------------\n",
            "--------------------------------------------------------\n",
            "Epoch 18/20: Training\n"
          ]
        },
        {
          "output_type": "stream",
          "name": "stderr",
          "text": [
            "100%|██████████| 900/900 [00:52<00:00, 17.20it/s]\n"
          ]
        },
        {
          "output_type": "stream",
          "name": "stdout",
          "text": [
            "Loss: 0.05632537320463188 , IOU: 0.921736486421691\n",
            "--------------------------------------------------------\n",
            "Epoch 18/20: Testing\n"
          ]
        },
        {
          "output_type": "stream",
          "name": "stderr",
          "text": [
            "100%|██████████| 51/51 [00:00<00:00, 54.45it/s]\n"
          ]
        },
        {
          "output_type": "stream",
          "name": "stdout",
          "text": [
            "Loss: 0.1890674397787627 , IOU: 0.7620995545705014\n",
            "--------------------------------------------------------\n",
            "--------------------------------------------------------\n",
            "--------------------------------------------------------\n",
            "--------------------------------------------------------\n",
            "Epoch 19/20: Training\n"
          ]
        },
        {
          "output_type": "stream",
          "name": "stderr",
          "text": [
            "100%|██████████| 900/900 [00:51<00:00, 17.41it/s]\n"
          ]
        },
        {
          "output_type": "stream",
          "name": "stdout",
          "text": [
            "Loss: 0.052734585696210444 , IOU: 0.927011140386265\n",
            "--------------------------------------------------------\n",
            "Epoch 19/20: Testing\n"
          ]
        },
        {
          "output_type": "stream",
          "name": "stderr",
          "text": [
            "100%|██████████| 51/51 [00:01<00:00, 49.39it/s]\n"
          ]
        },
        {
          "output_type": "stream",
          "name": "stdout",
          "text": [
            "Loss: 0.11129765983159634 , IOU: 0.8522636360105345\n",
            "--------------------------------------------------------\n",
            "--------------------------------------------------------\n",
            "--------------------------------------------------------\n",
            "--------------------------------------------------------\n",
            "Epoch 20/20: Training\n"
          ]
        },
        {
          "output_type": "stream",
          "name": "stderr",
          "text": [
            "100%|██████████| 900/900 [00:52<00:00, 17.08it/s]\n"
          ]
        },
        {
          "output_type": "stream",
          "name": "stdout",
          "text": [
            "Loss: 0.05001343817450105 , IOU: 0.9305625436703364\n",
            "--------------------------------------------------------\n",
            "Epoch 20/20: Testing\n"
          ]
        },
        {
          "output_type": "stream",
          "name": "stderr",
          "text": [
            "100%|██████████| 51/51 [00:01<00:00, 50.78it/s]"
          ]
        },
        {
          "output_type": "stream",
          "name": "stdout",
          "text": [
            "Loss: 0.15843539973538298 , IOU: 0.7954678415850391\n",
            "--------------------------------------------------------\n",
            "--------------------------------------------------------\n",
            "Best IoU:  0.9053977225341047\n"
          ]
        },
        {
          "output_type": "stream",
          "name": "stderr",
          "text": [
            "\n"
          ]
        }
      ]
    },
    {
      "cell_type": "markdown",
      "source": [
        "##Train UPP"
      ],
      "metadata": {
        "id": "bpy5YkMJb0pR"
      }
    },
    {
      "cell_type": "code",
      "source": [
        "LEARNING_RATE = 1e-4\n",
        "NUM_EPOCHS = 20\n",
        "BATCH_SIZE = 1\n",
        "model_path = '/content/drive/MyDrive/PPT/Foreground/Transfer/AC/Models/upp_noise.pth'\n",
        "root_path = '/content/drive/MyDrive/PPT/Foreground/Transfer/AC/Real ACDC/data_2d'\n",
        "\n",
        "train_dataset = Segmentation_Dataset(root_path, split=\"train\", noise=\"train\")\n",
        "test_dataset = Segmentation_Dataset(root_path, split=\"test\")\n",
        "\n",
        "train_loader = DataLoader(train_dataset, batch_size = 1, shuffle=True)\n",
        "test_loader = DataLoader(test_dataset, batch_size = 1, shuffle=False)\n",
        "\n",
        "if torch.cuda.is_available: device = torch.device(\"cuda\")\n",
        "else: device = torch.device(\"cpu\")\n",
        "\n",
        "\n",
        "model = get_model(model_dict[\"upp\"][\"model\"])\n",
        "frame = MyFrame(model, LEARNING_RATE, device)\n",
        "#frame.load(model_path)\n",
        "\n",
        "best_iou = 0.\n",
        "\n",
        "for epoch in range(1, NUM_EPOCHS+1):\n",
        "    print(\"--------------------------------------------------------\")\n",
        "    print(\"--------------------------------------------------------\")\n",
        "    print(\"Epoch \"+str(epoch)+\"/\"+str(NUM_EPOCHS)+\": Training\")\n",
        "    tr_dict = frame.run_epoch(train_loader)\n",
        "    print(\"Loss:\", tr_dict[\"loss\"], \", IOU:\", tr_dict[\"iou\"])\n",
        "    print(\"--------------------------------------------------------\")\n",
        "    print(\"Epoch \"+str(epoch)+\"/\"+str(NUM_EPOCHS)+\": Testing\")\n",
        "    te_dict = frame.run_epoch(test_loader, train=False)\n",
        "    print(\"Loss:\", te_dict[\"loss\"], \", IOU:\", te_dict[\"iou\"])\n",
        "    print(\"--------------------------------------------------------\")\n",
        "    print(\"--------------------------------------------------------\")\n",
        "    \n",
        "    if te_dict[\"iou\"] > best_iou: \n",
        "      frame.save(model_path)\n",
        "      best_iou = te_dict[\"iou\"]\n",
        "\n",
        "print('Best IoU: ', best_iou) "
      ],
      "metadata": {
        "colab": {
          "base_uri": "https://localhost:8080/"
        },
        "id": "-rGhaBMobh6a",
        "outputId": "07073a75-32d7-46c2-9673-41f730ff35a2"
      },
      "execution_count": null,
      "outputs": [
        {
          "output_type": "stream",
          "name": "stdout",
          "text": [
            "num img = 900\n",
            "num map = 900\n",
            "num img = 51\n",
            "num map = 51\n",
            "--------------------------------------------------------\n",
            "--------------------------------------------------------\n",
            "Epoch 1/20: Training\n"
          ]
        },
        {
          "output_type": "stream",
          "name": "stderr",
          "text": [
            "\r  0%|          | 0/900 [00:00<?, ?it/s]<ipython-input-4-0a8257117a2c>:20: FutureWarning: Using a non-tuple sequence for multidimensional indexing is deprecated; use `arr[tuple(seq)]` instead of `arr[seq]`. In the future this will be interpreted as an array index, `arr[np.array(seq)]`, which will result either in an error or a different result.\n",
            "  out[coords] = 1\n",
            "<ipython-input-4-0a8257117a2c>:26: FutureWarning: Using a non-tuple sequence for multidimensional indexing is deprecated; use `arr[tuple(seq)]` instead of `arr[seq]`. In the future this will be interpreted as an array index, `arr[np.array(seq)]`, which will result either in an error or a different result.\n",
            "  out[coords] = 0\n",
            "100%|██████████| 900/900 [01:02<00:00, 14.37it/s]\n"
          ]
        },
        {
          "output_type": "stream",
          "name": "stdout",
          "text": [
            "Loss: 0.3814679270361866 , IOU: 0.7505034817786268\n",
            "--------------------------------------------------------\n",
            "Epoch 1/20: Testing\n"
          ]
        },
        {
          "output_type": "stream",
          "name": "stderr",
          "text": [
            "100%|██████████| 51/51 [00:01<00:00, 40.43it/s]\n"
          ]
        },
        {
          "output_type": "stream",
          "name": "stdout",
          "text": [
            "Loss: 0.14649730292605417 , IOU: 0.8527213107137119\n",
            "--------------------------------------------------------\n",
            "--------------------------------------------------------\n",
            "--------------------------------------------------------\n",
            "--------------------------------------------------------\n",
            "Epoch 2/20: Training\n"
          ]
        },
        {
          "output_type": "stream",
          "name": "stderr",
          "text": [
            "100%|██████████| 900/900 [01:00<00:00, 14.87it/s]\n"
          ]
        },
        {
          "output_type": "stream",
          "name": "stdout",
          "text": [
            "Loss: 0.11081876769868859 , IOU: 0.8735390562978054\n",
            "--------------------------------------------------------\n",
            "Epoch 2/20: Testing\n"
          ]
        },
        {
          "output_type": "stream",
          "name": "stderr",
          "text": [
            "100%|██████████| 51/51 [00:01<00:00, 41.98it/s]\n"
          ]
        },
        {
          "output_type": "stream",
          "name": "stdout",
          "text": [
            "Loss: 0.11726979056701942 , IOU: 0.849597878608049\n",
            "--------------------------------------------------------\n",
            "--------------------------------------------------------\n",
            "--------------------------------------------------------\n",
            "--------------------------------------------------------\n",
            "Epoch 3/20: Training\n"
          ]
        },
        {
          "output_type": "stream",
          "name": "stderr",
          "text": [
            "100%|██████████| 900/900 [00:59<00:00, 15.09it/s]\n"
          ]
        },
        {
          "output_type": "stream",
          "name": "stdout",
          "text": [
            "Loss: 0.08424992422469785 , IOU: 0.891191064682271\n",
            "--------------------------------------------------------\n",
            "Epoch 3/20: Testing\n"
          ]
        },
        {
          "output_type": "stream",
          "name": "stderr",
          "text": [
            "100%|██████████| 51/51 [00:01<00:00, 35.18it/s]\n"
          ]
        },
        {
          "output_type": "stream",
          "name": "stdout",
          "text": [
            "Loss: 0.13662769112224668 , IOU: 0.8215984967263303\n",
            "--------------------------------------------------------\n",
            "--------------------------------------------------------\n",
            "--------------------------------------------------------\n",
            "--------------------------------------------------------\n",
            "Epoch 4/20: Training\n"
          ]
        },
        {
          "output_type": "stream",
          "name": "stderr",
          "text": [
            "100%|██████████| 900/900 [00:59<00:00, 15.25it/s]\n"
          ]
        },
        {
          "output_type": "stream",
          "name": "stdout",
          "text": [
            "Loss: 0.08523417061194774 , IOU: 0.8863575421522066\n",
            "--------------------------------------------------------\n",
            "Epoch 4/20: Testing\n"
          ]
        },
        {
          "output_type": "stream",
          "name": "stderr",
          "text": [
            "100%|██████████| 51/51 [00:01<00:00, 42.33it/s]\n"
          ]
        },
        {
          "output_type": "stream",
          "name": "stdout",
          "text": [
            "Loss: 0.11068877344037968 , IOU: 0.8497255660739595\n",
            "--------------------------------------------------------\n",
            "--------------------------------------------------------\n",
            "--------------------------------------------------------\n",
            "--------------------------------------------------------\n",
            "Epoch 5/20: Training\n"
          ]
        },
        {
          "output_type": "stream",
          "name": "stderr",
          "text": [
            "100%|██████████| 900/900 [00:58<00:00, 15.32it/s]\n"
          ]
        },
        {
          "output_type": "stream",
          "name": "stdout",
          "text": [
            "Loss: 0.07494261057426531 , IOU: 0.898217610559529\n",
            "--------------------------------------------------------\n",
            "Epoch 5/20: Testing\n"
          ]
        },
        {
          "output_type": "stream",
          "name": "stderr",
          "text": [
            "100%|██████████| 51/51 [00:01<00:00, 46.45it/s]\n"
          ]
        },
        {
          "output_type": "stream",
          "name": "stdout",
          "text": [
            "Loss: 0.1129104468021907 , IOU: 0.8538562475712788\n",
            "--------------------------------------------------------\n",
            "--------------------------------------------------------\n",
            "--------------------------------------------------------\n",
            "--------------------------------------------------------\n",
            "Epoch 6/20: Training\n"
          ]
        },
        {
          "output_type": "stream",
          "name": "stderr",
          "text": [
            "100%|██████████| 900/900 [01:00<00:00, 14.92it/s]\n"
          ]
        },
        {
          "output_type": "stream",
          "name": "stdout",
          "text": [
            "Loss: 0.06730236268912751 , IOU: 0.9076020870410789\n",
            "--------------------------------------------------------\n",
            "Epoch 6/20: Testing\n"
          ]
        },
        {
          "output_type": "stream",
          "name": "stderr",
          "text": [
            "100%|██████████| 51/51 [00:01<00:00, 45.97it/s]\n"
          ]
        },
        {
          "output_type": "stream",
          "name": "stdout",
          "text": [
            "Loss: 0.14597659419272457 , IOU: 0.8103795469300275\n",
            "--------------------------------------------------------\n",
            "--------------------------------------------------------\n",
            "--------------------------------------------------------\n",
            "--------------------------------------------------------\n",
            "Epoch 7/20: Training\n"
          ]
        },
        {
          "output_type": "stream",
          "name": "stderr",
          "text": [
            "100%|██████████| 900/900 [00:58<00:00, 15.26it/s]\n"
          ]
        },
        {
          "output_type": "stream",
          "name": "stdout",
          "text": [
            "Loss: 0.07106271539504339 , IOU: 0.9033701219326927\n",
            "--------------------------------------------------------\n",
            "Epoch 7/20: Testing\n"
          ]
        },
        {
          "output_type": "stream",
          "name": "stderr",
          "text": [
            "100%|██████████| 51/51 [00:01<00:00, 47.05it/s]\n"
          ]
        },
        {
          "output_type": "stream",
          "name": "stdout",
          "text": [
            "Loss: 0.09087520019680845 , IOU: 0.8742443644532967\n",
            "--------------------------------------------------------\n",
            "--------------------------------------------------------\n",
            "--------------------------------------------------------\n",
            "--------------------------------------------------------\n",
            "Epoch 8/20: Training\n"
          ]
        },
        {
          "output_type": "stream",
          "name": "stderr",
          "text": [
            "100%|██████████| 900/900 [00:59<00:00, 15.20it/s]\n"
          ]
        },
        {
          "output_type": "stream",
          "name": "stdout",
          "text": [
            "Loss: 0.06146236759506994 , IOU: 0.9156421035859315\n",
            "--------------------------------------------------------\n",
            "Epoch 8/20: Testing\n"
          ]
        },
        {
          "output_type": "stream",
          "name": "stderr",
          "text": [
            "100%|██████████| 51/51 [00:01<00:00, 36.82it/s]\n"
          ]
        },
        {
          "output_type": "stream",
          "name": "stdout",
          "text": [
            "Loss: 0.0756709232707234 , IOU: 0.8957910939101497\n",
            "--------------------------------------------------------\n",
            "--------------------------------------------------------\n",
            "--------------------------------------------------------\n",
            "--------------------------------------------------------\n",
            "Epoch 9/20: Training\n"
          ]
        },
        {
          "output_type": "stream",
          "name": "stderr",
          "text": [
            "100%|██████████| 900/900 [00:59<00:00, 15.10it/s]\n"
          ]
        },
        {
          "output_type": "stream",
          "name": "stdout",
          "text": [
            "Loss: 0.06039264231299352 , IOU: 0.916542358249425\n",
            "--------------------------------------------------------\n",
            "Epoch 9/20: Testing\n"
          ]
        },
        {
          "output_type": "stream",
          "name": "stderr",
          "text": [
            "100%|██████████| 51/51 [00:01<00:00, 46.50it/s]\n"
          ]
        },
        {
          "output_type": "stream",
          "name": "stdout",
          "text": [
            "Loss: 0.09910810366272925 , IOU: 0.8637354709938456\n",
            "--------------------------------------------------------\n",
            "--------------------------------------------------------\n",
            "--------------------------------------------------------\n",
            "--------------------------------------------------------\n",
            "Epoch 10/20: Training\n"
          ]
        },
        {
          "output_type": "stream",
          "name": "stderr",
          "text": [
            "100%|██████████| 900/900 [00:59<00:00, 15.13it/s]\n"
          ]
        },
        {
          "output_type": "stream",
          "name": "stdout",
          "text": [
            "Loss: 0.06304215848652865 , IOU: 0.9139433984706804\n",
            "--------------------------------------------------------\n",
            "Epoch 10/20: Testing\n"
          ]
        },
        {
          "output_type": "stream",
          "name": "stderr",
          "text": [
            "100%|██████████| 51/51 [00:01<00:00, 46.90it/s]\n"
          ]
        },
        {
          "output_type": "stream",
          "name": "stdout",
          "text": [
            "Loss: 0.18137138212720555 , IOU: 0.7667884980328381\n",
            "--------------------------------------------------------\n",
            "--------------------------------------------------------\n",
            "--------------------------------------------------------\n",
            "--------------------------------------------------------\n",
            "Epoch 11/20: Training\n"
          ]
        },
        {
          "output_type": "stream",
          "name": "stderr",
          "text": [
            "100%|██████████| 900/900 [00:59<00:00, 15.04it/s]\n"
          ]
        },
        {
          "output_type": "stream",
          "name": "stdout",
          "text": [
            "Loss: 0.07019500069527167 , IOU: 0.90423047270005\n",
            "--------------------------------------------------------\n",
            "Epoch 11/20: Testing\n"
          ]
        },
        {
          "output_type": "stream",
          "name": "stderr",
          "text": [
            "100%|██████████| 51/51 [00:01<00:00, 40.60it/s]\n"
          ]
        },
        {
          "output_type": "stream",
          "name": "stdout",
          "text": [
            "Loss: 0.19598703904479156 , IOU: 0.7545838339217738\n",
            "--------------------------------------------------------\n",
            "--------------------------------------------------------\n",
            "--------------------------------------------------------\n",
            "--------------------------------------------------------\n",
            "Epoch 12/20: Training\n"
          ]
        },
        {
          "output_type": "stream",
          "name": "stderr",
          "text": [
            "100%|██████████| 900/900 [00:58<00:00, 15.38it/s]\n"
          ]
        },
        {
          "output_type": "stream",
          "name": "stdout",
          "text": [
            "Loss: 0.055243341952769226 , IOU: 0.9236193638377727\n",
            "--------------------------------------------------------\n",
            "Epoch 12/20: Testing\n"
          ]
        },
        {
          "output_type": "stream",
          "name": "stderr",
          "text": [
            "100%|██████████| 51/51 [00:01<00:00, 46.96it/s]\n"
          ]
        },
        {
          "output_type": "stream",
          "name": "stdout",
          "text": [
            "Loss: 0.17472748651954473 , IOU: 0.7855869766744766\n",
            "--------------------------------------------------------\n",
            "--------------------------------------------------------\n",
            "--------------------------------------------------------\n",
            "--------------------------------------------------------\n",
            "Epoch 13/20: Training\n"
          ]
        },
        {
          "output_type": "stream",
          "name": "stderr",
          "text": [
            "100%|██████████| 900/900 [00:58<00:00, 15.37it/s]\n"
          ]
        },
        {
          "output_type": "stream",
          "name": "stdout",
          "text": [
            "Loss: 0.053815234204133366 , IOU: 0.9261447364754144\n",
            "--------------------------------------------------------\n",
            "Epoch 13/20: Testing\n"
          ]
        },
        {
          "output_type": "stream",
          "name": "stderr",
          "text": [
            "100%|██████████| 51/51 [00:01<00:00, 45.73it/s]\n"
          ]
        },
        {
          "output_type": "stream",
          "name": "stdout",
          "text": [
            "Loss: 0.10120577219070173 , IOU: 0.8617827728226342\n",
            "--------------------------------------------------------\n",
            "--------------------------------------------------------\n",
            "--------------------------------------------------------\n",
            "--------------------------------------------------------\n",
            "Epoch 14/20: Training\n"
          ]
        },
        {
          "output_type": "stream",
          "name": "stderr",
          "text": [
            "100%|██████████| 900/900 [01:00<00:00, 14.84it/s]\n"
          ]
        },
        {
          "output_type": "stream",
          "name": "stdout",
          "text": [
            "Loss: 0.05244471623251831 , IOU: 0.9275153864092298\n",
            "--------------------------------------------------------\n",
            "Epoch 14/20: Testing\n"
          ]
        },
        {
          "output_type": "stream",
          "name": "stderr",
          "text": [
            "100%|██████████| 51/51 [00:01<00:00, 46.96it/s]\n"
          ]
        },
        {
          "output_type": "stream",
          "name": "stdout",
          "text": [
            "Loss: 0.1170203499495983 , IOU: 0.8458975037815525\n",
            "--------------------------------------------------------\n",
            "--------------------------------------------------------\n",
            "--------------------------------------------------------\n",
            "--------------------------------------------------------\n",
            "Epoch 15/20: Training\n"
          ]
        },
        {
          "output_type": "stream",
          "name": "stderr",
          "text": [
            "100%|██████████| 900/900 [00:59<00:00, 15.04it/s]\n"
          ]
        },
        {
          "output_type": "stream",
          "name": "stdout",
          "text": [
            "Loss: 0.06050757357126304 , IOU: 0.9177233432067756\n",
            "--------------------------------------------------------\n",
            "Epoch 15/20: Testing\n"
          ]
        },
        {
          "output_type": "stream",
          "name": "stderr",
          "text": [
            "100%|██████████| 51/51 [00:01<00:00, 46.56it/s]\n"
          ]
        },
        {
          "output_type": "stream",
          "name": "stdout",
          "text": [
            "Loss: 0.06737336392203969 , IOU: 0.9046407657511092\n",
            "--------------------------------------------------------\n",
            "--------------------------------------------------------\n",
            "--------------------------------------------------------\n",
            "--------------------------------------------------------\n",
            "Epoch 16/20: Training\n"
          ]
        },
        {
          "output_type": "stream",
          "name": "stderr",
          "text": [
            "100%|██████████| 900/900 [00:59<00:00, 15.07it/s]\n"
          ]
        },
        {
          "output_type": "stream",
          "name": "stdout",
          "text": [
            "Loss: 0.05079015803626849 , IOU: 0.9298329142067173\n",
            "--------------------------------------------------------\n",
            "Epoch 16/20: Testing\n"
          ]
        },
        {
          "output_type": "stream",
          "name": "stderr",
          "text": [
            "100%|██████████| 51/51 [00:01<00:00, 36.37it/s]\n"
          ]
        },
        {
          "output_type": "stream",
          "name": "stdout",
          "text": [
            "Loss: 0.07119715195514409 , IOU: 0.8999488669283252\n",
            "--------------------------------------------------------\n",
            "--------------------------------------------------------\n",
            "--------------------------------------------------------\n",
            "--------------------------------------------------------\n",
            "Epoch 17/20: Training\n"
          ]
        },
        {
          "output_type": "stream",
          "name": "stderr",
          "text": [
            "100%|██████████| 900/900 [00:58<00:00, 15.35it/s]\n"
          ]
        },
        {
          "output_type": "stream",
          "name": "stdout",
          "text": [
            "Loss: 0.050431312475767404 , IOU: 0.9307565317551296\n",
            "--------------------------------------------------------\n",
            "Epoch 17/20: Testing\n"
          ]
        },
        {
          "output_type": "stream",
          "name": "stderr",
          "text": [
            "100%|██████████| 51/51 [00:01<00:00, 45.83it/s]\n"
          ]
        },
        {
          "output_type": "stream",
          "name": "stdout",
          "text": [
            "Loss: 0.09134734633798691 , IOU: 0.871770677613277\n",
            "--------------------------------------------------------\n",
            "--------------------------------------------------------\n",
            "--------------------------------------------------------\n",
            "--------------------------------------------------------\n",
            "Epoch 18/20: Training\n"
          ]
        },
        {
          "output_type": "stream",
          "name": "stderr",
          "text": [
            "100%|██████████| 900/900 [00:58<00:00, 15.27it/s]\n"
          ]
        },
        {
          "output_type": "stream",
          "name": "stdout",
          "text": [
            "Loss: 0.0493076840995087 , IOU: 0.9322002746661505\n",
            "--------------------------------------------------------\n",
            "Epoch 18/20: Testing\n"
          ]
        },
        {
          "output_type": "stream",
          "name": "stderr",
          "text": [
            "100%|██████████| 51/51 [00:01<00:00, 47.34it/s]\n"
          ]
        },
        {
          "output_type": "stream",
          "name": "stdout",
          "text": [
            "Loss: 0.07789834135887669 , IOU: 0.8927463561880821\n",
            "--------------------------------------------------------\n",
            "--------------------------------------------------------\n",
            "--------------------------------------------------------\n",
            "--------------------------------------------------------\n",
            "Epoch 19/20: Training\n"
          ]
        },
        {
          "output_type": "stream",
          "name": "stderr",
          "text": [
            "100%|██████████| 900/900 [00:59<00:00, 15.02it/s]\n"
          ]
        },
        {
          "output_type": "stream",
          "name": "stdout",
          "text": [
            "Loss: 0.049565258363468756 , IOU: 0.931415693594349\n",
            "--------------------------------------------------------\n",
            "Epoch 19/20: Testing\n"
          ]
        },
        {
          "output_type": "stream",
          "name": "stderr",
          "text": [
            "100%|██████████| 51/51 [00:01<00:00, 44.02it/s]\n"
          ]
        },
        {
          "output_type": "stream",
          "name": "stdout",
          "text": [
            "Loss: 0.10640863201343545 , IOU: 0.8591969535165632\n",
            "--------------------------------------------------------\n",
            "--------------------------------------------------------\n",
            "--------------------------------------------------------\n",
            "--------------------------------------------------------\n",
            "Epoch 20/20: Training\n"
          ]
        },
        {
          "output_type": "stream",
          "name": "stderr",
          "text": [
            "100%|██████████| 900/900 [00:58<00:00, 15.26it/s]\n"
          ]
        },
        {
          "output_type": "stream",
          "name": "stdout",
          "text": [
            "Loss: 0.05772926461572455 , IOU: 0.9202179782092567\n",
            "--------------------------------------------------------\n",
            "Epoch 20/20: Testing\n"
          ]
        },
        {
          "output_type": "stream",
          "name": "stderr",
          "text": [
            "100%|██████████| 51/51 [00:01<00:00, 45.56it/s]"
          ]
        },
        {
          "output_type": "stream",
          "name": "stdout",
          "text": [
            "Loss: 0.09469812257471039 , IOU: 0.8738791329019208\n",
            "--------------------------------------------------------\n",
            "--------------------------------------------------------\n",
            "Best IoU:  0.9046407657511092\n"
          ]
        },
        {
          "output_type": "stream",
          "name": "stderr",
          "text": [
            "\n"
          ]
        }
      ]
    },
    {
      "cell_type": "markdown",
      "source": [
        "##Train FPN"
      ],
      "metadata": {
        "id": "emHtNxZEb45Q"
      }
    },
    {
      "cell_type": "code",
      "source": [
        "LEARNING_RATE = 1e-4\n",
        "NUM_EPOCHS = 20\n",
        "BATCH_SIZE = 1\n",
        "model_path = '/content/drive/MyDrive/PPT/Foreground/Transfer/AC/Models/fpn_noise.pth'\n",
        "root_path = '/content/drive/MyDrive/PPT/Foreground/Transfer/AC/Real ACDC/data_2d'\n",
        "\n",
        "train_dataset = Segmentation_Dataset(root_path, split=\"train\", noise=\"train\")\n",
        "test_dataset = Segmentation_Dataset(root_path, split=\"test\")\n",
        "\n",
        "train_loader = DataLoader(train_dataset, batch_size = 1, shuffle=True)\n",
        "test_loader = DataLoader(test_dataset, batch_size = 1, shuffle=False)\n",
        "\n",
        "if torch.cuda.is_available: device = torch.device(\"cuda\")\n",
        "else: device = torch.device(\"cpu\")\n",
        "\n",
        "\n",
        "model = get_model(model_dict[\"fpn\"][\"model\"])\n",
        "frame = MyFrame(model, LEARNING_RATE, device)\n",
        "#frame.load(model_path)\n",
        "\n",
        "best_iou = 0.\n",
        "\n",
        "for epoch in range(1, NUM_EPOCHS+1):\n",
        "    print(\"--------------------------------------------------------\")\n",
        "    print(\"--------------------------------------------------------\")\n",
        "    print(\"Epoch \"+str(epoch)+\"/\"+str(NUM_EPOCHS)+\": Training\")\n",
        "    tr_dict = frame.run_epoch(train_loader)\n",
        "    print(\"Loss:\", tr_dict[\"loss\"], \", IOU:\", tr_dict[\"iou\"])\n",
        "    print(\"--------------------------------------------------------\")\n",
        "    print(\"Epoch \"+str(epoch)+\"/\"+str(NUM_EPOCHS)+\": Testing\")\n",
        "    te_dict = frame.run_epoch(test_loader, train=False)\n",
        "    print(\"Loss:\", te_dict[\"loss\"], \", IOU:\", te_dict[\"iou\"])\n",
        "    print(\"--------------------------------------------------------\")\n",
        "    print(\"--------------------------------------------------------\")\n",
        "    \n",
        "    if te_dict[\"iou\"] > best_iou: \n",
        "      frame.save(model_path)\n",
        "      best_iou = te_dict[\"iou\"]\n",
        "\n",
        "print('Best IoU: ', best_iou) "
      ],
      "metadata": {
        "colab": {
          "base_uri": "https://localhost:8080/"
        },
        "id": "76q1If_Fbhyj",
        "outputId": "6f8a8979-c765-4f84-e631-9ecc2ad3429f"
      },
      "execution_count": null,
      "outputs": [
        {
          "output_type": "stream",
          "name": "stdout",
          "text": [
            "num img = 900\n",
            "num map = 900\n",
            "num img = 51\n",
            "num map = 51\n",
            "--------------------------------------------------------\n",
            "--------------------------------------------------------\n",
            "Epoch 1/20: Training\n"
          ]
        },
        {
          "output_type": "stream",
          "name": "stderr",
          "text": [
            "\r  0%|          | 0/900 [00:00<?, ?it/s]<ipython-input-4-0a8257117a2c>:20: FutureWarning: Using a non-tuple sequence for multidimensional indexing is deprecated; use `arr[tuple(seq)]` instead of `arr[seq]`. In the future this will be interpreted as an array index, `arr[np.array(seq)]`, which will result either in an error or a different result.\n",
            "  out[coords] = 1\n",
            "<ipython-input-4-0a8257117a2c>:26: FutureWarning: Using a non-tuple sequence for multidimensional indexing is deprecated; use `arr[tuple(seq)]` instead of `arr[seq]`. In the future this will be interpreted as an array index, `arr[np.array(seq)]`, which will result either in an error or a different result.\n",
            "  out[coords] = 0\n",
            "100%|██████████| 900/900 [00:52<00:00, 17.04it/s]\n"
          ]
        },
        {
          "output_type": "stream",
          "name": "stdout",
          "text": [
            "Loss: 0.23998648802853295 , IOU: 0.6880407669519383\n",
            "--------------------------------------------------------\n",
            "Epoch 1/20: Testing\n"
          ]
        },
        {
          "output_type": "stream",
          "name": "stderr",
          "text": [
            "100%|██████████| 51/51 [00:00<00:00, 52.14it/s]\n"
          ]
        },
        {
          "output_type": "stream",
          "name": "stdout",
          "text": [
            "Loss: 0.17423989141688623 , IOU: 0.7575237032245189\n",
            "--------------------------------------------------------\n",
            "--------------------------------------------------------\n",
            "--------------------------------------------------------\n",
            "--------------------------------------------------------\n",
            "Epoch 2/20: Training\n"
          ]
        },
        {
          "output_type": "stream",
          "name": "stderr",
          "text": [
            "100%|██████████| 900/900 [00:51<00:00, 17.33it/s]\n"
          ]
        },
        {
          "output_type": "stream",
          "name": "stdout",
          "text": [
            "Loss: 0.12900946390297677 , IOU: 0.8229887857991792\n",
            "--------------------------------------------------------\n",
            "Epoch 2/20: Testing\n"
          ]
        },
        {
          "output_type": "stream",
          "name": "stderr",
          "text": [
            "100%|██████████| 51/51 [00:00<00:00, 52.74it/s]\n"
          ]
        },
        {
          "output_type": "stream",
          "name": "stdout",
          "text": [
            "Loss: 0.10581358142343222 , IOU: 0.8533974418453142\n",
            "--------------------------------------------------------\n",
            "--------------------------------------------------------\n",
            "--------------------------------------------------------\n",
            "--------------------------------------------------------\n",
            "Epoch 3/20: Training\n"
          ]
        },
        {
          "output_type": "stream",
          "name": "stderr",
          "text": [
            "100%|██████████| 900/900 [00:50<00:00, 17.82it/s]\n"
          ]
        },
        {
          "output_type": "stream",
          "name": "stdout",
          "text": [
            "Loss: 0.09913103402074831 , IOU: 0.863325496150387\n",
            "--------------------------------------------------------\n",
            "Epoch 3/20: Testing\n"
          ]
        },
        {
          "output_type": "stream",
          "name": "stderr",
          "text": [
            "100%|██████████| 51/51 [00:01<00:00, 41.25it/s]\n"
          ]
        },
        {
          "output_type": "stream",
          "name": "stdout",
          "text": [
            "Loss: 0.10282694088185533 , IOU: 0.8575429898851054\n",
            "--------------------------------------------------------\n",
            "--------------------------------------------------------\n",
            "--------------------------------------------------------\n",
            "--------------------------------------------------------\n",
            "Epoch 4/20: Training\n"
          ]
        },
        {
          "output_type": "stream",
          "name": "stderr",
          "text": [
            "100%|██████████| 900/900 [00:50<00:00, 17.98it/s]\n"
          ]
        },
        {
          "output_type": "stream",
          "name": "stdout",
          "text": [
            "Loss: 0.0896062006201181 , IOU: 0.8761893545256723\n",
            "--------------------------------------------------------\n",
            "Epoch 4/20: Testing\n"
          ]
        },
        {
          "output_type": "stream",
          "name": "stderr",
          "text": [
            "100%|██████████| 51/51 [00:00<00:00, 54.64it/s]\n"
          ]
        },
        {
          "output_type": "stream",
          "name": "stdout",
          "text": [
            "Loss: 0.08732312143433327 , IOU: 0.8783215015542274\n",
            "--------------------------------------------------------\n",
            "--------------------------------------------------------\n",
            "--------------------------------------------------------\n",
            "--------------------------------------------------------\n",
            "Epoch 5/20: Training\n"
          ]
        },
        {
          "output_type": "stream",
          "name": "stderr",
          "text": [
            "100%|██████████| 900/900 [00:50<00:00, 17.72it/s]\n"
          ]
        },
        {
          "output_type": "stream",
          "name": "stdout",
          "text": [
            "Loss: 0.08043277458184303 , IOU: 0.8890756100364439\n",
            "--------------------------------------------------------\n",
            "Epoch 5/20: Testing\n"
          ]
        },
        {
          "output_type": "stream",
          "name": "stderr",
          "text": [
            "100%|██████████| 51/51 [00:00<00:00, 53.84it/s]\n"
          ]
        },
        {
          "output_type": "stream",
          "name": "stdout",
          "text": [
            "Loss: 0.08082112534811683 , IOU: 0.8865146590214147\n",
            "--------------------------------------------------------\n",
            "--------------------------------------------------------\n",
            "--------------------------------------------------------\n",
            "--------------------------------------------------------\n",
            "Epoch 6/20: Training\n"
          ]
        },
        {
          "output_type": "stream",
          "name": "stderr",
          "text": [
            "100%|██████████| 900/900 [00:50<00:00, 17.69it/s]\n"
          ]
        },
        {
          "output_type": "stream",
          "name": "stdout",
          "text": [
            "Loss: 0.07422113362078867 , IOU: 0.896265305711163\n",
            "--------------------------------------------------------\n",
            "Epoch 6/20: Testing\n"
          ]
        },
        {
          "output_type": "stream",
          "name": "stderr",
          "text": [
            "100%|██████████| 51/51 [00:00<00:00, 52.12it/s]\n"
          ]
        },
        {
          "output_type": "stream",
          "name": "stdout",
          "text": [
            "Loss: 0.08777820070584617 , IOU: 0.8769489339753691\n",
            "--------------------------------------------------------\n",
            "--------------------------------------------------------\n",
            "--------------------------------------------------------\n",
            "--------------------------------------------------------\n",
            "Epoch 7/20: Training\n"
          ]
        },
        {
          "output_type": "stream",
          "name": "stderr",
          "text": [
            "100%|██████████| 900/900 [00:49<00:00, 18.12it/s]\n"
          ]
        },
        {
          "output_type": "stream",
          "name": "stdout",
          "text": [
            "Loss: 0.0757293369476165 , IOU: 0.8942305246078301\n",
            "--------------------------------------------------------\n",
            "Epoch 7/20: Testing\n"
          ]
        },
        {
          "output_type": "stream",
          "name": "stderr",
          "text": [
            "100%|██████████| 51/51 [00:01<00:00, 41.62it/s]\n"
          ]
        },
        {
          "output_type": "stream",
          "name": "stdout",
          "text": [
            "Loss: 0.0751836620198161 , IOU: 0.8929632048980861\n",
            "--------------------------------------------------------\n",
            "--------------------------------------------------------\n",
            "--------------------------------------------------------\n",
            "--------------------------------------------------------\n",
            "Epoch 8/20: Training\n"
          ]
        },
        {
          "output_type": "stream",
          "name": "stderr",
          "text": [
            "100%|██████████| 900/900 [00:50<00:00, 17.74it/s]\n"
          ]
        },
        {
          "output_type": "stream",
          "name": "stdout",
          "text": [
            "Loss: 0.0677000419836905 , IOU: 0.904873857961761\n",
            "--------------------------------------------------------\n",
            "Epoch 8/20: Testing\n"
          ]
        },
        {
          "output_type": "stream",
          "name": "stderr",
          "text": [
            "100%|██████████| 51/51 [00:00<00:00, 52.16it/s]\n"
          ]
        },
        {
          "output_type": "stream",
          "name": "stdout",
          "text": [
            "Loss: 0.07454168679667453 , IOU: 0.8951937941943898\n",
            "--------------------------------------------------------\n",
            "--------------------------------------------------------\n",
            "--------------------------------------------------------\n",
            "--------------------------------------------------------\n",
            "Epoch 9/20: Training\n"
          ]
        },
        {
          "output_type": "stream",
          "name": "stderr",
          "text": [
            "100%|██████████| 900/900 [00:50<00:00, 17.68it/s]\n"
          ]
        },
        {
          "output_type": "stream",
          "name": "stdout",
          "text": [
            "Loss: 0.06533722407081058 , IOU: 0.9080937376949514\n",
            "--------------------------------------------------------\n",
            "Epoch 9/20: Testing\n"
          ]
        },
        {
          "output_type": "stream",
          "name": "stderr",
          "text": [
            "100%|██████████| 51/51 [00:00<00:00, 53.62it/s]\n"
          ]
        },
        {
          "output_type": "stream",
          "name": "stdout",
          "text": [
            "Loss: 0.08577685594996984 , IOU: 0.8792771533423779\n",
            "--------------------------------------------------------\n",
            "--------------------------------------------------------\n",
            "--------------------------------------------------------\n",
            "--------------------------------------------------------\n",
            "Epoch 10/20: Training\n"
          ]
        },
        {
          "output_type": "stream",
          "name": "stderr",
          "text": [
            "100%|██████████| 900/900 [00:50<00:00, 17.67it/s]\n"
          ]
        },
        {
          "output_type": "stream",
          "name": "stdout",
          "text": [
            "Loss: 0.06505922622978684 , IOU: 0.9090202565656774\n",
            "--------------------------------------------------------\n",
            "Epoch 10/20: Testing\n"
          ]
        },
        {
          "output_type": "stream",
          "name": "stderr",
          "text": [
            "100%|██████████| 51/51 [00:00<00:00, 51.21it/s]\n"
          ]
        },
        {
          "output_type": "stream",
          "name": "stdout",
          "text": [
            "Loss: 0.07572652655197126 , IOU: 0.8929519770192162\n",
            "--------------------------------------------------------\n",
            "--------------------------------------------------------\n",
            "--------------------------------------------------------\n",
            "--------------------------------------------------------\n",
            "Epoch 11/20: Training\n"
          ]
        },
        {
          "output_type": "stream",
          "name": "stderr",
          "text": [
            "100%|██████████| 900/900 [00:49<00:00, 18.07it/s]\n"
          ]
        },
        {
          "output_type": "stream",
          "name": "stdout",
          "text": [
            "Loss: 0.06390751630895665 , IOU: 0.9107506316672596\n",
            "--------------------------------------------------------\n",
            "Epoch 11/20: Testing\n"
          ]
        },
        {
          "output_type": "stream",
          "name": "stderr",
          "text": [
            "100%|██████████| 51/51 [00:01<00:00, 42.89it/s]\n"
          ]
        },
        {
          "output_type": "stream",
          "name": "stdout",
          "text": [
            "Loss: 0.14343681602793584 , IOU: 0.8081674644833101\n",
            "--------------------------------------------------------\n",
            "--------------------------------------------------------\n",
            "--------------------------------------------------------\n",
            "--------------------------------------------------------\n",
            "Epoch 12/20: Training\n"
          ]
        },
        {
          "output_type": "stream",
          "name": "stderr",
          "text": [
            "100%|██████████| 900/900 [00:50<00:00, 17.89it/s]\n"
          ]
        },
        {
          "output_type": "stream",
          "name": "stdout",
          "text": [
            "Loss: 0.06209870899303077 , IOU: 0.913476611386157\n",
            "--------------------------------------------------------\n",
            "Epoch 12/20: Testing\n"
          ]
        },
        {
          "output_type": "stream",
          "name": "stderr",
          "text": [
            "100%|██████████| 51/51 [00:00<00:00, 52.90it/s]\n"
          ]
        },
        {
          "output_type": "stream",
          "name": "stdout",
          "text": [
            "Loss: 0.07982327025748936 , IOU: 0.8878414531548815\n",
            "--------------------------------------------------------\n",
            "--------------------------------------------------------\n",
            "--------------------------------------------------------\n",
            "--------------------------------------------------------\n",
            "Epoch 13/20: Training\n"
          ]
        },
        {
          "output_type": "stream",
          "name": "stderr",
          "text": [
            "100%|██████████| 900/900 [00:50<00:00, 17.78it/s]\n"
          ]
        },
        {
          "output_type": "stream",
          "name": "stdout",
          "text": [
            "Loss: 0.05939805591685908 , IOU: 0.9170172796315624\n",
            "--------------------------------------------------------\n",
            "Epoch 13/20: Testing\n"
          ]
        },
        {
          "output_type": "stream",
          "name": "stderr",
          "text": [
            "100%|██████████| 51/51 [00:00<00:00, 54.15it/s]\n"
          ]
        },
        {
          "output_type": "stream",
          "name": "stdout",
          "text": [
            "Loss: 0.07832169715388146 , IOU: 0.8888968293573342\n",
            "--------------------------------------------------------\n",
            "--------------------------------------------------------\n",
            "--------------------------------------------------------\n",
            "--------------------------------------------------------\n",
            "Epoch 14/20: Training\n"
          ]
        },
        {
          "output_type": "stream",
          "name": "stderr",
          "text": [
            "100%|██████████| 900/900 [00:49<00:00, 18.05it/s]\n"
          ]
        },
        {
          "output_type": "stream",
          "name": "stdout",
          "text": [
            "Loss: 0.05829790133775939 , IOU: 0.9185589682393606\n",
            "--------------------------------------------------------\n",
            "Epoch 14/20: Testing\n"
          ]
        },
        {
          "output_type": "stream",
          "name": "stderr",
          "text": [
            "100%|██████████| 51/51 [00:01<00:00, 44.46it/s]\n"
          ]
        },
        {
          "output_type": "stream",
          "name": "stdout",
          "text": [
            "Loss: 0.08840597380756163 , IOU: 0.8776970560680707\n",
            "--------------------------------------------------------\n",
            "--------------------------------------------------------\n",
            "--------------------------------------------------------\n",
            "--------------------------------------------------------\n",
            "Epoch 15/20: Training\n"
          ]
        },
        {
          "output_type": "stream",
          "name": "stderr",
          "text": [
            "100%|██████████| 900/900 [00:49<00:00, 18.13it/s]\n"
          ]
        },
        {
          "output_type": "stream",
          "name": "stdout",
          "text": [
            "Loss: 0.06249105036776086 , IOU: 0.9144321357231181\n",
            "--------------------------------------------------------\n",
            "Epoch 15/20: Testing\n"
          ]
        },
        {
          "output_type": "stream",
          "name": "stderr",
          "text": [
            "100%|██████████| 51/51 [00:00<00:00, 52.84it/s]\n"
          ]
        },
        {
          "output_type": "stream",
          "name": "stdout",
          "text": [
            "Loss: 0.19365903223846476 , IOU: 0.783461863599608\n",
            "--------------------------------------------------------\n",
            "--------------------------------------------------------\n",
            "--------------------------------------------------------\n",
            "--------------------------------------------------------\n",
            "Epoch 16/20: Training\n"
          ]
        },
        {
          "output_type": "stream",
          "name": "stderr",
          "text": [
            "100%|██████████| 900/900 [00:50<00:00, 17.81it/s]\n"
          ]
        },
        {
          "output_type": "stream",
          "name": "stdout",
          "text": [
            "Loss: 0.05550045530829167 , IOU: 0.9234602106279803\n",
            "--------------------------------------------------------\n",
            "Epoch 16/20: Testing\n"
          ]
        },
        {
          "output_type": "stream",
          "name": "stderr",
          "text": [
            "100%|██████████| 51/51 [00:00<00:00, 51.27it/s]\n"
          ]
        },
        {
          "output_type": "stream",
          "name": "stdout",
          "text": [
            "Loss: 0.08079801372015008 , IOU: 0.8890441048379034\n",
            "--------------------------------------------------------\n",
            "--------------------------------------------------------\n",
            "--------------------------------------------------------\n",
            "--------------------------------------------------------\n",
            "Epoch 17/20: Training\n"
          ]
        },
        {
          "output_type": "stream",
          "name": "stderr",
          "text": [
            "100%|██████████| 900/900 [00:50<00:00, 17.96it/s]\n"
          ]
        },
        {
          "output_type": "stream",
          "name": "stdout",
          "text": [
            "Loss: 0.05635158010241061 , IOU: 0.9217739428497009\n",
            "--------------------------------------------------------\n",
            "Epoch 17/20: Testing\n"
          ]
        },
        {
          "output_type": "stream",
          "name": "stderr",
          "text": [
            "100%|██████████| 51/51 [00:01<00:00, 43.02it/s]\n"
          ]
        },
        {
          "output_type": "stream",
          "name": "stdout",
          "text": [
            "Loss: 0.08072133351336508 , IOU: 0.8859264155228935\n",
            "--------------------------------------------------------\n",
            "--------------------------------------------------------\n",
            "--------------------------------------------------------\n",
            "--------------------------------------------------------\n",
            "Epoch 18/20: Training\n"
          ]
        },
        {
          "output_type": "stream",
          "name": "stderr",
          "text": [
            "100%|██████████| 900/900 [00:49<00:00, 18.18it/s]\n"
          ]
        },
        {
          "output_type": "stream",
          "name": "stdout",
          "text": [
            "Loss: 0.0516426518921637 , IOU: 0.9281794712940857\n",
            "--------------------------------------------------------\n",
            "Epoch 18/20: Testing\n"
          ]
        },
        {
          "output_type": "stream",
          "name": "stderr",
          "text": [
            "100%|██████████| 51/51 [00:00<00:00, 54.36it/s]\n"
          ]
        },
        {
          "output_type": "stream",
          "name": "stdout",
          "text": [
            "Loss: 0.07332277652241434 , IOU: 0.8962425051950941\n",
            "--------------------------------------------------------\n",
            "--------------------------------------------------------\n",
            "--------------------------------------------------------\n",
            "--------------------------------------------------------\n",
            "Epoch 19/20: Training\n"
          ]
        },
        {
          "output_type": "stream",
          "name": "stderr",
          "text": [
            "100%|██████████| 900/900 [00:50<00:00, 17.76it/s]\n"
          ]
        },
        {
          "output_type": "stream",
          "name": "stdout",
          "text": [
            "Loss: 0.05120000065614777 , IOU: 0.9287498014503047\n",
            "--------------------------------------------------------\n",
            "Epoch 19/20: Testing\n"
          ]
        },
        {
          "output_type": "stream",
          "name": "stderr",
          "text": [
            "100%|██████████| 51/51 [00:01<00:00, 50.57it/s]\n"
          ]
        },
        {
          "output_type": "stream",
          "name": "stdout",
          "text": [
            "Loss: 0.09716388119348124 , IOU: 0.8663215099596511\n",
            "--------------------------------------------------------\n",
            "--------------------------------------------------------\n",
            "--------------------------------------------------------\n",
            "--------------------------------------------------------\n",
            "Epoch 20/20: Training\n"
          ]
        },
        {
          "output_type": "stream",
          "name": "stderr",
          "text": [
            "100%|██████████| 900/900 [00:50<00:00, 17.90it/s]\n"
          ]
        },
        {
          "output_type": "stream",
          "name": "stdout",
          "text": [
            "Loss: 0.05075068634210353 , IOU: 0.9294341341654458\n",
            "--------------------------------------------------------\n",
            "Epoch 20/20: Testing\n"
          ]
        },
        {
          "output_type": "stream",
          "name": "stderr",
          "text": [
            "100%|██████████| 51/51 [00:00<00:00, 51.88it/s]\n"
          ]
        },
        {
          "output_type": "stream",
          "name": "stdout",
          "text": [
            "Loss: 0.07439458921697795 , IOU: 0.8968552096801643\n",
            "--------------------------------------------------------\n",
            "--------------------------------------------------------\n",
            "Best IoU:  0.8968552096801643\n"
          ]
        }
      ]
    },
    {
      "cell_type": "markdown",
      "source": [
        "##Train PSP"
      ],
      "metadata": {
        "id": "UyVB72Iob7tt"
      }
    },
    {
      "cell_type": "code",
      "source": [
        "LEARNING_RATE = 1e-4\n",
        "NUM_EPOCHS = 20\n",
        "BATCH_SIZE = 1\n",
        "model_path = '/content/drive/MyDrive/PPT/Foreground/Transfer/AC/Models/psp_noise.pth'\n",
        "root_path = '/content/drive/MyDrive/PPT/Foreground/Transfer/AC/Real ACDC/data_2d'\n",
        "\n",
        "train_dataset = Segmentation_Dataset(root_path, split=\"train\", noise=\"train\")\n",
        "test_dataset = Segmentation_Dataset(root_path, split=\"test\")\n",
        "\n",
        "train_loader = DataLoader(train_dataset, batch_size = 1, shuffle=True)\n",
        "test_loader = DataLoader(test_dataset, batch_size = 1, shuffle=False)\n",
        "\n",
        "if torch.cuda.is_available: device = torch.device(\"cuda\")\n",
        "else: device = torch.device(\"cpu\")\n",
        "\n",
        "\n",
        "model = get_model(model_dict[\"psp\"][\"model\"])\n",
        "frame = MyFrame(model, LEARNING_RATE, device)\n",
        "#frame.load(model_path)\n",
        "\n",
        "best_iou = 0.\n",
        "\n",
        "for epoch in range(1, NUM_EPOCHS+1):\n",
        "    print(\"--------------------------------------------------------\")\n",
        "    print(\"--------------------------------------------------------\")\n",
        "    print(\"Epoch \"+str(epoch)+\"/\"+str(NUM_EPOCHS)+\": Training\")\n",
        "    tr_dict = frame.run_epoch(train_loader)\n",
        "    print(\"Loss:\", tr_dict[\"loss\"], \", IOU:\", tr_dict[\"iou\"])\n",
        "    print(\"--------------------------------------------------------\")\n",
        "    print(\"Epoch \"+str(epoch)+\"/\"+str(NUM_EPOCHS)+\": Testing\")\n",
        "    te_dict = frame.run_epoch(test_loader, train=False)\n",
        "    print(\"Loss:\", te_dict[\"loss\"], \", IOU:\", te_dict[\"iou\"])\n",
        "    print(\"--------------------------------------------------------\")\n",
        "    print(\"--------------------------------------------------------\")\n",
        "    \n",
        "    if te_dict[\"iou\"] > best_iou: \n",
        "      frame.save(model_path)\n",
        "      best_iou = te_dict[\"iou\"]\n",
        "\n",
        "print('Best IoU: ', best_iou) "
      ],
      "metadata": {
        "colab": {
          "base_uri": "https://localhost:8080/"
        },
        "id": "mbvL9xcIbhrV",
        "outputId": "40dc587e-8ebd-47a8-edc6-1b5b767fe4b6"
      },
      "execution_count": null,
      "outputs": [
        {
          "output_type": "stream",
          "name": "stdout",
          "text": [
            "num img = 900\n",
            "num map = 900\n",
            "num img = 51\n",
            "num map = 51\n",
            "--------------------------------------------------------\n",
            "--------------------------------------------------------\n",
            "Epoch 1/20: Training\n"
          ]
        },
        {
          "output_type": "stream",
          "name": "stderr",
          "text": [
            "  0%|          | 0/900 [00:00<?, ?it/s]<ipython-input-4-0a8257117a2c>:20: FutureWarning: Using a non-tuple sequence for multidimensional indexing is deprecated; use `arr[tuple(seq)]` instead of `arr[seq]`. In the future this will be interpreted as an array index, `arr[np.array(seq)]`, which will result either in an error or a different result.\n",
            "  out[coords] = 1\n",
            "<ipython-input-4-0a8257117a2c>:26: FutureWarning: Using a non-tuple sequence for multidimensional indexing is deprecated; use `arr[tuple(seq)]` instead of `arr[seq]`. In the future this will be interpreted as an array index, `arr[np.array(seq)]`, which will result either in an error or a different result.\n",
            "  out[coords] = 0\n",
            "100%|██████████| 900/900 [00:31<00:00, 28.39it/s]\n"
          ]
        },
        {
          "output_type": "stream",
          "name": "stdout",
          "text": [
            "Loss: 0.21435462663157126 , IOU: 0.7500313345455404\n",
            "--------------------------------------------------------\n",
            "Epoch 1/20: Testing\n"
          ]
        },
        {
          "output_type": "stream",
          "name": "stderr",
          "text": [
            "100%|██████████| 51/51 [00:00<00:00, 73.44it/s]\n"
          ]
        },
        {
          "output_type": "stream",
          "name": "stdout",
          "text": [
            "Loss: 0.15966928114785872 , IOU: 0.7847638819731916\n",
            "--------------------------------------------------------\n",
            "--------------------------------------------------------\n",
            "--------------------------------------------------------\n",
            "--------------------------------------------------------\n",
            "Epoch 2/20: Training\n"
          ]
        },
        {
          "output_type": "stream",
          "name": "stderr",
          "text": [
            "100%|██████████| 900/900 [00:31<00:00, 28.31it/s]\n"
          ]
        },
        {
          "output_type": "stream",
          "name": "stdout",
          "text": [
            "Loss: 0.1145135402845011 , IOU: 0.8476018291711804\n",
            "--------------------------------------------------------\n",
            "Epoch 2/20: Testing\n"
          ]
        },
        {
          "output_type": "stream",
          "name": "stderr",
          "text": [
            "100%|██████████| 51/51 [00:00<00:00, 60.49it/s]\n"
          ]
        },
        {
          "output_type": "stream",
          "name": "stdout",
          "text": [
            "Loss: 0.10807521122635583 , IOU: 0.8531170779583503\n",
            "--------------------------------------------------------\n",
            "--------------------------------------------------------\n",
            "--------------------------------------------------------\n",
            "--------------------------------------------------------\n",
            "Epoch 3/20: Training\n"
          ]
        },
        {
          "output_type": "stream",
          "name": "stderr",
          "text": [
            "100%|██████████| 900/900 [00:31<00:00, 28.86it/s]\n"
          ]
        },
        {
          "output_type": "stream",
          "name": "stdout",
          "text": [
            "Loss: 0.09556832691033672 , IOU: 0.8714720928089489\n",
            "--------------------------------------------------------\n",
            "Epoch 3/20: Testing\n"
          ]
        },
        {
          "output_type": "stream",
          "name": "stderr",
          "text": [
            "100%|██████████| 51/51 [00:00<00:00, 73.16it/s]\n"
          ]
        },
        {
          "output_type": "stream",
          "name": "stdout",
          "text": [
            "Loss: 0.10893613457971928 , IOU: 0.8459393382072448\n",
            "--------------------------------------------------------\n",
            "--------------------------------------------------------\n",
            "--------------------------------------------------------\n",
            "--------------------------------------------------------\n",
            "Epoch 4/20: Training\n"
          ]
        },
        {
          "output_type": "stream",
          "name": "stderr",
          "text": [
            "100%|██████████| 900/900 [00:30<00:00, 29.09it/s]\n"
          ]
        },
        {
          "output_type": "stream",
          "name": "stdout",
          "text": [
            "Loss: 0.08908151675636572 , IOU: 0.8788474634351822\n",
            "--------------------------------------------------------\n",
            "Epoch 4/20: Testing\n"
          ]
        },
        {
          "output_type": "stream",
          "name": "stderr",
          "text": [
            "100%|██████████| 51/51 [00:00<00:00, 67.02it/s]\n"
          ]
        },
        {
          "output_type": "stream",
          "name": "stdout",
          "text": [
            "Loss: 0.13509218577368584 , IOU: 0.8116387426853181\n",
            "--------------------------------------------------------\n",
            "--------------------------------------------------------\n",
            "--------------------------------------------------------\n",
            "--------------------------------------------------------\n",
            "Epoch 5/20: Training\n"
          ]
        },
        {
          "output_type": "stream",
          "name": "stderr",
          "text": [
            "100%|██████████| 900/900 [00:30<00:00, 29.29it/s]\n"
          ]
        },
        {
          "output_type": "stream",
          "name": "stdout",
          "text": [
            "Loss: 0.08038474444713851 , IOU: 0.8902516833361654\n",
            "--------------------------------------------------------\n",
            "Epoch 5/20: Testing\n"
          ]
        },
        {
          "output_type": "stream",
          "name": "stderr",
          "text": [
            "100%|██████████| 51/51 [00:00<00:00, 60.86it/s]\n"
          ]
        },
        {
          "output_type": "stream",
          "name": "stdout",
          "text": [
            "Loss: 0.08722160592236941 , IOU: 0.8768108089764911\n",
            "--------------------------------------------------------\n",
            "--------------------------------------------------------\n",
            "--------------------------------------------------------\n",
            "--------------------------------------------------------\n",
            "Epoch 6/20: Training\n"
          ]
        },
        {
          "output_type": "stream",
          "name": "stderr",
          "text": [
            "100%|██████████| 900/900 [00:31<00:00, 28.20it/s]\n"
          ]
        },
        {
          "output_type": "stream",
          "name": "stdout",
          "text": [
            "Loss: 0.07531717329182554 , IOU: 0.8967234475745088\n",
            "--------------------------------------------------------\n",
            "Epoch 6/20: Testing\n"
          ]
        },
        {
          "output_type": "stream",
          "name": "stderr",
          "text": [
            "100%|██████████| 51/51 [00:00<00:00, 71.63it/s]\n"
          ]
        },
        {
          "output_type": "stream",
          "name": "stdout",
          "text": [
            "Loss: 0.11440782701852276 , IOU: 0.8418000620954176\n",
            "--------------------------------------------------------\n",
            "--------------------------------------------------------\n",
            "--------------------------------------------------------\n",
            "--------------------------------------------------------\n",
            "Epoch 7/20: Training\n"
          ]
        },
        {
          "output_type": "stream",
          "name": "stderr",
          "text": [
            "100%|██████████| 900/900 [00:30<00:00, 29.62it/s]\n"
          ]
        },
        {
          "output_type": "stream",
          "name": "stdout",
          "text": [
            "Loss: 0.07282488662542565 , IOU: 0.899541925655471\n",
            "--------------------------------------------------------\n",
            "Epoch 7/20: Testing\n"
          ]
        },
        {
          "output_type": "stream",
          "name": "stderr",
          "text": [
            "100%|██████████| 51/51 [00:00<00:00, 74.15it/s]\n"
          ]
        },
        {
          "output_type": "stream",
          "name": "stdout",
          "text": [
            "Loss: 0.09606455266475677 , IOU: 0.8635039095785104\n",
            "--------------------------------------------------------\n",
            "--------------------------------------------------------\n",
            "--------------------------------------------------------\n",
            "--------------------------------------------------------\n",
            "Epoch 8/20: Training\n"
          ]
        },
        {
          "output_type": "stream",
          "name": "stderr",
          "text": [
            "100%|██████████| 900/900 [00:30<00:00, 29.28it/s]\n"
          ]
        },
        {
          "output_type": "stream",
          "name": "stdout",
          "text": [
            "Loss: 0.06918794586012757 , IOU: 0.9041728814111831\n",
            "--------------------------------------------------------\n",
            "Epoch 8/20: Testing\n"
          ]
        },
        {
          "output_type": "stream",
          "name": "stderr",
          "text": [
            "100%|██████████| 51/51 [00:00<00:00, 72.87it/s]\n"
          ]
        },
        {
          "output_type": "stream",
          "name": "stdout",
          "text": [
            "Loss: 0.08773314825021754 , IOU: 0.8764956932441863\n",
            "--------------------------------------------------------\n",
            "--------------------------------------------------------\n",
            "--------------------------------------------------------\n",
            "--------------------------------------------------------\n",
            "Epoch 9/20: Training\n"
          ]
        },
        {
          "output_type": "stream",
          "name": "stderr",
          "text": [
            "100%|██████████| 900/900 [00:31<00:00, 28.44it/s]\n"
          ]
        },
        {
          "output_type": "stream",
          "name": "stdout",
          "text": [
            "Loss: 0.06793561557307845 , IOU: 0.9061497333231912\n",
            "--------------------------------------------------------\n",
            "Epoch 9/20: Testing\n"
          ]
        },
        {
          "output_type": "stream",
          "name": "stderr",
          "text": [
            "100%|██████████| 51/51 [00:00<00:00, 63.00it/s]\n"
          ]
        },
        {
          "output_type": "stream",
          "name": "stdout",
          "text": [
            "Loss: 0.09283888409389002 , IOU: 0.8717969287844265\n",
            "--------------------------------------------------------\n",
            "--------------------------------------------------------\n",
            "--------------------------------------------------------\n",
            "--------------------------------------------------------\n",
            "Epoch 10/20: Training\n"
          ]
        },
        {
          "output_type": "stream",
          "name": "stderr",
          "text": [
            "100%|██████████| 900/900 [00:30<00:00, 29.25it/s]\n"
          ]
        },
        {
          "output_type": "stream",
          "name": "stdout",
          "text": [
            "Loss: 0.06362441662285064 , IOU: 0.9117344307237193\n",
            "--------------------------------------------------------\n",
            "Epoch 10/20: Testing\n"
          ]
        },
        {
          "output_type": "stream",
          "name": "stderr",
          "text": [
            "100%|██████████| 51/51 [00:00<00:00, 72.83it/s]\n"
          ]
        },
        {
          "output_type": "stream",
          "name": "stdout",
          "text": [
            "Loss: 0.08172006733423354 , IOU: 0.8848524385807561\n",
            "--------------------------------------------------------\n",
            "--------------------------------------------------------\n",
            "--------------------------------------------------------\n",
            "--------------------------------------------------------\n",
            "Epoch 11/20: Training\n"
          ]
        },
        {
          "output_type": "stream",
          "name": "stderr",
          "text": [
            "100%|██████████| 900/900 [00:31<00:00, 28.86it/s]\n"
          ]
        },
        {
          "output_type": "stream",
          "name": "stdout",
          "text": [
            "Loss: 0.06625966647639862 , IOU: 0.9087457453211156\n",
            "--------------------------------------------------------\n",
            "Epoch 11/20: Testing\n"
          ]
        },
        {
          "output_type": "stream",
          "name": "stderr",
          "text": [
            "100%|██████████| 51/51 [00:00<00:00, 76.45it/s]\n"
          ]
        },
        {
          "output_type": "stream",
          "name": "stdout",
          "text": [
            "Loss: 0.07897310251114413 , IOU: 0.8877748063966341\n",
            "--------------------------------------------------------\n",
            "--------------------------------------------------------\n",
            "--------------------------------------------------------\n",
            "--------------------------------------------------------\n",
            "Epoch 12/20: Training\n"
          ]
        },
        {
          "output_type": "stream",
          "name": "stderr",
          "text": [
            "100%|██████████| 900/900 [00:31<00:00, 28.37it/s]\n"
          ]
        },
        {
          "output_type": "stream",
          "name": "stdout",
          "text": [
            "Loss: 0.06060801995297273 , IOU: 0.9152685928344726\n",
            "--------------------------------------------------------\n",
            "Epoch 12/20: Testing\n"
          ]
        },
        {
          "output_type": "stream",
          "name": "stderr",
          "text": [
            "100%|██████████| 51/51 [00:00<00:00, 62.23it/s]\n"
          ]
        },
        {
          "output_type": "stream",
          "name": "stdout",
          "text": [
            "Loss: 0.07900696057899326 , IOU: 0.8885899527984507\n",
            "--------------------------------------------------------\n",
            "--------------------------------------------------------\n",
            "--------------------------------------------------------\n",
            "--------------------------------------------------------\n",
            "Epoch 13/20: Training\n"
          ]
        },
        {
          "output_type": "stream",
          "name": "stderr",
          "text": [
            "100%|██████████| 900/900 [00:31<00:00, 28.65it/s]\n"
          ]
        },
        {
          "output_type": "stream",
          "name": "stdout",
          "text": [
            "Loss: 0.05847344374905031 , IOU: 0.9186060074634018\n",
            "--------------------------------------------------------\n",
            "Epoch 13/20: Testing\n"
          ]
        },
        {
          "output_type": "stream",
          "name": "stderr",
          "text": [
            "100%|██████████| 51/51 [00:00<00:00, 70.39it/s]\n"
          ]
        },
        {
          "output_type": "stream",
          "name": "stdout",
          "text": [
            "Loss: 0.08737999339606248 , IOU: 0.8771542661330277\n",
            "--------------------------------------------------------\n",
            "--------------------------------------------------------\n",
            "--------------------------------------------------------\n",
            "--------------------------------------------------------\n",
            "Epoch 14/20: Training\n"
          ]
        },
        {
          "output_type": "stream",
          "name": "stderr",
          "text": [
            "100%|██████████| 900/900 [00:30<00:00, 29.22it/s]\n"
          ]
        },
        {
          "output_type": "stream",
          "name": "stdout",
          "text": [
            "Loss: 0.057625581388258296 , IOU: 0.9196665130721197\n",
            "--------------------------------------------------------\n",
            "Epoch 14/20: Testing\n"
          ]
        },
        {
          "output_type": "stream",
          "name": "stderr",
          "text": [
            "100%|██████████| 51/51 [00:00<00:00, 72.19it/s]\n"
          ]
        },
        {
          "output_type": "stream",
          "name": "stdout",
          "text": [
            "Loss: 0.093343384089131 , IOU: 0.8709361430476694\n",
            "--------------------------------------------------------\n",
            "--------------------------------------------------------\n",
            "--------------------------------------------------------\n",
            "--------------------------------------------------------\n",
            "Epoch 15/20: Training\n"
          ]
        },
        {
          "output_type": "stream",
          "name": "stderr",
          "text": [
            "100%|██████████| 900/900 [00:30<00:00, 29.12it/s]\n"
          ]
        },
        {
          "output_type": "stream",
          "name": "stdout",
          "text": [
            "Loss: 0.0567354713338944 , IOU: 0.9208159436119929\n",
            "--------------------------------------------------------\n",
            "Epoch 15/20: Testing\n"
          ]
        },
        {
          "output_type": "stream",
          "name": "stderr",
          "text": [
            "100%|██████████| 51/51 [00:00<00:00, 59.68it/s]\n"
          ]
        },
        {
          "output_type": "stream",
          "name": "stdout",
          "text": [
            "Loss: 0.09098410263073207 , IOU: 0.8740157026651444\n",
            "--------------------------------------------------------\n",
            "--------------------------------------------------------\n",
            "--------------------------------------------------------\n",
            "--------------------------------------------------------\n",
            "Epoch 16/20: Training\n"
          ]
        },
        {
          "output_type": "stream",
          "name": "stderr",
          "text": [
            "100%|██████████| 900/900 [00:31<00:00, 28.43it/s]\n"
          ]
        },
        {
          "output_type": "stream",
          "name": "stdout",
          "text": [
            "Loss: 0.05893005321216253 , IOU: 0.9179731187224394\n",
            "--------------------------------------------------------\n",
            "Epoch 16/20: Testing\n"
          ]
        },
        {
          "output_type": "stream",
          "name": "stderr",
          "text": [
            "100%|██████████| 51/51 [00:00<00:00, 73.15it/s]\n"
          ]
        },
        {
          "output_type": "stream",
          "name": "stdout",
          "text": [
            "Loss: 0.07127928543908923 , IOU: 0.899352965401668\n",
            "--------------------------------------------------------\n",
            "--------------------------------------------------------\n",
            "--------------------------------------------------------\n",
            "--------------------------------------------------------\n",
            "Epoch 17/20: Training\n"
          ]
        },
        {
          "output_type": "stream",
          "name": "stderr",
          "text": [
            "100%|██████████| 900/900 [00:31<00:00, 28.90it/s]\n"
          ]
        },
        {
          "output_type": "stream",
          "name": "stdout",
          "text": [
            "Loss: 0.05645105049221043 , IOU: 0.9213491365975818\n",
            "--------------------------------------------------------\n",
            "Epoch 17/20: Testing\n"
          ]
        },
        {
          "output_type": "stream",
          "name": "stderr",
          "text": [
            "100%|██████████| 51/51 [00:00<00:00, 71.08it/s]\n"
          ]
        },
        {
          "output_type": "stream",
          "name": "stdout",
          "text": [
            "Loss: 0.08445896106023415 , IOU: 0.8805225970698337\n",
            "--------------------------------------------------------\n",
            "--------------------------------------------------------\n",
            "--------------------------------------------------------\n",
            "--------------------------------------------------------\n",
            "Epoch 18/20: Training\n"
          ]
        },
        {
          "output_type": "stream",
          "name": "stderr",
          "text": [
            "100%|██████████| 900/900 [00:30<00:00, 29.33it/s]\n"
          ]
        },
        {
          "output_type": "stream",
          "name": "stdout",
          "text": [
            "Loss: 0.05389797717746767 , IOU: 0.9245373321904073\n",
            "--------------------------------------------------------\n",
            "Epoch 18/20: Testing\n"
          ]
        },
        {
          "output_type": "stream",
          "name": "stderr",
          "text": [
            "100%|██████████| 51/51 [00:00<00:00, 65.39it/s]\n"
          ]
        },
        {
          "output_type": "stream",
          "name": "stdout",
          "text": [
            "Loss: 0.08679543694883 , IOU: 0.8770513926066602\n",
            "--------------------------------------------------------\n",
            "--------------------------------------------------------\n",
            "--------------------------------------------------------\n",
            "--------------------------------------------------------\n",
            "Epoch 19/20: Training\n"
          ]
        },
        {
          "output_type": "stream",
          "name": "stderr",
          "text": [
            "100%|██████████| 900/900 [00:31<00:00, 28.26it/s]\n"
          ]
        },
        {
          "output_type": "stream",
          "name": "stdout",
          "text": [
            "Loss: 0.0526426130678091 , IOU: 0.9265219855970811\n",
            "--------------------------------------------------------\n",
            "Epoch 19/20: Testing\n"
          ]
        },
        {
          "output_type": "stream",
          "name": "stderr",
          "text": [
            "100%|██████████| 51/51 [00:00<00:00, 71.84it/s]\n"
          ]
        },
        {
          "output_type": "stream",
          "name": "stdout",
          "text": [
            "Loss: 0.08416434413954323 , IOU: 0.8818201691496607\n",
            "--------------------------------------------------------\n",
            "--------------------------------------------------------\n",
            "--------------------------------------------------------\n",
            "--------------------------------------------------------\n",
            "Epoch 20/20: Training\n"
          ]
        },
        {
          "output_type": "stream",
          "name": "stderr",
          "text": [
            "100%|██████████| 900/900 [00:30<00:00, 29.49it/s]\n"
          ]
        },
        {
          "output_type": "stream",
          "name": "stdout",
          "text": [
            "Loss: 0.053422916328741445 , IOU: 0.9253750726580628\n",
            "--------------------------------------------------------\n",
            "Epoch 20/20: Testing\n"
          ]
        },
        {
          "output_type": "stream",
          "name": "stderr",
          "text": [
            "100%|██████████| 51/51 [00:00<00:00, 71.78it/s]"
          ]
        },
        {
          "output_type": "stream",
          "name": "stdout",
          "text": [
            "Loss: 0.08626205989104857 , IOU: 0.8815808641158189\n",
            "--------------------------------------------------------\n",
            "--------------------------------------------------------\n",
            "Best IoU:  0.899352965401668\n"
          ]
        },
        {
          "output_type": "stream",
          "name": "stderr",
          "text": [
            "\n"
          ]
        }
      ]
    },
    {
      "cell_type": "markdown",
      "source": [
        "##Train Link"
      ],
      "metadata": {
        "id": "b-Y8wLqYb-2f"
      }
    },
    {
      "cell_type": "code",
      "source": [
        "LEARNING_RATE = 1e-4\n",
        "NUM_EPOCHS = 20\n",
        "BATCH_SIZE = 1\n",
        "model_path = '/content/drive/MyDrive/PPT/Foreground/Transfer/AC/Models/link_noise.pth'\n",
        "root_path = '/content/drive/MyDrive/PPT/Foreground/Transfer/AC/Real ACDC/data_2d'\n",
        "\n",
        "train_dataset = Segmentation_Dataset(root_path, split=\"train\", noise=\"train\")\n",
        "test_dataset = Segmentation_Dataset(root_path, split=\"test\")\n",
        "\n",
        "train_loader = DataLoader(train_dataset, batch_size = 1, shuffle=True)\n",
        "test_loader = DataLoader(test_dataset, batch_size = 1, shuffle=False)\n",
        "\n",
        "if torch.cuda.is_available: device = torch.device(\"cuda\")\n",
        "else: device = torch.device(\"cpu\")\n",
        "\n",
        "\n",
        "model = get_model(model_dict[\"link\"][\"model\"])\n",
        "frame = MyFrame(model, LEARNING_RATE, device)\n",
        "#frame.load(model_path)\n",
        "\n",
        "best_iou = 0.\n",
        "\n",
        "for epoch in range(1, NUM_EPOCHS+1):\n",
        "    print(\"--------------------------------------------------------\")\n",
        "    print(\"--------------------------------------------------------\")\n",
        "    print(\"Epoch \"+str(epoch)+\"/\"+str(NUM_EPOCHS)+\": Training\")\n",
        "    tr_dict = frame.run_epoch(train_loader)\n",
        "    print(\"Loss:\", tr_dict[\"loss\"], \", IOU:\", tr_dict[\"iou\"])\n",
        "    print(\"--------------------------------------------------------\")\n",
        "    print(\"Epoch \"+str(epoch)+\"/\"+str(NUM_EPOCHS)+\": Testing\")\n",
        "    te_dict = frame.run_epoch(test_loader, train=False)\n",
        "    print(\"Loss:\", te_dict[\"loss\"], \", IOU:\", te_dict[\"iou\"])\n",
        "    print(\"--------------------------------------------------------\")\n",
        "    print(\"--------------------------------------------------------\")\n",
        "    \n",
        "    if te_dict[\"iou\"] > best_iou: \n",
        "      frame.save(model_path)\n",
        "      best_iou = te_dict[\"iou\"]\n",
        "\n",
        "print('Best IoU: ', best_iou) "
      ],
      "metadata": {
        "colab": {
          "base_uri": "https://localhost:8080/"
        },
        "id": "0IX62koKbhf-",
        "outputId": "e53eda0b-3a6d-4521-c822-092e32952c1f"
      },
      "execution_count": null,
      "outputs": [
        {
          "output_type": "stream",
          "name": "stdout",
          "text": [
            "num img = 900\n",
            "num map = 900\n",
            "num img = 51\n",
            "num map = 51\n",
            "--------------------------------------------------------\n",
            "--------------------------------------------------------\n",
            "Epoch 1/20: Training\n"
          ]
        },
        {
          "output_type": "stream",
          "name": "stderr",
          "text": [
            "\r  0%|          | 0/900 [00:00<?, ?it/s]<ipython-input-4-0a8257117a2c>:20: FutureWarning: Using a non-tuple sequence for multidimensional indexing is deprecated; use `arr[tuple(seq)]` instead of `arr[seq]`. In the future this will be interpreted as an array index, `arr[np.array(seq)]`, which will result either in an error or a different result.\n",
            "  out[coords] = 1\n",
            "<ipython-input-4-0a8257117a2c>:26: FutureWarning: Using a non-tuple sequence for multidimensional indexing is deprecated; use `arr[tuple(seq)]` instead of `arr[seq]`. In the future this will be interpreted as an array index, `arr[np.array(seq)]`, which will result either in an error or a different result.\n",
            "  out[coords] = 0\n",
            "100%|██████████| 900/900 [00:52<00:00, 16.99it/s]\n"
          ]
        },
        {
          "output_type": "stream",
          "name": "stdout",
          "text": [
            "Loss: 0.7068569837676159 , IOU: 0.6394038391625512\n",
            "--------------------------------------------------------\n",
            "Epoch 1/20: Testing\n"
          ]
        },
        {
          "output_type": "stream",
          "name": "stderr",
          "text": [
            "100%|██████████| 51/51 [00:00<00:00, 53.97it/s]\n"
          ]
        },
        {
          "output_type": "stream",
          "name": "stdout",
          "text": [
            "Loss: 0.5242738273798252 , IOU: 0.8110643268800249\n",
            "--------------------------------------------------------\n",
            "--------------------------------------------------------\n",
            "--------------------------------------------------------\n",
            "--------------------------------------------------------\n",
            "Epoch 2/20: Training\n"
          ]
        },
        {
          "output_type": "stream",
          "name": "stderr",
          "text": [
            "100%|██████████| 900/900 [00:52<00:00, 17.04it/s]\n"
          ]
        },
        {
          "output_type": "stream",
          "name": "stdout",
          "text": [
            "Loss: 0.35690383189254316 , IOU: 0.8316545740432207\n",
            "--------------------------------------------------------\n",
            "Epoch 2/20: Testing\n"
          ]
        },
        {
          "output_type": "stream",
          "name": "stderr",
          "text": [
            "100%|██████████| 51/51 [00:00<00:00, 52.62it/s]\n"
          ]
        },
        {
          "output_type": "stream",
          "name": "stdout",
          "text": [
            "Loss: 0.252351721127828 , IOU: 0.8333779976648439\n",
            "--------------------------------------------------------\n",
            "--------------------------------------------------------\n",
            "--------------------------------------------------------\n",
            "--------------------------------------------------------\n",
            "Epoch 3/20: Training\n"
          ]
        },
        {
          "output_type": "stream",
          "name": "stderr",
          "text": [
            "100%|██████████| 900/900 [00:52<00:00, 17.22it/s]\n"
          ]
        },
        {
          "output_type": "stream",
          "name": "stdout",
          "text": [
            "Loss: 0.17765109113934985 , IOU: 0.8660761392561523\n",
            "--------------------------------------------------------\n",
            "Epoch 3/20: Testing\n"
          ]
        },
        {
          "output_type": "stream",
          "name": "stderr",
          "text": [
            "100%|██████████| 51/51 [00:00<00:00, 53.21it/s]\n"
          ]
        },
        {
          "output_type": "stream",
          "name": "stdout",
          "text": [
            "Loss: 0.1409207988603442 , IOU: 0.8698088985082568\n",
            "--------------------------------------------------------\n",
            "--------------------------------------------------------\n",
            "--------------------------------------------------------\n",
            "--------------------------------------------------------\n",
            "Epoch 4/20: Training\n"
          ]
        },
        {
          "output_type": "stream",
          "name": "stderr",
          "text": [
            "100%|██████████| 900/900 [00:51<00:00, 17.41it/s]\n"
          ]
        },
        {
          "output_type": "stream",
          "name": "stdout",
          "text": [
            "Loss: 0.12444288151131735 , IOU: 0.8732241452133497\n",
            "--------------------------------------------------------\n",
            "Epoch 4/20: Testing\n"
          ]
        },
        {
          "output_type": "stream",
          "name": "stderr",
          "text": [
            "100%|██████████| 51/51 [00:01<00:00, 42.30it/s]\n"
          ]
        },
        {
          "output_type": "stream",
          "name": "stdout",
          "text": [
            "Loss: 0.12234895267322954 , IOU: 0.8546788125645881\n",
            "--------------------------------------------------------\n",
            "--------------------------------------------------------\n",
            "--------------------------------------------------------\n",
            "--------------------------------------------------------\n",
            "Epoch 5/20: Training\n"
          ]
        },
        {
          "output_type": "stream",
          "name": "stderr",
          "text": [
            "100%|██████████| 900/900 [00:51<00:00, 17.63it/s]\n"
          ]
        },
        {
          "output_type": "stream",
          "name": "stdout",
          "text": [
            "Loss: 0.09449264383357427 , IOU: 0.8916643436170286\n",
            "--------------------------------------------------------\n",
            "Epoch 5/20: Testing\n"
          ]
        },
        {
          "output_type": "stream",
          "name": "stderr",
          "text": [
            "100%|██████████| 51/51 [00:01<00:00, 50.59it/s]\n"
          ]
        },
        {
          "output_type": "stream",
          "name": "stdout",
          "text": [
            "Loss: 0.09527621695808336 , IOU: 0.8800951195698158\n",
            "--------------------------------------------------------\n",
            "--------------------------------------------------------\n",
            "--------------------------------------------------------\n",
            "--------------------------------------------------------\n",
            "Epoch 6/20: Training\n"
          ]
        },
        {
          "output_type": "stream",
          "name": "stderr",
          "text": [
            "100%|██████████| 900/900 [00:52<00:00, 17.27it/s]\n"
          ]
        },
        {
          "output_type": "stream",
          "name": "stdout",
          "text": [
            "Loss: 0.07891760051250453 , IOU: 0.9029304955403018\n",
            "--------------------------------------------------------\n",
            "Epoch 6/20: Testing\n"
          ]
        },
        {
          "output_type": "stream",
          "name": "stderr",
          "text": [
            "100%|██████████| 51/51 [00:00<00:00, 52.87it/s]\n"
          ]
        },
        {
          "output_type": "stream",
          "name": "stdout",
          "text": [
            "Loss: 0.11980570969628351 , IOU: 0.8430126325464714\n",
            "--------------------------------------------------------\n",
            "--------------------------------------------------------\n",
            "--------------------------------------------------------\n",
            "--------------------------------------------------------\n",
            "Epoch 7/20: Training\n"
          ]
        },
        {
          "output_type": "stream",
          "name": "stderr",
          "text": [
            "100%|██████████| 900/900 [00:51<00:00, 17.31it/s]\n"
          ]
        },
        {
          "output_type": "stream",
          "name": "stdout",
          "text": [
            "Loss: 0.07344646482624945 , IOU: 0.9057897703777738\n",
            "--------------------------------------------------------\n",
            "Epoch 7/20: Testing\n"
          ]
        },
        {
          "output_type": "stream",
          "name": "stderr",
          "text": [
            "100%|██████████| 51/51 [00:00<00:00, 52.94it/s]\n"
          ]
        },
        {
          "output_type": "stream",
          "name": "stdout",
          "text": [
            "Loss: 0.08969614165378555 , IOU: 0.8792506777955325\n",
            "--------------------------------------------------------\n",
            "--------------------------------------------------------\n",
            "--------------------------------------------------------\n",
            "--------------------------------------------------------\n",
            "Epoch 8/20: Training\n"
          ]
        },
        {
          "output_type": "stream",
          "name": "stderr",
          "text": [
            "100%|██████████| 900/900 [00:51<00:00, 17.33it/s]\n"
          ]
        },
        {
          "output_type": "stream",
          "name": "stdout",
          "text": [
            "Loss: 0.06781641673917566 , IOU: 0.9111530764649306\n",
            "--------------------------------------------------------\n",
            "Epoch 8/20: Testing\n"
          ]
        },
        {
          "output_type": "stream",
          "name": "stderr",
          "text": [
            "100%|██████████| 51/51 [00:00<00:00, 53.11it/s]\n"
          ]
        },
        {
          "output_type": "stream",
          "name": "stdout",
          "text": [
            "Loss: 0.0970729268795135 , IOU: 0.8662465869211684\n",
            "--------------------------------------------------------\n",
            "--------------------------------------------------------\n",
            "--------------------------------------------------------\n",
            "--------------------------------------------------------\n",
            "Epoch 9/20: Training\n"
          ]
        },
        {
          "output_type": "stream",
          "name": "stderr",
          "text": [
            "100%|██████████| 900/900 [00:52<00:00, 17.30it/s]\n"
          ]
        },
        {
          "output_type": "stream",
          "name": "stdout",
          "text": [
            "Loss: 0.06759009057862893 , IOU: 0.910703539119826\n",
            "--------------------------------------------------------\n",
            "Epoch 9/20: Testing\n"
          ]
        },
        {
          "output_type": "stream",
          "name": "stderr",
          "text": [
            "100%|██████████| 51/51 [00:00<00:00, 56.11it/s]\n"
          ]
        },
        {
          "output_type": "stream",
          "name": "stdout",
          "text": [
            "Loss: 0.09441832146223857 , IOU: 0.8683190743128458\n",
            "--------------------------------------------------------\n",
            "--------------------------------------------------------\n",
            "--------------------------------------------------------\n",
            "--------------------------------------------------------\n",
            "Epoch 10/20: Training\n"
          ]
        },
        {
          "output_type": "stream",
          "name": "stderr",
          "text": [
            "100%|██████████| 900/900 [00:51<00:00, 17.63it/s]\n"
          ]
        },
        {
          "output_type": "stream",
          "name": "stdout",
          "text": [
            "Loss: 0.06394400306459937 , IOU: 0.9145416261421302\n",
            "--------------------------------------------------------\n",
            "Epoch 10/20: Testing\n"
          ]
        },
        {
          "output_type": "stream",
          "name": "stderr",
          "text": [
            "100%|██████████| 51/51 [00:01<00:00, 41.53it/s]\n"
          ]
        },
        {
          "output_type": "stream",
          "name": "stdout",
          "text": [
            "Loss: 0.09224828986414507 , IOU: 0.8719747013905469\n",
            "--------------------------------------------------------\n",
            "--------------------------------------------------------\n",
            "--------------------------------------------------------\n",
            "--------------------------------------------------------\n",
            "Epoch 11/20: Training\n"
          ]
        },
        {
          "output_type": "stream",
          "name": "stderr",
          "text": [
            "100%|██████████| 900/900 [00:51<00:00, 17.64it/s]\n"
          ]
        },
        {
          "output_type": "stream",
          "name": "stdout",
          "text": [
            "Loss: 0.05829986020301774 , IOU: 0.9209922554757858\n",
            "--------------------------------------------------------\n",
            "Epoch 11/20: Testing\n"
          ]
        },
        {
          "output_type": "stream",
          "name": "stderr",
          "text": [
            "100%|██████████| 51/51 [00:00<00:00, 54.36it/s]\n"
          ]
        },
        {
          "output_type": "stream",
          "name": "stdout",
          "text": [
            "Loss: 0.07920992206416877 , IOU: 0.8897117496851612\n",
            "--------------------------------------------------------\n",
            "--------------------------------------------------------\n",
            "--------------------------------------------------------\n",
            "--------------------------------------------------------\n",
            "Epoch 12/20: Training\n"
          ]
        },
        {
          "output_type": "stream",
          "name": "stderr",
          "text": [
            "100%|██████████| 900/900 [00:54<00:00, 16.63it/s]\n"
          ]
        },
        {
          "output_type": "stream",
          "name": "stdout",
          "text": [
            "Loss: 0.05771592663601042 , IOU: 0.9217832263310765\n",
            "--------------------------------------------------------\n",
            "Epoch 12/20: Testing\n"
          ]
        },
        {
          "output_type": "stream",
          "name": "stderr",
          "text": [
            "100%|██████████| 51/51 [00:00<00:00, 52.01it/s]\n"
          ]
        },
        {
          "output_type": "stream",
          "name": "stdout",
          "text": [
            "Loss: 0.06914445955087156 , IOU: 0.9017710253304126\n",
            "--------------------------------------------------------\n",
            "--------------------------------------------------------\n",
            "--------------------------------------------------------\n",
            "--------------------------------------------------------\n",
            "Epoch 13/20: Training\n"
          ]
        },
        {
          "output_type": "stream",
          "name": "stderr",
          "text": [
            "100%|██████████| 900/900 [00:53<00:00, 16.67it/s]\n"
          ]
        },
        {
          "output_type": "stream",
          "name": "stdout",
          "text": [
            "Loss: 0.05758485444097053 , IOU: 0.9220887401203324\n",
            "--------------------------------------------------------\n",
            "Epoch 13/20: Testing\n"
          ]
        },
        {
          "output_type": "stream",
          "name": "stderr",
          "text": [
            "100%|██████████| 51/51 [00:01<00:00, 50.63it/s]\n"
          ]
        },
        {
          "output_type": "stream",
          "name": "stdout",
          "text": [
            "Loss: 0.08489597289293421 , IOU: 0.8829876512069911\n",
            "--------------------------------------------------------\n",
            "--------------------------------------------------------\n",
            "--------------------------------------------------------\n",
            "--------------------------------------------------------\n",
            "Epoch 14/20: Training\n"
          ]
        },
        {
          "output_type": "stream",
          "name": "stderr",
          "text": [
            "100%|██████████| 900/900 [00:53<00:00, 16.87it/s]\n"
          ]
        },
        {
          "output_type": "stream",
          "name": "stdout",
          "text": [
            "Loss: 0.05495710894568927 , IOU: 0.9253339728381895\n",
            "--------------------------------------------------------\n",
            "Epoch 14/20: Testing\n"
          ]
        },
        {
          "output_type": "stream",
          "name": "stderr",
          "text": [
            "100%|██████████| 51/51 [00:01<00:00, 50.03it/s]\n"
          ]
        },
        {
          "output_type": "stream",
          "name": "stdout",
          "text": [
            "Loss: 0.06652813280622166 , IOU: 0.9049788993947646\n",
            "--------------------------------------------------------\n",
            "--------------------------------------------------------\n",
            "--------------------------------------------------------\n",
            "--------------------------------------------------------\n",
            "Epoch 15/20: Training\n"
          ]
        },
        {
          "output_type": "stream",
          "name": "stderr",
          "text": [
            "100%|██████████| 900/900 [00:53<00:00, 16.88it/s]\n"
          ]
        },
        {
          "output_type": "stream",
          "name": "stdout",
          "text": [
            "Loss: 0.05303677897072502 , IOU: 0.9280269262525781\n",
            "--------------------------------------------------------\n",
            "Epoch 15/20: Testing\n"
          ]
        },
        {
          "output_type": "stream",
          "name": "stderr",
          "text": [
            "100%|██████████| 51/51 [00:00<00:00, 51.53it/s]\n"
          ]
        },
        {
          "output_type": "stream",
          "name": "stdout",
          "text": [
            "Loss: 0.0755907767178381 , IOU: 0.892727474371592\n",
            "--------------------------------------------------------\n",
            "--------------------------------------------------------\n",
            "--------------------------------------------------------\n",
            "--------------------------------------------------------\n",
            "Epoch 16/20: Training\n"
          ]
        },
        {
          "output_type": "stream",
          "name": "stderr",
          "text": [
            "100%|██████████| 900/900 [00:52<00:00, 17.18it/s]\n"
          ]
        },
        {
          "output_type": "stream",
          "name": "stdout",
          "text": [
            "Loss: 0.0561812281743106 , IOU: 0.9236941806723666\n",
            "--------------------------------------------------------\n",
            "Epoch 16/20: Testing\n"
          ]
        },
        {
          "output_type": "stream",
          "name": "stderr",
          "text": [
            "100%|██████████| 51/51 [00:00<00:00, 53.28it/s]\n"
          ]
        },
        {
          "output_type": "stream",
          "name": "stdout",
          "text": [
            "Loss: 0.16645237573367708 , IOU: 0.7771948257497714\n",
            "--------------------------------------------------------\n",
            "--------------------------------------------------------\n",
            "--------------------------------------------------------\n",
            "--------------------------------------------------------\n",
            "Epoch 17/20: Training\n"
          ]
        },
        {
          "output_type": "stream",
          "name": "stderr",
          "text": [
            "100%|██████████| 900/900 [00:52<00:00, 17.16it/s]\n"
          ]
        },
        {
          "output_type": "stream",
          "name": "stdout",
          "text": [
            "Loss: 0.0511554706655443 , IOU: 0.9305333169963615\n",
            "--------------------------------------------------------\n",
            "Epoch 17/20: Testing\n"
          ]
        },
        {
          "output_type": "stream",
          "name": "stderr",
          "text": [
            "100%|██████████| 51/51 [00:00<00:00, 53.02it/s]\n"
          ]
        },
        {
          "output_type": "stream",
          "name": "stdout",
          "text": [
            "Loss: 0.08101766826767548 , IOU: 0.8876912348410662\n",
            "--------------------------------------------------------\n",
            "--------------------------------------------------------\n",
            "--------------------------------------------------------\n",
            "--------------------------------------------------------\n",
            "Epoch 18/20: Training\n"
          ]
        },
        {
          "output_type": "stream",
          "name": "stderr",
          "text": [
            "100%|██████████| 900/900 [00:52<00:00, 17.25it/s]\n"
          ]
        },
        {
          "output_type": "stream",
          "name": "stdout",
          "text": [
            "Loss: 0.04872072445125213 , IOU: 0.9338291305303565\n",
            "--------------------------------------------------------\n",
            "Epoch 18/20: Testing\n"
          ]
        },
        {
          "output_type": "stream",
          "name": "stderr",
          "text": [
            "100%|██████████| 51/51 [00:01<00:00, 41.16it/s]\n"
          ]
        },
        {
          "output_type": "stream",
          "name": "stdout",
          "text": [
            "Loss: 0.08659494295716287 , IOU: 0.8805333364243597\n",
            "--------------------------------------------------------\n",
            "--------------------------------------------------------\n",
            "--------------------------------------------------------\n",
            "--------------------------------------------------------\n",
            "Epoch 19/20: Training\n"
          ]
        },
        {
          "output_type": "stream",
          "name": "stderr",
          "text": [
            "100%|██████████| 900/900 [00:52<00:00, 17.09it/s]\n"
          ]
        },
        {
          "output_type": "stream",
          "name": "stdout",
          "text": [
            "Loss: 0.050968249926550566 , IOU: 0.9304429896010294\n",
            "--------------------------------------------------------\n",
            "Epoch 19/20: Testing\n"
          ]
        },
        {
          "output_type": "stream",
          "name": "stderr",
          "text": [
            "100%|██████████| 51/51 [00:01<00:00, 43.68it/s]\n"
          ]
        },
        {
          "output_type": "stream",
          "name": "stdout",
          "text": [
            "Loss: 0.2801466489247248 , IOU: 0.7124212769901052\n",
            "--------------------------------------------------------\n",
            "--------------------------------------------------------\n",
            "--------------------------------------------------------\n",
            "--------------------------------------------------------\n",
            "Epoch 20/20: Training\n"
          ]
        },
        {
          "output_type": "stream",
          "name": "stderr",
          "text": [
            "100%|██████████| 900/900 [00:52<00:00, 17.28it/s]\n"
          ]
        },
        {
          "output_type": "stream",
          "name": "stdout",
          "text": [
            "Loss: 0.05629231195069018 , IOU: 0.9238927707929787\n",
            "--------------------------------------------------------\n",
            "Epoch 20/20: Testing\n"
          ]
        },
        {
          "output_type": "stream",
          "name": "stderr",
          "text": [
            "100%|██████████| 51/51 [00:01<00:00, 50.73it/s]"
          ]
        },
        {
          "output_type": "stream",
          "name": "stdout",
          "text": [
            "Loss: 0.10387902414681864 , IOU: 0.8625348227865555\n",
            "--------------------------------------------------------\n",
            "--------------------------------------------------------\n",
            "Best IoU:  0.9049788993947646\n"
          ]
        },
        {
          "output_type": "stream",
          "name": "stderr",
          "text": [
            "\n"
          ]
        }
      ]
    },
    {
      "cell_type": "markdown",
      "source": [
        "##Train MAN"
      ],
      "metadata": {
        "id": "FhtV0rfacBjm"
      }
    },
    {
      "cell_type": "code",
      "source": [
        "LEARNING_RATE = 1e-4\n",
        "NUM_EPOCHS = 20\n",
        "BATCH_SIZE = 1\n",
        "model_path = '/content/drive/MyDrive/PPT/Foreground/Transfer/AC/Models/man_noise.pth'\n",
        "root_path = '/content/drive/MyDrive/PPT/Foreground/Transfer/AC/Real ACDC/data_2d'\n",
        "\n",
        "train_dataset = Segmentation_Dataset(root_path, split=\"train\", noise=\"train\")\n",
        "test_dataset = Segmentation_Dataset(root_path, split=\"test\")\n",
        "\n",
        "train_loader = DataLoader(train_dataset, batch_size = 1, shuffle=True)\n",
        "test_loader = DataLoader(test_dataset, batch_size = 1, shuffle=False)\n",
        "\n",
        "if torch.cuda.is_available: device = torch.device(\"cuda\")\n",
        "else: device = torch.device(\"cpu\")\n",
        "\n",
        "\n",
        "model = get_model(model_dict[\"man\"][\"model\"])\n",
        "frame = MyFrame(model, LEARNING_RATE, device)\n",
        "#frame.load(model_path)\n",
        "\n",
        "best_iou = 0.\n",
        "\n",
        "for epoch in range(1, NUM_EPOCHS+1):\n",
        "    print(\"--------------------------------------------------------\")\n",
        "    print(\"--------------------------------------------------------\")\n",
        "    print(\"Epoch \"+str(epoch)+\"/\"+str(NUM_EPOCHS)+\": Training\")\n",
        "    tr_dict = frame.run_epoch(train_loader)\n",
        "    print(\"Loss:\", tr_dict[\"loss\"], \", IOU:\", tr_dict[\"iou\"])\n",
        "    print(\"--------------------------------------------------------\")\n",
        "    print(\"Epoch \"+str(epoch)+\"/\"+str(NUM_EPOCHS)+\": Testing\")\n",
        "    te_dict = frame.run_epoch(test_loader, train=False)\n",
        "    print(\"Loss:\", te_dict[\"loss\"], \", IOU:\", te_dict[\"iou\"])\n",
        "    print(\"--------------------------------------------------------\")\n",
        "    print(\"--------------------------------------------------------\")\n",
        "    \n",
        "    if te_dict[\"iou\"] > best_iou: \n",
        "      frame.save(model_path)\n",
        "      best_iou = te_dict[\"iou\"]\n",
        "\n",
        "print('Best IoU: ', best_iou) "
      ],
      "metadata": {
        "colab": {
          "base_uri": "https://localhost:8080/"
        },
        "id": "JKw7N_XzbhU3",
        "outputId": "8ac7e62b-aace-46aa-e80b-e2813d9765fb"
      },
      "execution_count": null,
      "outputs": [
        {
          "output_type": "stream",
          "name": "stdout",
          "text": [
            "num img = 900\n",
            "num map = 900\n",
            "num img = 51\n",
            "num map = 51\n",
            "--------------------------------------------------------\n",
            "--------------------------------------------------------\n",
            "Epoch 1/20: Training\n"
          ]
        },
        {
          "output_type": "stream",
          "name": "stderr",
          "text": [
            "\r  0%|          | 0/900 [00:00<?, ?it/s]<ipython-input-4-0a8257117a2c>:20: FutureWarning: Using a non-tuple sequence for multidimensional indexing is deprecated; use `arr[tuple(seq)]` instead of `arr[seq]`. In the future this will be interpreted as an array index, `arr[np.array(seq)]`, which will result either in an error or a different result.\n",
            "  out[coords] = 1\n",
            "<ipython-input-4-0a8257117a2c>:26: FutureWarning: Using a non-tuple sequence for multidimensional indexing is deprecated; use `arr[tuple(seq)]` instead of `arr[seq]`. In the future this will be interpreted as an array index, `arr[np.array(seq)]`, which will result either in an error or a different result.\n",
            "  out[coords] = 0\n",
            "100%|██████████| 900/900 [01:06<00:00, 13.61it/s]\n"
          ]
        },
        {
          "output_type": "stream",
          "name": "stdout",
          "text": [
            "Loss: 0.39227505204992225 , IOU: 0.7088197315781799\n",
            "--------------------------------------------------------\n",
            "Epoch 1/20: Testing\n"
          ]
        },
        {
          "output_type": "stream",
          "name": "stderr",
          "text": [
            "100%|██████████| 51/51 [00:01<00:00, 44.16it/s]\n"
          ]
        },
        {
          "output_type": "stream",
          "name": "stdout",
          "text": [
            "Loss: 0.17263313068770894 , IOU: 0.808018915647385\n",
            "--------------------------------------------------------\n",
            "--------------------------------------------------------\n",
            "--------------------------------------------------------\n",
            "--------------------------------------------------------\n",
            "Epoch 2/20: Training\n"
          ]
        },
        {
          "output_type": "stream",
          "name": "stderr",
          "text": [
            "100%|██████████| 900/900 [01:06<00:00, 13.44it/s]\n"
          ]
        },
        {
          "output_type": "stream",
          "name": "stdout",
          "text": [
            "Loss: 0.11795624823826874 , IOU: 0.8590318642846415\n",
            "--------------------------------------------------------\n",
            "Epoch 2/20: Testing\n"
          ]
        },
        {
          "output_type": "stream",
          "name": "stderr",
          "text": [
            "100%|██████████| 51/51 [00:01<00:00, 44.35it/s]\n"
          ]
        },
        {
          "output_type": "stream",
          "name": "stdout",
          "text": [
            "Loss: 0.16381020493367135 , IOU: 0.7820243696663893\n",
            "--------------------------------------------------------\n",
            "--------------------------------------------------------\n",
            "--------------------------------------------------------\n",
            "--------------------------------------------------------\n",
            "Epoch 3/20: Training\n"
          ]
        },
        {
          "output_type": "stream",
          "name": "stderr",
          "text": [
            "100%|██████████| 900/900 [01:08<00:00, 13.15it/s]\n"
          ]
        },
        {
          "output_type": "stream",
          "name": "stdout",
          "text": [
            "Loss: 0.09284908453209541 , IOU: 0.8786739944914974\n",
            "--------------------------------------------------------\n",
            "Epoch 3/20: Testing\n"
          ]
        },
        {
          "output_type": "stream",
          "name": "stderr",
          "text": [
            "100%|██████████| 51/51 [00:01<00:00, 44.59it/s]\n"
          ]
        },
        {
          "output_type": "stream",
          "name": "stdout",
          "text": [
            "Loss: 0.1181433634722934 , IOU: 0.8366887250951693\n",
            "--------------------------------------------------------\n",
            "--------------------------------------------------------\n",
            "--------------------------------------------------------\n",
            "--------------------------------------------------------\n",
            "Epoch 4/20: Training\n"
          ]
        },
        {
          "output_type": "stream",
          "name": "stderr",
          "text": [
            "100%|██████████| 900/900 [01:06<00:00, 13.60it/s]\n"
          ]
        },
        {
          "output_type": "stream",
          "name": "stdout",
          "text": [
            "Loss: 0.08289083006895243 , IOU: 0.8883428960355617\n",
            "--------------------------------------------------------\n",
            "Epoch 4/20: Testing\n"
          ]
        },
        {
          "output_type": "stream",
          "name": "stderr",
          "text": [
            "100%|██████████| 51/51 [00:01<00:00, 42.75it/s]\n"
          ]
        },
        {
          "output_type": "stream",
          "name": "stdout",
          "text": [
            "Loss: 0.08285139384222964 , IOU: 0.8835773584889428\n",
            "--------------------------------------------------------\n",
            "--------------------------------------------------------\n",
            "--------------------------------------------------------\n",
            "--------------------------------------------------------\n",
            "Epoch 5/20: Training\n"
          ]
        },
        {
          "output_type": "stream",
          "name": "stderr",
          "text": [
            "100%|██████████| 900/900 [01:06<00:00, 13.64it/s]\n"
          ]
        },
        {
          "output_type": "stream",
          "name": "stdout",
          "text": [
            "Loss: 0.0778651944278843 , IOU: 0.894835364172856\n",
            "--------------------------------------------------------\n",
            "Epoch 5/20: Testing\n"
          ]
        },
        {
          "output_type": "stream",
          "name": "stderr",
          "text": [
            "100%|██████████| 51/51 [00:01<00:00, 44.61it/s]\n"
          ]
        },
        {
          "output_type": "stream",
          "name": "stdout",
          "text": [
            "Loss: 0.09936653888400865 , IOU: 0.8660491950371687\n",
            "--------------------------------------------------------\n",
            "--------------------------------------------------------\n",
            "--------------------------------------------------------\n",
            "--------------------------------------------------------\n",
            "Epoch 6/20: Training\n"
          ]
        },
        {
          "output_type": "stream",
          "name": "stderr",
          "text": [
            "100%|██████████| 900/900 [01:05<00:00, 13.76it/s]\n"
          ]
        },
        {
          "output_type": "stream",
          "name": "stdout",
          "text": [
            "Loss: 0.08133148235786283 , IOU: 0.8901650683892279\n",
            "--------------------------------------------------------\n",
            "Epoch 6/20: Testing\n"
          ]
        },
        {
          "output_type": "stream",
          "name": "stderr",
          "text": [
            "100%|██████████| 51/51 [00:01<00:00, 43.15it/s]\n"
          ]
        },
        {
          "output_type": "stream",
          "name": "stdout",
          "text": [
            "Loss: 0.08308035631974538 , IOU: 0.8848411838213601\n",
            "--------------------------------------------------------\n",
            "--------------------------------------------------------\n",
            "--------------------------------------------------------\n",
            "--------------------------------------------------------\n",
            "Epoch 7/20: Training\n"
          ]
        },
        {
          "output_type": "stream",
          "name": "stderr",
          "text": [
            "100%|██████████| 900/900 [01:05<00:00, 13.79it/s]\n"
          ]
        },
        {
          "output_type": "stream",
          "name": "stdout",
          "text": [
            "Loss: 0.07451419159976963 , IOU: 0.8986734213266119\n",
            "--------------------------------------------------------\n",
            "Epoch 7/20: Testing\n"
          ]
        },
        {
          "output_type": "stream",
          "name": "stderr",
          "text": [
            "100%|██████████| 51/51 [00:01<00:00, 34.67it/s]\n"
          ]
        },
        {
          "output_type": "stream",
          "name": "stdout",
          "text": [
            "Loss: 0.08058622523265725 , IOU: 0.889241960703158\n",
            "--------------------------------------------------------\n",
            "--------------------------------------------------------\n",
            "--------------------------------------------------------\n",
            "--------------------------------------------------------\n",
            "Epoch 8/20: Training\n"
          ]
        },
        {
          "output_type": "stream",
          "name": "stderr",
          "text": [
            "100%|██████████| 900/900 [01:04<00:00, 13.86it/s]\n"
          ]
        },
        {
          "output_type": "stream",
          "name": "stdout",
          "text": [
            "Loss: 0.06630802077551687 , IOU: 0.908000061743789\n",
            "--------------------------------------------------------\n",
            "Epoch 8/20: Testing\n"
          ]
        },
        {
          "output_type": "stream",
          "name": "stderr",
          "text": [
            "100%|██████████| 51/51 [00:01<00:00, 40.47it/s]\n"
          ]
        },
        {
          "output_type": "stream",
          "name": "stdout",
          "text": [
            "Loss: 0.08158060316653812 , IOU: 0.88684369652879\n",
            "--------------------------------------------------------\n",
            "--------------------------------------------------------\n",
            "--------------------------------------------------------\n",
            "--------------------------------------------------------\n",
            "Epoch 9/20: Training\n"
          ]
        },
        {
          "output_type": "stream",
          "name": "stderr",
          "text": [
            "100%|██████████| 900/900 [01:06<00:00, 13.63it/s]\n"
          ]
        },
        {
          "output_type": "stream",
          "name": "stdout",
          "text": [
            "Loss: 0.06546580869290568 , IOU: 0.9097305538422532\n",
            "--------------------------------------------------------\n",
            "Epoch 9/20: Testing\n"
          ]
        },
        {
          "output_type": "stream",
          "name": "stderr",
          "text": [
            "100%|██████████| 51/51 [00:01<00:00, 42.77it/s]\n"
          ]
        },
        {
          "output_type": "stream",
          "name": "stdout",
          "text": [
            "Loss: 0.08034655327598254 , IOU: 0.8890094312967038\n",
            "--------------------------------------------------------\n",
            "--------------------------------------------------------\n",
            "--------------------------------------------------------\n",
            "--------------------------------------------------------\n",
            "Epoch 10/20: Training\n"
          ]
        },
        {
          "output_type": "stream",
          "name": "stderr",
          "text": [
            "100%|██████████| 900/900 [01:05<00:00, 13.75it/s]\n"
          ]
        },
        {
          "output_type": "stream",
          "name": "stdout",
          "text": [
            "Loss: 0.06221740739627016 , IOU: 0.9140633186697954\n",
            "--------------------------------------------------------\n",
            "Epoch 10/20: Testing\n"
          ]
        },
        {
          "output_type": "stream",
          "name": "stderr",
          "text": [
            "100%|██████████| 51/51 [00:01<00:00, 44.34it/s]\n"
          ]
        },
        {
          "output_type": "stream",
          "name": "stdout",
          "text": [
            "Loss: 0.08667485156626092 , IOU: 0.8803844606759502\n",
            "--------------------------------------------------------\n",
            "--------------------------------------------------------\n",
            "--------------------------------------------------------\n",
            "--------------------------------------------------------\n",
            "Epoch 11/20: Training\n"
          ]
        },
        {
          "output_type": "stream",
          "name": "stderr",
          "text": [
            "100%|██████████| 900/900 [01:05<00:00, 13.73it/s]\n"
          ]
        },
        {
          "output_type": "stream",
          "name": "stdout",
          "text": [
            "Loss: 0.06552055437117804 , IOU: 0.9103464910222436\n",
            "--------------------------------------------------------\n",
            "Epoch 11/20: Testing\n"
          ]
        },
        {
          "output_type": "stream",
          "name": "stderr",
          "text": [
            "100%|██████████| 51/51 [00:01<00:00, 44.03it/s]\n"
          ]
        },
        {
          "output_type": "stream",
          "name": "stdout",
          "text": [
            "Loss: 0.11229936077314268 , IOU: 0.8469966055514914\n",
            "--------------------------------------------------------\n",
            "--------------------------------------------------------\n",
            "--------------------------------------------------------\n",
            "--------------------------------------------------------\n",
            "Epoch 12/20: Training\n"
          ]
        },
        {
          "output_type": "stream",
          "name": "stderr",
          "text": [
            "100%|██████████| 900/900 [01:05<00:00, 13.82it/s]\n"
          ]
        },
        {
          "output_type": "stream",
          "name": "stdout",
          "text": [
            "Loss: 0.0726632793703012 , IOU: 0.901137116560713\n",
            "--------------------------------------------------------\n",
            "Epoch 12/20: Testing\n"
          ]
        },
        {
          "output_type": "stream",
          "name": "stderr",
          "text": [
            "100%|██████████| 51/51 [00:01<00:00, 33.58it/s]\n"
          ]
        },
        {
          "output_type": "stream",
          "name": "stdout",
          "text": [
            "Loss: 0.10449264158366943 , IOU: 0.8608546012135989\n",
            "--------------------------------------------------------\n",
            "--------------------------------------------------------\n",
            "--------------------------------------------------------\n",
            "--------------------------------------------------------\n",
            "Epoch 13/20: Training\n"
          ]
        },
        {
          "output_type": "stream",
          "name": "stderr",
          "text": [
            "100%|██████████| 900/900 [01:04<00:00, 14.01it/s]\n"
          ]
        },
        {
          "output_type": "stream",
          "name": "stdout",
          "text": [
            "Loss: 0.06397080281749364 , IOU: 0.9117319194496505\n",
            "--------------------------------------------------------\n",
            "Epoch 13/20: Testing\n"
          ]
        },
        {
          "output_type": "stream",
          "name": "stderr",
          "text": [
            "100%|██████████| 51/51 [00:01<00:00, 42.98it/s]\n"
          ]
        },
        {
          "output_type": "stream",
          "name": "stdout",
          "text": [
            "Loss: 0.11861624944882065 , IOU: 0.8433639888158617\n",
            "--------------------------------------------------------\n",
            "--------------------------------------------------------\n",
            "--------------------------------------------------------\n",
            "--------------------------------------------------------\n",
            "Epoch 14/20: Training\n"
          ]
        },
        {
          "output_type": "stream",
          "name": "stderr",
          "text": [
            "100%|██████████| 900/900 [01:05<00:00, 13.78it/s]\n"
          ]
        },
        {
          "output_type": "stream",
          "name": "stdout",
          "text": [
            "Loss: 0.058980842238912916 , IOU: 0.9186023181511306\n",
            "--------------------------------------------------------\n",
            "Epoch 14/20: Testing\n"
          ]
        },
        {
          "output_type": "stream",
          "name": "stderr",
          "text": [
            "100%|██████████| 51/51 [00:01<00:00, 41.57it/s]\n"
          ]
        },
        {
          "output_type": "stream",
          "name": "stdout",
          "text": [
            "Loss: 0.08243014447975391 , IOU: 0.883883397368824\n",
            "--------------------------------------------------------\n",
            "--------------------------------------------------------\n",
            "--------------------------------------------------------\n",
            "--------------------------------------------------------\n",
            "Epoch 15/20: Training\n"
          ]
        },
        {
          "output_type": "stream",
          "name": "stderr",
          "text": [
            "100%|██████████| 900/900 [01:06<00:00, 13.63it/s]\n"
          ]
        },
        {
          "output_type": "stream",
          "name": "stdout",
          "text": [
            "Loss: 0.05675478098500105 , IOU: 0.9214168167445402\n",
            "--------------------------------------------------------\n",
            "Epoch 15/20: Testing\n"
          ]
        },
        {
          "output_type": "stream",
          "name": "stderr",
          "text": [
            "100%|██████████| 51/51 [00:01<00:00, 42.40it/s]\n"
          ]
        },
        {
          "output_type": "stream",
          "name": "stdout",
          "text": [
            "Loss: 0.0921075219178901 , IOU: 0.8722247666880197\n",
            "--------------------------------------------------------\n",
            "--------------------------------------------------------\n",
            "--------------------------------------------------------\n",
            "--------------------------------------------------------\n",
            "Epoch 16/20: Training\n"
          ]
        },
        {
          "output_type": "stream",
          "name": "stderr",
          "text": [
            "100%|██████████| 900/900 [01:05<00:00, 13.82it/s]\n"
          ]
        },
        {
          "output_type": "stream",
          "name": "stdout",
          "text": [
            "Loss: 0.055917264757057106 , IOU: 0.9221568883127649\n",
            "--------------------------------------------------------\n",
            "Epoch 16/20: Testing\n"
          ]
        },
        {
          "output_type": "stream",
          "name": "stderr",
          "text": [
            "100%|██████████| 51/51 [00:01<00:00, 44.32it/s]\n"
          ]
        },
        {
          "output_type": "stream",
          "name": "stdout",
          "text": [
            "Loss: 0.10110582871472133 , IOU: 0.866464367245927\n",
            "--------------------------------------------------------\n",
            "--------------------------------------------------------\n",
            "--------------------------------------------------------\n",
            "--------------------------------------------------------\n",
            "Epoch 17/20: Training\n"
          ]
        },
        {
          "output_type": "stream",
          "name": "stderr",
          "text": [
            "100%|██████████| 900/900 [01:04<00:00, 13.87it/s]\n"
          ]
        },
        {
          "output_type": "stream",
          "name": "stdout",
          "text": [
            "Loss: 0.061924504201031384 , IOU: 0.91404652040038\n",
            "--------------------------------------------------------\n",
            "Epoch 17/20: Testing\n"
          ]
        },
        {
          "output_type": "stream",
          "name": "stderr",
          "text": [
            "100%|██████████| 51/51 [00:01<00:00, 35.65it/s]\n"
          ]
        },
        {
          "output_type": "stream",
          "name": "stdout",
          "text": [
            "Loss: 0.08701028744233588 , IOU: 0.878802052899903\n",
            "--------------------------------------------------------\n",
            "--------------------------------------------------------\n",
            "--------------------------------------------------------\n",
            "--------------------------------------------------------\n",
            "Epoch 18/20: Training\n"
          ]
        },
        {
          "output_type": "stream",
          "name": "stderr",
          "text": [
            "100%|██████████| 900/900 [01:04<00:00, 13.90it/s]\n"
          ]
        },
        {
          "output_type": "stream",
          "name": "stdout",
          "text": [
            "Loss: 0.059030777994129396 , IOU: 0.9187058978362238\n",
            "--------------------------------------------------------\n",
            "Epoch 18/20: Testing\n"
          ]
        },
        {
          "output_type": "stream",
          "name": "stderr",
          "text": [
            "100%|██████████| 51/51 [00:01<00:00, 43.01it/s]\n"
          ]
        },
        {
          "output_type": "stream",
          "name": "stdout",
          "text": [
            "Loss: 0.09868501349553173 , IOU: 0.8673812305810402\n",
            "--------------------------------------------------------\n",
            "--------------------------------------------------------\n",
            "--------------------------------------------------------\n",
            "--------------------------------------------------------\n",
            "Epoch 19/20: Training\n"
          ]
        },
        {
          "output_type": "stream",
          "name": "stderr",
          "text": [
            "100%|██████████| 900/900 [01:05<00:00, 13.78it/s]\n"
          ]
        },
        {
          "output_type": "stream",
          "name": "stdout",
          "text": [
            "Loss: 0.053296309397038534 , IOU: 0.9256891799635364\n",
            "--------------------------------------------------------\n",
            "Epoch 19/20: Testing\n"
          ]
        },
        {
          "output_type": "stream",
          "name": "stderr",
          "text": [
            "100%|██████████| 51/51 [00:01<00:00, 43.21it/s]\n"
          ]
        },
        {
          "output_type": "stream",
          "name": "stdout",
          "text": [
            "Loss: 0.09731161141512439 , IOU: 0.8653315077809727\n",
            "--------------------------------------------------------\n",
            "--------------------------------------------------------\n",
            "--------------------------------------------------------\n",
            "--------------------------------------------------------\n",
            "Epoch 20/20: Training\n"
          ]
        },
        {
          "output_type": "stream",
          "name": "stderr",
          "text": [
            "100%|██████████| 900/900 [01:05<00:00, 13.69it/s]\n"
          ]
        },
        {
          "output_type": "stream",
          "name": "stdout",
          "text": [
            "Loss: 0.05213344583805236 , IOU: 0.927588406205176\n",
            "--------------------------------------------------------\n",
            "Epoch 20/20: Testing\n"
          ]
        },
        {
          "output_type": "stream",
          "name": "stderr",
          "text": [
            "100%|██████████| 51/51 [00:01<00:00, 43.16it/s]"
          ]
        },
        {
          "output_type": "stream",
          "name": "stdout",
          "text": [
            "Loss: 0.08679811024636613 , IOU: 0.8821784336777296\n",
            "--------------------------------------------------------\n",
            "--------------------------------------------------------\n",
            "Best IoU:  0.889241960703158\n"
          ]
        },
        {
          "output_type": "stream",
          "name": "stderr",
          "text": [
            "\n"
          ]
        }
      ]
    },
    {
      "cell_type": "markdown",
      "source": [
        "#Noise Tests"
      ],
      "metadata": {
        "id": "TEOSu4fYUFdC"
      }
    },
    {
      "cell_type": "code",
      "source": [
        "model_dict = {\n",
        "    \"unet\": {\"model\": smp.Unet, \"weights\": \"/content/drive/MyDrive/PPT/Foreground/Transfer/AC/Models/unet.pth\", \"noise\": \"/content/drive/MyDrive/PPT/Foreground/Transfer/AC/Models/unet_noise.pth\"},\n",
        "    \"upp\": {\"model\": smp.UnetPlusPlus, \"weights\": \"/content/drive/MyDrive/PPT/Foreground/Transfer/AC/Models/upp.pth\", \"noise\": \"/content/drive/MyDrive/PPT/Foreground/Transfer/AC/Models/upp_noise.pth\"},\n",
        "    \"fpn\": {\"model\": smp.FPN, \"weights\": \"/content/drive/MyDrive/PPT/Foreground/Transfer/AC/Models/fpn.pth\", \"noise\": \"/content/drive/MyDrive/PPT/Foreground/Transfer/AC/Models/fpn_noise.pth\"},\n",
        "    \"psp\": {\"model\": smp.PSPNet, \"weights\": \"/content/drive/MyDrive/PPT/Foreground/Transfer/AC/Models/psp.pth\", \"noise\": \"/content/drive/MyDrive/PPT/Foreground/Transfer/AC/Models/psp_noise.pth\"},\n",
        "    \"man\": {\"model\": smp.MAnet, \"weights\": \"/content/drive/MyDrive/PPT/Foreground/Transfer/AC/Models/man.pth\", \"noise\": \"/content/drive/MyDrive/PPT/Foreground/Transfer/AC/Models/man_noise.pth\"},\n",
        "    \"link\": {\"model\": smp.Linknet, \"weights\": \"/content/drive/MyDrive/PPT/Foreground/Transfer/AC/Models/link.pth\", \"noise\": \"/content/drive/MyDrive/PPT/Foreground/Transfer/AC/Models/link_noise.pth\"}\n",
        "}\n",
        "\n",
        "if torch.cuda.is_available: device = torch.device(\"cuda\")\n",
        "else: device = torch.device(\"cpu\")\n",
        "\n",
        "def get_model(MODEL):\n",
        "    model = MODEL(\n",
        "        encoder_name=\"resnet34\",        \n",
        "        encoder_weights=\"imagenet\",     \n",
        "        activation='sigmoid',\n",
        "        in_channels=1,                  \n",
        "        classes=1,                      \n",
        "    )\n",
        "    return model"
      ],
      "metadata": {
        "id": "FOcXjcQBp8jW"
      },
      "execution_count": null,
      "outputs": []
    },
    {
      "cell_type": "markdown",
      "source": [
        "##Normie"
      ],
      "metadata": {
        "id": "G-aeOMPy-YU1"
      }
    },
    {
      "cell_type": "code",
      "source": [
        "root_path = '/content/drive/MyDrive/PPT/Foreground/Transfer/AC/Real ACDC/data_2d'\n",
        "\n",
        "noises = [\"gauss\", \"s&p\", \"speckle\", \"poisson\"]\n",
        "levels = [0, 1, 2]\n",
        "\n",
        "#test_dataset = Segmentation_Dataset(root_path, split=\"test\")\n",
        "#test_loader = DataLoader(test_dataset, batch_size = 1, shuffle=False)\n",
        "\n",
        "for run in list(model_dict.keys()):\n",
        "    model = get_model(model_dict[run][\"model\"])\n",
        "    for noise in noises:\n",
        "        if noise in [\"gauss\", \"s&p\"]:\n",
        "            for level in levels:\n",
        "                print(\"===============>\", run, noise, level)\n",
        "                test_dataset = Segmentation_Dataset(root_path, split=\"test\", noise=noise, level=level)\n",
        "                test_loader = DataLoader(test_dataset, batch_size = 1, shuffle=False)\n",
        "                frame = MyFrame(model, 1, device, evalmode=True)\n",
        "                frame.load(model_dict[run][\"weights\"])\n",
        "                te_dict = frame.run_epoch(test_loader, train=False)\n",
        "                print(\"Loss:\", te_dict[\"loss\"], \", IOU:\", te_dict[\"iou\"])\n",
        "        else:\n",
        "            print(\"===============>\", run, noise)\n",
        "            test_dataset = Segmentation_Dataset(root_path, split=\"test\", noise=noise)\n",
        "            test_loader = DataLoader(test_dataset, batch_size = 1, shuffle=False)\n",
        "            frame = MyFrame(model, 1, device, evalmode=True)\n",
        "            frame.load(model_dict[run][\"weights\"])\n",
        "            te_dict = frame.run_epoch(test_loader, train=False)\n",
        "            print(\"Loss:\", te_dict[\"loss\"], \", IOU:\", te_dict[\"iou\"])"
      ],
      "metadata": {
        "id": "X1Y-wKVWUERZ",
        "colab": {
          "base_uri": "https://localhost:8080/"
        },
        "outputId": "f2f95d1a-af19-4350-e4a0-4413393a86cd"
      },
      "execution_count": null,
      "outputs": [
        {
          "output_type": "stream",
          "name": "stdout",
          "text": [
            "===============> unet gauss 0\n",
            "num img = 51\n",
            "num map = 51\n"
          ]
        },
        {
          "output_type": "stream",
          "name": "stderr",
          "text": [
            "100%|██████████| 51/51 [00:24<00:00,  2.12it/s]\n"
          ]
        },
        {
          "output_type": "stream",
          "name": "stdout",
          "text": [
            "Loss: 0.07744779229602392 , IOU: 0.8934098295136994\n",
            "===============> unet gauss 1\n",
            "num img = 51\n",
            "num map = 51\n"
          ]
        },
        {
          "output_type": "stream",
          "name": "stderr",
          "text": [
            "100%|██████████| 51/51 [00:01<00:00, 38.94it/s]\n"
          ]
        },
        {
          "output_type": "stream",
          "name": "stdout",
          "text": [
            "Loss: 0.0774178995805628 , IOU: 0.8936118308235617\n",
            "===============> unet gauss 2\n",
            "num img = 51\n",
            "num map = 51\n"
          ]
        },
        {
          "output_type": "stream",
          "name": "stderr",
          "text": [
            "100%|██████████| 51/51 [00:01<00:00, 39.89it/s]\n"
          ]
        },
        {
          "output_type": "stream",
          "name": "stdout",
          "text": [
            "Loss: 0.07821336688072072 , IOU: 0.8921448646807204\n",
            "===============> unet s&p 0\n",
            "num img = 51\n",
            "num map = 51\n"
          ]
        },
        {
          "output_type": "stream",
          "name": "stderr",
          "text": [
            "  0%|          | 0/51 [00:00<?, ?it/s]<ipython-input-14-54e8f8fb8800>:20: FutureWarning: Using a non-tuple sequence for multidimensional indexing is deprecated; use `arr[tuple(seq)]` instead of `arr[seq]`. In the future this will be interpreted as an array index, `arr[np.array(seq)]`, which will result either in an error or a different result.\n",
            "  out[coords] = 1\n",
            "<ipython-input-14-54e8f8fb8800>:26: FutureWarning: Using a non-tuple sequence for multidimensional indexing is deprecated; use `arr[tuple(seq)]` instead of `arr[seq]`. In the future this will be interpreted as an array index, `arr[np.array(seq)]`, which will result either in an error or a different result.\n",
            "  out[coords] = 0\n",
            "100%|██████████| 51/51 [00:01<00:00, 48.51it/s]\n"
          ]
        },
        {
          "output_type": "stream",
          "name": "stdout",
          "text": [
            "Loss: 0.3161545224195602 , IOU: 0.6194021749748466\n",
            "===============> unet s&p 1\n",
            "num img = 51\n",
            "num map = 51\n"
          ]
        },
        {
          "output_type": "stream",
          "name": "stderr",
          "text": [
            "100%|██████████| 51/51 [00:01<00:00, 41.82it/s]\n"
          ]
        },
        {
          "output_type": "stream",
          "name": "stdout",
          "text": [
            "Loss: 0.2679869917897033 , IOU: 0.6823771670985711\n",
            "===============> unet s&p 2\n",
            "num img = 51\n",
            "num map = 51\n"
          ]
        },
        {
          "output_type": "stream",
          "name": "stderr",
          "text": [
            "100%|██████████| 51/51 [00:01<00:00, 41.61it/s]\n"
          ]
        },
        {
          "output_type": "stream",
          "name": "stdout",
          "text": [
            "Loss: 0.29456596774067356 , IOU: 0.6564807037014843\n",
            "===============> unet speckle\n",
            "num img = 51\n",
            "num map = 51\n"
          ]
        },
        {
          "output_type": "stream",
          "name": "stderr",
          "text": [
            "100%|██████████| 51/51 [00:01<00:00, 39.86it/s]\n"
          ]
        },
        {
          "output_type": "stream",
          "name": "stdout",
          "text": [
            "Loss: 0.9244835832539731 , IOU: 0.00037120189974267103\n",
            "===============> unet poisson\n",
            "num img = 51\n",
            "num map = 51\n"
          ]
        },
        {
          "output_type": "stream",
          "name": "stderr",
          "text": [
            "100%|██████████| 51/51 [00:01<00:00, 28.43it/s]\n"
          ]
        },
        {
          "output_type": "stream",
          "name": "stdout",
          "text": [
            "Loss: 0.07727984086993864 , IOU: 0.8940366004027572\n",
            "===============> upp gauss 0\n",
            "num img = 51\n",
            "num map = 51\n"
          ]
        },
        {
          "output_type": "stream",
          "name": "stderr",
          "text": [
            "100%|██████████| 51/51 [00:01<00:00, 31.33it/s]\n"
          ]
        },
        {
          "output_type": "stream",
          "name": "stdout",
          "text": [
            "Loss: 0.07036433452922926 , IOU: 0.9034140647626392\n",
            "===============> upp gauss 1\n",
            "num img = 51\n",
            "num map = 51\n"
          ]
        },
        {
          "output_type": "stream",
          "name": "stderr",
          "text": [
            "100%|██████████| 51/51 [00:01<00:00, 28.38it/s]\n"
          ]
        },
        {
          "output_type": "stream",
          "name": "stdout",
          "text": [
            "Loss: 0.069675611259014 , IOU: 0.9043318863008537\n",
            "===============> upp gauss 2\n",
            "num img = 51\n",
            "num map = 51\n"
          ]
        },
        {
          "output_type": "stream",
          "name": "stderr",
          "text": [
            "100%|██████████| 51/51 [00:01<00:00, 30.64it/s]\n"
          ]
        },
        {
          "output_type": "stream",
          "name": "stdout",
          "text": [
            "Loss: 0.06984601166172354 , IOU: 0.9033592588761271\n",
            "===============> upp s&p 0\n",
            "num img = 51\n",
            "num map = 51\n"
          ]
        },
        {
          "output_type": "stream",
          "name": "stderr",
          "text": [
            "100%|██████████| 51/51 [00:01<00:00, 43.80it/s]\n"
          ]
        },
        {
          "output_type": "stream",
          "name": "stdout",
          "text": [
            "Loss: 0.1294890254297677 , IOU: 0.8330414398098548\n",
            "===============> upp s&p 1\n",
            "num img = 51\n",
            "num map = 51\n"
          ]
        },
        {
          "output_type": "stream",
          "name": "stderr",
          "text": [
            "100%|██████████| 51/51 [00:01<00:00, 45.16it/s]\n"
          ]
        },
        {
          "output_type": "stream",
          "name": "stdout",
          "text": [
            "Loss: 0.13009929587589755 , IOU: 0.8257344755179744\n",
            "===============> upp s&p 2\n",
            "num img = 51\n",
            "num map = 51\n"
          ]
        },
        {
          "output_type": "stream",
          "name": "stderr",
          "text": [
            "100%|██████████| 51/51 [00:01<00:00, 43.93it/s]\n"
          ]
        },
        {
          "output_type": "stream",
          "name": "stdout",
          "text": [
            "Loss: 0.1266172449013182 , IOU: 0.8311314409525663\n",
            "===============> upp speckle\n",
            "num img = 51\n",
            "num map = 51\n"
          ]
        },
        {
          "output_type": "stream",
          "name": "stderr",
          "text": [
            "100%|██████████| 51/51 [00:01<00:00, 35.88it/s]\n"
          ]
        },
        {
          "output_type": "stream",
          "name": "stdout",
          "text": [
            "Loss: 0.8945643247342577 , IOU: 0.0\n",
            "===============> upp poisson\n",
            "num img = 51\n",
            "num map = 51\n"
          ]
        },
        {
          "output_type": "stream",
          "name": "stderr",
          "text": [
            "100%|██████████| 51/51 [00:02<00:00, 20.45it/s]\n"
          ]
        },
        {
          "output_type": "stream",
          "name": "stdout",
          "text": [
            "Loss: 0.06982854563815921 , IOU: 0.9041974579586702\n",
            "===============> fpn gauss 0\n",
            "num img = 51\n",
            "num map = 51\n"
          ]
        },
        {
          "output_type": "stream",
          "name": "stderr",
          "text": [
            "100%|██████████| 51/51 [00:01<00:00, 38.54it/s]\n"
          ]
        },
        {
          "output_type": "stream",
          "name": "stdout",
          "text": [
            "Loss: 0.07823686966416885 , IOU: 0.893415818392646\n",
            "===============> fpn gauss 1\n",
            "num img = 51\n",
            "num map = 51\n"
          ]
        },
        {
          "output_type": "stream",
          "name": "stderr",
          "text": [
            "100%|██████████| 51/51 [00:01<00:00, 39.73it/s]\n"
          ]
        },
        {
          "output_type": "stream",
          "name": "stdout",
          "text": [
            "Loss: 0.07826755509949196 , IOU: 0.8935524956414516\n",
            "===============> fpn gauss 2\n",
            "num img = 51\n",
            "num map = 51\n"
          ]
        },
        {
          "output_type": "stream",
          "name": "stderr",
          "text": [
            "100%|██████████| 51/51 [00:01<00:00, 37.99it/s]\n"
          ]
        },
        {
          "output_type": "stream",
          "name": "stdout",
          "text": [
            "Loss: 0.0784099654970216 , IOU: 0.8933935285929371\n",
            "===============> fpn s&p 0\n",
            "num img = 51\n",
            "num map = 51\n"
          ]
        },
        {
          "output_type": "stream",
          "name": "stderr",
          "text": [
            "100%|██████████| 51/51 [00:01<00:00, 49.30it/s]\n"
          ]
        },
        {
          "output_type": "stream",
          "name": "stdout",
          "text": [
            "Loss: 0.11770329200753979 , IOU: 0.8417399515416109\n",
            "===============> fpn s&p 1\n",
            "num img = 51\n",
            "num map = 51\n"
          ]
        },
        {
          "output_type": "stream",
          "name": "stderr",
          "text": [
            "100%|██████████| 51/51 [00:01<00:00, 42.86it/s]\n"
          ]
        },
        {
          "output_type": "stream",
          "name": "stdout",
          "text": [
            "Loss: 0.1032884509174847 , IOU: 0.8578341182540443\n",
            "===============> fpn s&p 2\n",
            "num img = 51\n",
            "num map = 51\n"
          ]
        },
        {
          "output_type": "stream",
          "name": "stderr",
          "text": [
            "100%|██████████| 51/51 [00:01<00:00, 41.33it/s]\n"
          ]
        },
        {
          "output_type": "stream",
          "name": "stdout",
          "text": [
            "Loss: 0.10208499102908022 , IOU: 0.8575305845223224\n",
            "===============> fpn speckle\n",
            "num img = 51\n",
            "num map = 51\n"
          ]
        },
        {
          "output_type": "stream",
          "name": "stderr",
          "text": [
            "100%|██████████| 51/51 [00:01<00:00, 41.57it/s]\n"
          ]
        },
        {
          "output_type": "stream",
          "name": "stdout",
          "text": [
            "Loss: 1.0876855873594098 , IOU: 0.0\n",
            "===============> fpn poisson\n",
            "num img = 51\n",
            "num map = 51\n"
          ]
        },
        {
          "output_type": "stream",
          "name": "stderr",
          "text": [
            "100%|██████████| 51/51 [00:01<00:00, 28.90it/s]\n"
          ]
        },
        {
          "output_type": "stream",
          "name": "stdout",
          "text": [
            "Loss: 0.07840863743103019 , IOU: 0.8934369818398766\n",
            "===============> psp gauss 0\n",
            "num img = 51\n",
            "num map = 51\n"
          ]
        },
        {
          "output_type": "stream",
          "name": "stderr",
          "text": [
            "100%|██████████| 51/51 [00:01<00:00, 50.24it/s]\n"
          ]
        },
        {
          "output_type": "stream",
          "name": "stdout",
          "text": [
            "Loss: 0.07650713856313743 , IOU: 0.8939750314343209\n",
            "===============> psp gauss 1\n",
            "num img = 51\n",
            "num map = 51\n"
          ]
        },
        {
          "output_type": "stream",
          "name": "stderr",
          "text": [
            "100%|██████████| 51/51 [00:01<00:00, 46.16it/s]\n"
          ]
        },
        {
          "output_type": "stream",
          "name": "stdout",
          "text": [
            "Loss: 0.07685790901236676 , IOU: 0.8934754968858233\n",
            "===============> psp gauss 2\n",
            "num img = 51\n",
            "num map = 51\n"
          ]
        },
        {
          "output_type": "stream",
          "name": "stderr",
          "text": [
            "100%|██████████| 51/51 [00:01<00:00, 41.57it/s]\n"
          ]
        },
        {
          "output_type": "stream",
          "name": "stdout",
          "text": [
            "Loss: 0.07643994250718285 , IOU: 0.8937786259487568\n",
            "===============> psp s&p 0\n",
            "num img = 51\n",
            "num map = 51\n"
          ]
        },
        {
          "output_type": "stream",
          "name": "stderr",
          "text": [
            "100%|██████████| 51/51 [00:00<00:00, 60.77it/s]\n"
          ]
        },
        {
          "output_type": "stream",
          "name": "stdout",
          "text": [
            "Loss: 0.12199038128350295 , IOU: 0.8402046350871815\n",
            "===============> psp s&p 1\n",
            "num img = 51\n",
            "num map = 51\n"
          ]
        },
        {
          "output_type": "stream",
          "name": "stderr",
          "text": [
            "100%|██████████| 51/51 [00:00<00:00, 69.17it/s]\n"
          ]
        },
        {
          "output_type": "stream",
          "name": "stdout",
          "text": [
            "Loss: 0.12198627857016582 , IOU: 0.840809823251238\n",
            "===============> psp s&p 2\n",
            "num img = 51\n",
            "num map = 51\n"
          ]
        },
        {
          "output_type": "stream",
          "name": "stderr",
          "text": [
            "100%|██████████| 51/51 [00:01<00:00, 48.85it/s]\n"
          ]
        },
        {
          "output_type": "stream",
          "name": "stdout",
          "text": [
            "Loss: 0.13188001119038634 , IOU: 0.8224661502914102\n",
            "===============> psp speckle\n",
            "num img = 51\n",
            "num map = 51\n"
          ]
        },
        {
          "output_type": "stream",
          "name": "stderr",
          "text": [
            "100%|██████████| 51/51 [00:00<00:00, 53.05it/s]\n"
          ]
        },
        {
          "output_type": "stream",
          "name": "stdout",
          "text": [
            "Loss: 1.0442740297784991 , IOU: 0.0\n",
            "===============> psp poisson\n",
            "num img = 51\n",
            "num map = 51\n"
          ]
        },
        {
          "output_type": "stream",
          "name": "stderr",
          "text": [
            "100%|██████████| 51/51 [00:01<00:00, 35.13it/s]\n"
          ]
        },
        {
          "output_type": "stream",
          "name": "stdout",
          "text": [
            "Loss: 0.07705225967162965 , IOU: 0.8935473022215507\n",
            "===============> man gauss 0\n",
            "num img = 51\n",
            "num map = 51\n"
          ]
        },
        {
          "output_type": "stream",
          "name": "stderr",
          "text": [
            "100%|██████████| 51/51 [00:01<00:00, 25.86it/s]\n"
          ]
        },
        {
          "output_type": "stream",
          "name": "stdout",
          "text": [
            "Loss: 0.07656168488456924 , IOU: 0.8970610744812909\n",
            "===============> man gauss 1\n",
            "num img = 51\n",
            "num map = 51\n"
          ]
        },
        {
          "output_type": "stream",
          "name": "stderr",
          "text": [
            "100%|██████████| 51/51 [00:01<00:00, 35.62it/s]\n"
          ]
        },
        {
          "output_type": "stream",
          "name": "stdout",
          "text": [
            "Loss: 0.07687344321725414 , IOU: 0.8965912671650158\n",
            "===============> man gauss 2\n",
            "num img = 51\n",
            "num map = 51\n"
          ]
        },
        {
          "output_type": "stream",
          "name": "stderr",
          "text": [
            "100%|██████████| 51/51 [00:01<00:00, 35.42it/s]\n"
          ]
        },
        {
          "output_type": "stream",
          "name": "stdout",
          "text": [
            "Loss: 0.07707252682131878 , IOU: 0.8960277905651168\n",
            "===============> man s&p 0\n",
            "num img = 51\n",
            "num map = 51\n"
          ]
        },
        {
          "output_type": "stream",
          "name": "stderr",
          "text": [
            "100%|██████████| 51/51 [00:01<00:00, 40.83it/s]\n"
          ]
        },
        {
          "output_type": "stream",
          "name": "stdout",
          "text": [
            "Loss: 0.15674134811349943 , IOU: 0.7974212562628822\n",
            "===============> man s&p 1\n",
            "num img = 51\n",
            "num map = 51\n"
          ]
        },
        {
          "output_type": "stream",
          "name": "stderr",
          "text": [
            "100%|██████████| 51/51 [00:01<00:00, 42.65it/s]\n"
          ]
        },
        {
          "output_type": "stream",
          "name": "stdout",
          "text": [
            "Loss: 0.1415131271031557 , IOU: 0.8130995860944193\n",
            "===============> man s&p 2\n",
            "num img = 51\n",
            "num map = 51\n"
          ]
        },
        {
          "output_type": "stream",
          "name": "stderr",
          "text": [
            "100%|██████████| 51/51 [00:01<00:00, 33.91it/s]\n"
          ]
        },
        {
          "output_type": "stream",
          "name": "stdout",
          "text": [
            "Loss: 0.16085446154808292 , IOU: 0.7870511904212774\n",
            "===============> man speckle\n",
            "num img = 51\n",
            "num map = 51\n"
          ]
        },
        {
          "output_type": "stream",
          "name": "stderr",
          "text": [
            "100%|██████████| 51/51 [00:01<00:00, 28.90it/s]\n"
          ]
        },
        {
          "output_type": "stream",
          "name": "stdout",
          "text": [
            "Loss: 0.8836348524280624 , IOU: 0.0005534298845804207\n",
            "===============> man poisson\n",
            "num img = 51\n",
            "num map = 51\n"
          ]
        },
        {
          "output_type": "stream",
          "name": "stderr",
          "text": [
            "100%|██████████| 51/51 [00:01<00:00, 26.98it/s]\n"
          ]
        },
        {
          "output_type": "stream",
          "name": "stdout",
          "text": [
            "Loss: 0.07640713482510811 , IOU: 0.8971964342921387\n",
            "===============> link gauss 0\n",
            "num img = 51\n",
            "num map = 51\n"
          ]
        },
        {
          "output_type": "stream",
          "name": "stderr",
          "text": [
            "100%|██████████| 51/51 [00:01<00:00, 37.96it/s]\n"
          ]
        },
        {
          "output_type": "stream",
          "name": "stdout",
          "text": [
            "Loss: 0.07498892761913 , IOU: 0.8979322349323946\n",
            "===============> link gauss 1\n",
            "num img = 51\n",
            "num map = 51\n"
          ]
        },
        {
          "output_type": "stream",
          "name": "stderr",
          "text": [
            "100%|██████████| 51/51 [00:01<00:00, 41.04it/s]\n"
          ]
        },
        {
          "output_type": "stream",
          "name": "stdout",
          "text": [
            "Loss: 0.07537445312767638 , IOU: 0.8973147202940548\n",
            "===============> link gauss 2\n",
            "num img = 51\n",
            "num map = 51\n"
          ]
        },
        {
          "output_type": "stream",
          "name": "stderr",
          "text": [
            "100%|██████████| 51/51 [00:01<00:00, 30.77it/s]\n"
          ]
        },
        {
          "output_type": "stream",
          "name": "stdout",
          "text": [
            "Loss: 0.07485183726484868 , IOU: 0.8981728378464194\n",
            "===============> link s&p 0\n",
            "num img = 51\n",
            "num map = 51\n"
          ]
        },
        {
          "output_type": "stream",
          "name": "stderr",
          "text": [
            "100%|██████████| 51/51 [00:01<00:00, 26.41it/s]\n"
          ]
        },
        {
          "output_type": "stream",
          "name": "stdout",
          "text": [
            "Loss: 0.1450754999749217 , IOU: 0.808323426281705\n",
            "===============> link s&p 1\n",
            "num img = 51\n",
            "num map = 51\n"
          ]
        },
        {
          "output_type": "stream",
          "name": "stderr",
          "text": [
            "100%|██████████| 51/51 [00:01<00:00, 48.41it/s]\n"
          ]
        },
        {
          "output_type": "stream",
          "name": "stdout",
          "text": [
            "Loss: 0.15229049149681534 , IOU: 0.798522510218854\n",
            "===============> link s&p 2\n",
            "num img = 51\n",
            "num map = 51\n"
          ]
        },
        {
          "output_type": "stream",
          "name": "stderr",
          "text": [
            "100%|██████████| 51/51 [00:01<00:00, 50.06it/s]\n"
          ]
        },
        {
          "output_type": "stream",
          "name": "stdout",
          "text": [
            "Loss: 0.1436633451604376 , IOU: 0.8086534630434188\n",
            "===============> link speckle\n",
            "num img = 51\n",
            "num map = 51\n"
          ]
        },
        {
          "output_type": "stream",
          "name": "stderr",
          "text": [
            "100%|██████████| 51/51 [00:01<00:00, 40.73it/s]\n"
          ]
        },
        {
          "output_type": "stream",
          "name": "stdout",
          "text": [
            "Loss: 0.9025790481006402 , IOU: 0.0011846246066567136\n",
            "===============> link poisson\n",
            "num img = 51\n",
            "num map = 51\n"
          ]
        },
        {
          "output_type": "stream",
          "name": "stderr",
          "text": [
            "100%|██████████| 51/51 [00:01<00:00, 29.02it/s]"
          ]
        },
        {
          "output_type": "stream",
          "name": "stdout",
          "text": [
            "Loss: 0.07508761855755366 , IOU: 0.8979747903113271\n"
          ]
        },
        {
          "output_type": "stream",
          "name": "stderr",
          "text": [
            "\n"
          ]
        }
      ]
    },
    {
      "cell_type": "markdown",
      "source": [
        "##Noise Resistant"
      ],
      "metadata": {
        "id": "aPZGCHvq-ayu"
      }
    },
    {
      "cell_type": "code",
      "source": [
        "root_path = '/content/drive/MyDrive/PPT/Foreground/Transfer/AC/Real ACDC/data_2d'\n",
        "\n",
        "noises = [\"gauss\", \"s&p\", \"speckle\", \"poisson\"]\n",
        "levels = [0, 1, 2]\n",
        "\n",
        "#test_dataset = Segmentation_Dataset(root_path, split=\"test\")\n",
        "#test_loader = DataLoader(test_dataset, batch_size = 1, shuffle=False)\n",
        "\n",
        "for run in list(model_dict.keys()):\n",
        "    model = get_model(model_dict[run][\"model\"])\n",
        "    for noise in noises:\n",
        "        if noise in [\"gauss\", \"s&p\"]:\n",
        "            for level in levels:\n",
        "                print(\"===============>\", run, noise, level)\n",
        "                test_dataset = Segmentation_Dataset(root_path, split=\"test\", noise=noise, level=level)\n",
        "                test_loader = DataLoader(test_dataset, batch_size = 1, shuffle=False)\n",
        "                frame = MyFrame(model, 1, device, evalmode=True)\n",
        "                frame.load(model_dict[run][\"noise\"])\n",
        "                te_dict = frame.run_epoch(test_loader, train=False)\n",
        "                print(\"Loss:\", te_dict[\"loss\"], \", IOU:\", te_dict[\"iou\"])\n",
        "        else:\n",
        "            print(\"===============>\", run, noise)\n",
        "            test_dataset = Segmentation_Dataset(root_path, split=\"test\", noise=noise)\n",
        "            test_loader = DataLoader(test_dataset, batch_size = 1, shuffle=False)\n",
        "            frame = MyFrame(model, 1, device, evalmode=True)\n",
        "            frame.load(model_dict[run][\"noise\"])\n",
        "            te_dict = frame.run_epoch(test_loader, train=False)\n",
        "            print(\"Loss:\", te_dict[\"loss\"], \", IOU:\", te_dict[\"iou\"])"
      ],
      "metadata": {
        "colab": {
          "base_uri": "https://localhost:8080/",
          "height": 1000,
          "referenced_widgets": [
            "7b6a52fd370d40a38b478744dbb251b1",
            "d957fd93fdfb4f4e8d1ac338f6abd105",
            "b30c25094cb841eaaf659d2208d679c0",
            "f1b5b11519244e08b8bb660c56e2b5b3",
            "7e0b4b04afc44f8eaeb984b4026c9a6d",
            "8be91efc96f847b3845ef4d29cdcd440",
            "be57127ba74f43a7a2dc9ea6a5e1cac6",
            "c2a7f0798a064d84acb00eb3284b8ac0",
            "665be7dbf6984b098a927f633ece18e3",
            "c4da64020eb844c99552fc1fde037561",
            "54bf7c8769c34ab098cdb46b7f14200f"
          ]
        },
        "id": "AmkMWNq3-eQP",
        "outputId": "5f0f95b5-406c-407d-e28b-3e962b56bec1"
      },
      "execution_count": null,
      "outputs": [
        {
          "output_type": "stream",
          "name": "stderr",
          "text": [
            "Downloading: \"https://download.pytorch.org/models/resnet34-333f7ec4.pth\" to /root/.cache/torch/hub/checkpoints/resnet34-333f7ec4.pth\n"
          ]
        },
        {
          "output_type": "display_data",
          "data": {
            "text/plain": [
              "  0%|          | 0.00/83.3M [00:00<?, ?B/s]"
            ],
            "application/vnd.jupyter.widget-view+json": {
              "version_major": 2,
              "version_minor": 0,
              "model_id": "7b6a52fd370d40a38b478744dbb251b1"
            }
          },
          "metadata": {}
        },
        {
          "output_type": "stream",
          "name": "stdout",
          "text": [
            "===============> unet gauss 0\n",
            "num img = 51\n",
            "num map = 51\n"
          ]
        },
        {
          "output_type": "stream",
          "name": "stderr",
          "text": [
            "100%|██████████| 51/51 [01:08<00:00,  1.35s/it]\n"
          ]
        },
        {
          "output_type": "stream",
          "name": "stdout",
          "text": [
            "Loss: 0.06660639297436266 , IOU: 0.9051462248259899\n",
            "===============> unet gauss 1\n",
            "num img = 51\n",
            "num map = 51\n"
          ]
        },
        {
          "output_type": "stream",
          "name": "stderr",
          "text": [
            "100%|██████████| 51/51 [00:01<00:00, 37.39it/s]\n"
          ]
        },
        {
          "output_type": "stream",
          "name": "stdout",
          "text": [
            "Loss: 0.06609988055538897 , IOU: 0.9058110082850735\n",
            "===============> unet gauss 2\n",
            "num img = 51\n",
            "num map = 51\n"
          ]
        },
        {
          "output_type": "stream",
          "name": "stderr",
          "text": [
            "100%|██████████| 51/51 [00:01<00:00, 37.77it/s]\n"
          ]
        },
        {
          "output_type": "stream",
          "name": "stdout",
          "text": [
            "Loss: 0.06654644125670778 , IOU: 0.9049095219256832\n",
            "===============> unet s&p 0\n",
            "num img = 51\n",
            "num map = 51\n"
          ]
        },
        {
          "output_type": "stream",
          "name": "stderr",
          "text": [
            "  0%|          | 0/51 [00:00<?, ?it/s]<ipython-input-5-0a8257117a2c>:20: FutureWarning: Using a non-tuple sequence for multidimensional indexing is deprecated; use `arr[tuple(seq)]` instead of `arr[seq]`. In the future this will be interpreted as an array index, `arr[np.array(seq)]`, which will result either in an error or a different result.\n",
            "  out[coords] = 1\n",
            "<ipython-input-5-0a8257117a2c>:26: FutureWarning: Using a non-tuple sequence for multidimensional indexing is deprecated; use `arr[tuple(seq)]` instead of `arr[seq]`. In the future this will be interpreted as an array index, `arr[np.array(seq)]`, which will result either in an error or a different result.\n",
            "  out[coords] = 0\n",
            "100%|██████████| 51/51 [00:01<00:00, 48.01it/s]\n"
          ]
        },
        {
          "output_type": "stream",
          "name": "stdout",
          "text": [
            "Loss: 0.06962769011072083 , IOU: 0.9010364308076746\n",
            "===============> unet s&p 1\n",
            "num img = 51\n",
            "num map = 51\n"
          ]
        },
        {
          "output_type": "stream",
          "name": "stderr",
          "text": [
            "100%|██████████| 51/51 [00:01<00:00, 42.64it/s]\n"
          ]
        },
        {
          "output_type": "stream",
          "name": "stdout",
          "text": [
            "Loss: 0.06966712157808098 , IOU: 0.9009320081449022\n",
            "===============> unet s&p 2\n",
            "num img = 51\n",
            "num map = 51\n"
          ]
        },
        {
          "output_type": "stream",
          "name": "stderr",
          "text": [
            "100%|██████████| 51/51 [00:01<00:00, 39.08it/s]\n"
          ]
        },
        {
          "output_type": "stream",
          "name": "stdout",
          "text": [
            "Loss: 0.06916634468179123 , IOU: 0.9015434536279419\n",
            "===============> unet speckle\n",
            "num img = 51\n",
            "num map = 51\n"
          ]
        },
        {
          "output_type": "stream",
          "name": "stderr",
          "text": [
            "100%|██████████| 51/51 [00:01<00:00, 37.75it/s]\n"
          ]
        },
        {
          "output_type": "stream",
          "name": "stdout",
          "text": [
            "Loss: 0.906419359001459 , IOU: 0.001406655963008091\n",
            "===============> unet poisson\n",
            "num img = 51\n",
            "num map = 51\n"
          ]
        },
        {
          "output_type": "stream",
          "name": "stderr",
          "text": [
            "100%|██████████| 51/51 [00:01<00:00, 27.74it/s]\n"
          ]
        },
        {
          "output_type": "stream",
          "name": "stdout",
          "text": [
            "Loss: 0.06634659557511995 , IOU: 0.9051547167347928\n",
            "===============> upp gauss 0\n",
            "num img = 51\n",
            "num map = 51\n"
          ]
        },
        {
          "output_type": "stream",
          "name": "stderr",
          "text": [
            "100%|██████████| 51/51 [00:01<00:00, 30.57it/s]\n"
          ]
        },
        {
          "output_type": "stream",
          "name": "stdout",
          "text": [
            "Loss: 0.06751205936512528 , IOU: 0.904491146405538\n",
            "===============> upp gauss 1\n",
            "num img = 51\n",
            "num map = 51\n"
          ]
        },
        {
          "output_type": "stream",
          "name": "stderr",
          "text": [
            "100%|██████████| 51/51 [00:01<00:00, 28.44it/s]\n"
          ]
        },
        {
          "output_type": "stream",
          "name": "stdout",
          "text": [
            "Loss: 0.06716957757724265 , IOU: 0.9048601190249126\n",
            "===============> upp gauss 2\n",
            "num img = 51\n",
            "num map = 51\n"
          ]
        },
        {
          "output_type": "stream",
          "name": "stderr",
          "text": [
            "100%|██████████| 51/51 [00:01<00:00, 26.64it/s]\n"
          ]
        },
        {
          "output_type": "stream",
          "name": "stdout",
          "text": [
            "Loss: 0.06799405225205656 , IOU: 0.9039291464814951\n",
            "===============> upp s&p 0\n",
            "num img = 51\n",
            "num map = 51\n"
          ]
        },
        {
          "output_type": "stream",
          "name": "stderr",
          "text": [
            "100%|██████████| 51/51 [00:01<00:00, 41.75it/s]\n"
          ]
        },
        {
          "output_type": "stream",
          "name": "stdout",
          "text": [
            "Loss: 0.07658981393073121 , IOU: 0.8920424156913566\n",
            "===============> upp s&p 1\n",
            "num img = 51\n",
            "num map = 51\n"
          ]
        },
        {
          "output_type": "stream",
          "name": "stderr",
          "text": [
            "100%|██████████| 51/51 [00:01<00:00, 42.01it/s]\n"
          ]
        },
        {
          "output_type": "stream",
          "name": "stdout",
          "text": [
            "Loss: 0.07681553606309144 , IOU: 0.8936050522561166\n",
            "===============> upp s&p 2\n",
            "num img = 51\n",
            "num map = 51\n"
          ]
        },
        {
          "output_type": "stream",
          "name": "stderr",
          "text": [
            "100%|██████████| 51/51 [00:01<00:00, 41.49it/s]\n"
          ]
        },
        {
          "output_type": "stream",
          "name": "stdout",
          "text": [
            "Loss: 0.07760743851609089 , IOU: 0.8917621789025327\n",
            "===============> upp speckle\n",
            "num img = 51\n",
            "num map = 51\n"
          ]
        },
        {
          "output_type": "stream",
          "name": "stderr",
          "text": [
            "100%|██████████| 51/51 [00:01<00:00, 36.36it/s]\n"
          ]
        },
        {
          "output_type": "stream",
          "name": "stdout",
          "text": [
            "Loss: 0.9424590117791117 , IOU: 0.0\n",
            "===============> upp poisson\n",
            "num img = 51\n",
            "num map = 51\n"
          ]
        },
        {
          "output_type": "stream",
          "name": "stderr",
          "text": [
            "100%|██████████| 51/51 [00:02<00:00, 20.43it/s]\n"
          ]
        },
        {
          "output_type": "stream",
          "name": "stdout",
          "text": [
            "Loss: 0.06738267955826777 , IOU: 0.9042249941358381\n",
            "===============> fpn gauss 0\n",
            "num img = 51\n",
            "num map = 51\n"
          ]
        },
        {
          "output_type": "stream",
          "name": "stderr",
          "text": [
            "100%|██████████| 51/51 [00:01<00:00, 36.95it/s]\n"
          ]
        },
        {
          "output_type": "stream",
          "name": "stdout",
          "text": [
            "Loss: 0.07500234892701403 , IOU: 0.8962806495381339\n",
            "===============> fpn gauss 1\n",
            "num img = 51\n",
            "num map = 51\n"
          ]
        },
        {
          "output_type": "stream",
          "name": "stderr",
          "text": [
            "100%|██████████| 51/51 [00:01<00:00, 38.97it/s]\n"
          ]
        },
        {
          "output_type": "stream",
          "name": "stdout",
          "text": [
            "Loss: 0.07592274036769774 , IOU: 0.8949065417343492\n",
            "===============> fpn gauss 2\n",
            "num img = 51\n",
            "num map = 51\n"
          ]
        },
        {
          "output_type": "stream",
          "name": "stderr",
          "text": [
            "100%|██████████| 51/51 [00:01<00:00, 31.20it/s]\n"
          ]
        },
        {
          "output_type": "stream",
          "name": "stdout",
          "text": [
            "Loss: 0.07350520639881201 , IOU: 0.8975605614045087\n",
            "===============> fpn s&p 0\n",
            "num img = 51\n",
            "num map = 51\n"
          ]
        },
        {
          "output_type": "stream",
          "name": "stderr",
          "text": [
            "100%|██████████| 51/51 [00:01<00:00, 44.91it/s]\n"
          ]
        },
        {
          "output_type": "stream",
          "name": "stdout",
          "text": [
            "Loss: 0.08039916971442745 , IOU: 0.8894648911687087\n",
            "===============> fpn s&p 1\n",
            "num img = 51\n",
            "num map = 51\n"
          ]
        },
        {
          "output_type": "stream",
          "name": "stderr",
          "text": [
            "100%|██████████| 51/51 [00:01<00:00, 41.09it/s]\n"
          ]
        },
        {
          "output_type": "stream",
          "name": "stdout",
          "text": [
            "Loss: 0.0864394465278761 , IOU: 0.8821517636670787\n",
            "===============> fpn s&p 2\n",
            "num img = 51\n",
            "num map = 51\n"
          ]
        },
        {
          "output_type": "stream",
          "name": "stderr",
          "text": [
            "100%|██████████| 51/51 [00:01<00:00, 41.99it/s]\n"
          ]
        },
        {
          "output_type": "stream",
          "name": "stdout",
          "text": [
            "Loss: 0.08220525918638007 , IOU: 0.8870714902877807\n",
            "===============> fpn speckle\n",
            "num img = 51\n",
            "num map = 51\n"
          ]
        },
        {
          "output_type": "stream",
          "name": "stderr",
          "text": [
            "100%|██████████| 51/51 [00:01<00:00, 41.47it/s]\n"
          ]
        },
        {
          "output_type": "stream",
          "name": "stdout",
          "text": [
            "Loss: 1.0384848912556963 , IOU: 0.0\n",
            "===============> fpn poisson\n",
            "num img = 51\n",
            "num map = 51\n"
          ]
        },
        {
          "output_type": "stream",
          "name": "stderr",
          "text": [
            "100%|██████████| 51/51 [00:01<00:00, 27.89it/s]\n"
          ]
        },
        {
          "output_type": "stream",
          "name": "stdout",
          "text": [
            "Loss: 0.07353215511230862 , IOU: 0.8974699962372872\n",
            "===============> psp gauss 0\n",
            "num img = 51\n",
            "num map = 51\n"
          ]
        },
        {
          "output_type": "stream",
          "name": "stderr",
          "text": [
            "100%|██████████| 51/51 [00:00<00:00, 51.78it/s]\n"
          ]
        },
        {
          "output_type": "stream",
          "name": "stdout",
          "text": [
            "Loss: 0.07100498384120417 , IOU: 0.8992134934546901\n",
            "===============> psp gauss 1\n",
            "num img = 51\n",
            "num map = 51\n"
          ]
        },
        {
          "output_type": "stream",
          "name": "stderr",
          "text": [
            "100%|██████████| 51/51 [00:01<00:00, 43.93it/s]\n"
          ]
        },
        {
          "output_type": "stream",
          "name": "stdout",
          "text": [
            "Loss: 0.07156899206194224 , IOU: 0.8990052710561192\n",
            "===============> psp gauss 2\n",
            "num img = 51\n",
            "num map = 51\n"
          ]
        },
        {
          "output_type": "stream",
          "name": "stderr",
          "text": [
            "100%|██████████| 51/51 [00:01<00:00, 39.20it/s]\n"
          ]
        },
        {
          "output_type": "stream",
          "name": "stdout",
          "text": [
            "Loss: 0.07137611460890256 , IOU: 0.8992524532710804\n",
            "===============> psp s&p 0\n",
            "num img = 51\n",
            "num map = 51\n"
          ]
        },
        {
          "output_type": "stream",
          "name": "stderr",
          "text": [
            "100%|██████████| 51/51 [00:00<00:00, 60.50it/s]\n"
          ]
        },
        {
          "output_type": "stream",
          "name": "stdout",
          "text": [
            "Loss: 0.07317549691480749 , IOU: 0.8966083520767737\n",
            "===============> psp s&p 1\n",
            "num img = 51\n",
            "num map = 51\n"
          ]
        },
        {
          "output_type": "stream",
          "name": "stderr",
          "text": [
            "100%|██████████| 51/51 [00:00<00:00, 68.53it/s]\n"
          ]
        },
        {
          "output_type": "stream",
          "name": "stdout",
          "text": [
            "Loss: 0.07429941053337911 , IOU: 0.8946794961013046\n",
            "===============> psp s&p 2\n",
            "num img = 51\n",
            "num map = 51\n"
          ]
        },
        {
          "output_type": "stream",
          "name": "stderr",
          "text": [
            "100%|██████████| 51/51 [00:00<00:00, 66.75it/s]\n"
          ]
        },
        {
          "output_type": "stream",
          "name": "stdout",
          "text": [
            "Loss: 0.07306402655062721 , IOU: 0.8963382127238253\n",
            "===============> psp speckle\n",
            "num img = 51\n",
            "num map = 51\n"
          ]
        },
        {
          "output_type": "stream",
          "name": "stderr",
          "text": [
            "100%|██████████| 51/51 [00:01<00:00, 37.56it/s]\n"
          ]
        },
        {
          "output_type": "stream",
          "name": "stdout",
          "text": [
            "Loss: 1.0455420811971028 , IOU: 0.00015176348753419576\n",
            "===============> psp poisson\n",
            "num img = 51\n",
            "num map = 51\n"
          ]
        },
        {
          "output_type": "stream",
          "name": "stderr",
          "text": [
            "100%|██████████| 51/51 [00:01<00:00, 34.71it/s]\n"
          ]
        },
        {
          "output_type": "stream",
          "name": "stdout",
          "text": [
            "Loss: 0.07103367379921324 , IOU: 0.8994079839949514\n",
            "===============> man gauss 0\n",
            "num img = 51\n",
            "num map = 51\n"
          ]
        },
        {
          "output_type": "stream",
          "name": "stderr",
          "text": [
            "100%|██████████| 51/51 [00:02<00:00, 25.16it/s]\n"
          ]
        },
        {
          "output_type": "stream",
          "name": "stdout",
          "text": [
            "Loss: 0.08068340330147275 , IOU: 0.8887088649413165\n",
            "===============> man gauss 1\n",
            "num img = 51\n",
            "num map = 51\n"
          ]
        },
        {
          "output_type": "stream",
          "name": "stderr",
          "text": [
            "100%|██████████| 51/51 [00:01<00:00, 35.54it/s]\n"
          ]
        },
        {
          "output_type": "stream",
          "name": "stdout",
          "text": [
            "Loss: 0.08067163189544398 , IOU: 0.8888849218686422\n",
            "===============> man gauss 2\n",
            "num img = 51\n",
            "num map = 51\n"
          ]
        },
        {
          "output_type": "stream",
          "name": "stderr",
          "text": [
            "100%|██████████| 51/51 [00:01<00:00, 36.54it/s]\n"
          ]
        },
        {
          "output_type": "stream",
          "name": "stdout",
          "text": [
            "Loss: 0.0812087595535844 , IOU: 0.8879831211239685\n",
            "===============> man s&p 0\n",
            "num img = 51\n",
            "num map = 51\n"
          ]
        },
        {
          "output_type": "stream",
          "name": "stderr",
          "text": [
            "100%|██████████| 51/51 [00:01<00:00, 41.55it/s]\n"
          ]
        },
        {
          "output_type": "stream",
          "name": "stdout",
          "text": [
            "Loss: 0.09192805200376931 , IOU: 0.8740001589644191\n",
            "===============> man s&p 1\n",
            "num img = 51\n",
            "num map = 51\n"
          ]
        },
        {
          "output_type": "stream",
          "name": "stderr",
          "text": [
            "100%|██████████| 51/51 [00:01<00:00, 41.66it/s]\n"
          ]
        },
        {
          "output_type": "stream",
          "name": "stdout",
          "text": [
            "Loss: 0.09694582256762417 , IOU: 0.8685283754386153\n",
            "===============> man s&p 2\n",
            "num img = 51\n",
            "num map = 51\n"
          ]
        },
        {
          "output_type": "stream",
          "name": "stderr",
          "text": [
            "100%|██████████| 51/51 [00:01<00:00, 32.86it/s]\n"
          ]
        },
        {
          "output_type": "stream",
          "name": "stdout",
          "text": [
            "Loss: 0.0855629741780314 , IOU: 0.8824714766997918\n",
            "===============> man speckle\n",
            "num img = 51\n",
            "num map = 51\n"
          ]
        },
        {
          "output_type": "stream",
          "name": "stderr",
          "text": [
            "100%|██████████| 51/51 [00:01<00:00, 30.04it/s]\n"
          ]
        },
        {
          "output_type": "stream",
          "name": "stdout",
          "text": [
            "Loss: 0.9124356157639448 , IOU: 0.0001419995461736678\n",
            "===============> man poisson\n",
            "num img = 51\n",
            "num map = 51\n"
          ]
        },
        {
          "output_type": "stream",
          "name": "stderr",
          "text": [
            "100%|██████████| 51/51 [00:02<00:00, 25.03it/s]\n"
          ]
        },
        {
          "output_type": "stream",
          "name": "stdout",
          "text": [
            "Loss: 0.07997152077801085 , IOU: 0.890040301809124\n",
            "===============> link gauss 0\n",
            "num img = 51\n",
            "num map = 51\n"
          ]
        },
        {
          "output_type": "stream",
          "name": "stderr",
          "text": [
            "100%|██████████| 51/51 [00:01<00:00, 38.20it/s]\n"
          ]
        },
        {
          "output_type": "stream",
          "name": "stdout",
          "text": [
            "Loss: 0.06657309855754469 , IOU: 0.9049868104504606\n",
            "===============> link gauss 1\n",
            "num img = 51\n",
            "num map = 51\n"
          ]
        },
        {
          "output_type": "stream",
          "name": "stderr",
          "text": [
            "100%|██████████| 51/51 [00:01<00:00, 41.03it/s]\n"
          ]
        },
        {
          "output_type": "stream",
          "name": "stdout",
          "text": [
            "Loss: 0.06653010352131199 , IOU: 0.9047654423059203\n",
            "===============> link gauss 2\n",
            "num img = 51\n",
            "num map = 51\n"
          ]
        },
        {
          "output_type": "stream",
          "name": "stderr",
          "text": [
            "100%|██████████| 51/51 [00:01<00:00, 30.54it/s]\n"
          ]
        },
        {
          "output_type": "stream",
          "name": "stdout",
          "text": [
            "Loss: 0.06653678731298915 , IOU: 0.9048836055923909\n",
            "===============> link s&p 0\n",
            "num img = 51\n",
            "num map = 51\n"
          ]
        },
        {
          "output_type": "stream",
          "name": "stderr",
          "text": [
            "100%|██████████| 51/51 [00:01<00:00, 43.52it/s]\n"
          ]
        },
        {
          "output_type": "stream",
          "name": "stdout",
          "text": [
            "Loss: 0.06945889837601607 , IOU: 0.901397072801403\n",
            "===============> link s&p 1\n",
            "num img = 51\n",
            "num map = 51\n"
          ]
        },
        {
          "output_type": "stream",
          "name": "stderr",
          "text": [
            "100%|██████████| 51/51 [00:01<00:00, 49.72it/s]\n"
          ]
        },
        {
          "output_type": "stream",
          "name": "stdout",
          "text": [
            "Loss: 0.07014464908370785 , IOU: 0.9004128633760938\n",
            "===============> link s&p 2\n",
            "num img = 51\n",
            "num map = 51\n"
          ]
        },
        {
          "output_type": "stream",
          "name": "stderr",
          "text": [
            "100%|██████████| 51/51 [00:01<00:00, 50.70it/s]\n"
          ]
        },
        {
          "output_type": "stream",
          "name": "stdout",
          "text": [
            "Loss: 0.06973790271463348 , IOU: 0.9003502773303612\n",
            "===============> link speckle\n",
            "num img = 51\n",
            "num map = 51\n"
          ]
        },
        {
          "output_type": "stream",
          "name": "stderr",
          "text": [
            "100%|██████████| 51/51 [00:01<00:00, 42.64it/s]\n"
          ]
        },
        {
          "output_type": "stream",
          "name": "stdout",
          "text": [
            "Loss: 0.9186868106617644 , IOU: 0.0002290650439795618\n",
            "===============> link poisson\n",
            "num img = 51\n",
            "num map = 51\n"
          ]
        },
        {
          "output_type": "stream",
          "name": "stderr",
          "text": [
            "100%|██████████| 51/51 [00:01<00:00, 29.69it/s]"
          ]
        },
        {
          "output_type": "stream",
          "name": "stdout",
          "text": [
            "Loss: 0.066525743580332 , IOU: 0.9051475641774199\n"
          ]
        },
        {
          "output_type": "stream",
          "name": "stderr",
          "text": [
            "\n"
          ]
        }
      ]
    },
    {
      "cell_type": "markdown",
      "source": [
        "#Thresholding"
      ],
      "metadata": {
        "id": "Sj7TjvusUDGL"
      }
    },
    {
      "cell_type": "code",
      "source": [
        "test_dataset = Segmentation_Dataset(root_path, split=\"test\")\n",
        "test_loader = DataLoader(test_dataset, batch_size = 1, shuffle=False)\n",
        "\n",
        "IOU = {\"iso\": 0.0, \"li\": 0.0, \"mean\": 0.0, \"min\": 0.0, \"otsu\": 0.0, \"tri\": 0.0, \"yen\": 0.0}\n",
        "\n",
        "def calc_iou(pred, mask):\n",
        "    pred = (pred - pred.min()) / pred.max()\n",
        "    mask = (mask - mask.min()) / mask.max()\n",
        "\n",
        "    if mask.max() != 1: mask = np.zeros((224,224))\n",
        "\n",
        "    TP = (mask * pred).sum()\n",
        "    TN = ((1 - mask) * (1 - pred)).sum()\n",
        "    FP = pred.sum() - TP\n",
        "    FN = mask.sum() - TP\n",
        "\n",
        "    iou = (TP + 1e-5)/(TP + FN + FP + 1e-5)\n",
        "    \n",
        "    #print(pred.mean(), mask.max(), TP, TN, FP, FN, iou/51.0)\n",
        "\n",
        "    return iou/10.0\n",
        "\n",
        "for i, pack in enumerate(test_loader):\n",
        "    if i==1: break\n",
        "    img = pack[\"img\"]\n",
        "    label = pack[\"map\"]\n",
        "    #print(img.shape, label.shape)\n",
        "    img = img.detach().cpu().numpy().squeeze()\n",
        "    img = (img - img.min())/img.max()\n",
        "    img = (img[0]+img[1]+img[2]) * 255.0/3.0\n",
        "    label = label.detach().cpu().numpy().squeeze()[:, :] * 255.\n",
        "    #print(img.mean(), label.mean())\n",
        "    # print('Image')\n",
        "    # cv2_imshow(img)\n",
        "\n",
        "    # print('Label')\n",
        "    # cv2_imshow(label)\n",
        "\n",
        "    print('Isodata')\n",
        "    th = threshold_isodata(img)\n",
        "    bin = (img > th) * 1.0\n",
        "    cv2_imshow(bin*255.)\n",
        "    iou = calc_iou(bin, label)\n",
        "    IOU[\"iso\"] += iou\n",
        "    print('IoU: ', iou)\n",
        "\n",
        "    print('Li')\n",
        "    th = threshold_li(img)\n",
        "    bin = (img > th) * 1.0\n",
        "    cv2_imshow(bin*255.)\n",
        "    iou = calc_iou(bin, label)\n",
        "    IOU[\"li\"] += iou\n",
        "    print('IoU: ', iou)\n",
        "\n",
        "    print('Mean')\n",
        "    th = threshold_mean(img)\n",
        "    bin = (img > th) * 1.0\n",
        "    cv2_imshow(bin*255.)\n",
        "    iou = calc_iou(bin, label)\n",
        "    IOU[\"mean\"] += iou\n",
        "    print('IoU: ', iou)\n",
        "\n",
        "    print('Minimum')\n",
        "    th = threshold_minimum(img)\n",
        "    bin = (img > th) * 1.0\n",
        "    cv2_imshow(bin*255.)\n",
        "    iou = calc_iou(bin, label)\n",
        "    IOU[\"min\"] += iou\n",
        "    print('IoU: ', iou)\n",
        "\n",
        "    print('Otsu')\n",
        "    th = threshold_otsu(img)\n",
        "    bin = (img > th) * 1.0\n",
        "    cv2_imshow(bin*255.)\n",
        "    iou = calc_iou(bin, label)\n",
        "    IOU[\"otsu\"] += iou\n",
        "    print('IoU: ', iou)\n",
        "\n",
        "    print('Triangle')\n",
        "    th = threshold_triangle(img)\n",
        "    bin = (img > th) * 1.0\n",
        "    cv2_imshow(bin*255.)\n",
        "    iou = calc_iou(bin, label)\n",
        "    IOU[\"tri\"] += iou\n",
        "    print('IoU: ', iou)\n",
        "\n",
        "    print('Yen')\n",
        "    th = threshold_yen(img)\n",
        "    bin = (img > th) * 1.0\n",
        "    cv2_imshow(bin*255.)\n",
        "    iou = calc_iou(bin, label)\n",
        "    IOU[\"yen\"] += iou\n",
        "    print('IoU: ', iou)\n",
        "\n",
        "    #print('-'*50)\n",
        "print(IOU)"
      ],
      "metadata": {
        "colab": {
          "base_uri": "https://localhost:8080/"
        },
        "id": "N2iovztK_I86",
        "outputId": "c81088ba-ce27-4ad1-b0a9-791c776f3407"
      },
      "execution_count": null,
      "outputs": [
        {
          "output_type": "stream",
          "name": "stdout",
          "text": [
            "num img = 51\n",
            "num map = 51\n",
            "{'iso': 0.3635594931212648, 'li': 0.31043053536851345, 'mean': 0.3046825680584696, 'min': 0.21673217677138612, 'otsu': 0.3646256276686091, 'tri': 0.1658825901447077, 'yen': 0.35486487905328995}\n"
          ]
        },
        {
          "output_type": "stream",
          "name": "stderr",
          "text": [
            "<ipython-input-32-f979be2af93a>:8: RuntimeWarning: invalid value encountered in true_divide\n",
            "  mask = (mask - mask.min()) / mask.max()\n"
          ]
        }
      ]
    },
    {
      "cell_type": "code",
      "source": [
        "test_dataset = Segmentation_Dataset(root_path, split=\"test\")\n",
        "test_loader = DataLoader(test_dataset, batch_size = 1, shuffle=False)\n",
        "\n",
        "IOU = {\"iso\": 0.0, \"li\": 0.0, \"mean\": 0.0, \"min\": 0.0, \"otsu\": 0.0, \"tri\": 0.0, \"yen\": 0.0}\n",
        "\n",
        "def calc_iou(pred, mask):\n",
        "    pred = (pred - pred.min()) / pred.max()\n",
        "    mask = (mask - mask.min()) / mask.max()\n",
        "\n",
        "    if mask.max() != 1: mask = np.zeros((224,224))\n",
        "\n",
        "    TP = (mask * pred).sum()\n",
        "    TN = ((1 - mask) * (1 - pred)).sum()\n",
        "    FP = pred.sum() - TP\n",
        "    FN = mask.sum() - TP\n",
        "\n",
        "    iou = (TP + 1e-5)/(TP + FN + FP + 1e-5)\n",
        "    \n",
        "    #print(pred.mean(), mask.max(), TP, TN, FP, FN, iou/51.0)\n",
        "\n",
        "    return iou/10.0\n",
        "\n",
        "for i, pack in enumerate(test_loader):\n",
        "    if i==1: break\n",
        "    img = pack[\"img\"]\n",
        "    label = pack[\"map\"]\n",
        "    #print(img.shape, label.shape)\n",
        "    img = img.detach().cpu().numpy().squeeze()\n",
        "    img = (img - img.min())/img.max()\n",
        "    img = (img[0]+img[1]+img[2]) * 255.0/3.0\n",
        "    label = label.detach().cpu().numpy().squeeze()[:, :] * 255.\n",
        "    #print(img.mean(), label.mean())\n",
        "    # print('Image')\n",
        "    # cv2_imshow(img)\n",
        "\n",
        "    # print('Label')\n",
        "    # cv2_imshow(label)\n",
        "\n",
        "    print('Isodata')\n",
        "    th = threshold_isodata(img)\n",
        "    bin = (img > th) * 1.0\n",
        "    cv2_imshow(bin*255.)\n",
        "    iou = calc_iou(bin, label)\n",
        "    IOU[\"iso\"] += iou\n",
        "    print('IoU: ', iou)\n",
        "\n",
        "    print('Li')\n",
        "    th = threshold_li(img)\n",
        "    bin = (img > th) * 1.0\n",
        "    cv2_imshow(bin*255.)\n",
        "    iou = calc_iou(bin, label)\n",
        "    IOU[\"li\"] += iou\n",
        "    print('IoU: ', iou)\n",
        "\n",
        "    print('Mean')\n",
        "    th = threshold_mean(img)\n",
        "    bin = (img > th) * 1.0\n",
        "    cv2_imshow(bin*255.)\n",
        "    iou = calc_iou(bin, label)\n",
        "    IOU[\"mean\"] += iou\n",
        "    print('IoU: ', iou)\n",
        "\n",
        "    print('Minimum')\n",
        "    th = threshold_minimum(img)\n",
        "    bin = (img > th) * 1.0\n",
        "    cv2_imshow(bin*255.)\n",
        "    iou = calc_iou(bin, label)\n",
        "    IOU[\"min\"] += iou\n",
        "    print('IoU: ', iou)\n",
        "\n",
        "    print('Otsu')\n",
        "    th = threshold_otsu(img)\n",
        "    bin = (img > th) * 1.0\n",
        "    cv2_imshow(bin*255.)\n",
        "    iou = calc_iou(bin, label)\n",
        "    IOU[\"otsu\"] += iou\n",
        "    print('IoU: ', iou)\n",
        "\n",
        "    print('Triangle')\n",
        "    th = threshold_triangle(img)\n",
        "    bin = (img > th) * 1.0\n",
        "    cv2_imshow(bin*255.)\n",
        "    iou = calc_iou(bin, label)\n",
        "    IOU[\"tri\"] += iou\n",
        "    print('IoU: ', iou)\n",
        "\n",
        "    print('Yen')\n",
        "    th = threshold_yen(img)\n",
        "    bin = (img > th) * 1.0\n",
        "    cv2_imshow(bin*255.)\n",
        "    iou = calc_iou(bin, label)\n",
        "    IOU[\"yen\"] += iou\n",
        "    print('IoU: ', iou)\n",
        "\n",
        "    #print('-'*50)\n",
        "print(IOU)"
      ],
      "metadata": {
        "colab": {
          "base_uri": "https://localhost:8080/",
          "height": 1000
        },
        "id": "d-OfctK6kHIs",
        "outputId": "13f1dcab-22c7-4aa0-f8ee-c0d7512ee540"
      },
      "execution_count": null,
      "outputs": [
        {
          "output_type": "stream",
          "name": "stdout",
          "text": [
            "num img = 51\n",
            "num map = 51\n",
            "Isodata\n"
          ]
        },
        {
          "output_type": "display_data",
          "data": {
            "text/plain": [
              "<PIL.Image.Image image mode=L size=224x224 at 0x7F130E052A90>"
            ],
            "image/png": "[encoded data removed]"
          },
          "metadata": {}
        },
        {
          "output_type": "stream",
          "name": "stdout",
          "text": [
            "IoU:  0.004218490978214666\n",
            "Li\n"
          ]
        },
        {
          "output_type": "display_data",
          "data": {
            "text/plain": [
              "<PIL.Image.Image image mode=L size=224x224 at 0x7F13755F0C70>"
            ],
            "image/png": "[encoded data removed]"
          },
          "metadata": {}
        },
        {
          "output_type": "stream",
          "name": "stdout",
          "text": [
            "IoU:  0.0034177295323127915\n",
            "Mean\n"
          ]
        },
        {
          "output_type": "display_data",
          "data": {
            "text/plain": [
              "<PIL.Image.Image image mode=L size=224x224 at 0x7F14443212B0>"
            ],
            "image/png": "[encoded data removed]"
          },
          "metadata": {}
        },
        {
          "output_type": "stream",
          "name": "stdout",
          "text": [
            "IoU:  0.003377506799942825\n",
            "Minimum\n"
          ]
        },
        {
          "output_type": "display_data",
          "data": {
            "text/plain": [
              "<PIL.Image.Image image mode=L size=224x224 at 0x7F1444321640>"
            ],
            "image/png": "[encoded data removed]"
          },
          "metadata": {}
        },
        {
          "output_type": "stream",
          "name": "stdout",
          "text": [
            "IoU:  1.2422360094132174e-09\n",
            "Otsu\n"
          ]
        },
        {
          "output_type": "display_data",
          "data": {
            "text/plain": [
              "<PIL.Image.Image image mode=L size=224x224 at 0x7F130E052A90>"
            ],
            "image/png": "[encoded data removed]"
          },
          "metadata": {}
        },
        {
          "output_type": "stream",
          "name": "stdout",
          "text": [
            "IoU:  0.004264143019710609\n",
            "Triangle\n"
          ]
        },
        {
          "output_type": "display_data",
          "data": {
            "text/plain": [
              "<PIL.Image.Image image mode=L size=224x224 at 0x7F1444321310>"
            ],
            "image/png": "[encoded data removed]"
          },
          "metadata": {}
        },
        {
          "output_type": "stream",
          "name": "stdout",
          "text": [
            "IoU:  0.002227837834835646\n",
            "Yen\n"
          ]
        },
        {
          "output_type": "display_data",
          "data": {
            "text/plain": [
              "<PIL.Image.Image image mode=L size=224x224 at 0x7F13923B3CD0>"
            ],
            "image/png": "[encoded data removed]"
          },
          "metadata": {}
        },
        {
          "output_type": "stream",
          "name": "stdout",
          "text": [
            "IoU:  0.005535538968988635\n",
            "{'iso': 0.004218490978214666, 'li': 0.0034177295323127915, 'mean': 0.003377506799942825, 'min': 1.2422360094132174e-09, 'otsu': 0.004264143019710609, 'tri': 0.002227837834835646, 'yen': 0.005535538968988635}\n"
          ]
        }
      ]
    },
    {
      "cell_type": "code",
      "source": [
        "test_dataset = Segmentation_Dataset(root_path, split=\"test\")\n",
        "test_loader = DataLoader(test_dataset, batch_size = 1, shuffle=False)\n",
        "\n",
        "IOU = {\"reg_fill\": 0.0, \"chan_vese\": 0.0}\n",
        "\n",
        "def calc_iou(pred, mask):\n",
        "    pred = (pred - pred.min()) / pred.max()\n",
        "    mask = (mask - mask.min()) / mask.max()\n",
        "\n",
        "    if mask.max() != 1: mask = np.zeros((224,224))\n",
        "\n",
        "    TP = (mask * pred).sum()\n",
        "    TN = ((1 - mask) * (1 - pred)).sum()\n",
        "    FP = pred.sum() - TP\n",
        "    FN = mask.sum() - TP\n",
        "\n",
        "    iou = (TP + 1e-5)/(TP + FN + FP + 1e-5)\n",
        "    \n",
        "    #print(pred.mean(), mask.max(), TP, TN, FP, FN, iou/51.0)\n",
        "\n",
        "    return iou/10.0\n",
        "\n",
        "for i, pack in enumerate(test_loader):\n",
        "    if i==10: continue\n",
        "    img = pack[\"img\"]\n",
        "    label = pack[\"map\"]\n",
        "    #print(img.shape, label.shape)\n",
        "    img = img.detach().cpu().numpy().squeeze()\n",
        "    img = (img - img.min())/img.max()\n",
        "    img = (img[0]+img[1]+img[2]) * 255.0/3.0\n",
        "    label = label.detach().cpu().numpy().squeeze()[:, :] * 255.\n",
        "    #print(img.mean(), label.mean())\n",
        "    # print('Image')\n",
        "    # cv2_imshow(img)\n",
        "\n",
        "    # print('Label')\n",
        "    # cv2_imshow(label)\n",
        "\n",
        "    # fill regions to perform edge segmentation\n",
        "    #print('Region Filling')\n",
        "    edges = canny(img)\n",
        "    fill_im = nd.binary_fill_holes(edges) * 1.0\n",
        "    #cv2_imshow(fill_im*255.)\n",
        "    IOU[\"reg_fill\"] += calc_iou(fill_im, label)\n",
        "\n",
        "    # Computing the Chan VESE segmentation technique\n",
        "    #print('Chan VESE')\n",
        "    chanvese = chan_vese(img, max_iter=1000, extended_output=True)[0]*1\n",
        "    #cv2_imshow(chanvese*255.)\n",
        "    IOU[\"chan_vese\"] += calc_iou(chanvese, label)\n",
        "print(IOU)"
      ],
      "metadata": {
        "colab": {
          "base_uri": "https://localhost:8080/"
        },
        "id": "JeTup1MWUCbI",
        "outputId": "f9edf048-d4f6-4239-b6c0-fb6f48c54c2e"
      },
      "execution_count": null,
      "outputs": [
        {
          "output_type": "stream",
          "name": "stdout",
          "text": [
            "num img = 51\n",
            "num map = 51\n"
          ]
        },
        {
          "output_type": "stream",
          "name": "stderr",
          "text": [
            "<ipython-input-34-3ab7b04bf1fe>:48: FutureWarning: `max_iter` is a deprecated argument name for `chan_vese`. It will be removed in version 1.0. Please use `max_num_iter` instead.\n",
            "  chanvese = chan_vese(img, max_iter=1000, extended_output=True)[0]*1\n",
            "<ipython-input-34-3ab7b04bf1fe>:8: RuntimeWarning: invalid value encountered in true_divide\n",
            "  mask = (mask - mask.min()) / mask.max()\n"
          ]
        },
        {
          "output_type": "stream",
          "name": "stdout",
          "text": [
            "{'reg_fill': 0.13943195938852238, 'chan_vese': 0.30588897782941676}\n"
          ]
        }
      ]
    },
    {
      "cell_type": "code",
      "source": [
        "test_dataset = Segmentation_Dataset(root_path, split=\"test\")\n",
        "test_loader = DataLoader(test_dataset, batch_size = 1, shuffle=False)\n",
        "\n",
        "IOU = {\"reg_fill\": 0.0, \"chan_vese\": 0.0}\n",
        "\n",
        "def calc_iou(pred, mask):\n",
        "    pred = (pred - pred.min()) / pred.max()\n",
        "    mask = (mask - mask.min()) / mask.max()\n",
        "\n",
        "    if mask.max() != 1: mask = np.zeros((224,224))\n",
        "\n",
        "    TP = (mask * pred).sum()\n",
        "    TN = ((1 - mask) * (1 - pred)).sum()\n",
        "    FP = pred.sum() - TP\n",
        "    FN = mask.sum() - TP\n",
        "\n",
        "    iou = (TP + 1e-5)/(TP + FN + FP + 1e-5)\n",
        "    \n",
        "    #print(pred.mean(), mask.max(), TP, TN, FP, FN, iou/51.0)\n",
        "\n",
        "    return iou/10.0\n",
        "\n",
        "for i, pack in enumerate(test_loader):\n",
        "    if i==1: break\n",
        "    img = pack[\"img\"]\n",
        "    label = pack[\"map\"]\n",
        "    #print(img.shape, label.shape)\n",
        "    img = img.detach().cpu().numpy().squeeze()\n",
        "    img = (img - img.min())/img.max()\n",
        "    img = (img[0]+img[1]+img[2]) * 255.0/3.0\n",
        "    label = label.detach().cpu().numpy().squeeze()[:, :] * 255.\n",
        "    #print(img.mean(), label.mean())\n",
        "    # print('Image')\n",
        "    # cv2_imshow(img)\n",
        "\n",
        "    # print('Label')\n",
        "    # cv2_imshow(label)\n",
        "\n",
        "    # fill regions to perform edge segmentation\n",
        "    print('Region Filling')\n",
        "    edges = canny(img)\n",
        "    fill_im = nd.binary_fill_holes(edges) * 1.0\n",
        "    cv2_imshow(fill_im*255.)\n",
        "    IOU[\"reg_fill\"] += calc_iou(fill_im, label)\n",
        "\n",
        "    # Computing the Chan VESE segmentation technique\n",
        "    print('Chan VESE')\n",
        "    chanvese = chan_vese(img, max_iter=1000, extended_output=True)[0]*1\n",
        "    cv2_imshow(chanvese*255.)\n",
        "    IOU[\"chan_vese\"] += calc_iou(chanvese, label)\n",
        "print(IOU)"
      ],
      "metadata": {
        "id": "iBz8ltVQceNY",
        "colab": {
          "base_uri": "https://localhost:8080/",
          "height": 610
        },
        "outputId": "e038f031-e2f2-4bfb-eaae-4456cddff191"
      },
      "execution_count": null,
      "outputs": [
        {
          "output_type": "stream",
          "name": "stdout",
          "text": [
            "num img = 51\n",
            "num map = 51\n",
            "Region Filling\n"
          ]
        },
        {
          "output_type": "display_data",
          "data": {
            "text/plain": [
              "<PIL.Image.Image image mode=L size=224x224 at 0x7F130E07A9A0>"
            ],
            "image/png": "[encoded data removed]"
          },
          "metadata": {}
        },
        {
          "output_type": "stream",
          "name": "stdout",
          "text": [
            "Chan VESE\n"
          ]
        },
        {
          "output_type": "stream",
          "name": "stderr",
          "text": [
            "<ipython-input-14-5161e994835b>:48: FutureWarning: `max_iter` is a deprecated argument name for `chan_vese`. It will be removed in version 1.0. Please use `max_num_iter` instead.\n",
            "  chanvese = chan_vese(img, max_iter=1000, extended_output=True)[0]*1\n"
          ]
        },
        {
          "output_type": "display_data",
          "data": {
            "text/plain": [
              "<PIL.Image.Image image mode=L size=224x224 at 0x7F137D61D5B0>"
            ],
            "image/png": "[encoded data removed]"
          },
          "metadata": {}
        },
        {
          "output_type": "stream",
          "name": "stdout",
          "text": [
            "{'reg_fill': 0.0009163709230443566, 'chan_vese': 0.003863242358114845}\n"
          ]
        }
      ]
    },
    {
      "cell_type": "code",
      "source": [],
      "metadata": {
        "id": "EiGJOwZrkUcq"
      },
      "execution_count": null,
      "outputs": []
    }
  ]
}